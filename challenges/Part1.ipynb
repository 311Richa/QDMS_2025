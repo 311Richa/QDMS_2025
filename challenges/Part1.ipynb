{
 "cells": [
  {
   "cell_type": "markdown",
   "id": "a9622ea3-efbf-4b81-b246-d08dccd7f6d1",
   "metadata": {},
   "source": [
    "# BYOMBM Part 1: PBMetaD & FPS"
   ]
  },
  {
   "cell_type": "code",
   "execution_count": 18,
   "id": "92cc542d-b2f9-4f76-8523-b91abac939b6",
   "metadata": {},
   "outputs": [
    {
     "name": "stdout",
     "output_type": "stream",
     "text": [
      "The autoreload extension is already loaded. To reload it, use:\n",
      "  %reload_ext autoreload\n"
     ]
    }
   ],
   "source": [
    "%load_ext autoreload\n",
    "%autoreload 2\n",
    "%matplotlib agg"
   ]
  },
  {
   "cell_type": "code",
   "execution_count": 19,
   "id": "58cab18a-61dc-44f8-bd75-f98a2ac0fb2c",
   "metadata": {},
   "outputs": [
    {
     "name": "stdout",
     "output_type": "stream",
     "text": [
      "The autoreload extension is already loaded. To reload it, use:\n",
      "  %reload_ext autoreload\n"
     ]
    }
   ],
   "source": [
    "%run Imports.ipynb"
   ]
  },
  {
   "cell_type": "code",
   "execution_count": 40,
   "id": "6abdcea5-311e-482e-af18-964fb73307ff",
   "metadata": {},
   "outputs": [],
   "source": [
    "calculator = Psi4Calculator(\n",
    "        \"HF\",\n",
    "        \"STO-3G\",\n",
    "        log_directory=str(logs),\n",
    "        scratch_directory=str(scratch.sub_directory(\"psi4\")),\n",
    "        qm_options={\n",
    "            \"GEOM_MAXITER\": 500\n",
    "        }\n",
    ")\n",
    "\n",
    "pbmetad_pool_size = 1000\n",
    "fps_phase1_size = 500\n",
    "fps_target_configs = 250\n"
   ]
  },
  {
   "cell_type": "code",
   "execution_count": 40,
   "id": "cc28b85d-dddb-440a-948d-00ee7a5e3b98",
   "metadata": {},
   "outputs": [],
   "source": [
    "# calculator = Psi4Calculator(\n",
    "#         \"HF\",\n",
    "#         \"STO-3G\",\n",
    "#         log_directory=str(logs),\n",
    "#         scratch_directory=str(scratch.sub_directory(\"psi4\")),\n",
    "#         qm_options={\n",
    "#             \"GEOM_MAXITER\": 500\n",
    "#         }\n",
    "# )\n",
    "\n",
    "# pbmetad_pool_size = 100000\n",
    "# fps_phase1_size = 30000\n",
    "# fps_target_configs = 3000\n"
   ]
  },
  {
   "cell_type": "code",
   "execution_count": 15,
   "id": "4dd56b6f-20ac-4aa5-b14e-2309dcffd979",
   "metadata": {},
   "outputs": [
    {
     "data": {
      "text/plain": [
       "<mbfit.utils.filesystem.filesystem.Directory at 0x1554c63663b0>"
      ]
     },
     "execution_count": 15,
     "metadata": {},
     "output_type": "execute_result"
    }
   ],
   "source": [
    "# scratch.remove()\n",
    "# restart.remove()\n",
    "scratch.create()\n",
    "restart.create()"
   ]
  },
  {
   "cell_type": "markdown",
   "id": "3a8d1e90-45a0-4703-b8aa-7aaea7eae76b",
   "metadata": {},
   "source": [
    "## Setup"
   ]
  },
  {
   "cell_type": "code",
   "execution_count": 5,
   "id": "2fceee80-10b8-493c-bf89-045d92bf792e",
   "metadata": {},
   "outputs": [],
   "source": [
    "definition_my_fragment = read_fragment_definition(definitions.file(\"fragment_NH4+.def\"))\n",
    "definition_water = read_fragment_definition(definitions.file(\"H2O.def\"))\n",
    "\n",
    "definition_monomer = BasicCompoundDefinition()\n",
    "definition_monomer.add_fragment(definition_my_fragment)\n",
    "write_definition(definitions.file(\"monomer.xyz\"), definition_monomer)\n",
    "\n",
    "definition_monomer_H2O = BasicCompoundDefinition()\n",
    "definition_monomer_H2O.add_fragment(definition_water)\n",
    "write_definition(definitions.file(\"monomer_H2O.xyz\"), definition_monomer_H2O)\n",
    "\n",
    "definition_dimer = BasicCompoundDefinition()\n",
    "definition_dimer.add_fragment(definition_my_fragment)\n",
    "definition_dimer.add_fragment(definition_water)\n",
    "write_definition(definitions.file(\"dimer.xyz\"), definition_dimer)\n",
    "\n",
    "definition_trimer = BasicCompoundDefinition()\n",
    "definition_trimer.add_fragment(definition_my_fragment)\n",
    "definition_trimer.add_fragment(definition_water)\n",
    "definition_trimer.add_fragment(definition_water)\n",
    "write_definition(definitions.file(\"trimer.xyz\"), definition_trimer)"
   ]
  },
  {
   "cell_type": "code",
   "execution_count": 6,
   "id": "45c7dad7-3388-482c-b9bd-6a5acd160aed",
   "metadata": {},
   "outputs": [],
   "source": [
    "system_initializer = VSEPRInitializer(seed=12345)"
   ]
  },
  {
   "cell_type": "code",
   "execution_count": 7,
   "id": "9e96f4b8-cfe3-4017-bfa8-76546ad6674f",
   "metadata": {},
   "outputs": [
    {
     "name": "stdout",
     "output_type": "stream",
     "text": [
      "Initializing compound N1H4\n",
      "System initialization complete!\n"
     ]
    }
   ],
   "source": [
    "init_monomer = system_initializer(definition_monomer)\n",
    "write_system(structures.file(\"initialized_monomer.xyz\"), init_monomer)"
   ]
  },
  {
   "cell_type": "code",
   "execution_count": 8,
   "id": "a6ec34bf-b0ab-404f-8e1c-c3ca874e8b7d",
   "metadata": {},
   "outputs": [
    {
     "name": "stdout",
     "output_type": "stream",
     "text": [
      "Optimizer: Optimization complete!\n"
     ]
    }
   ],
   "source": [
    "optimized_monomer, optimized_e, log_path = calculator.optimize(\n",
    "        init_monomer,\n",
    "        num_threads=16,\n",
    "        mem_mb=16000\n",
    ")"
   ]
  },
  {
   "cell_type": "code",
   "execution_count": 9,
   "id": "85532461-904a-4e69-bff1-9683b493f754",
   "metadata": {},
   "outputs": [],
   "source": [
    "write_system(structures.file(\"optimized_monomer.xyz\"), optimized_monomer)"
   ]
  },
  {
   "cell_type": "code",
   "execution_count": 10,
   "id": "8329d0e8-5e5b-44f6-8a56-b05a717bcd90",
   "metadata": {},
   "outputs": [],
   "source": [
    "modes_monomer, log_path = calculator.normal_modes(\n",
    "        optimized_monomer,\n",
    "        num_threads=16,\n",
    "        mem_mb=16000\n",
    ")"
   ]
  },
  {
   "cell_type": "code",
   "execution_count": 11,
   "id": "b942c580-fa6f-4d79-9ebc-f4f9b991685c",
   "metadata": {},
   "outputs": [],
   "source": [
    "write_vibrational_modes(structures.file(\"modes_monomer.modes\"), modes_monomer)"
   ]
  },
  {
   "cell_type": "code",
   "execution_count": 12,
   "id": "5ef6b99e-73ff-4067-8243-54b704ca5756",
   "metadata": {},
   "outputs": [],
   "source": [
    "optimized_water = read_system(definitions.file(\"monomer_H2O.xyz\"), structures.file(\"water.xyz\"))"
   ]
  },
  {
   "cell_type": "code",
   "execution_count": 21,
   "id": "4e6011c0-d2ba-4204-861c-02845617e563",
   "metadata": {},
   "outputs": [
    {
     "name": "stdout",
     "output_type": "stream",
     "text": [
      "Distance Distribution: dist (A) = 5.0 * x + 0.0 for x in range [0,1].\n",
      "\u001b[33m\u001b[1mBeginning random distance and rotation configuration generation.\u001b[0m\u001b[0m\n",
      "\u001b[1mWill generate 5 configs with distance distribution dist (A) = 5.0 * x + 0.0 for x in range [0,1].\u001b[0m\n",
      "Done! Generated 5 configurations.\n",
      "\u001b[1A\u001b[KGeometry minimization for system 0 failed!                                                                            | - 0/5\n",
      "Minimizing geometries:  |                                                                                                    | - 0/5\n",
      "Maximum dynamic_level reached.\n",
      "\u001b[1A\u001b[KGeometry minimization for system 3 failed!\n",
      "Minimizing geometries:  |============================================================                                        | - 3/5\n",
      "Maximum dynamic_level reached.\n",
      "Minimizing geometries:  |====================================================================================================| - 5/5\n",
      "\u001b[92m\u001b[1mCompleted geometry minimizations!\u001b[0m\u001b[0m\n",
      "Finding unique clusters:  |====================================================================================================| - 3/3\n",
      "Found 2 unique minimized clusters.\n"
     ]
    }
   ],
   "source": [
    "clusters_dimer = find_clusters(\n",
    "        [optimized_monomer, optimized_water],\n",
    "        calculator=calculator,\n",
    "        num_guesses=5,\n",
    "        restart_path=restart.sub_directory(\"clusters_2b\"),\n",
    "        guess_seed=123345,\n",
    "        radius=5,\n",
    "        num_threads=16,\n",
    "        mem_mb=32000,\n",
    "        similarity_threshold=0.1,\n",
    "        filter_by_hbonds=True,\n",
    "        hbond_cut=3.0\n",
    ")"
   ]
  },
  {
   "cell_type": "code",
   "execution_count": 22,
   "id": "207eb202-9543-4157-95c0-ebbfd2537fcf",
   "metadata": {},
   "outputs": [],
   "source": [
    "optimized_dimer = clusters_dimer[0]"
   ]
  },
  {
   "cell_type": "code",
   "execution_count": 23,
   "id": "3e94a762-387c-4364-86c9-7de8fc65d1b1",
   "metadata": {},
   "outputs": [],
   "source": [
    "write_system(structures.file(\"optimized_dimer.xyz\"), optimized_dimer)"
   ]
  },
  {
   "cell_type": "code",
   "execution_count": 24,
   "id": "442e2df5-c1f1-4ae8-bcec-fcfaf3091cd1",
   "metadata": {},
   "outputs": [
    {
     "name": "stdout",
     "output_type": "stream",
     "text": [
      "Warning: used thermodynamics relations inappropriate for low-frequency modes: ['33.5790' '459.9862' '515.8463']\n"
     ]
    }
   ],
   "source": [
    "modes_dimer, log_path = calculator.normal_modes(\n",
    "        optimized_dimer,\n",
    "        num_threads=16,\n",
    "        mem_mb=16000\n",
    ")"
   ]
  },
  {
   "cell_type": "code",
   "execution_count": 25,
   "id": "e54d1028-f563-41ad-a598-c770e2f0acf7",
   "metadata": {},
   "outputs": [],
   "source": [
    "write_vibrational_modes(structures.file(\"modes_dimer.modes\"), modes_dimer)"
   ]
  },
  {
   "cell_type": "code",
   "execution_count": 27,
   "id": "e4996f70-b8f0-4117-a291-b7cacbe38f59",
   "metadata": {},
   "outputs": [
    {
     "name": "stdout",
     "output_type": "stream",
     "text": [
      "Distance Distribution: dist (A) = 5.0 * x + 0.0 for x in range [0,1].\n",
      "\u001b[33m\u001b[1mBeginning random distance and rotation configuration generation.\u001b[0m\u001b[0m\n",
      "\u001b[1mWill generate 5 configs with distance distribution dist (A) = 5.0 * x + 0.0 for x in range [0,1].\u001b[0m\n",
      "Done! Generated 5 configurations.\n",
      "Optimizer: Optimization complete!                                                                                            | - 0/5\n",
      "\u001b[1A\u001b[KGeometry minimization for system 1 failed!\n",
      "Minimizing geometries:  |====================                                                                                | - 1/5\n",
      "Maximum dynamic_level reached.\n",
      "\u001b[1A\u001b[KGeometry minimization for system 2 failed!\n",
      "Minimizing geometries:  |========================================                                                            | - 2/5\n",
      "Maximum dynamic_level reached.\n",
      "Optimizer: Optimization complete!\n",
      "\u001b[1A\u001b[KGeometry minimization for system 4 failed!\n",
      "Minimizing geometries:  |================================================================================                    | - 4/5\n",
      "Maximum dynamic_level reached.\n",
      "Minimizing geometries:  |====================================================================================================| - 5/5\n",
      "\u001b[92m\u001b[1mCompleted geometry minimizations!\u001b[0m\u001b[0m\n",
      "Finding unique clusters:  |====================================================================================================| - 2/2\n",
      "Found 2 unique minimized clusters.\n"
     ]
    }
   ],
   "source": [
    "clusters_trimer = find_clusters(\n",
    "        [optimized_monomer, optimized_water, optimized_water],\n",
    "        calculator=calculator,\n",
    "        num_guesses=5,\n",
    "        restart_path=restart.sub_directory(\"clusters_3b\"),\n",
    "        guess_seed=123345,\n",
    "        radius=5,\n",
    "        num_threads=16,\n",
    "        mem_mb=32000,\n",
    "        similarity_threshold=0.1,\n",
    "        filter_by_hbonds=True,\n",
    "        hbond_cut=3.0\n",
    ")"
   ]
  },
  {
   "cell_type": "code",
   "execution_count": 28,
   "id": "cec19b9e-64ba-4d01-bc5b-5b17d9ab11aa",
   "metadata": {},
   "outputs": [],
   "source": [
    "optimized_trimer = clusters_trimer[0]"
   ]
  },
  {
   "cell_type": "code",
   "execution_count": 29,
   "id": "14ca32c7-5a47-4d81-9d95-334e19cf0cf5",
   "metadata": {},
   "outputs": [],
   "source": [
    "write_system(structures.file(\"optimized_trimer.xyz\"), optimized_trimer)"
   ]
  },
  {
   "cell_type": "code",
   "execution_count": 30,
   "id": "2661de8c-b27b-4d13-a120-41f32cfc619c",
   "metadata": {},
   "outputs": [
    {
     "name": "stdout",
     "output_type": "stream",
     "text": [
      "Warning: used thermodynamics relations inappropriate for low-frequency modes: ['35.5506' '77.7217' '112.0839' '384.1152' '395.9259' '432.4331'\n",
      " '505.4269' '525.4520' '576.5474' '602.4341']\n"
     ]
    }
   ],
   "source": [
    "modes_trimer, log_path = calculator.normal_modes(\n",
    "        optimized_trimer,\n",
    "        num_threads=16,\n",
    "        mem_mb=16000\n",
    ")"
   ]
  },
  {
   "cell_type": "code",
   "execution_count": 31,
   "id": "eabee67d-c0bc-4bbc-b71d-45348694113e",
   "metadata": {},
   "outputs": [],
   "source": [
    "write_vibrational_modes(structures.file(\"modes_trimer.modes\"), modes_trimer)"
   ]
  },
  {
   "cell_type": "markdown",
   "id": "6047056e-8522-4833-9df7-c9c3dd7905ec",
   "metadata": {},
   "source": [
    "## Monomer"
   ]
  },
  {
   "cell_type": "code",
   "execution_count": 32,
   "id": "f7b1e5af-1658-4317-9d25-ef3bced9aee1",
   "metadata": {},
   "outputs": [],
   "source": [
    "bond_params, angle_params, nonbonded_params = get_pbmetad_parameters(\n",
    "        optimized_monomer\n",
    ")"
   ]
  },
  {
   "cell_type": "code",
   "execution_count": 33,
   "id": "569c0a90-70e5-4b66-b538-cad8d9df82fe",
   "metadata": {},
   "outputs": [
    {
     "data": {
      "text/plain": [
       "{('A', 'B'): (90, 1.043453087148401)}"
      ]
     },
     "execution_count": 33,
     "metadata": {},
     "output_type": "execute_result"
    }
   ],
   "source": [
    "bond_params"
   ]
  },
  {
   "cell_type": "code",
   "execution_count": 34,
   "id": "6d6e47ad-0d9f-4deb-a7eb-ee1f6b59395f",
   "metadata": {},
   "outputs": [
    {
     "data": {
      "text/plain": [
       "{('B', 'A', 'B'): (10, 109.47122026647037)}"
      ]
     },
     "execution_count": 34,
     "metadata": {},
     "output_type": "execute_result"
    }
   ],
   "source": [
    "angle_params"
   ]
  },
  {
   "cell_type": "code",
   "execution_count": 35,
   "id": "82a85bc8-c290-4b94-93d6-89328d1ef80c",
   "metadata": {},
   "outputs": [
    {
     "data": {
      "text/plain": [
       "{'A': (0.03, 2.2), 'B': (0.01, 1.2)}"
      ]
     },
     "execution_count": 35,
     "metadata": {},
     "output_type": "execute_result"
    }
   ],
   "source": [
    "nonbonded_params"
   ]
  },
  {
   "cell_type": "code",
   "execution_count": 36,
   "id": "d51c5d6c-d4a4-4875-b15f-59aad5e247a7",
   "metadata": {},
   "outputs": [],
   "source": [
    "charges = {atom.symmetry: 0.0 for atom in definition_monomer.atoms}"
   ]
  },
  {
   "cell_type": "code",
   "execution_count": 53,
   "id": "f25bbbf5-1ac1-41b8-b679-43c182652ee3",
   "metadata": {},
   "outputs": [
    {
     "name": "stdout",
     "output_type": "stream",
     "text": [
      "PBMetaD already completed. Will not rerun!\n"
     ]
    }
   ],
   "source": [
    "perform_pbmetad_simulation(\n",
    "        \"/expanse/projects/qstore/csd973/LAMMPS+plumed/LAMMPS-stable/bin/lmp_mpi\",\n",
    "        [optimized_monomer],\n",
    "        num_configs=pbmetad_pool_size,\n",
    "        sample_interval=10,\n",
    "        temperature=700,\n",
    "        seed=12345,\n",
    "        configurations_path=structures.file(\"pbmetad_traj.xyz\"),\n",
    "        bond_params=bond_params,\n",
    "        angle_params=angle_params,\n",
    "        nonbonded_params=nonbonded_params,\n",
    "        charges=charges,\n",
    "        pbmetad_workdir=scratch.sub_directory(\"pbmetad_1b_scratch\"),\n",
    "        restart_path=restart.file(\"pbmetad_1b_restart\")\n",
    ")"
   ]
  },
  {
   "cell_type": "code",
   "execution_count": 58,
   "id": "5ab1a354-0112-4cd0-8549-970df2c0a8d3",
   "metadata": {},
   "outputs": [
    {
     "name": "stdout",
     "output_type": "stream",
     "text": [
      "Phase1 already complete. Will not rerun.\n",
      "Phase2 already complete. Will not rerun.\n",
      "Selected 398 total configs by FPS.\n"
     ]
    }
   ],
   "source": [
    "pbmetad_configs_monomer = perform_fps(\n",
    "        definition_monomer,\n",
    "        optimized_monomer,\n",
    "        modes_monomer,\n",
    "        structures.file(\"pbmetad_traj.xyz\"),\n",
    "        num_pool_configs=pbmetad_pool_size,\n",
    "        num_phase1_input_configs=fps_phase1_size,\n",
    "        approx_configs_to_select=fps_target_configs,\n",
    "        fps_workdir=scratch.sub_directory(\"fps_1b_scratch\"),\n",
    "        restart_path=restart.sub_directory(\"fps_1b_restart\"),\n",
    "        num_threads=16\n",
    ")"
   ]
  },
  {
   "cell_type": "code",
   "execution_count": 59,
   "id": "710e54cb-5254-468f-a309-3389bf2b8c74",
   "metadata": {},
   "outputs": [
    {
     "data": {
      "image/png": "[encoded data removed]",
      "text/plain": [
       "<Figure size 640x480 with 1 Axes>"
      ]
     },
     "execution_count": 59,
     "metadata": {},
     "output_type": "execute_result"
    }
   ],
   "source": [
    "render_overlayed_systems(\n",
    "    pbmetad_configs_monomer,\n",
    "    centerer=lambda system: system.atoms[0].point,\n",
    "    aligner=lambda system: (system.atoms[1].point, system.atoms[2].point),\n",
    "    alpha=0.05,\n",
    "    num_to_show=25\n",
    ")"
   ]
  },
  {
   "cell_type": "markdown",
   "id": "a98366d4-c020-4e4e-965b-c2f028b2ad52",
   "metadata": {},
   "source": [
    "## Dimer"
   ]
  },
  {
   "cell_type": "code",
   "execution_count": 60,
   "id": "f63f04d7-3633-4225-b59a-a61c1fa8b406",
   "metadata": {},
   "outputs": [],
   "source": [
    "bond_params, angle_params, nonbonded_params = get_pbmetad_parameters(\n",
    "        optimized_dimer\n",
    ")"
   ]
  },
  {
   "cell_type": "code",
   "execution_count": 61,
   "id": "966722dd-133e-4b54-a30a-44711dac7aed",
   "metadata": {},
   "outputs": [],
   "source": [
    "charges[\"E\"] = 0.0\n",
    "charges[\"F\"] = 0.0"
   ]
  },
  {
   "cell_type": "code",
   "execution_count": 62,
   "id": "daf6f028-b4d4-4ad1-b936-98becc1337ec",
   "metadata": {},
   "outputs": [],
   "source": [
    "pbmetad_2b_size = 500"
   ]
  },
  {
   "cell_type": "code",
   "execution_count": 78,
   "id": "eb5e6192-6f99-4f58-b53e-46c37283f95e",
   "metadata": {},
   "outputs": [
    {
     "name": "stdout",
     "output_type": "stream",
     "text": [
      "Preparing PBMetaD Simulation...\n",
      "Running PBMetaD Simulation...\n",
      "Converting PBMetaD trajectory to XYZ...\n"
     ]
    }
   ],
   "source": [
    "perform_pbmetad_simulation(\n",
    "        \"/expanse/projects/qstore/csd973/LAMMPS+plumed/LAMMPS-stable/bin/lmp_mpi\",\n",
    "        [optimized_monomer, optimized_water],\n",
    "        num_configs=pbmetad_pool_size,\n",
    "        sample_interval=10,\n",
    "        temperature=700,\n",
    "        seed=12345,\n",
    "        configurations_path=structures.file(\"pbmetad_2b_traj.xyz\"),\n",
    "        bond_params=bond_params,\n",
    "        angle_params=angle_params,\n",
    "        nonbonded_params=nonbonded_params,\n",
    "        charges=charges,\n",
    "        pbmetad_workdir=scratch.sub_directory(\"pbmetad_2b_scratch\"),\n",
    "        restart_path=restart.file(\"pbmetad_2b_restart\")\n",
    ")"
   ]
  },
  {
   "cell_type": "code",
   "execution_count": 79,
   "id": "ccea1a7e-15e0-44f4-8f3b-2cc0c67d025a",
   "metadata": {},
   "outputs": [
    {
     "name": "stdout",
     "output_type": "stream",
     "text": [
      "Number of permutations: 48\n",
      "Beginning featurization...\n",
      "Featurization progress: |====================================================================================================| - 500/500\n",
      "Featurized 500 configurations.\n",
      "Initializing round 1 FPS...\n",
      "BallTree built!\n",
      "Performing round 1 FPS...\n",
      "Round 1 FPS iterations: |====================================================================================================| - 250/250\n",
      "Completed round 1 fps, selected 250 configs, max distance: 1.4870831972849976\n",
      "Number of permutations: 48\n",
      "Beginning featurization...\n",
      "Featurization progress: |====================================================================================================| - 500/500\n",
      "Featurized 500 configurations.\n",
      "Initializing round 2 FPS...\n",
      "BallTree built!\n",
      "Performing round 2 FPS...\n",
      "Round 2 FPS iterations: 35\n",
      "Completed round 2 fps, selected 35 configs.\n",
      "Selected 285 total configs by FPS.\n"
     ]
    }
   ],
   "source": [
    "pbmetad_configs_dimer = perform_fps(\n",
    "        definition_dimer,\n",
    "        optimized_dimer,\n",
    "        modes_dimer,\n",
    "        structures.file(\"pbmetad_2b_traj.xyz\"),\n",
    "        num_pool_configs=pbmetad_pool_size,\n",
    "        num_phase1_input_configs=fps_phase1_size,\n",
    "        approx_configs_to_select=fps_target_configs,\n",
    "        fps_workdir=scratch.sub_directory(\"fps_2b_scratch\"),\n",
    "        restart_path=restart.sub_directory(\"fps_2b_restart\"),\n",
    "        num_threads=16\n",
    ")"
   ]
  },
  {
   "cell_type": "code",
   "execution_count": 80,
   "id": "d55b78a6-9b4d-4463-97c6-b872ce102709",
   "metadata": {},
   "outputs": [
    {
     "data": {
      "image/png": "[encoded data removed]",
      "text/plain": [
       "<Figure size 640x480 with 1 Axes>"
      ]
     },
     "execution_count": 80,
     "metadata": {},
     "output_type": "execute_result"
    }
   ],
   "source": [
    "render_overlayed_systems(\n",
    "    pbmetad_configs_dimer,\n",
    "    centerer=lambda system: system.atoms[0].point,\n",
    "    aligner=lambda system: (system.atoms[1].point, system.atoms[2].point),\n",
    "    alpha=0.05,\n",
    "    num_to_show=25\n",
    ")"
   ]
  },
  {
   "cell_type": "markdown",
   "id": "173c04dc-b9e5-4dca-8ffd-5617f909e61b",
   "metadata": {},
   "source": [
    "## Trimer"
   ]
  },
  {
   "cell_type": "code",
   "execution_count": 82,
   "id": "1995412c-87f2-4b65-88fd-e97c97be9766",
   "metadata": {},
   "outputs": [],
   "source": [
    "bond_params, angle_params, nonbonded_params = get_pbmetad_parameters(\n",
    "        optimized_trimer\n",
    ")"
   ]
  },
  {
   "cell_type": "code",
   "execution_count": 83,
   "id": "bba549dd-0137-45a0-b76f-301ea37abe0a",
   "metadata": {},
   "outputs": [],
   "source": [
    "pbmetad_3b_size = 500"
   ]
  },
  {
   "cell_type": "code",
   "execution_count": 85,
   "id": "e64eca7a-032d-4705-a2a9-f728ac4cd95b",
   "metadata": {},
   "outputs": [],
   "source": [
    "# structures.file(\"pbmetad_3b_traj.xyz\").remove()\n",
    "# scratch.sub_directory(\"pbmetad_3b_scratch\").remove()\n",
    "# restart.file(\"pbmetad_3b_restart\").remove()\n",
    "# scratch.sub_directory(\"fps_3b_scratch\").remove()\n",
    "# restart.sub_directory(\"fps_3b_restart\")"
   ]
  },
  {
   "cell_type": "code",
   "execution_count": 86,
   "id": "5eec54c8-905b-4abf-8b61-faac104dcae9",
   "metadata": {},
   "outputs": [
    {
     "name": "stdout",
     "output_type": "stream",
     "text": [
      "Preparing PBMetaD Simulation...\n",
      "Running PBMetaD Simulation...\n",
      "Converting PBMetaD trajectory to XYZ...\n"
     ]
    }
   ],
   "source": [
    "perform_pbmetad_simulation(\n",
    "        \"/expanse/projects/qstore/csd973/LAMMPS+plumed/LAMMPS-stable/bin/lmp_mpi\",\n",
    "        [optimized_monomer, optimized_water, optimized_water],\n",
    "        num_configs=pbmetad_pool_size,\n",
    "        sample_interval=10,\n",
    "        temperature=700,\n",
    "        seed=12345,\n",
    "        configurations_path=structures.file(\"pbmetad_3b_traj.xyz\"),\n",
    "        bond_params=bond_params,\n",
    "        angle_params=angle_params,\n",
    "        nonbonded_params=nonbonded_params,\n",
    "        charges=charges,\n",
    "        pbmetad_workdir=scratch.sub_directory(\"pbmetad_3b_scratch\"),\n",
    "        restart_path=restart.file(\"pbmetad_3b_restart\")\n",
    ")"
   ]
  },
  {
   "cell_type": "code",
   "execution_count": 87,
   "id": "8067b9cf-e249-479a-9199-c4480ac07949",
   "metadata": {},
   "outputs": [
    {
     "name": "stdout",
     "output_type": "stream",
     "text": [
      "Number of permutations: 192\n",
      "Beginning featurization...\n",
      "Featurization progress: |====================================================================================================| - 500/500\n",
      "Featurized 500 configurations.\n",
      "Initializing round 1 FPS...\n",
      "BallTree built!\n",
      "Performing round 1 FPS...\n",
      "Round 1 FPS iterations: |====================================================================================================| - 250/250\n",
      "Completed round 1 fps, selected 250 configs, max distance: 2.034507389941555\n",
      "Number of permutations: 192\n",
      "Beginning featurization...\n",
      "Featurization progress: |====================================================================================================| - 500/500\n",
      "Featurized 500 configurations.\n",
      "Initializing round 2 FPS...\n",
      "BallTree built!\n",
      "Performing round 2 FPS...\n",
      "Round 2 FPS iterations: 52\n",
      "Completed round 2 fps, selected 52 configs.\n",
      "Selected 302 total configs by FPS.\n"
     ]
    }
   ],
   "source": [
    "pbmetad_configs_trimer = perform_fps(\n",
    "        definition_trimer,\n",
    "        optimized_trimer,\n",
    "        modes_trimer,\n",
    "        structures.file(\"pbmetad_3b_traj.xyz\"),\n",
    "        num_pool_configs=pbmetad_pool_size,\n",
    "        num_phase1_input_configs=fps_phase1_size,\n",
    "        approx_configs_to_select=fps_target_configs,\n",
    "        fps_workdir=scratch.sub_directory(\"fps_3b_scratch\"),\n",
    "        restart_path=restart.sub_directory(\"fps_3b_restart\"),\n",
    "        num_threads=16\n",
    ")"
   ]
  },
  {
   "cell_type": "code",
   "execution_count": 88,
   "id": "55323e02-94fb-499f-95ef-568ae582bffb",
   "metadata": {},
   "outputs": [
    {
     "data": {
      "image/png": "[encoded data removed]",
      "text/plain": [
       "<Figure size 640x480 with 1 Axes>"
      ]
     },
     "execution_count": 88,
     "metadata": {},
     "output_type": "execute_result"
    }
   ],
   "source": [
    "render_overlayed_systems(\n",
    "    pbmetad_configs_trimer,\n",
    "    centerer=lambda system: system.atoms[0].point,\n",
    "    aligner=lambda system: (system.atoms[1].point, system.atoms[2].point),\n",
    "    alpha=0.05,\n",
    "    num_to_show=25\n",
    ")"
   ]
  },
  {
   "cell_type": "code",
   "execution_count": null,
   "id": "c878435f-a808-4d16-90c2-af9761b254c2",
   "metadata": {},
   "outputs": [],
   "source": []
  }
 ],
 "metadata": {
  "kernelspec": {
   "display_name": "Python 3 (ipykernel)",
   "language": "python",
   "name": "python3"
  },
  "language_info": {
   "codemirror_mode": {
    "name": "ipython",
    "version": 3
   },
   "file_extension": ".py",
   "mimetype": "text/x-python",
   "name": "python",
   "nbconvert_exporter": "python",
   "pygments_lexer": "ipython3",
   "version": "3.10.10"
  }
 },
 "nbformat": 4,
 "nbformat_minor": 5
}
