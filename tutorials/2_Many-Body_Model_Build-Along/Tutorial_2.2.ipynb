{
 "cells": [
  {
   "cell_type": "markdown",
   "metadata": {
    "tags": []
   },
   "source": [
    "# Tutorial 2.1: One-Body Potential Energy Surface"
   ]
  },
  {
   "cell_type": "markdown",
   "metadata": {},
   "source": [
    "In this section, we construct, from scratch, a 1-body MB-nrg-style PEF for CH3-NH2."
   ]
  },
  {
   "cell_type": "markdown",
   "metadata": {
    "tags": []
   },
   "source": [
    "## 2.1.0 Definitions and Imports"
   ]
  },
  {
   "cell_type": "code",
   "execution_count": 6,
   "metadata": {},
   "outputs": [
    {
     "name": "stdout",
     "output_type": "stream",
     "text": [
      "The autoreload extension is already loaded. To reload it, use:\n",
      "  %reload_ext autoreload\n"
     ]
    }
   ],
   "source": [
    "%run Tutorial_2_Imports.ipynb"
   ]
  },
  {
   "cell_type": "markdown",
   "metadata": {
    "tags": []
   },
   "source": [
    "## 2.x.y Normal Modes Configuration Generation"
   ]
  },
  {
   "cell_type": "markdown",
   "metadata": {},
   "source": [
    "Now, we will generate the first batch of configurations for our training set. This batch will come from randomly sampling the vibrational normal modes of methylamine."
   ]
  },
  {
   "cell_type": "markdown",
   "metadata": {},
   "source": [
    "First, we need to calculate the vibrational modes of the optimized geometry:"
   ]
  },
  {
   "cell_type": "code",
   "execution_count": 2,
   "metadata": {},
   "outputs": [],
   "source": [
    "minimized_structure_CH3NH2 = read_system(monomer_CH3NH2_definition_path, monomer_CH3NH2_minimum_structure_path)\n",
    "vibrational_modes_CH3NH2 = read_vibrational_modes(vibrational_modes_CH3NH2_path)"
   ]
  },
  {
   "cell_type": "code",
   "execution_count": 3,
   "metadata": {},
   "outputs": [
    {
     "name": "stdout",
     "output_type": "stream",
     "text": [
      "\u001b[3mWill generate configurations over a piecewise temperature distribution.\u001b[0m\n",
      "\u001b[3mTemp Distribution: temp (au) = x < 0.05 : 0.0001860524825039312 | x < 0.45 : 0.0009302624125196561 | x < 0.75 : 0.0018605248250393122 | x < 0.95 : 0.0037210496500786243 | otherwise : 0.00930262412519656 for x in range [0,1].\u001b[0m\n",
      "\u001b[33m\u001b[1mBeginning normal modes configuration generation.\u001b[0m\u001b[0m\n",
      "\u001b[3mWill generate 1000 configs over the temperature distribution.\u001b[0m\n",
      "\u001b[3mGenerating Temperature Distribution Configs...\u001b[0m\n",
      "\u001b[92m\u001b[1mNormal Distribution Configuration generation complete! Generated 1000 configs.\u001b[0m\u001b[0m\n"
     ]
    }
   ],
   "source": [
    "configuration_generator = NormalModesConfigurationGenerator(\n",
    "        minimized_structure_CH3NH2,\n",
    "        vibrational_modes_CH3NH2,\n",
    "        classical=False,\n",
    ")\n",
    "configurations_vibrational_modes_CH3NH2 = list(configuration_generator.generate_configurations(num_configs=1000, seed=54321))\n",
    "write_systems(pip_1b_modes_configs_path, configurations_vibrational_modes_CH3NH2)"
   ]
  },
  {
   "cell_type": "code",
   "execution_count": 4,
   "metadata": {},
   "outputs": [
    {
     "data": {
      "image/png": "[encoded data removed]",
      "text/plain": [
       "<Figure size 640x480 with 1 Axes>"
      ]
     },
     "execution_count": 4,
     "metadata": {},
     "output_type": "execute_result"
    }
   ],
   "source": [
    "render_overlayed_systems(\n",
    "    configurations_vibrational_modes_CH3NH2,\n",
    "    centerer=lambda system: system.atoms[0].point,\n",
    "    aligner=lambda system: (system.atoms[4].point, system.atoms[3].point),\n",
    "    alpha=0.02,\n",
    "    num_to_show=10\n",
    ")"
   ]
  },
  {
   "cell_type": "markdown",
   "metadata": {},
   "source": [
    "Note: the seed here determines which configurations get generated. The same seed will always produce the same configurations. In a later step, we \"cheat\" and have pre-performed the CCSD(T) calculations for these structures, so please don't change the seed, because then the energies we give you wont match the structures that get generated!"
   ]
  },
  {
   "cell_type": "markdown",
   "metadata": {
    "tags": []
   },
   "source": [
    "## II.1.? Parallel-Bias Metadynamics Configuration Generation"
   ]
  },
  {
   "cell_type": "markdown",
   "metadata": {},
   "source": [
    "Let's generate the second set of configurations for our training set, those from metadynamics configurations."
   ]
  },
  {
   "cell_type": "code",
   "execution_count": 5,
   "metadata": {},
   "outputs": [],
   "source": [
    "bond_params, angle_params, nonbonded_params = get_pbmetad_parameters(\n",
    "        minimized_structure_CH3NH2\n",
    ")"
   ]
  },
  {
   "cell_type": "code",
   "execution_count": 6,
   "metadata": {},
   "outputs": [
    {
     "data": {
      "text/plain": [
       "{('A', 'B'): (30, 1.090363497904159),\n",
       " ('A', 'C'): (50, 1.4855635499551385),\n",
       " ('C', 'D'): (30, 1.0335460742804576)}"
      ]
     },
     "execution_count": 6,
     "metadata": {},
     "output_type": "execute_result"
    }
   ],
   "source": [
    "bond_params"
   ]
  },
  {
   "cell_type": "code",
   "execution_count": 7,
   "metadata": {},
   "outputs": [
    {
     "data": {
      "text/plain": [
       "{('A', 'C', 'D'): (10, 107.29140952068394),\n",
       " ('B', 'A', 'B'): (10, 108.21857211598058),\n",
       " ('B', 'A', 'C'): (10, 110.68095145727484),\n",
       " ('D', 'C', 'D'): (10, 104.35491531108244)}"
      ]
     },
     "execution_count": 7,
     "metadata": {},
     "output_type": "execute_result"
    }
   ],
   "source": [
    "angle_params"
   ]
  },
  {
   "cell_type": "code",
   "execution_count": 8,
   "metadata": {},
   "outputs": [
    {
     "data": {
      "text/plain": [
       "{'A': (0.03, 2.4), 'B': (0.01, 1.2), 'C': (0.03, 2.4), 'D': (0.01, 1.2)}"
      ]
     },
     "execution_count": 8,
     "metadata": {},
     "output_type": "execute_result"
    }
   ],
   "source": [
    "nonbonded_params"
   ]
  },
  {
   "cell_type": "code",
   "execution_count": 9,
   "metadata": {},
   "outputs": [
    {
     "name": "stdout",
     "output_type": "stream",
     "text": [
      "PBMetaD already completed. Will not rerun!\n"
     ]
    }
   ],
   "source": [
    "perform_pbmetad_simulation(\n",
    "        \"/home/ebullvul/software/LAMMPS+plumed/LAMMPS-stable/bin/lmp_mpi\",\n",
    "        [minimized_structure_CH3NH2],\n",
    "        num_configs=5000,\n",
    "        sample_interval=10,\n",
    "        temperature=700,\n",
    "        seed=12345,\n",
    "        configurations_path=pbmetad_configuration_pool_1b,\n",
    "        bond_params=bond_params,\n",
    "        angle_params=angle_params,\n",
    "        nonbonded_params=nonbonded_params,\n",
    "        charges={\"A\": 0.3, \"B\": 0.1, \"C\": -0.3, \"D\": 0.15},\n",
    "        pbmetad_workdir=pbmetad_workdir_1b,\n",
    "        restart_path=restart_dir.file(\"1b_pbmetad.restart\")\n",
    ")"
   ]
  },
  {
   "cell_type": "code",
   "execution_count": 15,
   "metadata": {},
   "outputs": [],
   "source": [
    "split_pool(\n",
    "        read_definition(monomer_CH3NH2_definition_path),\n",
    "        pbmetad_configuration_pool_1b,\n",
    "        pool_size=5000,\n",
    "        num_configs_to_split=100,\n",
    "        unsplit_path=pbmetad_configuration_pool_1b_pool_configs,\n",
    "        split_path=pbmetad_configuration_pool_1b_test_configs,\n",
    "        strategy=\"INTERVAL\",\n",
    ")"
   ]
  },
  {
   "cell_type": "code",
   "execution_count": 27,
   "metadata": {},
   "outputs": [
    {
     "name": "stdout",
     "output_type": "stream",
     "text": [
      "Number of permutations: 12\n",
      "Beginning featurization...\n",
      "Featurization progress: |====================================================================================================| - 4000/4000\n",
      "Featurized 4000 configurations.\n",
      "Initializing round 1 FPS...\n",
      "BallTree built!\n",
      "Performing round 1 FPS...\n",
      "Round 1 FPS iterations: |====================================================================================================| - 1000/1000\n",
      "Completed round 1 fps, selected 1000 configs, max distance: 0.8838539705771418\n",
      "Number of permutations: 12\n",
      "Beginning featurization...\n",
      "Featurization progress: |====================================================================================================| - 900/900\n",
      "Featurized 900 configurations.\n",
      "Initializing round 2 FPS...\n",
      "BallTree built!\n",
      "Performing round 2 FPS...\n",
      "Round 2 FPS iterations: 101\n",
      "Completed round 1 fps, selected 101 configs.\n"
     ]
    }
   ],
   "source": [
    "pbmetad_configs = perform_fps(\n",
    "        read_definition(monomer_CH3NH2_definition_path),\n",
    "        minimized_structure_CH3NH2,\n",
    "        vibrational_modes_CH3NH2,\n",
    "        pbmetad_configuration_pool_1b_pool_configs,\n",
    "        num_pool_configs=4900,\n",
    "        num_phase1_input_configs=4000,\n",
    "        approx_configs_to_select=1000,\n",
    "        fps_workdir=fps_workdir_1b,\n",
    "        restart_path=restart_dir.file(\"1b_fps.restart\"),\n",
    "        num_threads=16\n",
    ")"
   ]
  },
  {
   "cell_type": "code",
   "execution_count": 28,
   "metadata": {},
   "outputs": [
    {
     "data": {
      "image/png": "[encoded data removed]",
      "text/plain": [
       "<Figure size 640x480 with 1 Axes>"
      ]
     },
     "execution_count": 28,
     "metadata": {},
     "output_type": "execute_result"
    }
   ],
   "source": [
    "render_overlayed_systems(\n",
    "    pbmetad_configs,\n",
    "    centerer=lambda system: system.atoms[0].point,\n",
    "    aligner=lambda system: (system.atoms[4].point, system.atoms[3].point),\n",
    "    alpha=0.02,\n",
    "    num_to_show=100\n",
    ")"
   ]
  },
  {
   "cell_type": "markdown",
   "metadata": {},
   "source": [
    "## II.1.? Energy Calculation"
   ]
  },
  {
   "cell_type": "markdown",
   "metadata": {},
   "source": [
    "Next, we need to perform the electronic structure calculations with our chosen reference level of theory. We will use CCSD(T). Because this can be quite expensive and this tutorial is menat to be something that can be finished in a few hours, we have precomputed the energies for you. So we will just copy them over:"
   ]
  },
  {
   "cell_type": "code",
   "execution_count": 31,
   "metadata": {},
   "outputs": [],
   "source": [
    "# calculator = OrcaCalculator(\"DLPNO-CCSD(T)-F12\", \"cc-pVTZ-F12\", log_directory=\"test_logs\", command_line_args = [\"VeryTightSCF\", \"TightPNO\", \"PModel\"], basis_args = {\"AuxC\": \"cc-pVTZ/C\", \"CABS\": \"cc-pVTZ-F12-CABS\"})\n",
    "calculator = QchemCalculator(\"HF\", \"STO-3G\", log_directory=f\"{logs_dir}\")"
   ]
  },
  {
   "cell_type": "code",
   "execution_count": 7,
   "metadata": {},
   "outputs": [
    {
     "ename": "NameError",
     "evalue": "name 'calculator' is not defined",
     "output_type": "error",
     "traceback": [
      "\u001b[0;31m---------------------------------------------------------------------------\u001b[0m",
      "\u001b[0;31mNameError\u001b[0m                                 Traceback (most recent call last)",
      "Cell \u001b[0;32mIn[7], line 4\u001b[0m\n\u001b[1;32m      1\u001b[0m configurations_vibrational_modes_CH3NH2 \u001b[38;5;241m=\u001b[39m read_systems(monomer_CH3NH2_definition_path, pip_1b_modes_configs_path)\n\u001b[1;32m      2\u001b[0m nm_configs_energies \u001b[38;5;241m=\u001b[39m calculate_nmer_energies(\n\u001b[1;32m      3\u001b[0m         configurations_vibrational_modes_CH3NH2 ,\n\u001b[0;32m----> 4\u001b[0m         \u001b[43mcalculator\u001b[49m,\n\u001b[1;32m      5\u001b[0m         get_qchem_job_manager(jobs_dir),\n\u001b[1;32m      6\u001b[0m         restart_dir\u001b[38;5;241m.\u001b[39mfile(\u001b[38;5;124m\"\u001b[39m\u001b[38;5;124menergies_1b_normal_modes_configs.restart\u001b[39m\u001b[38;5;124m\"\u001b[39m),\n\u001b[1;32m      7\u001b[0m         num_threads\u001b[38;5;241m=\u001b[39m\u001b[38;5;241m16\u001b[39m,\n\u001b[1;32m      8\u001b[0m         mem_mb\u001b[38;5;241m=\u001b[39m\u001b[38;5;241m32000\u001b[39m\n\u001b[1;32m      9\u001b[0m )\n\u001b[1;32m     10\u001b[0m write_systems_and_nmer_energies(pip_1b_modes_configs_energies_path, (configurations_vibrational_modes_CH3NH2, nm_configs_energies))\n",
      "\u001b[0;31mNameError\u001b[0m: name 'calculator' is not defined"
     ]
    }
   ],
   "source": [
    "configurations_vibrational_modes_CH3NH2 = read_systems(monomer_CH3NH2_definition_path, pip_1b_modes_configs_path)\n",
    "nm_configs_energies = calculate_nmer_energies(\n",
    "        configurations_vibrational_modes_CH3NH2 ,\n",
    "        calculator,\n",
    "        get_qchem_job_manager(jobs_dir),\n",
    "        restart_dir.file(\"energies_1b_normal_modes_configs.restart\"),\n",
    "        num_threads=16,\n",
    "        mem_mb=32000\n",
    ")\n",
    "write_systems_and_nmer_energies(pip_1b_modes_configs_energies_path, (configurations_vibrational_modes_CH3NH2, nm_configs_energies))"
   ]
  },
  {
   "cell_type": "markdown",
   "metadata": {},
   "source": [
    "## II.1.? Polynomial Generation"
   ]
  },
  {
   "cell_type": "code",
   "execution_count": 12,
   "metadata": {},
   "outputs": [
    {
     "name": "stdout",
     "output_type": "stream",
     "text": [
      "(A1B3C1D2)\n",
      "Generating polynomial input file for symmetry (A1B3C1D2) into file test1.in.\n",
      "Successfully generated polynomial input file! 21 total variables.\n",
      "Generating terms up to degree 4...\n",
      "Generating polynomial: |====================================================================================================| - 84/84\n",
      "8 possible degree 1 terms, now filtering them...\n",
      "There were 8 accepted degree 1 terms.\n",
      "53 possible degree 2 terms, now filtering them...\n",
      "There were 53 accepted degree 2 terms.\n",
      "292 possible degree 3 terms, now filtering them...\n",
      "There were 292 accepted degree 3 terms.\n",
      "1420 possible degree 4 terms, now filtering them...\n",
      "There were 1420 accepted degree 4 terms.\n",
      "There were 1773 accepted terms over all\n",
      "Writing Gradients C++: |====================================================================================================| - 21/21\n",
      "Writing Polynomial C++: |====================================================================================================| - 1773/1773\n"
     ]
    }
   ],
   "source": [
    "generate_polynomial(\n",
    "        read_definition(monomer_CH3NH2_definition_path),\n",
    "        max_degree=4,\n",
    "        polynomial_info_path=\"test1.in\",\n",
    "        polynomial_dir=Directory(\"testpip\"),\n",
    "        filters=[]\n",
    ")"
   ]
  },
  {
   "cell_type": "markdown",
   "metadata": {},
   "source": [
    "## II.1.? Polynomial Parametrization"
   ]
  },
  {
   "cell_type": "code",
   "execution_count": 40,
   "metadata": {},
   "outputs": [
    {
     "data": {
      "text/plain": [
       "{'A': 0.26466509254565174,\n",
       " 'B': -0.024142906727783187,\n",
       " 'C': -0.6608195412757641,\n",
       " 'D': 0.234291584456731}"
      ]
     },
     "execution_count": 40,
     "metadata": {},
     "output_type": "execute_result"
    }
   ],
   "source": [
    "read_parameters(Vphys_dir.file(\"charges_CH3NH2\"))"
   ]
  },
  {
   "cell_type": "code",
   "execution_count": 42,
   "metadata": {
    "tags": []
   },
   "outputs": [
    {
     "name": "stdout",
     "output_type": "stream",
     "text": [
      "File testworkdir/config.ini already exists, moving existing testworkdir/config.ini to testworkdir/config.ini.backup-12 to make way for new file.\n",
      "Completed generating config file testworkdir/config.ini.\n",
      "File testworkdir/config.ini already exists, moving existing testworkdir/config.ini to testworkdir/config.ini.backup-13 to make way for new file.\n",
      "Executing python generator script\n",
      "Generating fitcode for molecule with symmetry A1B3C1D2...\n",
      "Using mbpol for 1 fragments.\n",
      "0 fragments have lone pairs.\n",
      "Using exp variables for intramolecular interactions.\n",
      "Using exp variables for intermolecular interactions.\n",
      "Using coul variables for lone pair interactions.\n",
      "1773 terms in the polynomial.\n",
      "Atoms in the molecule: A1 B1 B2 B3 C1 D1 D2.\n",
      "21 variables in the polynomial.\n",
      "8 non-linear parameters in the polynomial.\n"
     ]
    }
   ],
   "source": [
    "generate_pip_parametizer(\n",
    "        read_definition(monomer_CH3NH2_definition_path),\n",
    "        max_degree=4,\n",
    "        polynomial_info_path=\"test1.in\",\n",
    "        polynomial_dir=Directory(\"testpip\"),\n",
    "        parametizer_dir=Directory(\"testfit\"),\n",
    "        workdir=Directory(\"testworkdir\"),\n",
    "        symmetry_to_charge=read_parameters(Vphys_dir.file(\"charges_CH3NH2\")),\n",
    "        symmetry_to_polarizability={**read_parameters(Vphys_dir.file(\"polarizabilities_CH3NH2\")), **read_parameters(Vphys_dir.file(\"polarizabilities_H2O\"))},\n",
    "        symmetry_to_polarizability_factor={**read_parameters(Vphys_dir.file(\"polarizability_factors_CH3NH2\")), **read_parameters(Vphys_dir.file(\"polarizability_factors_CH3NH2\"))},\n",
    "        symmetries_to_C6={},\n",
    "        symmetries_to_d6={},\n",
    "        monomer_names=[\"ch3nh2\", \"h2o\"],\n",
    "        is_mbpol=[False, True]\n",
    ")"
   ]
  },
  {
   "cell_type": "markdown",
   "metadata": {},
   "source": [
    "## II.1.? Implementation in MBX"
   ]
  },
  {
   "cell_type": "markdown",
   "metadata": {},
   "source": [
    "## II.1.? Test MBX Implementation"
   ]
  },
  {
   "cell_type": "markdown",
   "metadata": {},
   "source": [
    "## II.1.? Run a Gas-Phase Monomer Simulation"
   ]
  },
  {
   "cell_type": "code",
   "execution_count": null,
   "metadata": {},
   "outputs": [],
   "source": []
  }
 ],
 "metadata": {
  "kernelspec": {
   "display_name": "Python 3 (ipykernel)",
   "language": "python",
   "name": "python3"
  },
  "language_info": {
   "codemirror_mode": {
    "name": "ipython",
    "version": 3
   },
   "file_extension": ".py",
   "mimetype": "text/x-python",
   "name": "python",
   "nbconvert_exporter": "python",
   "pygments_lexer": "ipython3",
   "version": "3.10.10"
  }
 },
 "nbformat": 4,
 "nbformat_minor": 4
}
