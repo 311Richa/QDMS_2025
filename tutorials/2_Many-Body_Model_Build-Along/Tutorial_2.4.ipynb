{
 "cells": [
  {
   "cell_type": "markdown",
   "metadata": {},
   "source": [
    "# Tutorial 2.4: Three-Body Potential Energy Surface"
   ]
  },
  {
   "cell_type": "markdown",
   "metadata": {},
   "source": [
    "Next, we will parameterize the \"physical baseline\" ($V_{phys}$) of the PEF."
   ]
  },
  {
   "cell_type": "markdown",
   "metadata": {},
   "source": [
    "In this section, we construct, from scratch, a 1-body MB-nrg-style PEF for CH3-NH2."
   ]
  },
  {
   "cell_type": "code",
   "execution_count": 1,
   "metadata": {},
   "outputs": [
    {
     "name": "stdout",
     "output_type": "stream",
     "text": [
      "test\n"
     ]
    }
   ],
   "source": [
    "print(\"test\")"
   ]
  },
  {
   "cell_type": "markdown",
   "metadata": {
    "tags": []
   },
   "source": [
    "## 2.1.0 Definitions and Imports"
   ]
  },
  {
   "cell_type": "code",
   "execution_count": 2,
   "metadata": {},
   "outputs": [],
   "source": [
    "%load_ext autoreload\n",
    "%autoreload 2\n",
    "%matplotlib agg"
   ]
  },
  {
   "cell_type": "code",
   "execution_count": 3,
   "metadata": {},
   "outputs": [
    {
     "name": "stdout",
     "output_type": "stream",
     "text": [
      "The autoreload extension is already loaded. To reload it, use:\n",
      "  %reload_ext autoreload\n"
     ]
    }
   ],
   "source": [
    "%run Tutorial_2_Imports.ipynb"
   ]
  },
  {
   "cell_type": "code",
   "execution_count": 4,
   "metadata": {},
   "outputs": [
    {
     "name": "stdout",
     "output_type": "stream",
     "text": [
      "The autoreload extension is already loaded. To reload it, use:\n",
      "  %reload_ext autoreload\n"
     ]
    }
   ],
   "source": [
    "%run Tutorial_2_Paths.ipynb"
   ]
  },
  {
   "cell_type": "markdown",
   "metadata": {},
   "source": [
    "Let's generate the second set of configurations for our training set, those from metadynamics configurations."
   ]
  },
  {
   "cell_type": "markdown",
   "metadata": {
    "tags": []
   },
   "source": [
    "## II.1.? Normal Modes Configuration Generation"
   ]
  },
  {
   "cell_type": "code",
   "execution_count": 5,
   "metadata": {},
   "outputs": [],
   "source": [
    "definition_CH3NH2 = read_definition(paths.definitions.systems.CH3NH2)\n",
    "minimized_structure_CH3NH2, minimized_energy_CH3NH2 = read_system_and_energy(definition_CH3NH2, paths.structures.minimized_CH3NH2)\n",
    "\n",
    "definition_H2O = read_definition(paths.definitions.systems.H2O)\n",
    "minimized_structure_H2O, minimized_energy_H2O = read_system_and_energy(definition_H2O, paths.structures.minimized_H2O)\n",
    "\n",
    "definition_CH3NH2_H2O_H2O = read_definition(paths.definitions.systems.CH3NH2_H2O_H2O)"
   ]
  },
  {
   "cell_type": "code",
   "execution_count": 6,
   "metadata": {},
   "outputs": [],
   "source": [
    "clusters_CH3NH2_H2O_H2O = read_systems(definition_CH3NH2_H2O_H2O, paths.clusters.CH3NH2_H2O_H2O)\n",
    "vibrational_modes_clusters_CH3NH2_H2O_H2O = read_multiple_vibrational_modes(paths.clusters.CH3NH2_H2O_H2O_modes)"
   ]
  },
  {
   "cell_type": "code",
   "execution_count": 7,
   "metadata": {},
   "outputs": [
    {
     "name": "stdout",
     "output_type": "stream",
     "text": [
      "\u001b[3mSingle negative frequency detected in input. This most likely means the given geometry is a transition state.\u001b[0m\n",
      "\u001b[3mWill generate configurations over a linear temperature distribution from 10 K to 150 K.\u001b[0m\n",
      "\u001b[3mTemp Distribution: temp (au) = 0.0004433562 * x + 3.1668299999999996e-05 for x in range [0,1].\u001b[0m\n",
      "\u001b[33m\u001b[1mBeginning normal modes configuration generation.\u001b[0m\u001b[0m\n",
      "\u001b[3mWill generate 150 configs over the temperature distribution.\u001b[0m\n",
      "\u001b[3mGenerating Temperature Distribution Configs...\u001b[0m\n",
      "\u001b[92m\u001b[1mNormal Distribution Configuration generation complete! Generated 150 configs.\u001b[0m\u001b[0m\n",
      "\u001b[3mWill generate configurations over a linear temperature distribution from 10 K to 150 K.\u001b[0m\n",
      "\u001b[3mTemp Distribution: temp (au) = 0.0004433562 * x + 3.1668299999999996e-05 for x in range [0,1].\u001b[0m\n",
      "\u001b[33m\u001b[1mBeginning normal modes configuration generation.\u001b[0m\u001b[0m\n",
      "\u001b[3mWill generate 150 configs over the temperature distribution.\u001b[0m\n",
      "\u001b[3mGenerating Temperature Distribution Configs...\u001b[0m\n",
      "\u001b[92m\u001b[1mNormal Distribution Configuration generation complete! Generated 150 configs.\u001b[0m\u001b[0m\n",
      "\u001b[3mWill generate configurations over a linear temperature distribution from 10 K to 150 K.\u001b[0m\n",
      "\u001b[3mTemp Distribution: temp (au) = 0.0004433562 * x + 3.1668299999999996e-05 for x in range [0,1].\u001b[0m\n",
      "\u001b[33m\u001b[1mBeginning normal modes configuration generation.\u001b[0m\u001b[0m\n",
      "\u001b[3mWill generate 150 configs over the temperature distribution.\u001b[0m\n",
      "\u001b[3mGenerating Temperature Distribution Configs...\u001b[0m\n",
      "\u001b[92m\u001b[1mNormal Distribution Configuration generation complete! Generated 150 configs.\u001b[0m\u001b[0m\n",
      "\u001b[3mWill generate configurations over a linear temperature distribution from 10 K to 150 K.\u001b[0m\n",
      "\u001b[3mTemp Distribution: temp (au) = 0.0004433562 * x + 3.1668299999999996e-05 for x in range [0,1].\u001b[0m\n",
      "\u001b[33m\u001b[1mBeginning normal modes configuration generation.\u001b[0m\u001b[0m\n",
      "\u001b[3mWill generate 150 configs over the temperature distribution.\u001b[0m\n",
      "\u001b[3mGenerating Temperature Distribution Configs...\u001b[0m\n",
      "\u001b[92m\u001b[1mNormal Distribution Configuration generation complete! Generated 150 configs.\u001b[0m\u001b[0m\n",
      "\u001b[3mWill generate configurations over a linear temperature distribution from 10 K to 150 K.\u001b[0m\n",
      "\u001b[3mTemp Distribution: temp (au) = 0.0004433562 * x + 3.1668299999999996e-05 for x in range [0,1].\u001b[0m\n",
      "\u001b[33m\u001b[1mBeginning normal modes configuration generation.\u001b[0m\u001b[0m\n",
      "\u001b[3mWill generate 150 configs over the temperature distribution.\u001b[0m\n",
      "\u001b[3mGenerating Temperature Distribution Configs...\u001b[0m\n",
      "\u001b[92m\u001b[1mNormal Distribution Configuration generation complete! Generated 150 configs.\u001b[0m\u001b[0m\n",
      "\u001b[3mWill generate configurations over a linear temperature distribution from 10 K to 150 K.\u001b[0m\n",
      "\u001b[3mTemp Distribution: temp (au) = 0.0004433562 * x + 3.1668299999999996e-05 for x in range [0,1].\u001b[0m\n",
      "\u001b[33m\u001b[1mBeginning normal modes configuration generation.\u001b[0m\u001b[0m\n",
      "\u001b[3mWill generate 150 configs over the temperature distribution.\u001b[0m\n",
      "\u001b[3mGenerating Temperature Distribution Configs...\u001b[0m\n",
      "\u001b[92m\u001b[1mNormal Distribution Configuration generation complete! Generated 150 configs.\u001b[0m\u001b[0m\n",
      "\u001b[3mWill generate configurations over a linear temperature distribution from 10 K to 150 K.\u001b[0m\n",
      "\u001b[3mTemp Distribution: temp (au) = 0.0004433562 * x + 3.1668299999999996e-05 for x in range [0,1].\u001b[0m\n",
      "\u001b[33m\u001b[1mBeginning normal modes configuration generation.\u001b[0m\u001b[0m\n",
      "\u001b[3mWill generate 150 configs over the temperature distribution.\u001b[0m\n",
      "\u001b[3mGenerating Temperature Distribution Configs...\u001b[0m\n",
      "\u001b[92m\u001b[1mNormal Distribution Configuration generation complete! Generated 150 configs.\u001b[0m\u001b[0m\n",
      "\u001b[3mWill generate configurations over a linear temperature distribution from 10 K to 150 K.\u001b[0m\n",
      "\u001b[3mTemp Distribution: temp (au) = 0.0004433562 * x + 3.1668299999999996e-05 for x in range [0,1].\u001b[0m\n",
      "\u001b[33m\u001b[1mBeginning normal modes configuration generation.\u001b[0m\u001b[0m\n",
      "\u001b[3mWill generate 150 configs over the temperature distribution.\u001b[0m\n",
      "\u001b[3mGenerating Temperature Distribution Configs...\u001b[0m\n",
      "\u001b[92m\u001b[1mNormal Distribution Configuration generation complete! Generated 150 configs.\u001b[0m\u001b[0m\n",
      "\u001b[3mWill generate configurations over a linear temperature distribution from 10 K to 150 K.\u001b[0m\n",
      "\u001b[3mTemp Distribution: temp (au) = 0.0004433562 * x + 3.1668299999999996e-05 for x in range [0,1].\u001b[0m\n",
      "\u001b[33m\u001b[1mBeginning normal modes configuration generation.\u001b[0m\u001b[0m\n",
      "\u001b[3mWill generate 150 configs over the temperature distribution.\u001b[0m\n",
      "\u001b[3mGenerating Temperature Distribution Configs...\u001b[0m\n",
      "\u001b[92m\u001b[1mNormal Distribution Configuration generation complete! Generated 150 configs.\u001b[0m\u001b[0m\n"
     ]
    }
   ],
   "source": [
    "configurations_vibrational_modes_CH3NH2_H2O_H2O = []\n",
    "\n",
    "for cluster, modes in zip(clusters_CH3NH2_H2O_H2O, vibrational_modes_clusters_CH3NH2_H2O_H2O):\n",
    "    configuration_generator = NormalModesConfigurationGenerator(\n",
    "            cluster,\n",
    "            modes,\n",
    "            distribution=\"linear\",\n",
    "            temperature=(10, 150)\n",
    "    )\n",
    "\n",
    "    configs = list(configuration_generator.generate_configurations(num_configs=150, seed=54321))\n",
    "    configurations_vibrational_modes_CH3NH2_H2O_H2O.extend(configs)\n",
    "    \n",
    "write_systems(paths.PIP_CH3NH2_H2O_H2O.configs.vibrational_modes, configurations_vibrational_modes_CH3NH2_H2O_H2O)"
   ]
  },
  {
   "cell_type": "code",
   "execution_count": 8,
   "metadata": {},
   "outputs": [
    {
     "data": {
      "image/png": "[encoded data removed]",
      "text/plain": [
       "<Figure size 640x480 with 1 Axes>"
      ]
     },
     "execution_count": 8,
     "metadata": {},
     "output_type": "execute_result"
    }
   ],
   "source": [
    "render_overlayed_systems(\n",
    "    configurations_vibrational_modes_CH3NH2_H2O_H2O,\n",
    "    centerer=lambda system: system.atoms[0].point,\n",
    "    aligner=lambda system: (system.atoms[4].point, system.atoms[1].point),\n",
    "    alpha=0.1,\n",
    "    num_to_show=25\n",
    ")"
   ]
  },
  {
   "cell_type": "markdown",
   "metadata": {},
   "source": [
    "Let's generate the second set of configurations for our training set, those from metadynamics configurations."
   ]
  },
  {
   "cell_type": "markdown",
   "metadata": {},
   "source": [
    "## II.1.? Random Distance "
   ]
  },
  {
   "cell_type": "markdown",
   "metadata": {},
   "source": [
    "RANDOM CONFIGS!"
   ]
  },
  {
   "cell_type": "code",
   "execution_count": 9,
   "metadata": {},
   "outputs": [],
   "source": [
    "vibrational_modes_CH3NH2 = read_vibrational_modes(paths.structures.vibrational_modes_CH3NH2)"
   ]
  },
  {
   "cell_type": "code",
   "execution_count": 10,
   "metadata": {},
   "outputs": [],
   "source": [
    "vibrational_modes_H2O = read_vibrational_modes(paths.structures.vibrational_modes_H2O)"
   ]
  },
  {
   "cell_type": "code",
   "execution_count": 11,
   "metadata": {},
   "outputs": [
    {
     "name": "stdout",
     "output_type": "stream",
     "text": [
      "\u001b[3mWill generate configurations over a piecewise temperature distribution.\u001b[0m\n",
      "\u001b[3mTemp Distribution: temp (au) = x < 0.05 : 0.0001644078210115607 | x < 0.45 : 0.0008220391050578035 | x < 0.75 : 0.001644078210115607 | x < 0.95 : 0.003288156420231214 | otherwise : 0.008220391050578035 for x in range [0,1].\u001b[0m\n",
      "\u001b[33m\u001b[1mBeginning normal modes configuration generation.\u001b[0m\u001b[0m\n",
      "\u001b[3mWill generate 500 configs over the temperature distribution.\u001b[0m\n",
      "\u001b[3mGenerating Temperature Distribution Configs...\u001b[0m\n",
      "\u001b[92m\u001b[1mNormal Distribution Configuration generation complete! Generated 500 configs.\u001b[0m\u001b[0m\n"
     ]
    }
   ],
   "source": [
    "generator_CH3NH2 = NormalModesConfigurationGenerator(\n",
    "        minimized_structure_CH3NH2,\n",
    "        vibrational_modes_CH3NH2,\n",
    ")\n",
    "\n",
    "monomer_configs_CH3NH2 = list(generator_CH3NH2.generate_configurations(num_configs=500, seed=54321))"
   ]
  },
  {
   "cell_type": "code",
   "execution_count": 12,
   "metadata": {},
   "outputs": [
    {
     "name": "stdout",
     "output_type": "stream",
     "text": [
      "\u001b[3mWill generate configurations over a piecewise temperature distribution.\u001b[0m\n",
      "\u001b[3mTemp Distribution: temp (au) = x < 0.05 : 0.00017994063671326814 | x < 0.45 : 0.0008997031835663407 | x < 0.75 : 0.0017994063671326814 | x < 0.95 : 0.0035988127342653628 | otherwise : 0.008997031835663407 for x in range [0,1].\u001b[0m\n",
      "\u001b[33m\u001b[1mBeginning normal modes configuration generation.\u001b[0m\u001b[0m\n",
      "\u001b[3mWill generate 500 configs over the temperature distribution.\u001b[0m\n",
      "\u001b[3mGenerating Temperature Distribution Configs...\u001b[0m\n",
      "\u001b[92m\u001b[1mNormal Distribution Configuration generation complete! Generated 500 configs.\u001b[0m\u001b[0m\n"
     ]
    }
   ],
   "source": [
    "generator_H2O = NormalModesConfigurationGenerator(\n",
    "        minimized_structure_H2O,\n",
    "        vibrational_modes_H2O,\n",
    ")\n",
    "\n",
    "monomer_configs_H2O = list(generator_H2O.generate_configurations(num_configs=500, seed=54321))"
   ]
  },
  {
   "cell_type": "code",
   "execution_count": 6,
   "metadata": {},
   "outputs": [],
   "source": [
    "# config_generator = RandomDistanceAndRotationConfigurationGenerator(\n",
    "#         [monomer_configs_CH3NH2, monomer_configs_H2O, monomer_configs_H2O],\n",
    "#         radius=7.0,\n",
    "#         min_intermolecular_distance_factor=0.8,\n",
    "#         logarithmic=True,\n",
    "#         use_pools=True,\n",
    "#         num_attempts=100\n",
    "# )\n",
    "\n",
    "# random_configs_CH3NH2_H2O_H2O = list(config_generator.generate_configurations(\n",
    "#         num_configs=3000,\n",
    "#         seed=12345,\n",
    "# ))\n",
    "\n",
    "# write_systems(paths.PIP_CH3NH2_H2O_H2O.configs.random, random_configs_CH3NH2_H2O_H2O)\n",
    "\n",
    "random_configs_CH3NH2_H2O_H2O = read_systems(definition_CH3NH2_H2O_H2O, paths.PIP_CH3NH2_H2O_H2O.configs.random)"
   ]
  },
  {
   "cell_type": "markdown",
   "metadata": {
    "tags": []
   },
   "source": [
    "## II.1.? Parallel-Bias Metadynamics Configuration Generation"
   ]
  },
  {
   "cell_type": "code",
   "execution_count": 14,
   "metadata": {},
   "outputs": [],
   "source": [
    "bond_params, angle_params, nonbonded_params = get_pbmetad_parameters(\n",
    "        clusters_CH3NH2_H2O_H2O[0]\n",
    ")"
   ]
  },
  {
   "cell_type": "code",
   "execution_count": 15,
   "metadata": {},
   "outputs": [
    {
     "data": {
      "text/plain": [
       "{('A', 'B'): (90, 1.0902050169001265),\n",
       " ('A', 'C'): (150, 1.4840322105456125),\n",
       " ('C', 'D'): (90, 1.0353028491290241),\n",
       " ('E', 'F'): (90, 0.9895932815834846)}"
      ]
     },
     "execution_count": 15,
     "metadata": {},
     "output_type": "execute_result"
    }
   ],
   "source": [
    "bond_params"
   ]
  },
  {
   "cell_type": "code",
   "execution_count": 16,
   "metadata": {},
   "outputs": [
    {
     "data": {
      "text/plain": [
       "{('B', 'A', 'B'): (10, 108.17230750568437),\n",
       " ('B', 'A', 'C'): (10, 110.72902281270159),\n",
       " ('D', 'C', 'D'): (10, 105.73773276456467),\n",
       " ('A', 'C', 'D'): (10, 108.23645918194089),\n",
       " ('F', 'E', 'F'): (10, 101.39053903964934)}"
      ]
     },
     "execution_count": 16,
     "metadata": {},
     "output_type": "execute_result"
    }
   ],
   "source": [
    "angle_params"
   ]
  },
  {
   "cell_type": "code",
   "execution_count": 17,
   "metadata": {},
   "outputs": [
    {
     "data": {
      "text/plain": [
       "{'A': (0.03, 2.2),\n",
       " 'B': (0.01, 1.2),\n",
       " 'C': (0.03, 2.2),\n",
       " 'D': (0.01, 1.2),\n",
       " 'E': (0.03, 2.2),\n",
       " 'F': (0.01, 1.2)}"
      ]
     },
     "execution_count": 17,
     "metadata": {},
     "output_type": "execute_result"
    }
   ],
   "source": [
    "nonbonded_params"
   ]
  },
  {
   "cell_type": "code",
   "execution_count": 18,
   "metadata": {},
   "outputs": [],
   "source": [
    "charges = read_parameters(paths.Vphys.charges)\n",
    "charges = {symmetry: charges[symmetry]*1/3 for symmetry in charges}\n",
    "charges[\"E\"] = -0.6*1/3\n",
    "charges[\"F\"] = +0.3*1/3"
   ]
  },
  {
   "cell_type": "code",
   "execution_count": 30,
   "metadata": {},
   "outputs": [
    {
     "name": "stdout",
     "output_type": "stream",
     "text": [
      "PBMetaD already completed. Will not rerun!\n"
     ]
    }
   ],
   "source": [
    "perform_pbmetad_simulation(\n",
    "        lammps_executable_path,\n",
    "        [minimized_structure_CH3NH2, minimized_structure_H2O, minimized_structure_H2O],\n",
    "        num_configs=500000,\n",
    "        sample_interval=10,\n",
    "        temperature=700,\n",
    "        seed=12345,\n",
    "        configurations_path=paths.PIP_CH3NH2_H2O_H2O.configs.pbmetad_pool,\n",
    "        bond_params=bond_params,\n",
    "        angle_params=angle_params,\n",
    "        nonbonded_params=nonbonded_params,\n",
    "        charges=charges,\n",
    "        pbmetad_workdir=paths.scratch.pbmetad_CH3NH2_H2O_H2O,\n",
    "        restart_path=paths.restart.pbmetad_CH3NH2_H2O_H2O,\n",
    "        min_intermolecular_distance=1.5,\n",
    "        max_intermolecular_distance=6\n",
    ")"
   ]
  },
  {
   "cell_type": "code",
   "execution_count": 31,
   "metadata": {},
   "outputs": [],
   "source": [
    "inner_cutoff_3b = 4.5\n",
    "outer_cutoff_3b = 5.5"
   ]
  },
  {
   "cell_type": "code",
   "execution_count": 32,
   "metadata": {},
   "outputs": [
    {
     "name": "stdout",
     "output_type": "stream",
     "text": [
      "Found 212554 within cutoff distance of 5.5\n"
     ]
    }
   ],
   "source": [
    "num_filtered_configs = filter_configs_by_cutoff(\n",
    "        definition_CH3NH2_H2O_H2O,\n",
    "        paths.PIP_CH3NH2_H2O_H2O.configs.pbmetad_pool,\n",
    "        threshold=outer_cutoff_3b,\n",
    "        filtered_path=paths.PIP_CH3NH2_H2O_H2O.configs.pbmetad_pool_filtered\n",
    ")"
   ]
  },
  {
   "cell_type": "code",
   "execution_count": 33,
   "metadata": {},
   "outputs": [],
   "source": [
    "split_pool(\n",
    "        definition_CH3NH2_H2O_H2O,\n",
    "        paths.PIP_CH3NH2_H2O_H2O.configs.pbmetad_pool_filtered,\n",
    "        pool_size=num_filtered_configs,\n",
    "        num_configs_to_split=200,\n",
    "        unsplit_path=paths.PIP_CH3NH2_H2O_H2O.configs.pbmetad_train_pool,\n",
    "        split_path=paths.PIP_CH3NH2_H2O_H2O.configs.pbmetad_test,\n",
    "        strategy=\"INTERVAL\",\n",
    ")"
   ]
  },
  {
   "cell_type": "code",
   "execution_count": 34,
   "metadata": {},
   "outputs": [
    {
     "name": "stdout",
     "output_type": "stream",
     "text": [
      "Phase1 already complete. Will not rerun.\n",
      "Phase2 already complete. Will not rerun.\n",
      "Selected 3405 total configs by FPS.\n"
     ]
    }
   ],
   "source": [
    "pbmetad_configs_CH3NH2_H2O_H2O = perform_fps(\n",
    "        definition_CH3NH2_H2O_H2O,\n",
    "        clusters_CH3NH2_H2O_H2O[0],\n",
    "        vibrational_modes_clusters_CH3NH2_H2O_H2O[0],\n",
    "        paths.PIP_CH3NH2_H2O_H2O.configs.pbmetad_train_pool,\n",
    "        num_pool_configs=num_filtered_configs-200,\n",
    "        num_phase1_input_configs=100000,\n",
    "        approx_configs_to_select=3000,\n",
    "        fps_workdir=paths.scratch.fps_CH3NH2_H2O_H2O,\n",
    "        restart_path=paths.restart.fps_CH3NH2_H2O_H2O,\n",
    "        num_threads=16\n",
    ")"
   ]
  },
  {
   "cell_type": "code",
   "execution_count": 18,
   "metadata": {},
   "outputs": [
    {
     "data": {
      "image/png": "[encoded data removed]",
      "text/plain": [
       "<Figure size 640x480 with 1 Axes>"
      ]
     },
     "execution_count": 18,
     "metadata": {},
     "output_type": "execute_result"
    }
   ],
   "source": [
    "render_overlayed_systems(\n",
    "    pbmetad_configs_CH3NH2_H2O_H2O,\n",
    "    centerer=lambda system: system.atoms[0].point,\n",
    "    aligner=lambda system: (system.atoms[4].point, system.atoms[3].point),\n",
    "    alpha=0.05,\n",
    "    num_to_show=100\n",
    ")"
   ]
  },
  {
   "cell_type": "code",
   "execution_count": 17,
   "metadata": {},
   "outputs": [],
   "source": [
    "write_systems(paths.PIP_CH3NH2_H2O_H2O.configs.pbmetad_train, pbmetad_configs_CH3NH2_H2O_H2O)"
   ]
  },
  {
   "cell_type": "markdown",
   "metadata": {},
   "source": [
    "## II.1.? Energy Calculation"
   ]
  },
  {
   "cell_type": "markdown",
   "metadata": {},
   "source": [
    "Next, we need to perform the electronic structure calculations with our chosen reference level of theory. We will use CCSD(T). Because this can be quite expensive and this tutorial is menat to be something that can be finished in a few hours, we have precomputed the energies for you. So we will just copy them over:"
   ]
  },
  {
   "cell_type": "code",
   "execution_count": 7,
   "metadata": {},
   "outputs": [],
   "source": [
    "calculator = Psi4Calculator(\n",
    "        \"MP2\",\n",
    "        \"def2-TZVP\",\n",
    "        log_directory=str(paths.logs),\n",
    "        scratch_directory=str(paths.scratch.psi4)\n",
    ")"
   ]
  },
  {
   "cell_type": "code",
   "execution_count": 41,
   "metadata": {},
   "outputs": [
    {
     "name": "stdout",
     "output_type": "stream",
     "text": [
      "Running energy calculations |====================================================================================================| - 9450/9450\n",
      "\u001b[92m\u001b[1mCompleted n-mer energy calculations!\u001b[0m\u001b[0m\n"
     ]
    }
   ],
   "source": [
    "energies_vibrational_modes_CH3NH2_H2O_H2O = calculate_nmer_energies(\n",
    "        configurations_vibrational_modes_CH3NH2_H2O_H2O,\n",
    "        calculator,\n",
    "        paths.restart.energies_vibrational_mode_configs_CH3NH2_H2O_H2O,\n",
    "        num_threads=8,\n",
    "        mem_mb=16000,\n",
    "        error_on_any_failure=False,\n",
    "        retrieve_only=True\n",
    ")\n",
    "write_systems_and_nmer_energies(paths.PIP_CH3NH2_H2O_H2O.configs.vibrational_modes_energies, (configurations_vibrational_modes_CH3NH2_H2O_H2O, energies_vibrational_modes_CH3NH2_H2O_H2O))"
   ]
  },
  {
   "cell_type": "code",
   "execution_count": null,
   "metadata": {},
   "outputs": [],
   "source": [
    "energies_pbmetad_CH3NH2_H2O_H2O = calculate_nmer_energies(\n",
    "        pbmetad_configs_CH3NH2_H2O_H2O,\n",
    "        calculator,\n",
    "        paths.restart.energies_pbmetad_configs_CH3NH2_H2O_H2O,\n",
    "        num_threads=8,\n",
    "        mem_mb=16000,\n",
    "        error_on_any_failure=False,\n",
    "        retrieve_only=True\n",
    ")\n",
    "write_systems_and_nmer_energies(paths.PIP_CH3NH2_H2O_H2O.configs.pbmetad_train_energies, (pbmetad_configs_CH3NH2_H2O_H2O, energies_pbmetad_CH3NH2_H2O_H2O))"
   ]
  },
  {
   "cell_type": "code",
   "execution_count": null,
   "metadata": {},
   "outputs": [
    {
     "name": "stdout",
     "output_type": "stream",
     "text": [
      "Waiting for JobManager to begin running...\n",
      "Running energy calculations |===========                                                                                         | - 2445/21000\r"
     ]
    }
   ],
   "source": [
    "energies_random_CH3NH2_H2O_H2O = calculate_nmer_energies(\n",
    "        random_configs_CH3NH2_H2O_H2O,\n",
    "        calculator,\n",
    "        paths.restart.energies_random_configs_CH3NH2_H2O_H2O,\n",
    "        num_threads=4,\n",
    "        mem_mb=8000,\n",
    "        error_on_any_failure=False,\n",
    "        retrieve_only=False,\n",
    "        job_manager=get_psi4_job_manager(paths.sub_directory(\"jobs\"))\n",
    ")\n",
    "write_systems_and_nmer_energies(paths.PIP_CH3NH2_H2O_H2O.configs.random_energies, (random_configs_CH3NH2_H2O_H2O, energies_random_CH3NH2_H2O_H2O))"
   ]
  },
  {
   "cell_type": "code",
   "execution_count": 47,
   "metadata": {},
   "outputs": [
    {
     "name": "stdout",
     "output_type": "stream",
     "text": [
      "Checking for missing energies |====================================================================================================| - 1350/1350\n",
      "Found 19 systems with one or more missing n-mer energies. Remaining configurations: 1331\n"
     ]
    }
   ],
   "source": [
    "configurations_vibrational_modes_CH3NH2_H2O_H2O, energies_vibrational_modes_CH3NH2_H2O_H2O = discard_failed_configurations(\n",
    "        configurations_vibrational_modes_CH3NH2_H2O_H2O,\n",
    "        energies_vibrational_modes_CH3NH2_H2O_H2O\n",
    ")\n",
    "\n",
    "pbmetad_configs_CH3NH2_H2O_H2O, energies_pbmetad_CH3NH2_H2O_H2O = discard_failed_configurations(\n",
    "        pbmetad_configs_CH3NH2_H2O_H2O,\n",
    "        energies_pbmetad_CH3NH2_H2O_H2O\n",
    ")\n",
    "\n",
    "random_configs_CH3NH2_H2O_H2O, energies_random_CH3NH2_H2O_H2O = discard_failed_configurations(\n",
    "        random_configs_CH3NH2_H2O_H2O,\n",
    "        energies_random_CH3NH2_H2O_H2O\n",
    ")"
   ]
  },
  {
   "cell_type": "code",
   "execution_count": 48,
   "metadata": {},
   "outputs": [],
   "source": [
    "energies_3b_vibrational_modes_CH3NH2_H2O_H2O = calculate_many_body_energies(\n",
    "    configurations_vibrational_modes_CH3NH2_H2O_H2O,\n",
    "    energies_vibrational_modes_CH3NH2_H2O_H2O,\n",
    "    minimized_monomer_energies=[minimized_energy_CH3NH2, minimized_energy_H2O, minimized_energy_H2O]\n",
    ")\n",
    "\n",
    "energies_3b_pbmetad_CH3NH2_H2O_H2O = calculate_many_body_energies(\n",
    "    pbmetad_configs_CH3NH2_H2O_H2O,\n",
    "    energies_pbmetad_CH3NH2_H2O_H2O,\n",
    "    minimized_monomer_energies=[minimized_energy_CH3NH2, minimized_energy_H2O, minimized_energy_H2O]\n",
    ")\n",
    "\n",
    "energies_3b_random_CH3NH2_H2O_H2O = calculate_many_body_energies(\n",
    "    random_configs_CH3NH2_H2O_H2O,\n",
    "    energies_random_CH3NH2_H2O_H2O,\n",
    "    minimized_monomer_energies=[minimized_energy_CH3NH2, minimized_energy_H2O, minimized_energy_H2O]\n",
    ")"
   ]
  },
  {
   "cell_type": "code",
   "execution_count": 50,
   "metadata": {},
   "outputs": [],
   "source": [
    "energies_binding_vibrational_modes_CH3NH2_H2O_H2O = calculate_binding_energies(\n",
    "    configurations_vibrational_modes_CH3NH2_H2O_H2O,\n",
    "    energies_vibrational_modes_CH3NH2_H2O_H2O,\n",
    "    minimized_monomer_energies=[minimized_energy_CH3NH2, minimized_energy_H2O, minimized_energy_H2O]\n",
    ")\n",
    "\n",
    "energies_binding_pbmetad_CH3NH2_H2O_H2O = calculate_binding_energies(\n",
    "    pbmetad_configs_CH3NH2_H2O_H2O,\n",
    "    energies_pbmetad_CH3NH2_H2O_H2O,\n",
    "    minimized_monomer_energies=[minimized_energy_CH3NH2, minimized_energy_H2O, minimized_energy_H2O]\n",
    ")\n",
    "\n",
    "energies_binding_random_CH3NH2_H2O_H2O = calculate_binding_energies(\n",
    "    random_configs_CH3NH2_H2O_H2O,\n",
    "    energies_random_CH3NH2_H2O_H2O,\n",
    "    minimized_monomer_energies=[minimized_energy_CH3NH2, minimized_energy_H2O, minimized_energy_H2O]\n",
    ")"
   ]
  },
  {
   "cell_type": "code",
   "execution_count": 42,
   "metadata": {},
   "outputs": [],
   "source": [
    "write_training_set_file(\n",
    "        paths.PIP_CH3NH2_H2O_H2O.training_set,\n",
    "        (\n",
    "                [*configurations_vibrational_modes_CH3NH2_H2O_H2O, *pbmetad_configs_CH3NH2_H2O_H2O, *random_configs_CH3NH2_H2O_H2O],\n",
    "                [*energies_binding_vibrational_modes_CH3NH2_H2O_H2O, *energies_binding_pbmetad_CH3NH2_H2O_H2O, *energies_binding_random_CH3NH2_H2O_H2O],\n",
    "                [*energies_3b_vibrational_modes_CH3NH2_H2O_H2O, *energies_3b_pbmetad_CH3NH2_H2O_H2O, *energies_3b_random_CH3NH2_H2O_H2O],\n",
    "        )\n",
    ")"
   ]
  },
  {
   "cell_type": "markdown",
   "metadata": {},
   "source": [
    "## II.1.? Polynomial Generation"
   ]
  },
  {
   "cell_type": "code",
   "execution_count": 106,
   "metadata": {},
   "outputs": [],
   "source": [
    "pip_3b_max_order = 2"
   ]
  },
  {
   "cell_type": "code",
   "execution_count": null,
   "metadata": {},
   "outputs": [],
   "source": [
    "generate_polynomial(\n",
    "        definition_CH3NH2_H2O_H2O,\n",
    "        max_degree=pip_3b_max_order,\n",
    "        polynomial_info_path=paths.PIP_CH3NH2_H2O_H2O.PIP.info,\n",
    "        polynomial_dir=paths.PIP_CH3NH2_H2O_H2O.PIP.polynomial,\n",
    "        filters=[\n",
    "                \"add_filter['sum-degree', 'x-inter-*+*-*', '0']\",\n",
    "                # \"add_filter['sum-degree', 'x-intra-*+*-*', '2+']\",\n",
    "        ]\n",
    ")"
   ]
  },
  {
   "cell_type": "markdown",
   "metadata": {},
   "source": [
    "## II.1.? Polynomial Parametrization"
   ]
  },
  {
   "cell_type": "code",
   "execution_count": 108,
   "metadata": {},
   "outputs": [],
   "source": [
    "polarizabilities = read_parameters(paths.Vphys.polarizabilities)\n",
    "polarizability_factors = read_parameters(paths.Vphys.polarizability_factors)\n",
    "charges = read_parameters(paths.Vphys.charges)\n",
    "C6 = read_parameters(paths.Vphys.C6)\n",
    "d6 = read_parameters(paths.Vphys.d6)"
   ]
  },
  {
   "cell_type": "code",
   "execution_count": null,
   "metadata": {},
   "outputs": [],
   "source": [
    "print(\"polarizabilities:\", polarizabilities)\n",
    "print(\"polarizability_factors:\", polarizability_factors)\n",
    "print(\"charges:\", charges)\n",
    "print(\"C6:\", C6)\n",
    "print(\"d6:\", d6)"
   ]
  },
  {
   "cell_type": "code",
   "execution_count": 110,
   "metadata": {
    "tags": []
   },
   "outputs": [
    {
     "name": "stdout",
     "output_type": "stream",
     "text": [
      "File Tutorial_2_workdir/scratch/PIP_CH3NH2_H2O/config.ini already exists, moving existing Tutorial_2_workdir/scratch/PIP_CH3NH2_H2O/config.ini to Tutorial_2_workdir/scratch/PIP_CH3NH2_H2O/config.ini.backup-6 to make way for new file.\n",
      "Completed generating config file Tutorial_2_workdir/scratch/PIP_CH3NH2_H2O/config.ini.\n",
      "File Tutorial_2_workdir/scratch/PIP_CH3NH2_H2O/config.ini already exists, moving existing Tutorial_2_workdir/scratch/PIP_CH3NH2_H2O/config.ini to Tutorial_2_workdir/scratch/PIP_CH3NH2_H2O/config.ini.backup-7 to make way for new file.\n",
      "Executing python generator script\n",
      "Generating fitcode for molecule with symmetry A1B3C1D2_E1F2...\n",
      "Using mbpol for 1 fragments.\n",
      "0 fragments have lone pairs.\n",
      "Using exp variables for intramolecular interactions.\n",
      "Using exp variables for intermolecular interactions.\n",
      "Using coul variables for lone pair interactions.\n",
      "160 terms in the polynomial.\n",
      "Atoms in the molecule: A1 B1 B2 B3 C1 D1 D2 E1 F1 F2.\n",
      "45 variables in the polynomial.\n",
      "18 non-linear parameters in the polynomial.\n",
      "Compiling Parametrizer...\n",
      "Compiled!\n"
     ]
    }
   ],
   "source": [
    "generate_pip_parametizer(\n",
    "        definition_CH3NH2_H2O_H2O,\n",
    "        max_degree=pip_3b_max_order,\n",
    "        polynomial_info_path=paths.PIP_CH3NH2_H2O_H2O.PIP.info,\n",
    "        polynomial_dir=paths.PIP_CH3NH2_H2O_H2O.PIP.polynomial,\n",
    "        parametizer_dir=paths.PIP_CH3NH2_H2O_H2O.PIP.parameterizer,\n",
    "        workdir=paths.scratch.PIP_CH3NH2_H2O_H2O,\n",
    "        symmetry_to_charge=charges,\n",
    "        symmetry_to_polarizability=polarizabilities,\n",
    "        symmetry_to_polarizability_factor=polarizability_factors,\n",
    "        symmetries_to_C6=C6,\n",
    "        symmetries_to_d6=d6,\n",
    "        monomer_names=[\"ch3nh2\", \"h2o\", \"h2o\"],\n",
    "        is_mbpol=[False, True, True]\n",
    ")"
   ]
  },
  {
   "cell_type": "code",
   "execution_count": 111,
   "metadata": {},
   "outputs": [
    {
     "name": "stdout",
     "output_type": "stream",
     "text": [
      "Succesfully created fit folder fit1.\n",
      "Succesfully created fit folder fit2.\n",
      "Succesfully created fit folder fit3.\n",
      "Succesfully created fit folder fit4.\n",
      "Succesfully created fit folder fit5.\n",
      "fit3 is running.\n",
      "\n",
      "fit3 is completed.\n",
      "fit4 is running.\n",
      "\n",
      "fit4 is completed.\n",
      "fit1 is running.\n",
      "\n",
      "fit1 is completed.\n",
      "fit5 is running.\n",
      "\n",
      "fit5 is completed.\n",
      "fit2 is running.\n",
      "\n",
      "fit2 is completed.\n",
      "Looks like the fit in fit3 didn't converge...\n",
      "Maybe you want to rerun fit3 again.\n",
      "Looks like the fit in fit4 didn't converge...\n",
      "Maybe you want to rerun fit4 again.\n",
      "Looks like the fit in fit1 didn't converge...\n",
      "Maybe you want to rerun fit1 again.\n",
      "Looks like the fit in fit5 didn't converge...\n",
      "Maybe you want to rerun fit5 again.\n",
      "Looks like the fit in fit2 didn't converge...\n",
      "Maybe you want to rerun fit2 again.\n",
      "Best fit is fit fit3.\n",
      "Fit with lowest RMSD did not converge, maybe run it again with more iterations?\n",
      "Still using that fit as the best one.\n",
      "No previous best fit, so just storing the current best fit.\n",
      "Best fit found has a weighted RMSD of 13.097 kcal/mol, a low energy RMSD of 1.91034 kcal/mol, and a maximum error in the low energy training set of 5.50003 kcal/mol\n"
     ]
    }
   ],
   "source": [
    "parametrize_pip(\n",
    "        definition_CH3NH2_H2O_H2O,\n",
    "        parametizer_dir=paths.PIP_CH3NH2_H2O_H2O.PIP.parameterizer,\n",
    "        parametrization_dir=paths.PIP_CH3NH2_H2O_H2O.PIP.parametrization,\n",
    "        training_set_path=paths.PIP_CH3NH2_H2O_H2O.training_set,\n",
    "        workdir=paths.scratch.fitting_CH3NH2_H2O_H2O,\n",
    "        monomer_names=[\"ch3nh2\", \"h2o\", \"h2o\"],\n",
    "        is_mbpol=[False, True, True],\n",
    "        num_fits_to_run=5,\n",
    "        num_threads=16,\n",
    "        DE=10,\n",
    "        alpha=0.0005\n",
    ")"
   ]
  }
 ],
 "metadata": {
  "kernelspec": {
   "display_name": "Python 3 (ipykernel)",
   "language": "python",
   "name": "python3"
  },
  "language_info": {
   "codemirror_mode": {
    "name": "ipython",
    "version": 3
   },
   "file_extension": ".py",
   "mimetype": "text/x-python",
   "name": "python",
   "nbconvert_exporter": "python",
   "pygments_lexer": "ipython3",
   "version": "3.10.10"
  }
 },
 "nbformat": 4,
 "nbformat_minor": 4
}
