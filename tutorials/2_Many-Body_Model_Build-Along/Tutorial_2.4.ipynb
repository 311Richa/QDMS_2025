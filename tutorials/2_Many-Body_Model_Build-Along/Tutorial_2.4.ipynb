{
 "cells": [
  {
   "cell_type": "markdown",
   "metadata": {},
   "source": [
    "# Tutorial 2.4: Three-Body Potential Energy Surface"
   ]
  },
  {
   "cell_type": "markdown",
   "metadata": {},
   "source": [
    "Next, we will parameterize the \"physical baseline\" ($V_{phys}$) of the PEF."
   ]
  },
  {
   "cell_type": "markdown",
   "metadata": {},
   "source": [
    "In this section, we construct, from scratch, a 1-body MB-nrg-style PEF for CH3-NH2."
   ]
  },
  {
   "cell_type": "markdown",
   "metadata": {
    "tags": []
   },
   "source": [
    "## 2.1.0 Definitions and Imports"
   ]
  },
  {
   "cell_type": "code",
   "execution_count": 1,
   "metadata": {},
   "outputs": [],
   "source": [
    "%run Tutorial_2_Imports.ipynb"
   ]
  },
  {
   "cell_type": "code",
   "execution_count": 2,
   "metadata": {},
   "outputs": [
    {
     "name": "stdout",
     "output_type": "stream",
     "text": [
      "The autoreload extension is already loaded. To reload it, use:\n",
      "  %reload_ext autoreload\n"
     ]
    }
   ],
   "source": [
    "%run Tutorial_2_Paths.ipynb"
   ]
  },
  {
   "cell_type": "markdown",
   "metadata": {},
   "source": [
    "Let's generate the second set of configurations for our training set, those from metadynamics configurations."
   ]
  },
  {
   "cell_type": "markdown",
   "metadata": {
    "tags": []
   },
   "source": [
    "## II.1.? Parallel-Bias Metadynamics Configuration Generation"
   ]
  },
  {
   "cell_type": "code",
   "execution_count": 3,
   "metadata": {},
   "outputs": [],
   "source": [
    "definition_CH3NH2 = read_definition(paths.definitions.systems.CH3NH2)\n",
    "minimized_structure_CH3NH2 = read_system(definition_CH3NH2, paths.structures.minimized_CH3NH2)\n",
    "\n",
    "definition_H2O = read_definition(paths.definitions.systems.H2O)\n",
    "minimized_structure_H2O = read_system(definition_H2O, paths.structures.minimized_H2O)\n",
    "\n",
    "definition_CH3NH2_H2O_H2O = read_definition(paths.definitions.systems.CH3NH2_H2O_H2O)\n",
    "\n",
    "trimer_struture = read_systems(definition_CH3NH2_H2O_H2O, paths.clusters.CH3NH2_H2O_H2O)[0]"
   ]
  },
  {
   "cell_type": "code",
   "execution_count": 4,
   "metadata": {},
   "outputs": [],
   "source": [
    "calculator = Psi4Calculator(\"HF\", \"STO-3G\", log_directory=f\"{paths.logs}\")"
   ]
  },
  {
   "cell_type": "code",
   "execution_count": 5,
   "metadata": {},
   "outputs": [
    {
     "name": "stdout",
     "output_type": "stream",
     "text": [
      "Calculating vibrational modes:  |====================================================================================================| - 1/1\n",
      "\u001b[92m\u001b[1mCompleted vibrational mode calculations!\u001b[0m\u001b[0m\n"
     ]
    }
   ],
   "source": [
    "vibrational_modes_CH3NH2_H2O_H2O = calculate_vibrational_modes(\n",
    "        trimer_struture,\n",
    "        calculator,\n",
    "        get_qchem_job_manager(paths.jobs),\n",
    "        paths.restart.vibrational_modes_CH3NH2_H2O_H2O,\n",
    "        16,\n",
    "        32000\n",
    ")\n",
    "write_vibrational_modes(paths.PIP_CH3NH2_H2O_H2O.vibrational_modes_CH3NH2_H2O_H2O, vibrational_modes_CH3NH2_H2O_H2O)"
   ]
  },
  {
   "cell_type": "code",
   "execution_count": 6,
   "metadata": {},
   "outputs": [],
   "source": [
    "bond_params, angle_params, nonbonded_params = get_pbmetad_parameters(\n",
    "        trimer_struture\n",
    ")"
   ]
  },
  {
   "cell_type": "code",
   "execution_count": 7,
   "metadata": {},
   "outputs": [
    {
     "data": {
      "text/plain": [
       "{('A', 'B'): (60, 1.090410024347401),\n",
       " ('A', 'C'): (100, 1.4843142427207179),\n",
       " ('C', 'D'): (60, 1.0355461195163942),\n",
       " ('E', 'F'): (60, 0.9895526574811143)}"
      ]
     },
     "execution_count": 7,
     "metadata": {},
     "output_type": "execute_result"
    }
   ],
   "source": [
    "bond_params"
   ]
  },
  {
   "cell_type": "code",
   "execution_count": 8,
   "metadata": {},
   "outputs": [
    {
     "data": {
      "text/plain": [
       "{('A', 'C', 'D'): (15, 108.21981201112177),\n",
       " ('B', 'A', 'B'): (15, 108.16415660139323),\n",
       " ('F', 'E', 'F'): (15, 101.40817132883848),\n",
       " ('B', 'A', 'C'): (15, 110.73761574767536),\n",
       " ('D', 'C', 'D'): (15, 105.76182010902501)}"
      ]
     },
     "execution_count": 8,
     "metadata": {},
     "output_type": "execute_result"
    }
   ],
   "source": [
    "angle_params"
   ]
  },
  {
   "cell_type": "code",
   "execution_count": 9,
   "metadata": {},
   "outputs": [
    {
     "data": {
      "text/plain": [
       "{'A': (0.03, 2.5),\n",
       " 'B': (0.01, 1.4),\n",
       " 'C': (0.03, 2.5),\n",
       " 'D': (0.01, 1.4),\n",
       " 'E': (0.03, 2.5),\n",
       " 'F': (0.01, 1.4)}"
      ]
     },
     "execution_count": 9,
     "metadata": {},
     "output_type": "execute_result"
    }
   ],
   "source": [
    "nonbonded_params"
   ]
  },
  {
   "cell_type": "code",
   "execution_count": 10,
   "metadata": {},
   "outputs": [],
   "source": [
    "charges = read_parameters(paths.Vphys.charges)\n",
    "charges = {symmetry: charges[symmetry]*1/3 for symmetry in charges}\n",
    "charges[\"E\"] = -0.6*1/3\n",
    "charges[\"F\"] = +0.3*1/3"
   ]
  },
  {
   "cell_type": "code",
   "execution_count": 12,
   "metadata": {},
   "outputs": [
    {
     "name": "stdout",
     "output_type": "stream",
     "text": [
      "Preparing PBMetaD Simulation...\n",
      "Running PBMetaD Simulation...\n",
      "Converting PBMetaD trajectory to XYZ...\n"
     ]
    }
   ],
   "source": [
    "perform_pbmetad_simulation(\n",
    "        lammps_executable_path,\n",
    "        [minimized_structure_CH3NH2, minimized_structure_H2O, minimized_structure_H2O],\n",
    "        num_configs=500000,\n",
    "        sample_interval=1,\n",
    "        temperature=700,\n",
    "        seed=12345,\n",
    "        configurations_path=paths.PIP_CH3NH2_H2O_H2O.configs.pbmetad_pool,\n",
    "        bond_params=bond_params,\n",
    "        angle_params=angle_params,\n",
    "        nonbonded_params=nonbonded_params,\n",
    "        charges=charges,\n",
    "        pbmetad_workdir=paths.scratch.pbmetad_CH3NH2_H2O_H2O,\n",
    "        restart_path=paths.restart.pbmetad_CH3NH2_H2O_H2O,\n",
    "        min_intermolecular_distance=1.5,\n",
    "        max_intermolecular_distance=6\n",
    ")"
   ]
  },
  {
   "cell_type": "code",
   "execution_count": null,
   "metadata": {},
   "outputs": [],
   "source": [
    "inner_cutoff_3b = 4.5\n",
    "outer_cutoff_3b = 5.5"
   ]
  },
  {
   "cell_type": "code",
   "execution_count": 28,
   "metadata": {},
   "outputs": [
    {
     "name": "stdout",
     "output_type": "stream",
     "text": [
      "Found 284056 within cutoff distance of 6.0\n"
     ]
    }
   ],
   "source": [
    "num_filtered_configs = filter_configs_by_cutoff(\n",
    "        definition_CH3NH2_H2O_H2O,\n",
    "        paths.PIP_CH3NH2_H2O_H2O.configs.pbmetad_pool,\n",
    "        threshold=outer_cutoff_3b,\n",
    "        filtered_path=paths.PIP_CH3NH2_H2O.PIP_CH3NH2_H2O_H2O.pbmetad_pool_filtered\n",
    ")"
   ]
  },
  {
   "cell_type": "code",
   "execution_count": 15,
   "metadata": {},
   "outputs": [],
   "source": [
    "split_pool(\n",
    "        definition_CH3NH2_H2O_H2O,\n",
    "        paths.PIP_CH3NH2_H2O.PIP_CH3NH2_H2O_H2O.pbmetad_pool_filtered,\n",
    "        pool_size=num_filtered_configs,\n",
    "        num_configs_to_split=200,\n",
    "        unsplit_path=paths.PIP_CH3NH2_H2O_H2O.configs.pbmetad_train_pool,\n",
    "        split_path=paths.PIP_CH3NH2_H2O_H2O.configs.pbmetad_test,\n",
    "        strategy=\"INTERVAL\",\n",
    ")"
   ]
  },
  {
   "cell_type": "code",
   "execution_count": 12,
   "metadata": {},
   "outputs": [
    {
     "ename": "TypeError",
     "evalue": "perform_fps() got an unexpected keyword argument 'num_phase1_input_configWs'",
     "output_type": "error",
     "traceback": [
      "\u001b[0;31m---------------------------------------------------------------------------\u001b[0m",
      "\u001b[0;31mTypeError\u001b[0m                                 Traceback (most recent call last)",
      "Cell \u001b[0;32mIn[12], line 1\u001b[0m\n\u001b[0;32m----> 1\u001b[0m pbmetad_configs_CH3NH2_H2O_H2O \u001b[38;5;241m=\u001b[39m \u001b[43mperform_fps\u001b[49m\u001b[43m(\u001b[49m\n\u001b[1;32m      2\u001b[0m \u001b[43m        \u001b[49m\u001b[43mdefinition_CH3NH2_H2O_H2O\u001b[49m\u001b[43m,\u001b[49m\n\u001b[1;32m      3\u001b[0m \u001b[43m        \u001b[49m\u001b[43mtrimer_struture\u001b[49m\u001b[43m,\u001b[49m\n\u001b[1;32m      4\u001b[0m \u001b[43m        \u001b[49m\u001b[43mvibrational_modes_CH3NH2_H2O_H2O\u001b[49m\u001b[43m,\u001b[49m\n\u001b[1;32m      5\u001b[0m \u001b[43m        \u001b[49m\u001b[43mpaths\u001b[49m\u001b[38;5;241;43m.\u001b[39;49m\u001b[43mPIP_CH3NH2_H2O_H2O\u001b[49m\u001b[38;5;241;43m.\u001b[39;49m\u001b[43mconfigs\u001b[49m\u001b[38;5;241;43m.\u001b[39;49m\u001b[43mpbmetad_train_pool\u001b[49m\u001b[43m,\u001b[49m\n\u001b[1;32m      6\u001b[0m \u001b[43m        \u001b[49m\u001b[43mnum_pool_configs\u001b[49m\u001b[38;5;241;43m=\u001b[39;49m\u001b[38;5;241;43m500000\u001b[39;49m\u001b[38;5;241;43m-\u001b[39;49m\u001b[38;5;241;43m200\u001b[39;49m\u001b[43m,\u001b[49m\n\u001b[1;32m      7\u001b[0m \u001b[43m        \u001b[49m\u001b[43mnum_phase1_input_configWs\u001b[49m\u001b[38;5;241;43m=\u001b[39;49m\u001b[38;5;241;43m100000\u001b[39;49m\u001b[43m,\u001b[49m\n\u001b[1;32m      8\u001b[0m \u001b[43m        \u001b[49m\u001b[43mapprox_configs_to_select\u001b[49m\u001b[38;5;241;43m=\u001b[39;49m\u001b[38;5;241;43m1000\u001b[39;49m\u001b[43m,\u001b[49m\n\u001b[1;32m      9\u001b[0m \u001b[43m        \u001b[49m\u001b[43mfps_workdir\u001b[49m\u001b[38;5;241;43m=\u001b[39;49m\u001b[43mpaths\u001b[49m\u001b[38;5;241;43m.\u001b[39;49m\u001b[43mscratch\u001b[49m\u001b[38;5;241;43m.\u001b[39;49m\u001b[43mfps_CH3NH2_H2O_H2O\u001b[49m\u001b[43m,\u001b[49m\n\u001b[1;32m     10\u001b[0m \u001b[43m        \u001b[49m\u001b[43mrestart_path\u001b[49m\u001b[38;5;241;43m=\u001b[39;49m\u001b[43mpaths\u001b[49m\u001b[38;5;241;43m.\u001b[39;49m\u001b[43mrestart\u001b[49m\u001b[38;5;241;43m.\u001b[39;49m\u001b[43mfps_CH3NH2_H2O_H2O\u001b[49m\u001b[43m,\u001b[49m\n\u001b[1;32m     11\u001b[0m \u001b[43m        \u001b[49m\u001b[43mnum_threads\u001b[49m\u001b[38;5;241;43m=\u001b[39;49m\u001b[38;5;241;43m16\u001b[39;49m\n\u001b[1;32m     12\u001b[0m \u001b[43m)\u001b[49m\n",
      "\u001b[0;31mTypeError\u001b[0m: perform_fps() got an unexpected keyword argument 'num_phase1_input_configWs'"
     ]
    }
   ],
   "source": [
    "pbmetad_configs_CH3NH2_H2O_H2O = perform_fps(\n",
    "        definition_CH3NH2_H2O_H2O,\n",
    "        trimer_struture,\n",
    "        vibrational_modes_CH3NH2_H2O_H2O,\n",
    "        paths.PIP_CH3NH2_H2O_H2O.configs.pbmetad_train_pool,\n",
    "        num_pool_configs=num_filtered_configs-200,\n",
    "        num_phase1_input_configs=100000,\n",
    "        approx_configs_to_select=1000,\n",
    "        fps_workdir=paths.scratch.fps_CH3NH2_H2O_H2O,\n",
    "        restart_path=paths.restart.fps_CH3NH2_H2O_H2O,\n",
    "        num_threads=16\n",
    ")"
   ]
  },
  {
   "cell_type": "code",
   "execution_count": 15,
   "metadata": {},
   "outputs": [
    {
     "data": {
      "image/png": "[encoded data removed]",
      "text/plain": [
       "<Figure size 640x480 with 1 Axes>"
      ]
     },
     "execution_count": 15,
     "metadata": {},
     "output_type": "execute_result"
    }
   ],
   "source": [
    "render_overlayed_systems(\n",
    "    [read_system(definition_CH3NH2_H2O_H2O, paths.PIP_CH3NH2_H2O_H2O.configs.pbmetad_train_pool)],\n",
    "    centerer=lambda system: system.atoms[0].point,\n",
    "    aligner=lambda system: (system.atoms[4].point, system.atoms[3].point),\n",
    "    alpha=0.03,\n",
    "    num_to_show=1\n",
    ")"
   ]
  },
  {
   "cell_type": "code",
   "execution_count": null,
   "metadata": {},
   "outputs": [],
   "source": [
    "write_systems(paths.PIP_CH3NH2_H2O_H2O.configs.pbmetad_train, pbmetad_configs_CH3NH2_H2O_H2O)"
   ]
  }
 ],
 "metadata": {
  "kernelspec": {
   "display_name": "Python 3 (ipykernel)",
   "language": "python",
   "name": "python3"
  },
  "language_info": {
   "codemirror_mode": {
    "name": "ipython",
    "version": 3
   },
   "file_extension": ".py",
   "mimetype": "text/x-python",
   "name": "python",
   "nbconvert_exporter": "python",
   "pygments_lexer": "ipython3",
   "version": "3.10.10"
  }
 },
 "nbformat": 4,
 "nbformat_minor": 4
}
