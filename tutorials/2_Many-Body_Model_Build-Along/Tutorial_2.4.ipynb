{
 "cells": [
  {
   "cell_type": "markdown",
   "metadata": {},
   "source": [
    "# Tutorial 2.4: Three-Body Potential Energy Surface"
   ]
  },
  {
   "cell_type": "markdown",
   "metadata": {},
   "source": [
    "Next, we will parameterize the \"physical baseline\" ($V_{phys}$) of the PEF."
   ]
  },
  {
   "cell_type": "markdown",
   "metadata": {},
   "source": [
    "In this section, we construct, from scratch, a 1-body MB-nrg-style PEF for CH3-NH2."
   ]
  },
  {
   "cell_type": "markdown",
   "metadata": {
    "tags": []
   },
   "source": [
    "## 2.1.0 Definitions and Imports"
   ]
  },
  {
   "cell_type": "code",
   "execution_count": 1,
   "metadata": {},
   "outputs": [],
   "source": [
    "%run Tutorial_2_Imports.ipynb"
   ]
  },
  {
   "cell_type": "code",
   "execution_count": 10,
   "metadata": {},
   "outputs": [
    {
     "name": "stdout",
     "output_type": "stream",
     "text": [
      "The autoreload extension is already loaded. To reload it, use:\n",
      "  %reload_ext autoreload\n"
     ]
    }
   ],
   "source": [
    "%run Tutorial_2_Paths.ipynb"
   ]
  },
  {
   "cell_type": "markdown",
   "metadata": {},
   "source": [
    "Let's generate the second set of configurations for our training set, those from metadynamics configurations."
   ]
  },
  {
   "cell_type": "markdown",
   "metadata": {
    "tags": []
   },
   "source": [
    "## II.1.? Parallel-Bias Metadynamics Configuration Generation"
   ]
  },
  {
   "cell_type": "code",
   "execution_count": 4,
   "metadata": {},
   "outputs": [],
   "source": [
    "definition_CH3NH2 = read_definition(paths.definitions.systems.CH3NH2)\n",
    "minimized_structure_CH3NH2 = read_system(definition_CH3NH2, paths.structures.minimized_CH3NH2)\n",
    "\n",
    "definition_H2O = read_definition(paths.definitions.systems.H2O)\n",
    "minimized_structure_H2O = read_system(definition_H2O, paths.structures.minimized_H2O)\n",
    "\n",
    "definition_CH3NH2_H2O_H2O = read_definition(paths.definitions.systems.CH3NH2_H2O_H2O)\n",
    "\n",
    "trimer_struture = read_systems(definition_CH3NH2_H2O_H2O, paths.clusters.CH3NH2_H2O_H2O)[0]"
   ]
  },
  {
   "cell_type": "code",
   "execution_count": 5,
   "metadata": {},
   "outputs": [],
   "source": [
    "bond_params, angle_params, nonbonded_params = get_pbmetad_parameters(\n",
    "        trimer_struture\n",
    ")"
   ]
  },
  {
   "cell_type": "code",
   "execution_count": 6,
   "metadata": {},
   "outputs": [
    {
     "data": {
      "text/plain": [
       "{('A', 'B'): (30, 1.090410024347401),\n",
       " ('A', 'C'): (50, 1.4843142427207179),\n",
       " ('C', 'D'): (30, 1.0355461195163942),\n",
       " ('E', 'F'): (30, 0.9895526574811143)}"
      ]
     },
     "execution_count": 6,
     "metadata": {},
     "output_type": "execute_result"
    }
   ],
   "source": [
    "bond_params"
   ]
  },
  {
   "cell_type": "code",
   "execution_count": 7,
   "metadata": {},
   "outputs": [
    {
     "data": {
      "text/plain": [
       "{('B', 'A', 'C'): (10, 110.73761574767536),\n",
       " ('D', 'C', 'D'): (10, 105.76182010902501),\n",
       " ('B', 'A', 'B'): (10, 108.16415660139323),\n",
       " ('A', 'C', 'D'): (10, 108.21981201112177),\n",
       " ('F', 'E', 'F'): (10, 101.40817132883848)}"
      ]
     },
     "execution_count": 7,
     "metadata": {},
     "output_type": "execute_result"
    }
   ],
   "source": [
    "angle_params"
   ]
  },
  {
   "cell_type": "code",
   "execution_count": 8,
   "metadata": {},
   "outputs": [
    {
     "data": {
      "text/plain": [
       "{'A': (0.03, 2.4),\n",
       " 'B': (0.01, 1.2),\n",
       " 'C': (0.03, 2.4),\n",
       " 'D': (0.01, 1.2),\n",
       " 'E': (0.03, 2.4),\n",
       " 'F': (0.01, 1.2)}"
      ]
     },
     "execution_count": 8,
     "metadata": {},
     "output_type": "execute_result"
    }
   ],
   "source": [
    "nonbonded_params"
   ]
  },
  {
   "cell_type": "code",
   "execution_count": 9,
   "metadata": {},
   "outputs": [],
   "source": [
    "charges = read_parameters(paths.Vphys.charges)\n",
    "charges = {symmetry: charges[symmetry]*1/3 for symmetry in charges}\n",
    "charges[\"E\"] = -0.6*1/3\n",
    "charges[\"F\"] = +0.3*1/3"
   ]
  },
  {
   "cell_type": "code",
   "execution_count": null,
   "metadata": {},
   "outputs": [],
   "source": [
    "perform_pbmetad_simulation(\n",
    "        lammps_executable_path,\n",
    "        [minimized_structure_CH3NH2, minimized_structure_H2O, minimized_structure_H2O],\n",
    "        num_configs=500000,\n",
    "        sample_interval=10,\n",
    "        temperature=700,\n",
    "        seed=12345,\n",
    "        configurations_path=paths.PIP_CH3NH2_H2O_H2O.configs.pbmetad_pool,\n",
    "        bond_params=bond_params,\n",
    "        angle_params=angle_params,\n",
    "        nonbonded_params=nonbonded_params,\n",
    "        charges=charges,\n",
    "        pbmetad_workdir=paths.scratch.pbmetad_CH3NH2_H2O_H2O,\n",
    "        restart_path=paths.restart.pbmetad_CH3NH2_H2O_H2O\n",
    ")"
   ]
  },
  {
   "cell_type": "code",
   "execution_count": null,
   "metadata": {},
   "outputs": [],
   "source": []
  }
 ],
 "metadata": {
  "kernelspec": {
   "display_name": "Python 3 (ipykernel)",
   "language": "python",
   "name": "python3"
  },
  "language_info": {
   "codemirror_mode": {
    "name": "ipython",
    "version": 3
   },
   "file_extension": ".py",
   "mimetype": "text/x-python",
   "name": "python",
   "nbconvert_exporter": "python",
   "pygments_lexer": "ipython3",
   "version": "3.10.10"
  }
 },
 "nbformat": 4,
 "nbformat_minor": 4
}
