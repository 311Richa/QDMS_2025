{
 "cells": [
  {
   "cell_type": "markdown",
   "id": "ff59a5ee-f989-4ad0-93af-571c59626ff1",
   "metadata": {},
   "source": [
    "# Tutorial 2.0: Imports, Paths, & Utils"
   ]
  },
  {
   "cell_type": "markdown",
   "id": "e312a257-3ad7-41b5-9542-47b3feb05b18",
   "metadata": {},
   "source": [
    "This notebook contains all the Python imports required for Tutorial 2."
   ]
  },
  {
   "cell_type": "markdown",
   "id": "80495624-53d9-4bda-a85d-b673b59b09c9",
   "metadata": {},
   "source": [
    "## 2.0.1 Python Imports"
   ]
  },
  {
   "cell_type": "code",
   "execution_count": 10,
   "id": "f39148db-d262-4fe5-bf3c-18e234a2d9a4",
   "metadata": {},
   "outputs": [],
   "source": [
    "%load_ext autoreload\n",
    "%autoreload 2\n",
    "%matplotlib agg"
   ]
  },
  {
   "cell_type": "markdown",
   "id": "d4011f53-d4a8-4e7b-a618-52dba9f5cebb",
   "metadata": {},
   "source": [
    "Please import:"
   ]
  },
  {
   "cell_type": "code",
   "execution_count": 1,
   "id": "fd7c8f56-42f7-42ee-b8c3-ba5699a24467",
   "metadata": {},
   "outputs": [],
   "source": [
    "import numpy\n",
    "from IPython.display import HTML\n",
    "from matplotlib import pyplot as plt\n",
    "import itertools\n",
    "\n",
    "from mbfit.utils.filesystem import Directory\n",
    "from mbfit.utils.job_manager import SLURMJobManager, JobManager, LocalJobManager\n",
    "from mbfit.calculator import QchemCalculator, OrcaCalculator\n",
    "\n",
    "from mbfit.system.system_like import BondType\n",
    "from mbfit.system.definition import BasicFragmentDefinition, BasicCompoundDefinition, AtomDefinition, BondDefinition\n",
    "from mbfit.system.initializer import VSEPRInitializer\n",
    "from mbfit.system.descriptor import fragment_definition_to_xyz, compound_definition_to_xyz, compound_to_xyz, compound_to_commented_xyz\n",
    "from mbfit.system.parser import xyz_to_compound_definition, xyz_to_compound_definition, xyz_to_compound_by_definition\n",
    "from mbfit.system import BasicCompound\n",
    "from mbfit.system.transformer import SystemTransformer\n",
    "from mbfit.system.copier import CompoundCopier\n",
    "from mbfit.system.transformer import make_scan\n",
    "from mbfit.system.region import BasicMutableRegionManager\n",
    "from mbfit.visualization import render_system, render_systems, render_overlayed_systems\n",
    "from mbfit.visualization import plot_scan\n",
    "from mbfit.utils import constants\n",
    "\n",
    "from mbfit.system.descriptor.energy_decomposition_comment_line_descriptor import EnergyDecompositionCommentLineDescriptor\n",
    "\n",
    "from mbfit.calculator import calculate_energy, calculate_energies, minimize_structures, minimize_structure, calculate_vibrational_modes, write_vibrational_modes, read_vibrational_modes\n",
    "from mbfit.system.io import write_fragment_definition, write_definition, write_system, write_systems, read_fragment_definition, read_definition, read_system, read_systems, write_system_and_energy, write_systems_and_energies, read_system_and_energy, read_systems_and_energies\n",
    "\n",
    "from mbfit.parametrization import calculate_polarizabilities_by_XDM, calculate_radii_by_XDM, calculate_C6_by_XDM, calculate_d6_from_radii, get_ESP_grid_points, calculate_ESP_at_grid_points, fit_charges_to_ESP\n",
    "\n",
    "from mbfit.configurations import NormalModesConfigurationGenerator\n",
    "\n",
    "from mbfit.potential import calculate_Vphys_energies"
   ]
  },
  {
   "cell_type": "markdown",
   "id": "98b4d49a-a391-4b64-96a4-43d32721f991",
   "metadata": {},
   "source": [
    "## 2.0.2 Util Functions"
   ]
  },
  {
   "cell_type": "code",
   "execution_count": 74,
   "id": "d3de1d1d-705f-4404-8716-0ac60ce0a932",
   "metadata": {},
   "outputs": [],
   "source": [
    "qchem_job_template=\"\"\"\n",
    "module load cpu/0.15.4  gcc/10.2.0  mvapich2/2.3.6 qchem/5.4\n",
    "conda activate p310\n",
    "cd ~/software/development/MB-Fit_versions/QDMS_2025\n",
    "export MBFIT_HOME=$PWD\n",
    "source sourceme.sh\n",
    "cd -\n",
    "\n",
    "export QCSCRATCH=/expanse/lustre/scratch/$USER/temp_project/qscratch\n",
    "export QCLOCALSCR=/scratch/$USER/job_$SLURM_JOB_ID\n",
    "\n",
    "\"\"\"\n",
    "\n",
    "def get_qchem_job_manager(job_scratch_directory: Directory) -> JobManager:\n",
    "    job_scratch_directory.create()\n",
    "    return LocalJobManager()\n",
    "    return SLURMJobManager(\n",
    "            input_path=f\"{job_scratch_directory}/job.in\",\n",
    "            output_path=f\"{job_scratch_directory}/job.out\",\n",
    "            log_path=f\"{job_scratch_directory}/job.log\",\n",
    "            job_path=f\"{job_scratch_directory}/job.job\",\n",
    "            job_output_path=f\"{job_scratch_directory}/job.stdout\",\n",
    "            job_error_path=f\"{job_scratch_directory}/job.stderr\",\n",
    "            max_queue_size=10,\n",
    "            job_name=\"slurm_job_manager\",\n",
    "            allocation=\"csd888\",\n",
    "            reservation=None,\n",
    "            partition=\"shared\",\n",
    "            qos=None,\n",
    "            max_walltime_minutes=60,\n",
    "            nodes=1,\n",
    "            tasks=1,\n",
    "            processors_per_task=32,\n",
    "            template=qchem_job_template\n",
    "    )"
   ]
  },
  {
   "cell_type": "code",
   "execution_count": 75,
   "id": "da9fd5e7-d86c-4453-bf12-675ac7b87077",
   "metadata": {},
   "outputs": [],
   "source": [
    "orca_job_template=\"\"\"\n",
    "module load cpu/0.17.3b  gcc/10.2.0/npcyll4  openmpi/4.1.1/ygduf2r\n",
    "module load orca/5.0.4\n",
    "export ORCA_SCRATCH=/scratch/$USER/job_$SLURM_JOB_ID\n",
    "conda activate p310\n",
    "cd ~/software/development/MB-Fit_versions/QDMS_2025\n",
    "export MBFIT_HOME=$PWD\n",
    "source sourceme.sh\n",
    "cd -\n",
    "\"\"\"\n",
    "\n",
    "def get_orca_job_manager(job_scratch_directory: Directory) -> JobManager:\n",
    "    job_scratch_directory.create()\n",
    "    return LocalJobManager()\n",
    "    return SLURMJobManager(\n",
    "            input_path=f\"{job_scratch_directory}/job.in\",\n",
    "            output_path=f\"{job_scratch_directory}/job.out\",\n",
    "            log_path=f\"{job_scratch_directory}/job.log\",\n",
    "            job_path=f\"{job_scratch_directory}/job.job\",\n",
    "            job_output_path=f\"{job_scratch_directory}/job.stdout\",\n",
    "            job_error_path=f\"{job_scratch_directory}/job.stderr\",\n",
    "            max_queue_size=10,\n",
    "            job_name=\"slurm_job_manager\",\n",
    "            allocation=\"csd888\",\n",
    "            reservation=None,\n",
    "            partition=\"shared\",\n",
    "            qos=None,\n",
    "            max_walltime_minutes=60,\n",
    "            nodes=1,\n",
    "            tasks=32,\n",
    "            processors_per_task=1,\n",
    "            template=orca_job_template\n",
    "    )"
   ]
  },
  {
   "cell_type": "markdown",
   "id": "8c52b726-0c1d-44f7-b227-f7b96a2941d2",
   "metadata": {
    "tags": []
   },
   "source": [
    "## 2.0.3 File Paths"
   ]
  },
  {
   "cell_type": "markdown",
   "id": "b537c28f-ab15-42d7-b2c5-4ca605c495fb",
   "metadata": {},
   "source": [
    "In this section, we we will setup the directory structure and file paths we will use in this notebook. Throughout this notebook, the following files will be created:"
   ]
  },
  {
   "cell_type": "code",
   "execution_count": 62,
   "id": "447f9349-2a47-4652-ad5f-b2a101c36c92",
   "metadata": {},
   "outputs": [],
   "source": [
    "tutorial_2_workdir = Directory(\"Tutorial_2_workdir\")\n",
    "tutorial_2_workdir.create()"
   ]
  },
  {
   "cell_type": "code",
   "execution_count": 63,
   "id": "b6a62a56-b44d-43d7-bcef-03843e1a3f0f",
   "metadata": {},
   "outputs": [],
   "source": [
    "definitions_dir = tutorial_2_workdir.sub_directory(\"definitions\")\n",
    "definitions_dir.create()"
   ]
  },
  {
   "cell_type": "code",
   "execution_count": 64,
   "id": "f7503f2b-b683-4d55-afad-6bcf07c0356e",
   "metadata": {},
   "outputs": [],
   "source": [
    "fragment_CH3NH2_definition_path = definitions_dir.file(\"fragment_CH3NH2.def\")\n",
    "fragment_H2O_definition_path = definitions_dir.file(\"fragment_H2O.def\")"
   ]
  },
  {
   "cell_type": "code",
   "execution_count": 65,
   "id": "552805f8-ab22-4010-9c00-a8ce889925cc",
   "metadata": {},
   "outputs": [],
   "source": [
    "monomer_CH3NH2_definition_path = definitions_dir.file(\"monomer_CH3NH2.def\")\n",
    "monomer_H2O_definition_path = definitions_dir.file(\"monomer_H2O.def\")\n",
    "dimer_CH3NH2_H2O_definition_path = definitions_dir.file(\"dimer_CH3NH2_H2O.def\")\n",
    "trimer_CH3NH2_H2O_H2O_definition_path = definitions_dir.file(\"trimer_CH3NH2_H2O_H2O.def\")"
   ]
  },
  {
   "cell_type": "code",
   "execution_count": 66,
   "id": "994b8570-0326-44c9-8ece-7c88811bfab4",
   "metadata": {},
   "outputs": [],
   "source": [
    "structures_dir = tutorial_2_workdir.sub_directory(\"structures\")\n",
    "structures_dir.create()"
   ]
  },
  {
   "cell_type": "code",
   "execution_count": 67,
   "id": "4a66608e-f4c4-4eb9-8910-38e08db2c8bb",
   "metadata": {},
   "outputs": [],
   "source": [
    "monomer_CH3NH2_initial_structure_path = structures_dir.file(\"monomer_CH3NH2_initial_structure.xyz\")\n",
    "monomer_H2O_initial_structure_path = structures_dir.file(\"monomer_H2O_initial_structure.xyz\")\n",
    "\n",
    "monomer_CH3NH2_minimum_structure_path = structures_dir.file(\"monomer_CH3NH2_minimum_structure.xyz\")\n",
    "monomer_H2O_minimum_structure_path = structures_dir.file(\"monomer_H2O_minimum_structure.xyz\")"
   ]
  },
  {
   "cell_type": "code",
   "execution_count": 68,
   "id": "7f9c5aa9-faa7-4360-b3f7-925af0b6a881",
   "metadata": {},
   "outputs": [],
   "source": [
    "scans_dir = tutorial_2_workdir.sub_directory(\"scans\")\n",
    "scans_dir.create()"
   ]
  },
  {
   "cell_type": "code",
   "execution_count": 69,
   "id": "cc61c267-0dc0-4cfb-aea9-63ce2aa68308",
   "metadata": {},
   "outputs": [],
   "source": [
    "scan_2b_1_path = scans_dir.file(\"scan_2b_1.xyz\")\n",
    "scan_2b_2_path = scans_dir.file(\"scan_2b_2.xyz\")\n",
    "scan_2b_3_path = scans_dir.file(\"scan_2b_3.xyz\")\n",
    "\n",
    "scan_3b_1_path = scans_dir.file(\"scan_3b_1.xyz\")\n",
    "scan_3b_2_path = scans_dir.file(\"scan_3b_2.xyz\")\n",
    "scan_3b_3_path = scans_dir.file(\"scan_3b_3.xyz\")"
   ]
  },
  {
   "cell_type": "code",
   "execution_count": 70,
   "id": "c03829b9-0501-422d-927c-2f163c6a0ec3",
   "metadata": {},
   "outputs": [],
   "source": [
    "scan_2b_energies_1_path = scans_dir.file(\"scan_2b_1.xyz\")\n",
    "scan_2b_energies_2_path = scans_dir.file(\"scan_2b_2.xyz\")\n",
    "scan_2b_energies_3_path = scans_dir.file(\"scan_2b_3.xyz\")\n",
    "\n",
    "scan_3b_energies_1_path = scans_dir.file(\"scan_3b_1.xyz\")\n",
    "scan_3b_energies_2_path = scans_dir.file(\"scan_3b_2.xyz\")\n",
    "scan_3b_energies_3_path = scans_dir.file(\"scan_3b_3.xyz\")"
   ]
  },
  {
   "cell_type": "code",
   "execution_count": 71,
   "id": "2434cfdc-738f-44e4-ab74-c8379639f280",
   "metadata": {},
   "outputs": [],
   "source": [
    "logs_dir = tutorial_2_workdir.sub_directory(\"logs\")\n",
    "logs_dir.create()"
   ]
  },
  {
   "cell_type": "code",
   "execution_count": 72,
   "id": "02bef516-a9d9-4486-b372-d289b2bb18d6",
   "metadata": {},
   "outputs": [],
   "source": [
    "jobs_dir = tutorial_2_workdir.sub_directory(\"jobs\")\n",
    "jobs_dir.create()"
   ]
  },
  {
   "cell_type": "code",
   "execution_count": 73,
   "id": "b4c57fb6-9d91-4c40-87f0-6d128c1eaa6e",
   "metadata": {},
   "outputs": [],
   "source": [
    "restart_dir = tutorial_2_workdir.sub_directory(\"restart\")\n",
    "restart_dir.create()"
   ]
  },
  {
   "cell_type": "code",
   "execution_count": 24,
   "id": "c78d06db-df13-4ec4-83b0-2ffd38b62b37",
   "metadata": {},
   "outputs": [
    {
     "ename": "NameError",
     "evalue": "name 'tutorial_2_workdir' is not defined",
     "output_type": "error",
     "traceback": [
      "\u001b[0;31m---------------------------------------------------------------------------\u001b[0m",
      "\u001b[0;31mNameError\u001b[0m                                 Traceback (most recent call last)",
      "Cell \u001b[0;32mIn[24], line 1\u001b[0m\n\u001b[0;32m----> 1\u001b[0m modes_dir \u001b[38;5;241m=\u001b[39m \u001b[43mtutorial_2_workdir\u001b[49m\u001b[38;5;241m.\u001b[39msub_directory(\u001b[38;5;124m\"\u001b[39m\u001b[38;5;124mmodes\u001b[39m\u001b[38;5;124m\"\u001b[39m)\n\u001b[1;32m      2\u001b[0m modes_dir\u001b[38;5;241m.\u001b[39mcreate()\n",
      "\u001b[0;31mNameError\u001b[0m: name 'tutorial_2_workdir' is not defined"
     ]
    }
   ],
   "source": [
    "modes_dir = tutorial_2_workdir.sub_directory(\"modes\")\n",
    "modes_dir.create()"
   ]
  },
  {
   "cell_type": "code",
   "execution_count": null,
   "id": "adc5b51e-4027-48c2-a2f4-019d4c663ff6",
   "metadata": {},
   "outputs": [],
   "source": [
    "vibrational_modes_CH3NH2_path = modes_dir.file(\"CH3NH2.modes\")"
   ]
  },
  {
   "cell_type": "code",
   "execution_count": null,
   "id": "d1ed5d49-e23c-417d-a094-87974195d62f",
   "metadata": {},
   "outputs": [],
   "source": [
    "configs_dir = tutorial_2_workdir.sub_directory(\"configs\")\n",
    "configs_dir.create()"
   ]
  },
  {
   "cell_type": "code",
   "execution_count": null,
   "id": "708be498-45f5-47cf-8574-500384236a39",
   "metadata": {},
   "outputs": [],
   "source": [
    "charge_configs_CH3NH2_path = configs_dir.file(\"CH3NH2_charge_parametrization_configs.xyz\")"
   ]
  },
  {
   "cell_type": "code",
   "execution_count": 73,
   "id": "f8eee5bf-9bc8-45d2-87b6-e6916d2bc6d0",
   "metadata": {},
   "outputs": [],
   "source": [
    "scratch_dir = tutorial_2_workdir.sub_directory(\"scratch\")\n",
    "scratch_dir.create()"
   ]
  }
 ],
 "metadata": {
  "kernelspec": {
   "display_name": "Python 3 (ipykernel)",
   "language": "python",
   "name": "python3"
  },
  "language_info": {
   "codemirror_mode": {
    "name": "ipython",
    "version": 3
   },
   "file_extension": ".py",
   "mimetype": "text/x-python",
   "name": "python",
   "nbconvert_exporter": "python",
   "pygments_lexer": "ipython3",
   "version": "3.10.10"
  }
 },
 "nbformat": 4,
 "nbformat_minor": 5
}
