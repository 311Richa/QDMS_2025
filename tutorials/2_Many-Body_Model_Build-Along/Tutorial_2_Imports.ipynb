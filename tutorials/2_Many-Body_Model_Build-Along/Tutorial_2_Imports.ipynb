{
 "cells": [
  {
   "cell_type": "markdown",
   "id": "ff59a5ee-f989-4ad0-93af-571c59626ff1",
   "metadata": {
    "tags": []
   },
   "source": [
    "# Tutorial 2.0: Imports, Paths, & Utils"
   ]
  },
  {
   "cell_type": "markdown",
   "id": "e312a257-3ad7-41b5-9542-47b3feb05b18",
   "metadata": {},
   "source": [
    "This notebook contains all the Python imports required for Tutorial 2."
   ]
  },
  {
   "cell_type": "markdown",
   "id": "80495624-53d9-4bda-a85d-b673b59b09c9",
   "metadata": {},
   "source": [
    "## 2.0.1 Python Imports"
   ]
  },
  {
   "cell_type": "code",
   "execution_count": 5,
   "id": "f39148db-d262-4fe5-bf3c-18e234a2d9a4",
   "metadata": {},
   "outputs": [],
   "source": [
    "%load_ext autoreload\n",
    "%autoreload 2\n",
    "%matplotlib agg"
   ]
  },
  {
   "cell_type": "markdown",
   "id": "d4011f53-d4a8-4e7b-a618-52dba9f5cebb",
   "metadata": {},
   "source": [
    "Please import:"
   ]
  },
  {
   "cell_type": "code",
   "execution_count": 6,
   "id": "fd7c8f56-42f7-42ee-b8c3-ba5699a24467",
   "metadata": {
    "tags": []
   },
   "outputs": [
    {
     "ename": "ImportError",
     "evalue": "cannot import name 'add_polarizability_factors_to_MBX' from 'mbfit.implementation' (/home/ebullvul/software/development/MB-Fit_versions/QDMS_2025/mbfit/implementation/__init__.py)",
     "output_type": "error",
     "traceback": [
      "\u001b[0;31m---------------------------------------------------------------------------\u001b[0m",
      "\u001b[0;31mImportError\u001b[0m                               Traceback (most recent call last)",
      "Cell \u001b[0;32mIn[6], line 46\u001b[0m\n\u001b[1;32m     42\u001b[0m \u001b[38;5;28;01mfrom\u001b[39;00m\u001b[38;5;250m \u001b[39m\u001b[38;5;21;01mmbfit\u001b[39;00m\u001b[38;5;21;01m.\u001b[39;00m\u001b[38;5;21;01mpolynomials_old\u001b[39;00m\u001b[38;5;250m \u001b[39m\u001b[38;5;28;01mimport\u001b[39;00m generate_polynomial\n\u001b[1;32m     44\u001b[0m \u001b[38;5;28;01mfrom\u001b[39;00m\u001b[38;5;250m \u001b[39m\u001b[38;5;21;01mmbfit\u001b[39;00m\u001b[38;5;21;01m.\u001b[39;00m\u001b[38;5;21;01mparametrization\u001b[39;00m\u001b[38;5;250m \u001b[39m\u001b[38;5;28;01mimport\u001b[39;00m generate_pip_parametizer, parametrize_pip, evaluate_pip, read_parameters, write_parameters\n\u001b[0;32m---> 46\u001b[0m \u001b[38;5;28;01mfrom\u001b[39;00m\u001b[38;5;250m \u001b[39m\u001b[38;5;21;01mmbfit\u001b[39;00m\u001b[38;5;21;01m.\u001b[39;00m\u001b[38;5;21;01mimplementation\u001b[39;00m\u001b[38;5;250m \u001b[39m\u001b[38;5;28;01mimport\u001b[39;00m initialize_mbx, add_monomer_type_to_MBX, add_excluded_pairs, add_charges_to_MBX, add_polarizability_factors_to_MBX, add_polarizabilities_to_MBX, add_reciprocal_space_C6_to_MBX\n",
      "\u001b[0;31mImportError\u001b[0m: cannot import name 'add_polarizability_factors_to_MBX' from 'mbfit.implementation' (/home/ebullvul/software/development/MB-Fit_versions/QDMS_2025/mbfit/implementation/__init__.py)"
     ]
    }
   ],
   "source": [
    "import numpy\n",
    "from IPython.display import HTML\n",
    "from matplotlib import pyplot as plt\n",
    "import itertools\n",
    "\n",
    "from mbfit.utils.filesystem import Directory\n",
    "from mbfit.utils.job_manager import SLURMJobManager, JobManager, LocalJobManager\n",
    "from mbfit.calculator import QchemCalculator, OrcaCalculator, Psi4Calculator\n",
    "\n",
    "from mbfit.system.system_like import BondType\n",
    "from mbfit.system.definition import BasicFragmentDefinition, BasicCompoundDefinition, AtomDefinition, BondDefinition\n",
    "from mbfit.system.initializer import VSEPRInitializer\n",
    "from mbfit.system.descriptor import fragment_definition_to_xyz, compound_definition_to_xyz, compound_to_xyz, compound_to_commented_xyz\n",
    "from mbfit.system.parser import xyz_to_compound_definition, xyz_to_compound_definition, xyz_to_compound_by_definition\n",
    "from mbfit.system import BasicCompound\n",
    "from mbfit.system.transformer import SystemTransformer\n",
    "from mbfit.system.copier import CompoundCopier\n",
    "from mbfit.system.transformer import make_scan\n",
    "from mbfit.system.region import BasicMutableRegionManager\n",
    "from mbfit.visualization import render_system, render_systems, render_overlayed_systems\n",
    "from mbfit.visualization import plot_scan, plot_clusters\n",
    "from mbfit.utils import constants\n",
    "\n",
    "from mbfit.system.descriptor.energy_decomposition_comment_line_descriptor import EnergyDecompositionCommentLineDescriptor\n",
    "\n",
    "from mbfit.calculator import calculate_energy, calculate_energies, minimize_structures, minimize_structure, calculate_vibrational_modes, write_vibrational_modes, read_vibrational_modes, calculate_nmer_energies, find_clusters\n",
    "from mbfit.calculator import calculate_many_body_energies, calculate_many_body_energy, calculate_binding_energies, calculate_binding_energy\n",
    "from mbfit.calculator import write_multiple_vibrational_modes, read_multiple_vibrational_modes\n",
    "\n",
    "from mbfit.system.io import write_fragment_definition, write_definition, write_system, write_systems, read_fragment_definition, read_definition, read_system, read_systems, write_system_and_energy, write_systems_and_energies, read_system_and_energy, read_systems_and_energies\n",
    "from mbfit.system.io import write_system_and_nmer_energies, write_systems_and_nmer_energies, read_system_and_nmer_energy, read_systems_and_nmer_energies\n",
    "from mbfit.system.io import write_training_set_file\n",
    "\n",
    "from mbfit.parametrization import calculate_polarizabilities_by_XDM, calculate_radii_by_XDM, calculate_C6_by_XDM, calculate_d6_from_radii, get_ESP_grid_points, calculate_ESP_at_grid_points, fit_charges_to_ESP\n",
    "\n",
    "from mbfit.configurations import NormalModesConfigurationGenerator, get_pbmetad_parameters, perform_pbmetad_simulation\n",
    "\n",
    "from mbfit.potential import calculate_Vphys_energies, calculate_Vphys_nmer_energies\n",
    "\n",
    "from mbfit.sampling import perform_fps, split_pool, SplitStrategy, filter_configs_by_cutoff\n",
    "\n",
    "from mbfit.polynomials_old import generate_polynomial\n",
    "\n",
    "from mbfit.parametrization import generate_pip_parametizer, parametrize_pip, evaluate_pip, read_parameters, write_parameters\n",
    "\n",
    "from mbfit.implementation import initialize_mbx, add_monomer_type_to_MBX, add_excluded_pairs, add_charges_to_MBX, add_polarizability_factors_to_MBX, add_polarizabilities_to_MBX, add_reciprocal_space_C6_to_MBX, add_C6_and_d6_to_MBX, compile_mbx, add_PIP_to_MBX\n"
   ]
  },
  {
   "cell_type": "markdown",
   "id": "98b4d49a-a391-4b64-96a4-43d32721f991",
   "metadata": {
    "jp-MarkdownHeadingCollapsed": true,
    "tags": []
   },
   "source": [
    "## 2.0.2 Util Functions"
   ]
  },
  {
   "cell_type": "code",
   "execution_count": 74,
   "id": "d3de1d1d-705f-4404-8716-0ac60ce0a932",
   "metadata": {},
   "outputs": [],
   "source": [
    "qchem_job_template=\"\"\"\n",
    "module load cpu/0.15.4  gcc/10.2.0  mvapich2/2.3.6 qchem/5.4\n",
    "conda activate p310\n",
    "cd ~/software/development/MB-Fit_versions/QDMS_2025\n",
    "export MBFIT_HOME=$PWD\n",
    "source sourceme.sh\n",
    "cd -\n",
    "\n",
    "export QCSCRATCH=/expanse/lustre/scratch/$USER/temp_project/qscratch\n",
    "export QCLOCALSCR=/scratch/$USER/job_$SLURM_JOB_ID\n",
    "\n",
    "\"\"\"\n",
    "\n",
    "def get_qchem_job_manager(job_scratch_directory: Directory) -> JobManager:\n",
    "    job_scratch_directory.create()\n",
    "    return LocalJobManager()\n",
    "    return SLURMJobManager(\n",
    "            input_path=f\"{job_scratch_directory}/job.in\",\n",
    "            output_path=f\"{job_scratch_directory}/job.out\",\n",
    "            log_path=f\"{job_scratch_directory}/job.log\",\n",
    "            job_path=f\"{job_scratch_directory}/job.job\",\n",
    "            job_output_path=f\"{job_scratch_directory}/job.stdout\",\n",
    "            job_error_path=f\"{job_scratch_directory}/job.stderr\",\n",
    "            max_queue_size=10,\n",
    "            job_name=\"slurm_job_manager\",\n",
    "            allocation=\"csd888\",\n",
    "            reservation=None,\n",
    "            partition=\"shared\",\n",
    "            qos=None,\n",
    "            max_walltime_minutes=60,\n",
    "            nodes=1,\n",
    "            tasks=1,\n",
    "            processors_per_task=32,\n",
    "            template=qchem_job_template\n",
    "    )"
   ]
  },
  {
   "cell_type": "code",
   "execution_count": 75,
   "id": "da9fd5e7-d86c-4453-bf12-675ac7b87077",
   "metadata": {},
   "outputs": [],
   "source": [
    "orca_job_template=\"\"\"\n",
    "module load cpu/0.17.3b  gcc/10.2.0/npcyll4  openmpi/4.1.1/ygduf2r\n",
    "module load orca/5.0.4\n",
    "export ORCA_SCRATCH=/scratch/$USER/job_$SLURM_JOB_ID\n",
    "conda activate p310\n",
    "cd ~/software/development/MB-Fit_versions/QDMS_2025\n",
    "export MBFIT_HOME=$PWD\n",
    "source sourceme.sh\n",
    "cd -\n",
    "\"\"\"\n",
    "\n",
    "def get_orca_job_manager(job_scratch_directory: Directory) -> JobManager:\n",
    "    job_scratch_directory.create()\n",
    "    return LocalJobManager()\n",
    "    return SLURMJobManager(\n",
    "            input_path=f\"{job_scratch_directory}/job.in\",\n",
    "            output_path=f\"{job_scratch_directory}/job.out\",\n",
    "            log_path=f\"{job_scratch_directory}/job.log\",\n",
    "            job_path=f\"{job_scratch_directory}/job.job\",\n",
    "            job_output_path=f\"{job_scratch_directory}/job.stdout\",\n",
    "            job_error_path=f\"{job_scratch_directory}/job.stderr\",\n",
    "            max_queue_size=10,\n",
    "            job_name=\"slurm_job_manager\",\n",
    "            allocation=\"csd888\",\n",
    "            reservation=None,\n",
    "            partition=\"shared\",\n",
    "            qos=None,\n",
    "            max_walltime_minutes=60,\n",
    "            nodes=1,\n",
    "            tasks=32,\n",
    "            processors_per_task=1,\n",
    "            template=orca_job_template\n",
    "    )"
   ]
  }
 ],
 "metadata": {
  "kernelspec": {
   "display_name": "Python 3 (ipykernel)",
   "language": "python",
   "name": "python3"
  },
  "language_info": {
   "codemirror_mode": {
    "name": "ipython",
    "version": 3
   },
   "file_extension": ".py",
   "mimetype": "text/x-python",
   "name": "python",
   "nbconvert_exporter": "python",
   "pygments_lexer": "ipython3",
   "version": "3.10.10"
  }
 },
 "nbformat": 4,
 "nbformat_minor": 5
}
