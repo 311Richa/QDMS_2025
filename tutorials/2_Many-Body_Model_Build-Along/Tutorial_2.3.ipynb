{
 "cells": [
  {
   "cell_type": "markdown",
   "metadata": {
    "tags": []
   },
   "source": [
    "# 2.2: Two-Body Potential Energy Surface"
   ]
  },
  {
   "cell_type": "markdown",
   "metadata": {},
   "source": [
    "Next, we will parameterize the \"physical baseline\" ($V_{phys}$) of the PEF."
   ]
  },
  {
   "cell_type": "markdown",
   "metadata": {},
   "source": [
    "In this section, we construct, from scratch, a 1-body MB-nrg-style PEF for CH3-NH2."
   ]
  },
  {
   "cell_type": "markdown",
   "metadata": {
    "tags": []
   },
   "source": [
    "## 2.1.0 Definitions and Imports"
   ]
  },
  {
   "cell_type": "code",
   "execution_count": 69,
   "metadata": {},
   "outputs": [
    {
     "name": "stdout",
     "output_type": "stream",
     "text": [
      "The autoreload extension is already loaded. To reload it, use:\n",
      "  %reload_ext autoreload\n"
     ]
    }
   ],
   "source": [
    "%load_ext autoreload\n",
    "%autoreload 2\n",
    "%matplotlib agg"
   ]
  },
  {
   "cell_type": "code",
   "execution_count": 70,
   "metadata": {},
   "outputs": [
    {
     "name": "stdout",
     "output_type": "stream",
     "text": [
      "The autoreload extension is already loaded. To reload it, use:\n",
      "  %reload_ext autoreload\n"
     ]
    }
   ],
   "source": [
    "%run Tutorial_2_Imports.ipynb"
   ]
  },
  {
   "cell_type": "code",
   "execution_count": 71,
   "metadata": {},
   "outputs": [
    {
     "name": "stdout",
     "output_type": "stream",
     "text": [
      "The autoreload extension is already loaded. To reload it, use:\n",
      "  %reload_ext autoreload\n"
     ]
    }
   ],
   "source": [
    "%run Tutorial_2_Paths.ipynb"
   ]
  },
  {
   "cell_type": "markdown",
   "metadata": {
    "tags": []
   },
   "source": [
    "## II.1.? Normal Modes Configuration Generation"
   ]
  },
  {
   "cell_type": "code",
   "execution_count": 4,
   "metadata": {},
   "outputs": [],
   "source": [
    "definition_CH3NH2 = read_definition(paths.definitions.systems.CH3NH2)\n",
    "minimized_structure_CH3NH2, minimized_energy_CH3NH2 = read_system_and_energy(definition_CH3NH2, paths.structures.minimized_CH3NH2)\n",
    "\n",
    "definition_H2O = read_definition(paths.definitions.systems.H2O)\n",
    "minimized_structure_H2O, minimized_energy_H2O = read_system_and_energy(definition_H2O, paths.structures.minimized_H2O)\n",
    "\n",
    "definition_CH3NH2_H2O = read_definition(paths.definitions.systems.CH3NH2_H2O)"
   ]
  },
  {
   "cell_type": "code",
   "execution_count": 5,
   "metadata": {},
   "outputs": [],
   "source": [
    "clusters_CH3NH2_H2O = read_systems(definition_CH3NH2_H2O, paths.clusters.CH3NH2_H2O)\n",
    "vibrational_modes_clusters_CH3NH2_H2O = read_multiple_vibrational_modes(paths.clusters.CH3NH2_H2O_modes)"
   ]
  },
  {
   "cell_type": "code",
   "execution_count": 6,
   "metadata": {},
   "outputs": [
    {
     "name": "stdout",
     "output_type": "stream",
     "text": [
      "\u001b[3mWill generate configurations over a linear temperature distribution from 10 K to 150 K.\u001b[0m\n",
      "\u001b[3mTemp Distribution: temp (au) = 0.0004433562 * x + 3.1668299999999996e-05 for x in range [0,1].\u001b[0m\n",
      "\u001b[33m\u001b[1mBeginning normal modes configuration generation.\u001b[0m\u001b[0m\n",
      "\u001b[3mWill generate 150 configs over the temperature distribution.\u001b[0m\n",
      "\u001b[3mGenerating Temperature Distribution Configs...\u001b[0m\n",
      "\u001b[92m\u001b[1mNormal Distribution Configuration generation complete! Generated 150 configs.\u001b[0m\u001b[0m\n",
      "\u001b[3mSingle negative frequency detected in input. This most likely means the given geometry is a transition state.\u001b[0m\n",
      "\u001b[3mWill generate configurations over a linear temperature distribution from 10 K to 150 K.\u001b[0m\n",
      "\u001b[3mTemp Distribution: temp (au) = 0.0004433562 * x + 3.1668299999999996e-05 for x in range [0,1].\u001b[0m\n",
      "\u001b[33m\u001b[1mBeginning normal modes configuration generation.\u001b[0m\u001b[0m\n",
      "\u001b[3mWill generate 150 configs over the temperature distribution.\u001b[0m\n",
      "\u001b[3mGenerating Temperature Distribution Configs...\u001b[0m\n",
      "\u001b[92m\u001b[1mNormal Distribution Configuration generation complete! Generated 150 configs.\u001b[0m\u001b[0m\n",
      "\u001b[3mWill generate configurations over a linear temperature distribution from 10 K to 150 K.\u001b[0m\n",
      "\u001b[3mTemp Distribution: temp (au) = 0.0004433562 * x + 3.1668299999999996e-05 for x in range [0,1].\u001b[0m\n",
      "\u001b[33m\u001b[1mBeginning normal modes configuration generation.\u001b[0m\u001b[0m\n",
      "\u001b[3mWill generate 150 configs over the temperature distribution.\u001b[0m\n",
      "\u001b[3mGenerating Temperature Distribution Configs...\u001b[0m\n",
      "\u001b[92m\u001b[1mNormal Distribution Configuration generation complete! Generated 150 configs.\u001b[0m\u001b[0m\n"
     ]
    }
   ],
   "source": [
    "configurations_vibrational_modes_CH3NH2_H2O = []\n",
    "\n",
    "for cluster, modes in zip(clusters_CH3NH2_H2O, vibrational_modes_clusters_CH3NH2_H2O):\n",
    "    configuration_generator = NormalModesConfigurationGenerator(\n",
    "            cluster,\n",
    "            modes,\n",
    "            distribution=\"linear\",\n",
    "            temperature=(10, 150)\n",
    "    )\n",
    "\n",
    "    configs = list(configuration_generator.generate_configurations(num_configs=150, seed=54321))\n",
    "    configurations_vibrational_modes_CH3NH2_H2O.extend(configs)\n",
    "    \n",
    "write_systems(paths.PIP_CH3NH2_H2O.configs.vibrational_modes, configurations_vibrational_modes_CH3NH2_H2O)"
   ]
  },
  {
   "cell_type": "code",
   "execution_count": null,
   "metadata": {},
   "outputs": [],
   "source": [
    "render_overlayed_systems(\n",
    "    configurations_vibrational_modes_CH3NH2_H2O,\n",
    "    centerer=lambda system: system.atoms[0].point,\n",
    "    aligner=lambda system: (system.atoms[4].point, system.atoms[1].point),\n",
    "    alpha=0.05,\n",
    "    num_to_show=25\n",
    ")"
   ]
  },
  {
   "cell_type": "markdown",
   "metadata": {},
   "source": [
    "Let's generate the second set of configurations for our training set, those from metadynamics configurations."
   ]
  },
  {
   "cell_type": "markdown",
   "metadata": {
    "tags": []
   },
   "source": [
    "## II.1.? Parallel-Bias Metadynamics Configuration Generation"
   ]
  },
  {
   "cell_type": "code",
   "execution_count": 7,
   "metadata": {},
   "outputs": [],
   "source": [
    "bond_params, angle_params, nonbonded_params = get_pbmetad_parameters(\n",
    "        clusters_CH3NH2_H2O[0]\n",
    ")"
   ]
  },
  {
   "cell_type": "code",
   "execution_count": 8,
   "metadata": {},
   "outputs": [
    {
     "data": {
      "text/plain": [
       "{('A', 'B'): (90, 1.0899397414464895),\n",
       " ('A', 'C'): (150, 1.486910273085358),\n",
       " ('C', 'D'): (90, 1.0326712127075615),\n",
       " ('E', 'F'): (90, 0.9893391033150292)}"
      ]
     },
     "execution_count": 8,
     "metadata": {},
     "output_type": "execute_result"
    }
   ],
   "source": [
    "bond_params"
   ]
  },
  {
   "cell_type": "code",
   "execution_count": 9,
   "metadata": {},
   "outputs": [
    {
     "data": {
      "text/plain": [
       "{('B', 'A', 'C'): (10, 110.4943292619306),\n",
       " ('A', 'C', 'D'): (10, 107.70357543974339),\n",
       " ('B', 'A', 'B'): (10, 108.41586747490726),\n",
       " ('F', 'E', 'F'): (10, 100.28909256644897),\n",
       " ('D', 'C', 'D'): (10, 104.65198159586903)}"
      ]
     },
     "execution_count": 9,
     "metadata": {},
     "output_type": "execute_result"
    }
   ],
   "source": [
    "angle_params"
   ]
  },
  {
   "cell_type": "code",
   "execution_count": 10,
   "metadata": {},
   "outputs": [
    {
     "data": {
      "text/plain": [
       "{'A': (0.03, 2.2),\n",
       " 'B': (0.01, 1.2),\n",
       " 'C': (0.03, 2.2),\n",
       " 'D': (0.01, 1.2),\n",
       " 'E': (0.03, 2.2),\n",
       " 'F': (0.01, 1.2)}"
      ]
     },
     "execution_count": 10,
     "metadata": {},
     "output_type": "execute_result"
    }
   ],
   "source": [
    "nonbonded_params"
   ]
  },
  {
   "cell_type": "code",
   "execution_count": 11,
   "metadata": {},
   "outputs": [],
   "source": [
    "charges = read_parameters(paths.Vphys.charges)\n",
    "charges = {symmetry: charges[symmetry]*1/3 for symmetry in charges}\n",
    "charges[\"E\"] = -0.6*1/3\n",
    "charges[\"F\"] = +0.3*1/3"
   ]
  },
  {
   "cell_type": "code",
   "execution_count": 12,
   "metadata": {},
   "outputs": [
    {
     "name": "stdout",
     "output_type": "stream",
     "text": [
      "PBMetaD already completed. Will not rerun!\n"
     ]
    }
   ],
   "source": [
    "perform_pbmetad_simulation(\n",
    "        lammps_executable_path,\n",
    "        [minimized_structure_CH3NH2, minimized_structure_H2O],\n",
    "        num_configs=500000,\n",
    "        sample_interval=10,\n",
    "        temperature=700,\n",
    "        seed=12345,\n",
    "        configurations_path=paths.PIP_CH3NH2_H2O.configs.pbmetad_pool,\n",
    "        bond_params=bond_params,\n",
    "        angle_params=angle_params,\n",
    "        nonbonded_params=nonbonded_params,\n",
    "        charges=charges,\n",
    "        pbmetad_workdir=paths.scratch.pbmetad_CH3NH2_H2O,\n",
    "        restart_path=paths.restart.pbmetad_CH3NH2_H2O,\n",
    "        min_intermolecular_distance=1.5,\n",
    "        max_intermolecular_distance=9.0\n",
    ")"
   ]
  },
  {
   "cell_type": "code",
   "execution_count": 13,
   "metadata": {},
   "outputs": [],
   "source": [
    "inner_cutoff_2b = 6.0\n",
    "outer_cutoff_2b = 7.0"
   ]
  },
  {
   "cell_type": "code",
   "execution_count": 14,
   "metadata": {},
   "outputs": [
    {
     "name": "stdout",
     "output_type": "stream",
     "text": [
      "Found 365549 within cutoff distance of 7.0\n"
     ]
    }
   ],
   "source": [
    "num_filtered_configs = filter_configs_by_cutoff(\n",
    "        definition_CH3NH2_H2O,\n",
    "        paths.PIP_CH3NH2_H2O.configs.pbmetad_pool,\n",
    "        threshold=outer_cutoff_2b,\n",
    "        filtered_path=paths.PIP_CH3NH2_H2O.configs.pbmetad_pool_filtered\n",
    ")"
   ]
  },
  {
   "cell_type": "code",
   "execution_count": 15,
   "metadata": {},
   "outputs": [],
   "source": [
    "split_pool(\n",
    "        definition_CH3NH2_H2O,\n",
    "        paths.PIP_CH3NH2_H2O.configs.pbmetad_pool_filtered,\n",
    "        pool_size=num_filtered_configs,\n",
    "        num_configs_to_split=200,\n",
    "        unsplit_path=paths.PIP_CH3NH2_H2O.configs.pbmetad_train_pool,\n",
    "        split_path=paths.PIP_CH3NH2_H2O.configs.pbmetad_test,\n",
    "        strategy=\"INTERVAL\",\n",
    ")"
   ]
  },
  {
   "cell_type": "code",
   "execution_count": 16,
   "metadata": {},
   "outputs": [
    {
     "name": "stdout",
     "output_type": "stream",
     "text": [
      "Phase1 already complete. Will not rerun.\n",
      "Phase2 already complete. Will not rerun.\n",
      "Selected 2566 total configs by FPS.\n"
     ]
    }
   ],
   "source": [
    "pbmetad_configs_CH3NH2_H2O = perform_fps(\n",
    "        definition_CH3NH2_H2O,\n",
    "        clusters_CH3NH2_H2O[0],\n",
    "        vibrational_modes_clusters_CH3NH2_H2O[0],\n",
    "        paths.PIP_CH3NH2_H2O.configs.pbmetad_train_pool,\n",
    "        num_pool_configs=num_filtered_configs-200,\n",
    "        num_phase1_input_configs=100000,\n",
    "        approx_configs_to_select=2000,\n",
    "        fps_workdir=paths.scratch.fps_CH3NH2_H2O,\n",
    "        restart_path=paths.restart.fps_CH3NH2_H2O,\n",
    "        num_threads=16\n",
    ")"
   ]
  },
  {
   "cell_type": "code",
   "execution_count": 63,
   "metadata": {},
   "outputs": [
    {
     "data": {
      "image/png": "[encoded data removed]",
      "text/plain": [
       "<Figure size 640x480 with 1 Axes>"
      ]
     },
     "execution_count": 63,
     "metadata": {},
     "output_type": "execute_result"
    }
   ],
   "source": [
    "render_overlayed_systems(\n",
    "    pbmetad_configs_CH3NH2_H2O,\n",
    "    centerer=lambda system: system.atoms[0].point,\n",
    "    aligner=lambda system: (system.atoms[4].point, system.atoms[3].point),\n",
    "    alpha=0.05,\n",
    "    num_to_show=100\n",
    ")"
   ]
  },
  {
   "cell_type": "code",
   "execution_count": 64,
   "metadata": {},
   "outputs": [],
   "source": [
    "write_systems(paths.PIP_CH3NH2_H2O.configs.pbmetad_train, pbmetad_configs_CH3NH2_H2O)"
   ]
  },
  {
   "cell_type": "markdown",
   "metadata": {},
   "source": [
    "## II.1.? Energy Calculation"
   ]
  },
  {
   "cell_type": "markdown",
   "metadata": {},
   "source": [
    "Next, we need to perform the electronic structure calculations with our chosen reference level of theory. We will use CCSD(T). Because this can be quite expensive and this tutorial is menat to be something that can be finished in a few hours, we have precomputed the energies for you. So we will just copy them over:"
   ]
  },
  {
   "cell_type": "code",
   "execution_count": 21,
   "metadata": {},
   "outputs": [],
   "source": [
    "calculator = Psi4Calculator(\n",
    "        \"MP2\",\n",
    "        \"def2-TZVP\",\n",
    "        log_directory=paths.logs,\n",
    "        scratch_directory=paths.scratch.psi4\n",
    ")"
   ]
  },
  {
   "cell_type": "code",
   "execution_count": null,
   "metadata": {},
   "outputs": [],
   "source": [
    "energies_vibrational_modes_CH3NH2_H2O = calculate_nmer_energies(\n",
    "        configurations_vibrational_modes_CH3NH2_H2O,\n",
    "        calculator,\n",
    "        paths.restart.energies_vibrational_mode_configs_CH3NH2_H2O,\n",
    "        num_threads=8,\n",
    "        mem_mb=8000,\n",
    "        error_on_any_failure=False,\n",
    "        retrieve_only=True\n",
    ")\n",
    "write_systems_and_nmer_energies(paths.PIP_CH3NH2_H2O.configs.vibrational_modes_energies, (configurations_vibrational_modes_CH3NH2_H2O, energies_vibrational_modes_CH3NH2_H2O))"
   ]
  },
  {
   "cell_type": "code",
   "execution_count": null,
   "metadata": {},
   "outputs": [],
   "source": [
    "energies_pbmetad_CH3NH2_H2O = calculate_nmer_energies(\n",
    "        pbmetad_configs_CH3NH2_H2O,\n",
    "        calculator,\n",
    "        paths.restart.energies_pbmetad_configs_CH3NH2_H2O,\n",
    "        num_threads=8,\n",
    "        mem_mb=8000,\n",
    "        error_on_any_failure=False,\n",
    "        retrieve_only=True\n",
    ")\n",
    "write_systems_and_nmer_energies(paths.PIP_CH3NH2_H2O.configs.pbmetad_train_energies, (pbmetad_configs_CH3NH2_H2O, energies_pbmetad_CH3NH2_H2O))"
   ]
  },
  {
   "cell_type": "code",
   "execution_count": 31,
   "metadata": {},
   "outputs": [
    {
     "name": "stdout",
     "output_type": "stream",
     "text": [
      "Checking for missing energies |====================================================================================================| - 412/412\n",
      "Found 0 systems with one or more missing n-mer energies. Remaining configurations: 412\n",
      "Checking for missing energies |====================================================================================================| - 2566/2566\n",
      "Found 0 systems with one or more missing n-mer energies. Remaining configurations: 2566\n"
     ]
    }
   ],
   "source": [
    "configurations_vibrational_modes_CH3NH2_H2O, energies_vibrational_modes_CH3NH2_H2O = discard_failed_configurations(\n",
    "        configurations_vibrational_modes_CH3NH2_H2O,\n",
    "        energies_vibrational_modes_CH3NH2_H2O\n",
    ")\n",
    "\n",
    "pbmetad_configs_CH3NH2_H2O, energies_pbmetad_CH3NH2_H2O = discard_failed_configurations(\n",
    "        pbmetad_configs_CH3NH2_H2O,\n",
    "        energies_pbmetad_CH3NH2_H2O\n",
    ")"
   ]
  },
  {
   "cell_type": "code",
   "execution_count": 32,
   "metadata": {},
   "outputs": [],
   "source": [
    "energies_2b_vibrational_modes_CH3NH2_H2O = calculate_many_body_energies(\n",
    "    configurations_vibrational_modes_CH3NH2_H2O,\n",
    "    energies_vibrational_modes_CH3NH2_H2O,\n",
    "    minimized_monomer_energies=[minimized_energy_CH3NH2, minimized_energy_H2O]\n",
    ")\n",
    "\n",
    "energies_2b_pbmetad_CH3NH2_H2O = calculate_many_body_energies(\n",
    "    pbmetad_configs_CH3NH2_H2O,\n",
    "    energies_pbmetad_CH3NH2_H2O,\n",
    "    minimized_monomer_energies=[minimized_energy_CH3NH2, minimized_energy_H2O]\n",
    ")"
   ]
  },
  {
   "cell_type": "code",
   "execution_count": 39,
   "metadata": {},
   "outputs": [],
   "source": [
    "energies_binding_vibrational_modes_CH3NH2_H2O = calculate_binding_energies(\n",
    "    configurations_vibrational_modes_CH3NH2_H2O,\n",
    "    energies_vibrational_modes_CH3NH2_H2O,\n",
    "    minimized_monomer_energies=[minimized_energy_CH3NH2, minimized_energy_H2O]\n",
    ")\n",
    "\n",
    "energies_binding_pbmetad_CH3NH2_H2O = calculate_binding_energies(\n",
    "    pbmetad_configs_CH3NH2_H2O,\n",
    "    energies_pbmetad_CH3NH2_H2O,\n",
    "    minimized_monomer_energies=[minimized_energy_CH3NH2, minimized_energy_H2O]\n",
    ")"
   ]
  },
  {
   "cell_type": "code",
   "execution_count": 60,
   "metadata": {},
   "outputs": [],
   "source": [
    "write_training_set_file(\n",
    "        paths.PIP_CH3NH2_H2O.training_set,\n",
    "        (\n",
    "                [*configurations_vibrational_modes_CH3NH2_H2O, *pbmetad_configs_CH3NH2_H2O],\n",
    "                [*energies_binding_vibrational_modes_CH3NH2_H2O, *energies_binding_pbmetad_CH3NH2_H2O],\n",
    "                [*energies_2b_vibrational_modes_CH3NH2_H2O, *energies_2b_pbmetad_CH3NH2_H2O],\n",
    "        )\n",
    ")"
   ]
  },
  {
   "cell_type": "code",
   "execution_count": 41,
   "metadata": {},
   "outputs": [
    {
     "data": {
      "text/plain": [
       "(-3.5876719700099784, 723.0923280299976)"
      ]
     },
     "execution_count": 41,
     "metadata": {},
     "output_type": "execute_result"
    }
   ],
   "source": [
    "min(energies_binding_vibrational_modes_CH3NH2_H2O), max(energies_binding_vibrational_modes_CH3NH2_H2O)"
   ]
  },
  {
   "cell_type": "code",
   "execution_count": 42,
   "metadata": {},
   "outputs": [
    {
     "data": {
      "text/plain": [
       "(16.632328029991186, 417.71232802999293)"
      ]
     },
     "execution_count": 42,
     "metadata": {},
     "output_type": "execute_result"
    }
   ],
   "source": [
    "min(energies_binding_pbmetad_CH3NH2_H2O), max(energies_binding_pbmetad_CH3NH2_H2O)"
   ]
  },
  {
   "cell_type": "markdown",
   "metadata": {},
   "source": [
    "## II.1.? Polynomial Generation"
   ]
  },
  {
   "cell_type": "code",
   "execution_count": 49,
   "metadata": {},
   "outputs": [],
   "source": [
    "pip_2b_max_order = 3"
   ]
  },
  {
   "cell_type": "code",
   "execution_count": 64,
   "metadata": {},
   "outputs": [
    {
     "name": "stdout",
     "output_type": "stream",
     "text": [
      "(A1B3C1D2)_(E1F2)\n",
      "Generating polynomial input file for symmetry (A1B3C1D2)_(E1F2) into file Tutorial_2_workdir/PIP_CH3NH2_H2O/PIP/info.in.\n",
      "Successfully generated polynomial input file! 45 total variables.\n",
      "File Tutorial_2_workdir/PIP_CH3NH2_H2O/PIP/polynomial/poly.log already exists, moving existing Tutorial_2_workdir/PIP_CH3NH2_H2O/PIP/polynomial/poly.log to Tutorial_2_workdir/PIP_CH3NH2_H2O/PIP/polynomial/poly.log.backup-3 to make way for new file.\n",
      "Generating terms up to degree 3...\n",
      "Generating polynomial: |====================================================================================================| - 135/135\n",
      "18 possible degree 1 terms, now filtering them...\n",
      "There were 8 accepted degree 1 terms.\n",
      "225 possible degree 2 terms, now filtering them...\n",
      "There were 152 accepted degree 2 terms.\n",
      "2266 possible degree 3 terms, now filtering them...\n",
      "There were 1023 accepted degree 3 terms.\n",
      "There were 1183 accepted terms over all\n",
      "Writing Gradients C++: |====================================================================================================| - 45/45\n",
      "Writing Polynomial C++: |====================================================================================================| - 1183/1183\n"
     ]
    }
   ],
   "source": [
    "generate_polynomial(\n",
    "        definition_CH3NH2_H2O,\n",
    "        max_degree=pip_2b_max_order,\n",
    "        polynomial_info_path=paths.PIP_CH3NH2_H2O.PIP.info,\n",
    "        polynomial_dir=paths.PIP_CH3NH2_H2O.PIP.polynomial,\n",
    "        filters=[\n",
    "                \"add_filter['sum-degree', 'x-inter-*+*-*', '0']\",\n",
    "                \"add_filter['sum-degree', 'x-intra-*+*-*', '2+']\",\n",
    "        ]\n",
    ")"
   ]
  },
  {
   "cell_type": "markdown",
   "metadata": {},
   "source": [
    "## II.1.? Polynomial Parametrization"
   ]
  },
  {
   "cell_type": "code",
   "execution_count": 65,
   "metadata": {},
   "outputs": [],
   "source": [
    "polarizabilities = read_parameters(paths.Vphys.polarizabilities)\n",
    "polarizability_factors = read_parameters(paths.Vphys.polarizability_factors)\n",
    "charges = read_parameters(paths.Vphys.charges)\n",
    "C6 = read_parameters(paths.Vphys.C6)\n",
    "d6 = read_parameters(paths.Vphys.d6)"
   ]
  },
  {
   "cell_type": "code",
   "execution_count": 66,
   "metadata": {},
   "outputs": [
    {
     "name": "stdout",
     "output_type": "stream",
     "text": [
      "polarizabilities: {'A': 1.197286837688588, 'B': 0.3338549392278207, 'C': 0.936690107093768, 'D': 0.35079895087010643, 'E': 1.31, 'F': 0.294}\n",
      "polarizability_factors: {'A': 1.197286837688588, 'B': 0.3338549392278207, 'C': 0.936690107093768, 'D': 0.35079895087010643, 'E': 1.31, 'F': 0.294}\n",
      "charges: {'A': 0.19712181192295436, 'B': -0.007316083425489981, 'C': -0.6523113428259786, 'D': 0.2385688905897471}\n",
      "C6: {('A', 'E'): 213.33108737196045, ('A', 'F'): 101.90479632213754, ('A', 'A'): 287.58772280972653, ('A', 'B'): 100.71518361858206, ('A', 'C'): 245.27149949753883, ('A', 'D'): 101.84278948237693, ('B', 'E'): 81.0911671091582, ('B', 'F'): 37.128317718883046, ('B', 'B'): 36.90402137258849, ('B', 'C'): 89.56084211053388, ('B', 'D'): 37.054828131018624, ('C', 'E'): 196.20342030030648, ('C', 'F'): 90.13727606534552, ('C', 'C'): 217.4097594984364, ('C', 'D'): 89.97192449265054, ('D', 'E'): 80.93270518532552, ('D', 'F'): 37.3074485893026, ('D', 'D'): 37.24888657397313, ('E', 'E'): 237.3212214147944, ('E', 'F'): 83.49556669872743, ('F', 'F'): 20.09358600184719}\n",
      "d6: {('A', 'E'): 3.4759521484375, ('A', 'F'): 4.199981689453125, ('A', 'A'): 3.3233642578125, ('A', 'B'): 4.216766357421875, ('A', 'C'): 3.40728759765625, ('A', 'D'): 4.19769287109375, ('B', 'E'): 4.46624755859375, ('B', 'F'): 5.73577880859375, ('B', 'A'): 4.216766357421875, ('B', 'B'): 5.767822265625, ('B', 'C'): 4.352569580078125, ('B', 'D'): 5.731964111328125, ('C', 'E'): 3.568267822265625, ('C', 'F'): 4.334259033203125, ('C', 'A'): 3.40728759765625, ('C', 'B'): 4.352569580078125, ('C', 'C'): 3.495025634765625, ('C', 'D'): 4.332733154296875, ('D', 'E'): 4.44488525390625, ('D', 'F'): 5.70068359375, ('D', 'A'): 4.19769287109375, ('D', 'B'): 5.731964111328125, ('D', 'C'): 4.332733154296875, ('D', 'D'): 5.696868896484375, ('E', 'E'): 9.295485815062264, ('E', 'F'): 9.775202425217957, ('F', 'F'): 9.406475169954112}\n"
     ]
    }
   ],
   "source": [
    "print(\"polarizabilities:\", polarizabilities)\n",
    "print(\"polarizability_factors:\", polarizability_factors)\n",
    "print(\"charges:\", charges)\n",
    "print(\"C6:\", C6)\n",
    "print(\"d6:\", d6)"
   ]
  },
  {
   "cell_type": "code",
   "execution_count": 67,
   "metadata": {
    "tags": []
   },
   "outputs": [
    {
     "name": "stdout",
     "output_type": "stream",
     "text": [
      "File Tutorial_2_workdir/scratch/PIP_CH3NH2_H2O/config.ini already exists, moving existing Tutorial_2_workdir/scratch/PIP_CH3NH2_H2O/config.ini to Tutorial_2_workdir/scratch/PIP_CH3NH2_H2O/config.ini.backup-2 to make way for new file.\n",
      "Completed generating config file Tutorial_2_workdir/scratch/PIP_CH3NH2_H2O/config.ini.\n",
      "File Tutorial_2_workdir/scratch/PIP_CH3NH2_H2O/config.ini already exists, moving existing Tutorial_2_workdir/scratch/PIP_CH3NH2_H2O/config.ini to Tutorial_2_workdir/scratch/PIP_CH3NH2_H2O/config.ini.backup-3 to make way for new file.\n",
      "Executing python generator script\n",
      "Generating fitcode for molecule with symmetry A1B3C1D2_E1F2...\n",
      "Using mbpol for 1 fragments.\n",
      "0 fragments have lone pairs.\n",
      "Using exp variables for intramolecular interactions.\n",
      "Using exp variables for intermolecular interactions.\n",
      "Using coul variables for lone pair interactions.\n",
      "1183 terms in the polynomial.\n",
      "Atoms in the molecule: A1 B1 B2 B3 C1 D1 D2 E1 F1 F2.\n",
      "45 variables in the polynomial.\n",
      "18 non-linear parameters in the polynomial.\n",
      "Compiling Parametrizer...\n",
      "Compiled!\n"
     ]
    }
   ],
   "source": [
    "generate_pip_parametizer(\n",
    "        definition_CH3NH2_H2O,\n",
    "        max_degree=pip_2b_max_order,\n",
    "        polynomial_info_path=paths.PIP_CH3NH2_H2O.PIP.info,\n",
    "        polynomial_dir=paths.PIP_CH3NH2_H2O.PIP.polynomial,\n",
    "        parametizer_dir=paths.PIP_CH3NH2_H2O.PIP.parameterizer,\n",
    "        workdir=paths.scratch.PIP_CH3NH2_H2O,\n",
    "        symmetry_to_charge=charges,\n",
    "        symmetry_to_polarizability=polarizabilities,\n",
    "        symmetry_to_polarizability_factor=polarizability_factors,\n",
    "        symmetries_to_C6=C6,\n",
    "        symmetries_to_d6=d6,\n",
    "        monomer_names=[\"ch3nh2\", \"h2o\"],\n",
    "        is_mbpol=[False, True]\n",
    ")"
   ]
  },
  {
   "cell_type": "code",
   "execution_count": 68,
   "metadata": {},
   "outputs": [
    {
     "name": "stdout",
     "output_type": "stream",
     "text": [
      "Succesfully created fit folder fit1.\n",
      "fit1 is running.\n",
      "\n",
      "fit1 is completed.\n",
      "Looks like the fit in fit1 didn't converge...\n",
      "Maybe you want to rerun fit1 again.\n",
      "Best fit is fit fit1.\n",
      "Fit with lowest RMSD did not converge, maybe run it again with more iterations?\n",
      "Still using that fit as the best one.\n",
      "No previous best fit, so just storing the current best fit.\n",
      "Best fit found has a weighted RMSD of 12.9724 kcal/mol, a low energy RMSD of 1.91475 kcal/mol, and a maximum error in the low energy training set of 5.50003 kcal/mol\n"
     ]
    }
   ],
   "source": [
    "parametrize_pip(\n",
    "        definition_CH3NH2_H2O,\n",
    "        parametizer_dir=paths.PIP_CH3NH2_H2O.PIP.parameterizer,\n",
    "        parametrization_dir=paths.PIP_CH3NH2_H2O.PIP.parametrization,\n",
    "        training_set_path=paths.PIP_CH3NH2_H2O.training_set,\n",
    "        workdir=paths.scratch.fitting_CH3NH2_H2O,\n",
    "        monomer_names=[\"ch3nh2\", \"h2o\"],\n",
    "        is_mbpol=[False, True],\n",
    "        num_fits_to_run=1,\n",
    "        num_threads=16,\n",
    "        DE=10,\n",
    "        alpha=0.0005\n",
    ")"
   ]
  },
  {
   "cell_type": "markdown",
   "metadata": {},
   "source": [
    "## 2.x.y Implementation in MBX"
   ]
  },
  {
   "cell_type": "code",
   "execution_count": 33,
   "metadata": {},
   "outputs": [
    {
     "name": "stdout",
     "output_type": "stream",
     "text": [
      "Getting polynomial fitted parameters...\n",
      "Getting energy calls...\n"
     ]
    }
   ],
   "source": [
    "add_PIP_to_MBX(\n",
    "        paths.MBX,\n",
    "        definition_CH3NH2_H2O,\n",
    "        [\"ch3nh2\", \"h2o\"],\n",
    "        paths.PIP_CH3NH2_H2O.PIP.parameterizer,\n",
    "        paths.PIP_CH3NH2_H2O.PIP.parametrization,\n",
    "        max_degree=pip_2b_max_order,\n",
    "        workdir=paths.scratch.fitting_CH3NH2_H2O,\n",
    ")"
   ]
  },
  {
   "cell_type": "code",
   "execution_count": null,
   "metadata": {},
   "outputs": [],
   "source": [
    "compile_mbx(\n",
    "        paths.MBX,\n",
    "        configure_arguments=[\n",
    "                \"CXX=icpc\",\n",
    "                \"CC=icc\",\n",
    "                \"--disable-optimization\"\n",
    "        ],\n",
    "        configure=True,\n",
    "        clean=False,\n",
    "        num_threads=4\n",
    ")"
   ]
  },
  {
   "cell_type": "code",
   "execution_count": 80,
   "metadata": {},
   "outputs": [
    {
     "name": "stdout",
     "output_type": "stream",
     "text": [
      "MBX energy calculations: |====================================================================================================| - 1000/1000\n"
     ]
    }
   ],
   "source": [
    "predicted_energies_vibrational_modes_CH3NH2_H2O = calculate_MBX_nmer_energies(\n",
    "        paths.MBX,\n",
    "        definition_CH3NH2_H2O,\n",
    "        configurations_vibrational_modes_CH3NH2_H2O,\n",
    "        monomer_names=[\"ch3nh2\", \"h2o\"],\n",
    "        scratch_dir=paths.scratch.fitting_CH3NH2_H2O\n",
    ")"
   ]
  },
  {
   "cell_type": "code",
   "execution_count": 83,
   "metadata": {},
   "outputs": [
    {
     "name": "stdout",
     "output_type": "stream",
     "text": [
      "MBX energy calculations: |====================================================================================================| - 1561/1561\n"
     ]
    }
   ],
   "source": [
    "predicted_energies_pbmetad_CH3NH2_H2O = calculate_MBX_nmer_energies(\n",
    "        paths.MBX,\n",
    "        definition_CH3NH2_H2O,\n",
    "        pbmetad_configs_CH3NH2_H2O,\n",
    "        monomer_names=[\"ch3nh2\", \"h2o\"],\n",
    "        scratch_dir=paths.scratch.fitting_CH3NH2_H2O\n",
    ")"
   ]
  },
  {
   "cell_type": "code",
   "execution_count": 94,
   "metadata": {},
   "outputs": [],
   "source": [
    "predicted_energies_2b_vibrational_modes_CH3NH2_H2O = calculate_many_body_energies(\n",
    "    configurations_vibrational_modes_CH3NH2_H2O,\n",
    "    predicted_energies_vibrational_modes_CH3NH2_H2O,\n",
    "    minimized_monomer_energies=[0.0, 0.0]\n",
    ")\n",
    "\n",
    "predicted_energies_2b_pbmetad_CH3NH2_H2O = calculate_many_body_energies(\n",
    "    pbmetad_configs_CH3NH2_H2O,\n",
    "    predicted_energies_pbmetad_CH3NH2_H2O,\n",
    "    minimized_monomer_energies=[0.0, 0.0]\n",
    ")"
   ]
  },
  {
   "cell_type": "code",
   "execution_count": 142,
   "metadata": {},
   "outputs": [
    {
     "data": {
      "image/png": "[encoded data removed]",
      "text/plain": [
       "<Figure size 400x400 with 1 Axes>"
      ]
     },
     "execution_count": 142,
     "metadata": {},
     "output_type": "execute_result"
    }
   ],
   "source": [
    "plot_correlation(\n",
    "    configurations_vibrational_modes_CH3NH2_H2O,\n",
    "    energies_2b_vibrational_modes_CH3NH2_H2O,\n",
    "    \"MP2\",\n",
    "    {\"MBX\": predicted_energies_2b_vibrational_modes_CH3NH2_H2O},\n",
    "    error_width=1.0\n",
    ")"
   ]
  },
  {
   "cell_type": "code",
   "execution_count": 143,
   "metadata": {},
   "outputs": [
    {
     "data": {
      "image/png": "[encoded data removed]",
      "text/plain": [
       "<Figure size 400x400 with 1 Axes>"
      ]
     },
     "execution_count": 143,
     "metadata": {},
     "output_type": "execute_result"
    }
   ],
   "source": [
    "plot_correlation(\n",
    "    configurations_vibrational_modes_CH3NH2_H2O,\n",
    "    energies_2b_vibrational_modes_CH3NH2_H2O,\n",
    "    \"MP2\",\n",
    "    {\"MBX\": predicted_energies_2b_vibrational_modes_CH3NH2_H2O},\n",
    "    minE=-1,\n",
    "    maxE=10,\n",
    "    error_width=1.0\n",
    ")"
   ]
  },
  {
   "cell_type": "code",
   "execution_count": 144,
   "metadata": {},
   "outputs": [
    {
     "data": {
      "image/png": "[encoded data removed]",
      "text/plain": [
       "<Figure size 400x400 with 1 Axes>"
      ]
     },
     "execution_count": 144,
     "metadata": {},
     "output_type": "execute_result"
    }
   ],
   "source": [
    "plot_correlation(\n",
    "    pbmetad_configs_CH3NH2_H2O,\n",
    "    energies_2b_pbmetad_CH3NH2_H2O,\n",
    "    \"MP2\",\n",
    "    {\"MBX\": predicted_energies_2b_pbmetad_CH3NH2_H2O},\n",
    "    error_width=10.0\n",
    ")"
   ]
  }
 ],
 "metadata": {
  "kernelspec": {
   "display_name": "Python 3 (ipykernel)",
   "language": "python",
   "name": "python3"
  },
  "language_info": {
   "codemirror_mode": {
    "name": "ipython",
    "version": 3
   },
   "file_extension": ".py",
   "mimetype": "text/x-python",
   "name": "python",
   "nbconvert_exporter": "python",
   "pygments_lexer": "ipython3",
   "version": "3.10.9"
  }
 },
 "nbformat": 4,
 "nbformat_minor": 4
}
