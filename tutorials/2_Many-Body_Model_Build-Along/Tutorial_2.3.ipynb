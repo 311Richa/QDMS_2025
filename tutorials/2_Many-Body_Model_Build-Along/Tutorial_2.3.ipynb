{
 "cells": [
  {
   "cell_type": "markdown",
   "metadata": {
    "tags": []
   },
   "source": [
    "# 2.2: Two-Body Potential Energy Surface"
   ]
  },
  {
   "cell_type": "markdown",
   "metadata": {},
   "source": [
    "Next, we will parameterize the \"physical baseline\" ($V_{phys}$) of the PEF."
   ]
  },
  {
   "cell_type": "markdown",
   "metadata": {},
   "source": [
    "In this section, we construct, from scratch, a 1-body MB-nrg-style PEF for CH3-NH2."
   ]
  },
  {
   "cell_type": "markdown",
   "metadata": {
    "tags": []
   },
   "source": [
    "## 2.1.0 Definitions and Imports"
   ]
  },
  {
   "cell_type": "code",
   "execution_count": 1,
   "metadata": {},
   "outputs": [],
   "source": [
    "%load_ext autoreload\n",
    "%autoreload 2\n",
    "%matplotlib agg"
   ]
  },
  {
   "cell_type": "code",
   "execution_count": 2,
   "metadata": {},
   "outputs": [
    {
     "name": "stdout",
     "output_type": "stream",
     "text": [
      "The autoreload extension is already loaded. To reload it, use:\n",
      "  %reload_ext autoreload\n"
     ]
    }
   ],
   "source": [
    "%run Tutorial_2_Imports.ipynb"
   ]
  },
  {
   "cell_type": "code",
   "execution_count": 3,
   "metadata": {},
   "outputs": [
    {
     "name": "stdout",
     "output_type": "stream",
     "text": [
      "The autoreload extension is already loaded. To reload it, use:\n",
      "  %reload_ext autoreload\n"
     ]
    }
   ],
   "source": [
    "%run Tutorial_2_Paths.ipynb"
   ]
  },
  {
   "cell_type": "markdown",
   "metadata": {
    "tags": []
   },
   "source": [
    "## II.1.? Normal Modes Configuration Generation"
   ]
  },
  {
   "cell_type": "code",
   "execution_count": 4,
   "metadata": {},
   "outputs": [],
   "source": [
    "definition_CH3NH2 = read_definition(paths.definitions.systems.CH3NH2)\n",
    "minimized_structure_CH3NH2, minimized_energy_CH3NH2 = read_system_and_energy(definition_CH3NH2, paths.structures.minimized_CH3NH2)\n",
    "\n",
    "definition_H2O = read_definition(paths.definitions.systems.H2O)\n",
    "minimized_structure_H2O, minimized_energy_H2O = read_system_and_energy(definition_H2O, paths.structures.minimized_H2O)\n",
    "\n",
    "definition_CH3NH2_H2O = read_definition(paths.definitions.systems.CH3NH2_H2O)"
   ]
  },
  {
   "cell_type": "code",
   "execution_count": 5,
   "metadata": {},
   "outputs": [],
   "source": [
    "clusters_CH3NH2_H2O = read_systems(definition_CH3NH2_H2O, paths.clusters.CH3NH2_H2O)\n",
    "vibrational_modes_clusters_CH3NH2_H2O = read_multiple_vibrational_modes(paths.clusters.CH3NH2_H2O_modes)"
   ]
  },
  {
   "cell_type": "code",
   "execution_count": 6,
   "metadata": {},
   "outputs": [
    {
     "name": "stdout",
     "output_type": "stream",
     "text": [
      "\u001b[3mWill generate configurations over a linear temperature distribution from 10 K to 150 K.\u001b[0m\n",
      "\u001b[3mTemp Distribution: temp (au) = 0.0004433562 * x + 3.1668299999999996e-05 for x in range [0,1].\u001b[0m\n",
      "\u001b[33m\u001b[1mBeginning normal modes configuration generation.\u001b[0m\u001b[0m\n",
      "\u001b[3mWill generate 150 configs over the temperature distribution.\u001b[0m\n",
      "\u001b[3mGenerating Temperature Distribution Configs...\u001b[0m\n",
      "\u001b[92m\u001b[1mNormal Distribution Configuration generation complete! Generated 150 configs.\u001b[0m\u001b[0m\n",
      "\u001b[3mSingle negative frequency detected in input. This most likely means the given geometry is a transition state.\u001b[0m\n",
      "\u001b[3mWill generate configurations over a linear temperature distribution from 10 K to 150 K.\u001b[0m\n",
      "\u001b[3mTemp Distribution: temp (au) = 0.0004433562 * x + 3.1668299999999996e-05 for x in range [0,1].\u001b[0m\n",
      "\u001b[33m\u001b[1mBeginning normal modes configuration generation.\u001b[0m\u001b[0m\n",
      "\u001b[3mWill generate 150 configs over the temperature distribution.\u001b[0m\n",
      "\u001b[3mGenerating Temperature Distribution Configs...\u001b[0m\n",
      "\u001b[92m\u001b[1mNormal Distribution Configuration generation complete! Generated 150 configs.\u001b[0m\u001b[0m\n",
      "\u001b[3mWill generate configurations over a linear temperature distribution from 10 K to 150 K.\u001b[0m\n",
      "\u001b[3mTemp Distribution: temp (au) = 0.0004433562 * x + 3.1668299999999996e-05 for x in range [0,1].\u001b[0m\n",
      "\u001b[33m\u001b[1mBeginning normal modes configuration generation.\u001b[0m\u001b[0m\n",
      "\u001b[3mWill generate 150 configs over the temperature distribution.\u001b[0m\n",
      "\u001b[3mGenerating Temperature Distribution Configs...\u001b[0m\n",
      "\u001b[92m\u001b[1mNormal Distribution Configuration generation complete! Generated 150 configs.\u001b[0m\u001b[0m\n"
     ]
    }
   ],
   "source": [
    "configurations_vibrational_modes_CH3NH2_H2O = []\n",
    "\n",
    "for cluster, modes in zip(clusters_CH3NH2_H2O, vibrational_modes_clusters_CH3NH2_H2O):\n",
    "    configuration_generator = NormalModesConfigurationGenerator(\n",
    "            cluster,\n",
    "            modes,\n",
    "            distribution=\"linear\",\n",
    "            temperature=(10, 150)\n",
    "    )\n",
    "\n",
    "    configs = list(configuration_generator.generate_configurations(num_configs=150, seed=54321))\n",
    "    configurations_vibrational_modes_CH3NH2_H2O.extend(configs)\n",
    "    \n",
    "write_systems(paths.PIP_CH3NH2_H2O.configs.vibrational_modes, configurations_vibrational_modes_CH3NH2_H2O)"
   ]
  },
  {
   "cell_type": "code",
   "execution_count": null,
   "metadata": {},
   "outputs": [],
   "source": [
    "render_overlayed_systems(\n",
    "    configurations_vibrational_modes_CH3NH2_H2O,\n",
    "    centerer=lambda system: system.atoms[0].point,\n",
    "    aligner=lambda system: (system.atoms[4].point, system.atoms[1].point),\n",
    "    alpha=0.05,\n",
    "    num_to_show=25\n",
    ")"
   ]
  },
  {
   "cell_type": "markdown",
   "metadata": {},
   "source": [
    "Let's generate the second set of configurations for our training set, those from metadynamics configurations."
   ]
  },
  {
   "cell_type": "markdown",
   "metadata": {
    "tags": []
   },
   "source": [
    "## II.1.? Parallel-Bias Metadynamics Configuration Generation"
   ]
  },
  {
   "cell_type": "code",
   "execution_count": 7,
   "metadata": {},
   "outputs": [],
   "source": [
    "bond_params, angle_params, nonbonded_params = get_pbmetad_parameters(\n",
    "        clusters_CH3NH2_H2O[0]\n",
    ")"
   ]
  },
  {
   "cell_type": "code",
   "execution_count": 8,
   "metadata": {},
   "outputs": [
    {
     "data": {
      "text/plain": [
       "{('A', 'B'): (90, 1.0899397414464895),\n",
       " ('A', 'C'): (150, 1.486910273085358),\n",
       " ('C', 'D'): (90, 1.0326712127075615),\n",
       " ('E', 'F'): (90, 0.9893391033150292)}"
      ]
     },
     "execution_count": 8,
     "metadata": {},
     "output_type": "execute_result"
    }
   ],
   "source": [
    "bond_params"
   ]
  },
  {
   "cell_type": "code",
   "execution_count": 9,
   "metadata": {},
   "outputs": [
    {
     "data": {
      "text/plain": [
       "{('B', 'A', 'C'): (10, 110.4943292619306),\n",
       " ('A', 'C', 'D'): (10, 107.70357543974339),\n",
       " ('B', 'A', 'B'): (10, 108.41586747490726),\n",
       " ('F', 'E', 'F'): (10, 100.28909256644897),\n",
       " ('D', 'C', 'D'): (10, 104.65198159586903)}"
      ]
     },
     "execution_count": 9,
     "metadata": {},
     "output_type": "execute_result"
    }
   ],
   "source": [
    "angle_params"
   ]
  },
  {
   "cell_type": "code",
   "execution_count": 10,
   "metadata": {},
   "outputs": [
    {
     "data": {
      "text/plain": [
       "{'A': (0.03, 2.2),\n",
       " 'B': (0.01, 1.2),\n",
       " 'C': (0.03, 2.2),\n",
       " 'D': (0.01, 1.2),\n",
       " 'E': (0.03, 2.2),\n",
       " 'F': (0.01, 1.2)}"
      ]
     },
     "execution_count": 10,
     "metadata": {},
     "output_type": "execute_result"
    }
   ],
   "source": [
    "nonbonded_params"
   ]
  },
  {
   "cell_type": "code",
   "execution_count": 11,
   "metadata": {},
   "outputs": [],
   "source": [
    "charges = read_parameters(paths.Vphys.charges)\n",
    "charges = {symmetry: charges[symmetry]*1/3 for symmetry in charges}\n",
    "charges[\"E\"] = -0.6*1/3\n",
    "charges[\"F\"] = +0.3*1/3"
   ]
  },
  {
   "cell_type": "code",
   "execution_count": 12,
   "metadata": {},
   "outputs": [
    {
     "name": "stdout",
     "output_type": "stream",
     "text": [
      "PBMetaD already completed. Will not rerun!\n"
     ]
    }
   ],
   "source": [
    "perform_pbmetad_simulation(\n",
    "        lammps_executable_path,\n",
    "        [minimized_structure_CH3NH2, minimized_structure_H2O],\n",
    "        num_configs=500000,\n",
    "        sample_interval=10,\n",
    "        temperature=700,\n",
    "        seed=12345,\n",
    "        configurations_path=paths.PIP_CH3NH2_H2O.configs.pbmetad_pool,\n",
    "        bond_params=bond_params,\n",
    "        angle_params=angle_params,\n",
    "        nonbonded_params=nonbonded_params,\n",
    "        charges=charges,\n",
    "        pbmetad_workdir=paths.scratch.pbmetad_CH3NH2_H2O,\n",
    "        restart_path=paths.restart.pbmetad_CH3NH2_H2O,\n",
    "        min_intermolecular_distance=1.5,\n",
    "        max_intermolecular_distance=9.0\n",
    ")"
   ]
  },
  {
   "cell_type": "code",
   "execution_count": 13,
   "metadata": {},
   "outputs": [],
   "source": [
    "inner_cutoff_2b = 6.0\n",
    "outer_cutoff_2b = 7.0"
   ]
  },
  {
   "cell_type": "code",
   "execution_count": 14,
   "metadata": {},
   "outputs": [
    {
     "name": "stdout",
     "output_type": "stream",
     "text": [
      "Found 365549 within cutoff distance of 7.0\n"
     ]
    }
   ],
   "source": [
    "num_filtered_configs = filter_configs_by_cutoff(\n",
    "        definition_CH3NH2_H2O,\n",
    "        paths.PIP_CH3NH2_H2O.configs.pbmetad_pool,\n",
    "        threshold=outer_cutoff_2b,\n",
    "        filtered_path=paths.PIP_CH3NH2_H2O.configs.pbmetad_pool_filtered\n",
    ")"
   ]
  },
  {
   "cell_type": "code",
   "execution_count": 15,
   "metadata": {},
   "outputs": [],
   "source": [
    "split_pool(\n",
    "        definition_CH3NH2_H2O,\n",
    "        paths.PIP_CH3NH2_H2O.configs.pbmetad_pool_filtered,\n",
    "        pool_size=num_filtered_configs,\n",
    "        num_configs_to_split=200,\n",
    "        unsplit_path=paths.PIP_CH3NH2_H2O.configs.pbmetad_train_pool,\n",
    "        split_path=paths.PIP_CH3NH2_H2O.configs.pbmetad_test,\n",
    "        strategy=\"INTERVAL\",\n",
    ")"
   ]
  },
  {
   "cell_type": "code",
   "execution_count": 16,
   "metadata": {},
   "outputs": [
    {
     "name": "stdout",
     "output_type": "stream",
     "text": [
      "Phase1 already complete. Will not rerun.\n",
      "Phase2 already complete. Will not rerun.\n",
      "Selected 2566 total configs by FPS.\n"
     ]
    }
   ],
   "source": [
    "pbmetad_configs_CH3NH2_H2O = perform_fps(\n",
    "        definition_CH3NH2_H2O,\n",
    "        clusters_CH3NH2_H2O[0],\n",
    "        vibrational_modes_clusters_CH3NH2_H2O[0],\n",
    "        paths.PIP_CH3NH2_H2O.configs.pbmetad_train_pool,\n",
    "        num_pool_configs=num_filtered_configs-200,\n",
    "        num_phase1_input_configs=100000,\n",
    "        approx_configs_to_select=2000,\n",
    "        fps_workdir=paths.scratch.fps_CH3NH2_H2O,\n",
    "        restart_path=paths.restart.fps_CH3NH2_H2O,\n",
    "        num_threads=16\n",
    ")"
   ]
  },
  {
   "cell_type": "code",
   "execution_count": 63,
   "metadata": {},
   "outputs": [
    {
     "data": {
      "image/png": "[encoded data removed]",
      "text/plain": [
       "<Figure size 640x480 with 1 Axes>"
      ]
     },
     "execution_count": 63,
     "metadata": {},
     "output_type": "execute_result"
    }
   ],
   "source": [
    "render_overlayed_systems(\n",
    "    pbmetad_configs_CH3NH2_H2O,\n",
    "    centerer=lambda system: system.atoms[0].point,\n",
    "    aligner=lambda system: (system.atoms[4].point, system.atoms[3].point),\n",
    "    alpha=0.05,\n",
    "    num_to_show=100\n",
    ")"
   ]
  },
  {
   "cell_type": "code",
   "execution_count": 64,
   "metadata": {},
   "outputs": [],
   "source": [
    "write_systems(paths.PIP_CH3NH2_H2O.configs.pbmetad_train, pbmetad_configs_CH3NH2_H2O)"
   ]
  },
  {
   "cell_type": "markdown",
   "metadata": {},
   "source": [
    "## II.1.? Energy Calculation"
   ]
  },
  {
   "cell_type": "markdown",
   "metadata": {},
   "source": [
    "Next, we need to perform the electronic structure calculations with our chosen reference level of theory. We will use CCSD(T). Because this can be quite expensive and this tutorial is menat to be something that can be finished in a few hours, we have precomputed the energies for you. So we will just copy them over:"
   ]
  },
  {
   "cell_type": "code",
   "execution_count": 21,
   "metadata": {},
   "outputs": [],
   "source": [
    "calculator = Psi4Calculator(\n",
    "        \"MP2\",\n",
    "        \"def2-TZVP\",\n",
    "        log_directory=paths.logs,\n",
    "        scratch_directory=paths.scratch.psi4\n",
    ")"
   ]
  },
  {
   "cell_type": "code",
   "execution_count": 22,
   "metadata": {},
   "outputs": [
    {
     "name": "stdout",
     "output_type": "stream",
     "text": [
      "\u001b[1A\u001b[KEnergy calculation for n-mer (1,) in system 180 failed!=======                                                            | - 541/1350\n",
      "Running energy calculations |========================================                                                            | - 541/1350\n",
      "Error sending result: '<multiprocessing.pool.ExceptionWithTraceback object at 0x7f2236670250>'. Reason: 'TypeError(\"cannot pickle 'psi4.core.RHF' object\")'\n",
      "\u001b[1A\u001b[KEnergy calculation for n-mer (1,) in system 185 failed!========                                                           | - 556/1350\n",
      "Running energy calculations |=========================================                                                           | - 556/1350\n",
      "Error sending result: '<multiprocessing.pool.ExceptionWithTraceback object at 0x7f38c531c250>'. Reason: 'TypeError(\"cannot pickle 'psi4.core.RHF' object\")'\n",
      "\u001b[1A\u001b[KEnergy calculation for n-mer (1,) in system 189 failed!=========                                                          | - 568/1350\n",
      "Running energy calculations |==========================================                                                          | - 568/1350\n",
      "Error sending result: '<multiprocessing.pool.ExceptionWithTraceback object at 0x7f83ee350250>'. Reason: 'TypeError(\"cannot pickle 'psi4.core.RHF' object\")'\n",
      "\u001b[1A\u001b[KEnergy calculation for n-mer (1,) in system 192 failed!=========                                                          | - 577/1350\n",
      "Running energy calculations |==========================================                                                          | - 577/1350\n",
      "Error sending result: '<multiprocessing.pool.ExceptionWithTraceback object at 0x7f957e868250>'. Reason: 'TypeError(\"cannot pickle 'psi4.core.RHF' object\")'\n",
      "\u001b[1A\u001b[KEnergy calculation for n-mer (1,) in system 195 failed!==========                                                         | - 586/1350\n",
      "Running energy calculations |===========================================                                                         | - 586/1350\n",
      "Error sending result: '<multiprocessing.pool.ExceptionWithTraceback object at 0x7f931ac74250>'. Reason: 'TypeError(\"cannot pickle 'psi4.core.RHF' object\")'\n",
      "\u001b[1A\u001b[KEnergy calculation for n-mer (1,) in system 197 failed!==========                                                         | - 592/1350\n",
      "Running energy calculations |===========================================                                                         | - 592/1350\n",
      "Error sending result: '<multiprocessing.pool.ExceptionWithTraceback object at 0x7f5285bb4250>'. Reason: 'TypeError(\"cannot pickle 'psi4.core.RHF' object\")'\n",
      "\u001b[1A\u001b[KEnergy calculation for n-mer (1,) in system 200 failed!===========                                                        | - 601/1350\n",
      "Running energy calculations |============================================                                                        | - 601/1350\n",
      "Error sending result: '<multiprocessing.pool.ExceptionWithTraceback object at 0x7f6802298250>'. Reason: 'TypeError(\"cannot pickle 'psi4.core.RHF' object\")'\n",
      "\u001b[1A\u001b[KEnergy calculation for n-mer (1,) in system 203 failed!============                                                       | - 610/1350\n",
      "Running energy calculations |=============================================                                                       | - 610/1350\n",
      "Error sending result: '<multiprocessing.pool.ExceptionWithTraceback object at 0x7f90aacb8250>'. Reason: 'TypeError(\"cannot pickle 'psi4.core.RHF' object\")'\n",
      "\u001b[1A\u001b[KEnergy calculation for n-mer (1,) in system 204 failed!============                                                       | - 613/1350\n",
      "Running energy calculations |=============================================                                                       | - 613/1350\n",
      "Error sending result: '<multiprocessing.pool.ExceptionWithTraceback object at 0x7f536cf14250>'. Reason: 'TypeError(\"cannot pickle 'psi4.core.RHF' object\")'\n",
      "\u001b[1A\u001b[KEnergy calculation for n-mer (1,) in system 212 failed!==============                                                     | - 637/1350\n",
      "Running energy calculations |===============================================                                                     | - 637/1350\n",
      "Error sending result: '<multiprocessing.pool.ExceptionWithTraceback object at 0x7f16e9bf4250>'. Reason: 'TypeError(\"cannot pickle 'psi4.core.RHF' object\")'\n",
      "\u001b[1A\u001b[KEnergy calculation for n-mer (1,) in system 214 failed!==============                                                     | - 643/1350\n",
      "Running energy calculations |===============================================                                                     | - 643/1350\n",
      "Error sending result: '<multiprocessing.pool.ExceptionWithTraceback object at 0x7fe588e54250>'. Reason: 'TypeError(\"cannot pickle 'psi4.core.RHF' object\")'\n",
      "\u001b[1A\u001b[KEnergy calculation for n-mer (1,) in system 218 failed!===============                                                    | - 655/1350\n",
      "Running energy calculations |================================================                                                    | - 655/1350\n",
      "Error sending result: '<multiprocessing.pool.ExceptionWithTraceback object at 0x7f08d1d1c250>'. Reason: 'TypeError(\"cannot pickle 'psi4.core.RHF' object\")'\n",
      "\u001b[1A\u001b[KEnergy calculation for n-mer (1,) in system 220 failed!===============                                                    | - 661/1350\n",
      "Running energy calculations |================================================                                                    | - 661/1350\n",
      "Error sending result: '<multiprocessing.pool.ExceptionWithTraceback object at 0x7f7ae6120250>'. Reason: 'TypeError(\"cannot pickle 'psi4.core.RHF' object\")'\n",
      "\u001b[1A\u001b[KEnergy calculation for n-mer (1,) in system 229 failed!=================                                                  | - 688/1350\n",
      "Running energy calculations |==================================================                                                  | - 688/1350\n",
      "Error sending result: '<multiprocessing.pool.ExceptionWithTraceback object at 0x7f418da78250>'. Reason: 'TypeError(\"cannot pickle 'psi4.core.RHF' object\")'\n",
      "\u001b[1A\u001b[KEnergy calculation for n-mer (1,) in system 241 failed!====================                                               | - 724/1350\n",
      "Running energy calculations |=====================================================                                               | - 724/1350\n",
      "Error sending result: '<multiprocessing.pool.ExceptionWithTraceback object at 0x7f75cf1a8250>'. Reason: 'TypeError(\"cannot pickle 'psi4.core.RHF' object\")'\n",
      "\u001b[1A\u001b[KEnergy calculation for n-mer (1,) in system 242 failed!====================                                               | - 727/1350\n",
      "Running energy calculations |=====================================================                                               | - 727/1350\n",
      "Error sending result: '<multiprocessing.pool.ExceptionWithTraceback object at 0x7f3e7b944250>'. Reason: 'TypeError(\"cannot pickle 'psi4.core.RHF' object\")'\n",
      "\u001b[1A\u001b[KEnergy calculation for n-mer (1,) in system 245 failed!=====================                                              | - 736/1350\n",
      "Running energy calculations |======================================================                                              | - 736/1350\n",
      "Error sending result: '<multiprocessing.pool.ExceptionWithTraceback object at 0x7f5da1584250>'. Reason: 'TypeError(\"cannot pickle 'psi4.core.RHF' object\")'\n",
      "\u001b[1A\u001b[KEnergy calculation for n-mer (1,) in system 246 failed!=====================                                              | - 739/1350\n",
      "Running energy calculations |======================================================                                              | - 739/1350\n",
      "Error sending result: '<multiprocessing.pool.ExceptionWithTraceback object at 0x7f96189ec250>'. Reason: 'TypeError(\"cannot pickle 'psi4.core.RHF' object\")'\n",
      "\u001b[1A\u001b[KEnergy calculation for n-mer (1,) in system 248 failed!======================                                             | - 745/1350\n",
      "Running energy calculations |=======================================================                                             | - 745/1350\n",
      "Error sending result: '<multiprocessing.pool.ExceptionWithTraceback object at 0x7f4c8695c250>'. Reason: 'TypeError(\"cannot pickle 'psi4.core.RHF' object\")'\n",
      "\u001b[1A\u001b[KEnergy calculation for n-mer (1,) in system 250 failed!======================                                             | - 751/1350\n",
      "Running energy calculations |=======================================================                                             | - 751/1350\n",
      "Error sending result: '<multiprocessing.pool.ExceptionWithTraceback object at 0x7f2a9bed0610>'. Reason: 'TypeError(\"cannot pickle 'psi4.core.RHF' object\")'\n",
      "\u001b[1A\u001b[KEnergy calculation for n-mer (1,) in system 252 failed!=======================                                            | - 757/1350\n",
      "Running energy calculations |========================================================                                            | - 757/1350\n",
      "Error sending result: '<multiprocessing.pool.ExceptionWithTraceback object at 0x7fcbb5630250>'. Reason: 'TypeError(\"cannot pickle 'psi4.core.RHF' object\")'\n",
      "\u001b[1A\u001b[KEnergy calculation for n-mer (1,) in system 253 failed!=======================                                            | - 760/1350\n",
      "Running energy calculations |========================================================                                            | - 760/1350\n",
      "Error sending result: '<multiprocessing.pool.ExceptionWithTraceback object at 0x7f4e50300250>'. Reason: 'TypeError(\"cannot pickle 'psi4.core.RHF' object\")'\n",
      "\u001b[1A\u001b[KEnergy calculation for n-mer (1,) in system 260 failed!========================                                           | - 781/1350\n",
      "Running energy calculations |=========================================================                                           | - 781/1350\n",
      "Error sending result: '<multiprocessing.pool.ExceptionWithTraceback object at 0x7f86d6998250>'. Reason: 'TypeError(\"cannot pickle 'psi4.core.RHF' object\")'\n",
      "\u001b[1A\u001b[KEnergy calculation for n-mer (1,) in system 261 failed!=========================                                          | - 784/1350\n",
      "Running energy calculations |==========================================================                                          | - 784/1350\n",
      "Error sending result: '<multiprocessing.pool.ExceptionWithTraceback object at 0x7fa57e088250>'. Reason: 'TypeError(\"cannot pickle 'psi4.core.RHF' object\")'\n",
      "\u001b[1A\u001b[KEnergy calculation for n-mer (1,) in system 267 failed!==========================                                         | - 802/1350\n",
      "Running energy calculations |===========================================================                                         | - 802/1350\n",
      "Error sending result: '<multiprocessing.pool.ExceptionWithTraceback object at 0x7f34ddb74250>'. Reason: 'TypeError(\"cannot pickle 'psi4.core.RHF' object\")'\n",
      "\u001b[1A\u001b[KEnergy calculation for n-mer (1,) in system 269 failed!==========================                                         | - 808/1350\n",
      "Running energy calculations |===========================================================                                         | - 808/1350\n",
      "Error sending result: '<multiprocessing.pool.ExceptionWithTraceback object at 0x7f6b1a060250>'. Reason: 'TypeError(\"cannot pickle 'psi4.core.RHF' object\")'\n",
      "\u001b[1A\u001b[KEnergy calculation for n-mer (1,) in system 271 failed!===========================                                        | - 814/1350\n",
      "Running energy calculations |============================================================                                        | - 814/1350\n",
      "Error sending result: '<multiprocessing.pool.ExceptionWithTraceback object at 0x7f3bad38c250>'. Reason: 'TypeError(\"cannot pickle 'psi4.core.RHF' object\")'\n",
      "\u001b[1A\u001b[KEnergy calculation for n-mer (1,) in system 273 failed!===========================                                        | - 820/1350\n",
      "Running energy calculations |============================================================                                        | - 820/1350\n",
      "Error sending result: '<multiprocessing.pool.ExceptionWithTraceback object at 0x7f168189c250>'. Reason: 'TypeError(\"cannot pickle 'psi4.core.RHF' object\")'\n",
      "\u001b[1A\u001b[KEnergy calculation for n-mer (1,) in system 274 failed!===========================                                        | - 823/1350\n",
      "Running energy calculations |============================================================                                        | - 823/1350\n",
      "Error sending result: '<multiprocessing.pool.ExceptionWithTraceback object at 0x7f0949dd4250>'. Reason: 'TypeError(\"cannot pickle 'psi4.core.RHF' object\")'\n",
      "\u001b[1A\u001b[KEnergy calculation for n-mer (1,) in system 279 failed!=============================                                      | - 838/1350\n",
      "Running energy calculations |==============================================================                                      | - 838/1350\n",
      "Error sending result: '<multiprocessing.pool.ExceptionWithTraceback object at 0x7ff5b0914250>'. Reason: 'TypeError(\"cannot pickle 'psi4.core.RHF' object\")'\n",
      "\u001b[1A\u001b[KEnergy calculation for n-mer (1,) in system 281 failed!=============================                                      | - 844/1350\n",
      "Running energy calculations |==============================================================                                      | - 844/1350\n",
      "Error sending result: '<multiprocessing.pool.ExceptionWithTraceback object at 0x7f10dae94250>'. Reason: 'TypeError(\"cannot pickle 'psi4.core.RHF' object\")'\n",
      "\u001b[1A\u001b[KEnergy calculation for n-mer (1,) in system 284 failed!==============================                                     | - 853/1350\n",
      "Running energy calculations |===============================================================                                     | - 853/1350\n",
      "Error sending result: '<multiprocessing.pool.ExceptionWithTraceback object at 0x7f7622ab4250>'. Reason: 'TypeError(\"cannot pickle 'psi4.core.RHF' object\")'\n",
      "\u001b[1A\u001b[KEnergy calculation for n-mer (1,) in system 285 failed!==============================                                     | - 856/1350\n",
      "Running energy calculations |===============================================================                                     | - 856/1350\n",
      "Error sending result: '<multiprocessing.pool.ExceptionWithTraceback object at 0x7f3cea76c250>'. Reason: 'TypeError(\"cannot pickle 'psi4.core.RHF' object\")'\n",
      "\u001b[1A\u001b[KEnergy calculation for n-mer (1,) in system 286 failed!==============================                                     | - 859/1350\n",
      "Running energy calculations |===============================================================                                     | - 859/1350\n",
      "Error sending result: '<multiprocessing.pool.ExceptionWithTraceback object at 0x7fa54ec4c250>'. Reason: 'TypeError(\"cannot pickle 'psi4.core.RHF' object\")'\n",
      "\u001b[1A\u001b[KEnergy calculation for n-mer (1,) in system 290 failed!===============================                                    | - 871/1350\n",
      "Running energy calculations |================================================================                                    | - 871/1350\n",
      "Error sending result: '<multiprocessing.pool.ExceptionWithTraceback object at 0x7f6356ad4250>'. Reason: 'TypeError(\"cannot pickle 'psi4.core.RHF' object\")'\n",
      "\u001b[1A\u001b[KEnergy calculation for n-mer (1,) in system 291 failed!===============================                                    | - 874/1350\n",
      "Running energy calculations |================================================================                                    | - 874/1350\n",
      "Error sending result: '<multiprocessing.pool.ExceptionWithTraceback object at 0x7fe69ca14250>'. Reason: 'TypeError(\"cannot pickle 'psi4.core.RHF' object\")'\n",
      "\u001b[1A\u001b[KEnergy calculation for n-mer (1,) in system 298 failed!=================================                                  | - 895/1350\n",
      "Running energy calculations |==================================================================                                  | - 895/1350\n",
      "Error sending result: '<multiprocessing.pool.ExceptionWithTraceback object at 0x7f26bc1f4250>'. Reason: 'TypeError(\"cannot pickle 'psi4.core.RHF' object\")'\n",
      "\u001b[1A\u001b[KEnergy calculation for n-mer (1,) in system 436 failed!===============================================================    | - 1309/1350\n",
      "Running energy calculations |================================================================================================    | - 1309/1350\n",
      "Error sending result: '<multiprocessing.pool.ExceptionWithTraceback object at 0x7fb1720d0610>'. Reason: 'TypeError(\"cannot pickle 'psi4.core.RHF' object\")'\n",
      "Running energy calculations |====================================================================================================| - 1350/1350\n",
      "\u001b[92m\u001b[1mCompleted n-mer energy calculations!\u001b[0m\u001b[0m\n"
     ]
    }
   ],
   "source": [
    "energies_vibrational_modes_CH3NH2_H2O = calculate_nmer_energies(\n",
    "        configurations_vibrational_modes_CH3NH2_H2O,\n",
    "        calculator,\n",
    "        paths.restart.energies_vibrational_mode_configs_CH3NH2_H2O,\n",
    "        # \"speedtest.rmme\",\n",
    "        num_threads=8,\n",
    "        mem_mb=8000,\n",
    "        error_on_any_failure=False\n",
    ")\n",
    "# write_systems_and_nmer_energies(paths.PIP_CH3NH2_H2O.configs.vibrational_modes_energies, (configurations_vibrational_modes_CH3NH2_H2O, energies_vibrational_modes_CH3NH2_H2O))"
   ]
  },
  {
   "cell_type": "code",
   "execution_count": null,
   "metadata": {},
   "outputs": [
    {
     "name": "stdout",
     "output_type": "stream",
     "text": [
      "Running energy calculations |=================================================================                                   | - 5062/7698\r"
     ]
    },
    {
     "name": "stderr",
     "output_type": "stream",
     "text": [
      "IOPub message rate exceeded.\n",
      "The Jupyter server will temporarily stop sending output\n",
      "to the client in order to avoid crashing it.\n",
      "To change this limit, set the config variable\n",
      "`--ServerApp.iopub_msg_rate_limit`.\n",
      "\n",
      "Current values:\n",
      "ServerApp.iopub_msg_rate_limit=1000.0 (msgs/sec)\n",
      "ServerApp.rate_limit_window=3.0 (secs)\n",
      "\n"
     ]
    },
    {
     "name": "stdout",
     "output_type": "stream",
     "text": [
      "Running energy calculations |========================================================================================            | - 6791/7698\r"
     ]
    }
   ],
   "source": [
    "energies_pbmetad_CH3NH2_H2O = calculate_nmer_energies(\n",
    "        pbmetad_configs_CH3NH2_H2O,\n",
    "        calculator,\n",
    "        paths.restart.energies_pbmetad_configs_CH3NH2_H2O,\n",
    "        num_threads=8,\n",
    "        mem_mb=8000\n",
    ")\n",
    "write_systems_and_nmer_energies(paths.PIP_CH3NH2_H2O.configs.pbmetad_train_energies, (pbmetad_configs_CH3NH2_H2O, energies_pbmetad_CH3NH2_H2O))"
   ]
  },
  {
   "cell_type": "code",
   "execution_count": 41,
   "metadata": {},
   "outputs": [],
   "source": [
    "energies_2b_vibrational_modes_CH3NH2_H2O = calculate_many_body_energies(\n",
    "    configurations_vibrational_modes_CH3NH2_H2O,\n",
    "    energies_vibrational_modes_CH3NH2_H2O,\n",
    "    minimized_monomer_energies=[minimized_energy_CH3NH2, minimized_energy_H2O]\n",
    ")\n",
    "\n",
    "energies_2b_pbmetad_CH3NH2_H2O = calculate_many_body_energies(\n",
    "    pbmetad_configs_CH3NH2_H2O,\n",
    "    energies_pbmetad_CH3NH2_H2O,\n",
    "    minimized_monomer_energies=[minimized_energy_CH3NH2, minimized_energy_H2O]\n",
    ")"
   ]
  },
  {
   "cell_type": "code",
   "execution_count": 42,
   "metadata": {},
   "outputs": [],
   "source": [
    "write_training_set_file(\n",
    "        paths.PIP_CH3NH2_H2O.training_set,\n",
    "        (\n",
    "                [*configurations_vibrational_modes_CH3NH2_H2O, *pbmetad_configs_CH3NH2_H2O],\n",
    "                [*energies_1b_vibrational_modes_CH3NH2_H2O, *energies_1b_pbmetad_CH3NH2_H2O],\n",
    "                [*energies_1b_vibrational_modes_CH3NH2_H2O, *energies_1b_pbmetad_CH3NH2_H2O],\n",
    "        )\n",
    ")"
   ]
  },
  {
   "cell_type": "code",
   "execution_count": 43,
   "metadata": {},
   "outputs": [
    {
     "data": {
      "text/plain": [
       "(0.07426190999831306, 148.74226191000344)"
      ]
     },
     "execution_count": 43,
     "metadata": {},
     "output_type": "execute_result"
    }
   ],
   "source": [
    "min(energies_2b_vibrational_modes_CH3NH2_H2O), max(energies_2b_vibrational_modes_CH3NH2_H2O)"
   ]
  },
  {
   "cell_type": "code",
   "execution_count": 44,
   "metadata": {},
   "outputs": [
    {
     "data": {
      "text/plain": [
       "(46.52726190999965, 537.3892619100006)"
      ]
     },
     "execution_count": 44,
     "metadata": {},
     "output_type": "execute_result"
    }
   ],
   "source": [
    "min(energies_2b_pbmetad_CH3NH2_H2O), max(energies_2b_pbmetad_CH3NH2_H2O)"
   ]
  }
 ],
 "metadata": {
  "kernelspec": {
   "display_name": "Python 3 (ipykernel)",
   "language": "python",
   "name": "python3"
  },
  "language_info": {
   "codemirror_mode": {
    "name": "ipython",
    "version": 3
   },
   "file_extension": ".py",
   "mimetype": "text/x-python",
   "name": "python",
   "nbconvert_exporter": "python",
   "pygments_lexer": "ipython3",
   "version": "3.10.9"
  }
 },
 "nbformat": 4,
 "nbformat_minor": 4
}
