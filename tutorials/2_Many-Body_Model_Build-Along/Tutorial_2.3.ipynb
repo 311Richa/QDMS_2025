{
 "cells": [
  {
   "cell_type": "markdown",
   "metadata": {
    "tags": []
   },
   "source": [
    "# 2.2: Two-Body Potential Energy Surface"
   ]
  },
  {
   "cell_type": "markdown",
   "metadata": {},
   "source": [
    "Next, we will parameterize the \"physical baseline\" ($V_{phys}$) of the PEF."
   ]
  },
  {
   "cell_type": "markdown",
   "metadata": {},
   "source": [
    "In this section, we construct, from scratch, a 1-body MB-nrg-style PEF for CH3-NH2."
   ]
  },
  {
   "cell_type": "markdown",
   "metadata": {
    "tags": []
   },
   "source": [
    "## 2.1.0 Definitions and Imports"
   ]
  },
  {
   "cell_type": "code",
   "execution_count": 11,
   "metadata": {},
   "outputs": [
    {
     "name": "stdout",
     "output_type": "stream",
     "text": [
      "The autoreload extension is already loaded. To reload it, use:\n",
      "  %reload_ext autoreload\n"
     ]
    }
   ],
   "source": [
    "%run Tutorial_2_Imports.ipynb"
   ]
  },
  {
   "cell_type": "code",
   "execution_count": 26,
   "metadata": {},
   "outputs": [
    {
     "name": "stdout",
     "output_type": "stream",
     "text": [
      "The autoreload extension is already loaded. To reload it, use:\n",
      "  %reload_ext autoreload\n"
     ]
    }
   ],
   "source": [
    "%run Tutorial_2_Paths.ipynb"
   ]
  },
  {
   "cell_type": "markdown",
   "metadata": {},
   "source": [
    "Let's generate the second set of configurations for our training set, those from metadynamics configurations."
   ]
  },
  {
   "cell_type": "markdown",
   "metadata": {
    "tags": []
   },
   "source": [
    "## II.1.? Parallel-Bias Metadynamics Configuration Generation"
   ]
  },
  {
   "cell_type": "code",
   "execution_count": 3,
   "metadata": {},
   "outputs": [],
   "source": [
    "definition_CH3NH2 = read_definition(paths.definitions.systems.CH3NH2)\n",
    "minimized_structure_CH3NH2 = read_system(definition_CH3NH2, paths.structures.minimized_CH3NH2)\n",
    "\n",
    "definition_H2O = read_definition(paths.definitions.systems.H2O)\n",
    "minimized_structure_H2O = read_system(definition_H2O, paths.structures.minimized_H2O)\n",
    "\n",
    "definition_CH3NH2_H2O = read_definition(paths.definitions.systems.CH3NH2_H2O)\n",
    "\n",
    "dimer_struture = read_systems(definition_CH3NH2_H2O, paths.clusters.CH3NH2_H2O)[0]"
   ]
  },
  {
   "cell_type": "code",
   "execution_count": 19,
   "metadata": {},
   "outputs": [],
   "source": [
    "calculator = Psi4Calculator(\"HF\", \"STO-3G\", log_directory=f\"{paths.logs}\")"
   ]
  },
  {
   "cell_type": "code",
   "execution_count": null,
   "metadata": {},
   "outputs": [],
   "source": [
    "vibrational_modes_CH3NH2_H2O = calculate_vibrational_modes(\n",
    "        dimer_struture,\n",
    "        calculator,\n",
    "        get_qchem_job_manager(paths.jobs),\n",
    "        paths.restart.vibrational_modes_CH3NH2_H2O,\n",
    "        16,\n",
    "        32000\n",
    ")\n",
    "write_vibrational_modes(paths.PIP_CH3NH2_H2O.vibrational_modes_CH3NH2_H2O, vibrational_modes_CH3NH2_H2O)"
   ]
  },
  {
   "cell_type": "code",
   "execution_count": 4,
   "metadata": {},
   "outputs": [],
   "source": [
    "bond_params, angle_params, nonbonded_params = get_pbmetad_parameters(\n",
    "        dimer_struture\n",
    ")"
   ]
  },
  {
   "cell_type": "code",
   "execution_count": 5,
   "metadata": {},
   "outputs": [
    {
     "data": {
      "text/plain": [
       "{('A', 'B'): (30, 1.0899486044930917),\n",
       " ('A', 'C'): (50, 1.4870216225214954),\n",
       " ('C', 'D'): (30, 1.0327059940972794),\n",
       " ('E', 'F'): (30, 0.9893584176464172)}"
      ]
     },
     "execution_count": 5,
     "metadata": {},
     "output_type": "execute_result"
    }
   ],
   "source": [
    "bond_params"
   ]
  },
  {
   "cell_type": "code",
   "execution_count": 6,
   "metadata": {},
   "outputs": [
    {
     "data": {
      "text/plain": [
       "{('B', 'A', 'B'): (10, 108.41073323121982),\n",
       " ('B', 'A', 'C'): (10, 110.49967007185985),\n",
       " ('D', 'C', 'D'): (10, 104.64302138506169),\n",
       " ('A', 'C', 'D'): (10, 107.6893579030835),\n",
       " ('F', 'E', 'F'): (10, 100.26000827451064)}"
      ]
     },
     "execution_count": 6,
     "metadata": {},
     "output_type": "execute_result"
    }
   ],
   "source": [
    "angle_params"
   ]
  },
  {
   "cell_type": "code",
   "execution_count": 7,
   "metadata": {},
   "outputs": [
    {
     "data": {
      "text/plain": [
       "{'A': (0.03, 2.4),\n",
       " 'B': (0.01, 1.2),\n",
       " 'C': (0.03, 2.4),\n",
       " 'D': (0.01, 1.2),\n",
       " 'E': (0.03, 2.4),\n",
       " 'F': (0.01, 1.2)}"
      ]
     },
     "execution_count": 7,
     "metadata": {},
     "output_type": "execute_result"
    }
   ],
   "source": [
    "nonbonded_params"
   ]
  },
  {
   "cell_type": "code",
   "execution_count": 8,
   "metadata": {},
   "outputs": [],
   "source": [
    "charges = read_parameters(paths.Vphys.charges)\n",
    "charges = {symmetry: charges[symmetry]*1/3 for symmetry in charges}\n",
    "charges[\"E\"] = -0.6*1/3\n",
    "charges[\"F\"] = +0.3*1/3"
   ]
  },
  {
   "cell_type": "code",
   "execution_count": 16,
   "metadata": {},
   "outputs": [
    {
     "name": "stdout",
     "output_type": "stream",
     "text": [
      "PBMetaD already completed. Will not rerun!\n",
      "Converting PBMetaD trajectory to XYZ...\n"
     ]
    }
   ],
   "source": [
    "perform_pbmetad_simulation(\n",
    "        lammps_executable_path,\n",
    "        [minimized_structure_CH3NH2, minimized_structure_H2O],\n",
    "        num_configs=500000,\n",
    "        sample_interval=10,\n",
    "        temperature=700,\n",
    "        seed=12345,\n",
    "        configurations_path=paths.PIP_CH3NH2_H2O.configs.pbmetad_pool,\n",
    "        bond_params=bond_params,\n",
    "        angle_params=angle_params,\n",
    "        nonbonded_params=nonbonded_params,\n",
    "        charges=charges,\n",
    "        pbmetad_workdir=paths.scratch.pbmetad_CH3NH2_H2O,\n",
    "        restart_path=paths.restart.pbmetad_CH3NH2_H2O\n",
    ")"
   ]
  },
  {
   "cell_type": "code",
   "execution_count": 17,
   "metadata": {},
   "outputs": [],
   "source": [
    "split_pool(\n",
    "        definition_CH3NH2_H2O,\n",
    "        paths.PIP_CH3NH2_H2O.configs.pbmetad_pool,\n",
    "        pool_size=500000,\n",
    "        num_configs_to_split=200,\n",
    "        unsplit_path=paths.PIP_CH3NH2_H2O.configs.pbmetad_train_pool,\n",
    "        split_path=paths.PIP_CH3NH2_H2O.configs.pbmetad_test,\n",
    "        strategy=\"INTERVAL\",\n",
    ")"
   ]
  },
  {
   "cell_type": "code",
   "execution_count": 28,
   "metadata": {},
   "outputs": [
    {
     "name": "stdout",
     "output_type": "stream",
     "text": [
      "Number of permutations: 24\n",
      "Beginning featurization...\n",
      "Featurization progress: |====================================================================================================| - 399800/399800\n",
      "Featurized 399800 configurations.\n",
      "Initializing round 2 FPS...\n",
      "BallTree built!\n",
      "Performing round 2 FPS...\n",
      "Round 2 FPS iterations: 425\n",
      "Completed round 2 fps, selected 425 configs.\n"
     ]
    }
   ],
   "source": [
    "pbmetad_configs_CH3NH2_H2O = perform_fps(\n",
    "        definition_CH3NH2_H2O,\n",
    "        dimer_struture,\n",
    "        vibrational_modes_CH3NH2_H2O,\n",
    "        paths.PIP_CH3NH2_H2O.configs.pbmetad_train_pool,\n",
    "        num_pool_configs=500000-200,\n",
    "        num_phase1_input_configs=100000,\n",
    "        approx_configs_to_select=1000,\n",
    "        fps_workdir=paths.scratch.fps_CH3NH2_H2O,\n",
    "        restart_path=paths.restart.fps_CH3NH2_H2O,\n",
    "        num_threads=16\n",
    ")"
   ]
  },
  {
   "cell_type": "code",
   "execution_count": 29,
   "metadata": {},
   "outputs": [
    {
     "data": {
      "image/png": "[encoded data removed]",
      "text/plain": [
       "<Figure size 640x480 with 1 Axes>"
      ]
     },
     "execution_count": 29,
     "metadata": {},
     "output_type": "execute_result"
    }
   ],
   "source": [
    "render_overlayed_systems(\n",
    "    pbmetad_configs_CH3NH2_H2O,\n",
    "    centerer=lambda system: system.atoms[0].point,\n",
    "    aligner=lambda system: (system.atoms[4].point, system.atoms[3].point),\n",
    "    alpha=0.03,\n",
    "    num_to_show=100\n",
    ")"
   ]
  },
  {
   "cell_type": "code",
   "execution_count": 33,
   "metadata": {},
   "outputs": [],
   "source": [
    "write_systems(paths.PIP_CH3NH2_H2O.configs.pbmetad_train, pbmetad_configs_CH3NH2_H2O)"
   ]
  }
 ],
 "metadata": {
  "kernelspec": {
   "display_name": "Python 3 (ipykernel)",
   "language": "python",
   "name": "python3"
  },
  "language_info": {
   "codemirror_mode": {
    "name": "ipython",
    "version": 3
   },
   "file_extension": ".py",
   "mimetype": "text/x-python",
   "name": "python",
   "nbconvert_exporter": "python",
   "pygments_lexer": "ipython3",
   "version": "3.10.10"
  }
 },
 "nbformat": 4,
 "nbformat_minor": 4
}
