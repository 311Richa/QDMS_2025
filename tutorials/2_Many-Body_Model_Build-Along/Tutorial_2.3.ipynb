{
 "cells": [
  {
   "cell_type": "markdown",
   "metadata": {
    "tags": []
   },
   "source": [
    "# 2.2: Two-Body Potential Energy Surface"
   ]
  },
  {
   "cell_type": "markdown",
   "metadata": {},
   "source": [
    "Next, we will parameterize the \"physical baseline\" ($V_{phys}$) of the PEF."
   ]
  },
  {
   "cell_type": "markdown",
   "metadata": {},
   "source": [
    "In this section, we construct, from scratch, a 1-body MB-nrg-style PEF for CH3-NH2."
   ]
  },
  {
   "cell_type": "markdown",
   "metadata": {
    "tags": []
   },
   "source": [
    "## 2.1.0 Definitions and Imports"
   ]
  },
  {
   "cell_type": "code",
   "execution_count": 1,
   "metadata": {},
   "outputs": [],
   "source": [
    "%run Tutorial_2_Imports.ipynb"
   ]
  },
  {
   "cell_type": "code",
   "execution_count": 2,
   "metadata": {},
   "outputs": [
    {
     "name": "stdout",
     "output_type": "stream",
     "text": [
      "The autoreload extension is already loaded. To reload it, use:\n",
      "  %reload_ext autoreload\n"
     ]
    }
   ],
   "source": [
    "%run Tutorial_2_Paths.ipynb"
   ]
  },
  {
   "cell_type": "markdown",
   "metadata": {
    "tags": []
   },
   "source": [
    "## II.1.? Normal Modes Configuration Generation"
   ]
  },
  {
   "cell_type": "code",
   "execution_count": 3,
   "metadata": {},
   "outputs": [],
   "source": [
    "definition_CH3NH2 = read_definition(paths.definitions.systems.CH3NH2)\n",
    "minimized_structure_CH3NH2, minimized_energy_CH3NH2 = read_system_and_energy(definition_CH3NH2, paths.structures.minimized_CH3NH2)\n",
    "\n",
    "definition_H2O = read_definition(paths.definitions.systems.H2O)\n",
    "minimized_structure_H2O, minimized_energy_H2O = read_system_and_energy(definition_H2O, paths.structures.minimized_H2O)\n",
    "\n",
    "definition_CH3NH2_H2O = read_definition(paths.definitions.systems.CH3NH2_H2O)"
   ]
  },
  {
   "cell_type": "code",
   "execution_count": 4,
   "metadata": {},
   "outputs": [],
   "source": [
    "clusters_CH3NH2_H2O = read_systems(definition_CH3NH2_H2O, paths.clusters.CH3NH2_H2O)\n",
    "vibrational_modes_clusters_CH3NH2_H2O = read_multiple_vibrational_modes(paths.clusters.CH3NH2_H2O_modes)"
   ]
  },
  {
   "cell_type": "code",
   "execution_count": 5,
   "metadata": {},
   "outputs": [
    {
     "name": "stdout",
     "output_type": "stream",
     "text": [
      "\u001b[3mWill generate configurations over a linear temperature distribution from 10 K to 150 K.\u001b[0m\n",
      "\u001b[3mTemp Distribution: temp (au) = 0.0004433562 * x + 3.1668299999999996e-05 for x in range [0,1].\u001b[0m\n",
      "\u001b[33m\u001b[1mBeginning normal modes configuration generation.\u001b[0m\u001b[0m\n",
      "\u001b[3mWill generate 150 configs over the temperature distribution.\u001b[0m\n",
      "\u001b[3mGenerating Temperature Distribution Configs...\u001b[0m\n",
      "\u001b[92m\u001b[1mNormal Distribution Configuration generation complete! Generated 150 configs.\u001b[0m\u001b[0m\n",
      "\u001b[3mSingle negative frequency detected in input. This most likely means the given geometry is a transition state.\u001b[0m\n",
      "\u001b[3mWill generate configurations over a linear temperature distribution from 10 K to 150 K.\u001b[0m\n",
      "\u001b[3mTemp Distribution: temp (au) = 0.0004433562 * x + 3.1668299999999996e-05 for x in range [0,1].\u001b[0m\n",
      "\u001b[33m\u001b[1mBeginning normal modes configuration generation.\u001b[0m\u001b[0m\n",
      "\u001b[3mWill generate 150 configs over the temperature distribution.\u001b[0m\n",
      "\u001b[3mGenerating Temperature Distribution Configs...\u001b[0m\n",
      "\u001b[92m\u001b[1mNormal Distribution Configuration generation complete! Generated 150 configs.\u001b[0m\u001b[0m\n",
      "\u001b[3mWill generate configurations over a linear temperature distribution from 10 K to 150 K.\u001b[0m\n",
      "\u001b[3mTemp Distribution: temp (au) = 0.0004433562 * x + 3.1668299999999996e-05 for x in range [0,1].\u001b[0m\n",
      "\u001b[33m\u001b[1mBeginning normal modes configuration generation.\u001b[0m\u001b[0m\n",
      "\u001b[3mWill generate 150 configs over the temperature distribution.\u001b[0m\n",
      "\u001b[3mGenerating Temperature Distribution Configs...\u001b[0m\n",
      "\u001b[92m\u001b[1mNormal Distribution Configuration generation complete! Generated 150 configs.\u001b[0m\u001b[0m\n"
     ]
    }
   ],
   "source": [
    "configurations_vibrational_modes_CH3NH2_H2O = []\n",
    "\n",
    "for cluster, modes in zip(clusters_CH3NH2_H2O, vibrational_modes_clusters_CH3NH2_H2O):\n",
    "    configuration_generator = NormalModesConfigurationGenerator(\n",
    "            cluster,\n",
    "            modes,\n",
    "            distribution=\"linear\",\n",
    "            temperature=(10, 150)\n",
    "    )\n",
    "\n",
    "    configs = list(configuration_generator.generate_configurations(num_configs=150, seed=54321))\n",
    "    configurations_vibrational_modes_CH3NH2_H2O.extend(configs)\n",
    "    \n",
    "write_systems(paths.PIP_CH3NH2_H2O.configs.vibrational_modes, configurations_vibrational_modes_CH3NH2_H2O)"
   ]
  },
  {
   "cell_type": "code",
   "execution_count": 6,
   "metadata": {},
   "outputs": [
    {
     "data": {
      "image/png": "[encoded data removed]",
      "text/plain": [
       "<Figure size 640x480 with 1 Axes>"
      ]
     },
     "execution_count": 6,
     "metadata": {},
     "output_type": "execute_result"
    }
   ],
   "source": [
    "render_overlayed_systems(\n",
    "    configurations_vibrational_modes_CH3NH2_H2O,\n",
    "    centerer=lambda system: system.atoms[0].point,\n",
    "    aligner=lambda system: (system.atoms[4].point, system.atoms[1].point),\n",
    "    alpha=0.05,\n",
    "    num_to_show=25\n",
    ")"
   ]
  },
  {
   "cell_type": "markdown",
   "metadata": {},
   "source": [
    "## II.1.? Random Distance "
   ]
  },
  {
   "cell_type": "markdown",
   "metadata": {},
   "source": [
    "RANDOM CONFIGS!"
   ]
  },
  {
   "cell_type": "code",
   "execution_count": 7,
   "metadata": {},
   "outputs": [],
   "source": [
    "vibrational_modes_CH3NH2 = read_vibrational_modes(paths.structures.vibrational_modes_CH3NH2)"
   ]
  },
  {
   "cell_type": "code",
   "execution_count": 9,
   "metadata": {},
   "outputs": [],
   "source": [
    "vibrational_modes_H2O = read_vibrational_modes(paths.structures.vibrational_modes_H2O)"
   ]
  },
  {
   "cell_type": "code",
   "execution_count": 10,
   "metadata": {},
   "outputs": [
    {
     "name": "stdout",
     "output_type": "stream",
     "text": [
      "\u001b[3mWill generate configurations over a piecewise temperature distribution.\u001b[0m\n",
      "\u001b[3mTemp Distribution: temp (au) = x < 0.05 : 0.0001644078210115607 | x < 0.45 : 0.0008220391050578035 | x < 0.75 : 0.001644078210115607 | x < 0.95 : 0.003288156420231214 | otherwise : 0.008220391050578035 for x in range [0,1].\u001b[0m\n",
      "\u001b[33m\u001b[1mBeginning normal modes configuration generation.\u001b[0m\u001b[0m\n",
      "\u001b[3mWill generate 500 configs over the temperature distribution.\u001b[0m\n",
      "\u001b[3mGenerating Temperature Distribution Configs...\u001b[0m\n",
      "\u001b[92m\u001b[1mNormal Distribution Configuration generation complete! Generated 500 configs.\u001b[0m\u001b[0m\n"
     ]
    }
   ],
   "source": [
    "generator_CH3NH2 = NormalModesConfigurationGenerator(\n",
    "        minimized_structure_CH3NH2,\n",
    "        vibrational_modes_CH3NH2,\n",
    ")\n",
    "\n",
    "monomer_configs_CH3NH2 = list(generator_CH3NH2.generate_configurations(num_configs=500, seed=54321))"
   ]
  },
  {
   "cell_type": "code",
   "execution_count": 11,
   "metadata": {},
   "outputs": [
    {
     "name": "stdout",
     "output_type": "stream",
     "text": [
      "\u001b[3mWill generate configurations over a piecewise temperature distribution.\u001b[0m\n",
      "\u001b[3mTemp Distribution: temp (au) = x < 0.05 : 0.00017994063671326814 | x < 0.45 : 0.0008997031835663407 | x < 0.75 : 0.0017994063671326814 | x < 0.95 : 0.0035988127342653628 | otherwise : 0.008997031835663407 for x in range [0,1].\u001b[0m\n",
      "\u001b[33m\u001b[1mBeginning normal modes configuration generation.\u001b[0m\u001b[0m\n",
      "\u001b[3mWill generate 500 configs over the temperature distribution.\u001b[0m\n",
      "\u001b[3mGenerating Temperature Distribution Configs...\u001b[0m\n",
      "\u001b[92m\u001b[1mNormal Distribution Configuration generation complete! Generated 500 configs.\u001b[0m\u001b[0m\n"
     ]
    }
   ],
   "source": [
    "generator_H2O = NormalModesConfigurationGenerator(\n",
    "        minimized_structure_H2O,\n",
    "        vibrational_modes_H2O,\n",
    ")\n",
    "\n",
    "monomer_configs_H2O = list(generator_H2O.generate_configurations(num_configs=500, seed=54321))"
   ]
  },
  {
   "cell_type": "code",
   "execution_count": 5,
   "metadata": {},
   "outputs": [],
   "source": [
    "# config_generator = RandomDistanceAndRotationConfigurationGenerator(\n",
    "#         [monomer_configs_CH3NH2, monomer_configs_H2O],\n",
    "#         radius=9.0,\n",
    "#         min_intermolecular_distance_factor=0.8,\n",
    "#         logarithmic=True,\n",
    "#         use_pools=True,\n",
    "#         num_attempts=100\n",
    "# )\n",
    "\n",
    "# random_configs_CH3NH2_H2O = list(config_generator.generate_configurations(\n",
    "#         num_configs=2000,\n",
    "#         seed=12345,\n",
    "# ))\n",
    "\n",
    "# write_systems(paths.PIP_CH3NH2_H2O.configs.random, random_configs_CH3NH2_H2O)\n",
    "random_configs_CH3NH2_H2O = read_systems(definition_CH3NH2_H2O, paths.PIP_CH3NH2_H2O.configs.random)"
   ]
  },
  {
   "cell_type": "markdown",
   "metadata": {
    "tags": []
   },
   "source": [
    "## II.1.? Parallel-Bias Metadynamics Configuration Generation"
   ]
  },
  {
   "cell_type": "markdown",
   "metadata": {},
   "source": [
    "Let's generate the second set of configurations for our training set, those from metadynamics configurations."
   ]
  },
  {
   "cell_type": "code",
   "execution_count": 7,
   "metadata": {},
   "outputs": [],
   "source": [
    "bond_params, angle_params, nonbonded_params = get_pbmetad_parameters(\n",
    "        clusters_CH3NH2_H2O[0]\n",
    ")"
   ]
  },
  {
   "cell_type": "code",
   "execution_count": 8,
   "metadata": {},
   "outputs": [
    {
     "data": {
      "text/plain": [
       "{('A', 'B'): (90, 1.0899397414464895),\n",
       " ('A', 'C'): (150, 1.486910273085358),\n",
       " ('C', 'D'): (90, 1.0326712127075615),\n",
       " ('E', 'F'): (90, 0.9893391033150292)}"
      ]
     },
     "execution_count": 8,
     "metadata": {},
     "output_type": "execute_result"
    }
   ],
   "source": [
    "bond_params"
   ]
  },
  {
   "cell_type": "code",
   "execution_count": 9,
   "metadata": {},
   "outputs": [
    {
     "data": {
      "text/plain": [
       "{('B', 'A', 'C'): (10, 110.4943292619306),\n",
       " ('A', 'C', 'D'): (10, 107.70357543974339),\n",
       " ('B', 'A', 'B'): (10, 108.41586747490726),\n",
       " ('F', 'E', 'F'): (10, 100.28909256644897),\n",
       " ('D', 'C', 'D'): (10, 104.65198159586903)}"
      ]
     },
     "execution_count": 9,
     "metadata": {},
     "output_type": "execute_result"
    }
   ],
   "source": [
    "angle_params"
   ]
  },
  {
   "cell_type": "code",
   "execution_count": 10,
   "metadata": {},
   "outputs": [
    {
     "data": {
      "text/plain": [
       "{'A': (0.03, 2.2),\n",
       " 'B': (0.01, 1.2),\n",
       " 'C': (0.03, 2.2),\n",
       " 'D': (0.01, 1.2),\n",
       " 'E': (0.03, 2.2),\n",
       " 'F': (0.01, 1.2)}"
      ]
     },
     "execution_count": 10,
     "metadata": {},
     "output_type": "execute_result"
    }
   ],
   "source": [
    "nonbonded_params"
   ]
  },
  {
   "cell_type": "code",
   "execution_count": 11,
   "metadata": {},
   "outputs": [],
   "source": [
    "charges = read_parameters(paths.Vphys.charges)\n",
    "charges = {symmetry: charges[symmetry]*1/3 for symmetry in charges}\n",
    "charges[\"E\"] = -0.6*1/3\n",
    "charges[\"F\"] = +0.3*1/3"
   ]
  },
  {
   "cell_type": "code",
   "execution_count": 12,
   "metadata": {},
   "outputs": [
    {
     "name": "stdout",
     "output_type": "stream",
     "text": [
      "PBMetaD already completed. Will not rerun!\n"
     ]
    }
   ],
   "source": [
    "perform_pbmetad_simulation(\n",
    "        lammps_executable_path,\n",
    "        [minimized_structure_CH3NH2, minimized_structure_H2O],\n",
    "        num_configs=500000,\n",
    "        sample_interval=10,\n",
    "        temperature=700,\n",
    "        seed=12345,\n",
    "        configurations_path=paths.PIP_CH3NH2_H2O.configs.pbmetad_pool,\n",
    "        bond_params=bond_params,\n",
    "        angle_params=angle_params,\n",
    "        nonbonded_params=nonbonded_params,\n",
    "        charges=charges,\n",
    "        pbmetad_workdir=paths.scratch.pbmetad_CH3NH2_H2O,\n",
    "        restart_path=paths.restart.pbmetad_CH3NH2_H2O,\n",
    "        min_intermolecular_distance=1.5,\n",
    "        max_intermolecular_distance=9.0\n",
    ")"
   ]
  },
  {
   "cell_type": "code",
   "execution_count": 13,
   "metadata": {},
   "outputs": [],
   "source": [
    "inner_cutoff_2b = 6.0\n",
    "outer_cutoff_2b = 7.0"
   ]
  },
  {
   "cell_type": "code",
   "execution_count": 14,
   "metadata": {},
   "outputs": [
    {
     "name": "stdout",
     "output_type": "stream",
     "text": [
      "Found 365549 within cutoff distance of 7.0\n"
     ]
    }
   ],
   "source": [
    "num_filtered_configs = filter_configs_by_cutoff(\n",
    "        definition_CH3NH2_H2O,\n",
    "        paths.PIP_CH3NH2_H2O.configs.pbmetad_pool,\n",
    "        threshold=outer_cutoff_2b,\n",
    "        filtered_path=paths.PIP_CH3NH2_H2O.configs.pbmetad_pool_filtered\n",
    ")"
   ]
  },
  {
   "cell_type": "code",
   "execution_count": 15,
   "metadata": {},
   "outputs": [],
   "source": [
    "split_pool(\n",
    "        definition_CH3NH2_H2O,\n",
    "        paths.PIP_CH3NH2_H2O.configs.pbmetad_pool_filtered,\n",
    "        pool_size=num_filtered_configs,\n",
    "        num_configs_to_split=200,\n",
    "        unsplit_path=paths.PIP_CH3NH2_H2O.configs.pbmetad_train_pool,\n",
    "        split_path=paths.PIP_CH3NH2_H2O.configs.pbmetad_test,\n",
    "        strategy=\"INTERVAL\",\n",
    ")"
   ]
  },
  {
   "cell_type": "code",
   "execution_count": 16,
   "metadata": {},
   "outputs": [
    {
     "name": "stdout",
     "output_type": "stream",
     "text": [
      "Phase1 already complete. Will not rerun.\n",
      "Phase2 already complete. Will not rerun.\n",
      "Selected 2566 total configs by FPS.\n"
     ]
    }
   ],
   "source": [
    "pbmetad_configs_CH3NH2_H2O = perform_fps(\n",
    "        definition_CH3NH2_H2O,\n",
    "        clusters_CH3NH2_H2O[0],\n",
    "        vibrational_modes_clusters_CH3NH2_H2O[0],\n",
    "        paths.PIP_CH3NH2_H2O.configs.pbmetad_train_pool,\n",
    "        num_pool_configs=num_filtered_configs-200,\n",
    "        num_phase1_input_configs=100000,\n",
    "        approx_configs_to_select=2000,\n",
    "        fps_workdir=paths.scratch.fps_CH3NH2_H2O,\n",
    "        restart_path=paths.restart.fps_CH3NH2_H2O,\n",
    "        num_threads=16\n",
    ")"
   ]
  },
  {
   "cell_type": "code",
   "execution_count": 63,
   "metadata": {},
   "outputs": [
    {
     "data": {
      "image/png": "[encoded data removed]",
      "text/plain": [
       "<Figure size 640x480 with 1 Axes>"
      ]
     },
     "execution_count": 63,
     "metadata": {},
     "output_type": "execute_result"
    }
   ],
   "source": [
    "render_overlayed_systems(\n",
    "    pbmetad_configs_CH3NH2_H2O,\n",
    "    centerer=lambda system: system.atoms[0].point,\n",
    "    aligner=lambda system: (system.atoms[4].point, system.atoms[3].point),\n",
    "    alpha=0.05,\n",
    "    num_to_show=100\n",
    ")"
   ]
  },
  {
   "cell_type": "code",
   "execution_count": 64,
   "metadata": {},
   "outputs": [],
   "source": [
    "write_systems(paths.PIP_CH3NH2_H2O.configs.pbmetad_train, pbmetad_configs_CH3NH2_H2O)"
   ]
  },
  {
   "cell_type": "markdown",
   "metadata": {},
   "source": [
    "## II.1.? Energy Calculation"
   ]
  },
  {
   "cell_type": "markdown",
   "metadata": {},
   "source": [
    "Next, we need to perform the electronic structure calculations with our chosen reference level of theory. We will use CCSD(T). Because this can be quite expensive and this tutorial is menat to be something that can be finished in a few hours, we have precomputed the energies for you. So we will just copy them over:"
   ]
  },
  {
   "cell_type": "code",
   "execution_count": 7,
   "metadata": {},
   "outputs": [],
   "source": [
    "calculator = Psi4Calculator(\n",
    "        \"MP2\",\n",
    "        \"def2-TZVP\",\n",
    "        log_directory=str(paths.logs),\n",
    "        scratch_directory=str(paths.scratch.psi4)\n",
    ")"
   ]
  },
  {
   "cell_type": "code",
   "execution_count": 100,
   "metadata": {},
   "outputs": [
    {
     "name": "stdout",
     "output_type": "stream",
     "text": [
      "Running energy calculations |====================================================================================================| - 1236/1236\n",
      "\u001b[92m\u001b[1mCompleted n-mer energy calculations!\u001b[0m\u001b[0m\n"
     ]
    }
   ],
   "source": [
    "energies_vibrational_modes_CH3NH2_H2O = calculate_nmer_energies(\n",
    "        configurations_vibrational_modes_CH3NH2_H2O,\n",
    "        calculator,\n",
    "        paths.restart.energies_vibrational_mode_configs_CH3NH2_H2O,\n",
    "        num_threads=8,\n",
    "        mem_mb=8000,\n",
    "        error_on_any_failure=False,\n",
    "        retrieve_only=True\n",
    ")\n",
    "write_systems_and_nmer_energies(paths.PIP_CH3NH2_H2O.configs.vibrational_modes_energies, (configurations_vibrational_modes_CH3NH2_H2O, energies_vibrational_modes_CH3NH2_H2O))"
   ]
  },
  {
   "cell_type": "code",
   "execution_count": null,
   "metadata": {},
   "outputs": [],
   "source": [
    "energies_pbmetad_CH3NH2_H2O = calculate_nmer_energies(\n",
    "        pbmetad_configs_CH3NH2_H2O,\n",
    "        calculator,\n",
    "        paths.restart.energies_pbmetad_configs_CH3NH2_H2O,\n",
    "        num_threads=8,\n",
    "        mem_mb=8000,\n",
    "        error_on_any_failure=False,\n",
    "        retrieve_only=True\n",
    ")\n",
    "write_systems_and_nmer_energies(paths.PIP_CH3NH2_H2O.configs.pbmetad_train_energies, (pbmetad_configs_CH3NH2_H2O, energies_pbmetad_CH3NH2_H2O))"
   ]
  },
  {
   "cell_type": "code",
   "execution_count": null,
   "metadata": {},
   "outputs": [
    {
     "name": "stdout",
     "output_type": "stream",
     "text": [
      "Running energy calculations |=====================================================                                               | - 3216/6000\r"
     ]
    }
   ],
   "source": [
    "energies_random_CH3NH2_H2O = calculate_nmer_energies(\n",
    "        random_configs_CH3NH2_H2O,\n",
    "        calculator,\n",
    "        paths.restart.energies_random_configs_CH3NH2_H2O,\n",
    "        num_threads=16,\n",
    "        mem_mb=16000,\n",
    "        error_on_any_failure=False,\n",
    "        retrieve_only=False\n",
    ")\n",
    "write_systems_and_nmer_energies(paths.PIP_CH3NH2_H2O.configs.random_energies, (random_configs_CH3NH2_H2O, energies_random_CH3NH2_H2O))"
   ]
  },
  {
   "cell_type": "code",
   "execution_count": 102,
   "metadata": {},
   "outputs": [
    {
     "name": "stdout",
     "output_type": "stream",
     "text": [
      "Checking for missing energies |====================================================================================================| - 412/412\n",
      "Found 37 systems with one or more missing n-mer energies. Remaining configurations: 375\n",
      "Checking for missing energies |====================================================================================================| - 2566/2566\n",
      "Found 0 systems with one or more missing n-mer energies. Remaining configurations: 2566\n"
     ]
    }
   ],
   "source": [
    "configurations_vibrational_modes_CH3NH2_H2O, energies_vibrational_modes_CH3NH2_H2O = discard_failed_configurations(\n",
    "        configurations_vibrational_modes_CH3NH2_H2O,\n",
    "        energies_vibrational_modes_CH3NH2_H2O\n",
    ")\n",
    "\n",
    "pbmetad_configs_CH3NH2_H2O, energies_pbmetad_CH3NH2_H2O = discard_failed_configurations(\n",
    "        pbmetad_configs_CH3NH2_H2O,\n",
    "        energies_pbmetad_CH3NH2_H2O\n",
    ")\n",
    "\n",
    "random_configs_CH3NH2_H2O, energies_random_CH3NH2_H2O = discard_failed_configurations(\n",
    "        random_configs_CH3NH2_H2O,\n",
    "        energies_random_CH3NH2_H2O\n",
    ")"
   ]
  },
  {
   "cell_type": "code",
   "execution_count": 103,
   "metadata": {},
   "outputs": [],
   "source": [
    "energies_2b_vibrational_modes_CH3NH2_H2O = calculate_many_body_energies(\n",
    "    configurations_vibrational_modes_CH3NH2_H2O,\n",
    "    energies_vibrational_modes_CH3NH2_H2O,\n",
    "    minimized_monomer_energies=[minimized_energy_CH3NH2, minimized_energy_H2O]\n",
    ")\n",
    "\n",
    "energies_2b_pbmetad_CH3NH2_H2O = calculate_many_body_energies(\n",
    "    pbmetad_configs_CH3NH2_H2O,\n",
    "    energies_pbmetad_CH3NH2_H2O,\n",
    "    minimized_monomer_energies=[minimized_energy_CH3NH2, minimized_energy_H2O]\n",
    ")\n",
    "\n",
    "energies_2b_random_CH3NH2_H2O = calculate_many_body_energies(\n",
    "    random_configs_CH3NH2_H2O,\n",
    "    energies_random_CH3NH2_H2O,\n",
    "    minimized_monomer_energies=[minimized_energy_CH3NH2, minimized_energy_H2O]\n",
    ")"
   ]
  },
  {
   "cell_type": "code",
   "execution_count": 104,
   "metadata": {},
   "outputs": [],
   "source": [
    "energies_binding_vibrational_modes_CH3NH2_H2O = calculate_binding_energies(\n",
    "    configurations_vibrational_modes_CH3NH2_H2O,\n",
    "    energies_vibrational_modes_CH3NH2_H2O,\n",
    "    minimized_monomer_energies=[minimized_energy_CH3NH2, minimized_energy_H2O]\n",
    ")\n",
    "\n",
    "energies_binding_pbmetad_CH3NH2_H2O = calculate_binding_energies(\n",
    "    pbmetad_configs_CH3NH2_H2O,\n",
    "    energies_pbmetad_CH3NH2_H2O,\n",
    "    minimized_monomer_energies=[minimized_energy_CH3NH2, minimized_energy_H2O]\n",
    ")\n",
    "\n",
    "energies_binding_random_CH3NH2_H2O = calculate_binding_energies(\n",
    "    random_configs_CH3NH2_H2O,\n",
    "    energies_random_CH3NH2_H2O,\n",
    "    minimized_monomer_energies=[minimized_energy_CH3NH2, minimized_energy_H2O]\n",
    ")"
   ]
  },
  {
   "cell_type": "code",
   "execution_count": 105,
   "metadata": {},
   "outputs": [],
   "source": [
    "write_training_set_file(\n",
    "        paths.PIP_CH3NH2_H2O.training_set,\n",
    "        (\n",
    "                [*configurations_vibrational_modes_CH3NH2_H2O, *pbmetad_configs_CH3NH2_H2O, *random_configs_CH3NH2_H2O],\n",
    "                [*energies_binding_vibrational_modes_CH3NH2_H2O, *energies_binding_pbmetad_CH3NH2_H2O, *energies_binding_random_CH3NH2_H2O],\n",
    "                [*energies_2b_vibrational_modes_CH3NH2_H2O, *energies_2b_pbmetad_CH3NH2_H2O, *energies_2b_random_CH3NH2_H2O],\n",
    "        )\n",
    ")"
   ]
  },
  {
   "cell_type": "markdown",
   "metadata": {},
   "source": [
    "## II.1.? Polynomial Generation"
   ]
  },
  {
   "cell_type": "code",
   "execution_count": 106,
   "metadata": {},
   "outputs": [],
   "source": [
    "pip_2b_max_order = 2"
   ]
  },
  {
   "cell_type": "code",
   "execution_count": null,
   "metadata": {},
   "outputs": [],
   "source": [
    "generate_polynomial(\n",
    "        definition_CH3NH2_H2O,\n",
    "        max_degree=pip_2b_max_order,\n",
    "        polynomial_info_path=paths.PIP_CH3NH2_H2O.PIP.info,\n",
    "        polynomial_dir=paths.PIP_CH3NH2_H2O.PIP.polynomial,\n",
    "        filters=[\n",
    "                \"add_filter['sum-degree', 'x-inter-*+*-*', '0']\",\n",
    "                # \"add_filter['sum-degree', 'x-intra-*+*-*', '2+']\",\n",
    "        ]\n",
    ")"
   ]
  },
  {
   "cell_type": "markdown",
   "metadata": {},
   "source": [
    "## II.1.? Polynomial Parametrization"
   ]
  },
  {
   "cell_type": "code",
   "execution_count": 108,
   "metadata": {},
   "outputs": [],
   "source": [
    "polarizabilities = read_parameters(paths.Vphys.polarizabilities)\n",
    "polarizability_factors = read_parameters(paths.Vphys.polarizability_factors)\n",
    "charges = read_parameters(paths.Vphys.charges)\n",
    "C6 = read_parameters(paths.Vphys.C6)\n",
    "d6 = read_parameters(paths.Vphys.d6)"
   ]
  },
  {
   "cell_type": "code",
   "execution_count": null,
   "metadata": {},
   "outputs": [],
   "source": [
    "print(\"polarizabilities:\", polarizabilities)\n",
    "print(\"polarizability_factors:\", polarizability_factors)\n",
    "print(\"charges:\", charges)\n",
    "print(\"C6:\", C6)\n",
    "print(\"d6:\", d6)"
   ]
  },
  {
   "cell_type": "code",
   "execution_count": 110,
   "metadata": {
    "tags": []
   },
   "outputs": [
    {
     "name": "stdout",
     "output_type": "stream",
     "text": [
      "File Tutorial_2_workdir/scratch/PIP_CH3NH2_H2O/config.ini already exists, moving existing Tutorial_2_workdir/scratch/PIP_CH3NH2_H2O/config.ini to Tutorial_2_workdir/scratch/PIP_CH3NH2_H2O/config.ini.backup-6 to make way for new file.\n",
      "Completed generating config file Tutorial_2_workdir/scratch/PIP_CH3NH2_H2O/config.ini.\n",
      "File Tutorial_2_workdir/scratch/PIP_CH3NH2_H2O/config.ini already exists, moving existing Tutorial_2_workdir/scratch/PIP_CH3NH2_H2O/config.ini to Tutorial_2_workdir/scratch/PIP_CH3NH2_H2O/config.ini.backup-7 to make way for new file.\n",
      "Executing python generator script\n",
      "Generating fitcode for molecule with symmetry A1B3C1D2_E1F2...\n",
      "Using mbpol for 1 fragments.\n",
      "0 fragments have lone pairs.\n",
      "Using exp variables for intramolecular interactions.\n",
      "Using exp variables for intermolecular interactions.\n",
      "Using coul variables for lone pair interactions.\n",
      "160 terms in the polynomial.\n",
      "Atoms in the molecule: A1 B1 B2 B3 C1 D1 D2 E1 F1 F2.\n",
      "45 variables in the polynomial.\n",
      "18 non-linear parameters in the polynomial.\n",
      "Compiling Parametrizer...\n",
      "Compiled!\n"
     ]
    }
   ],
   "source": [
    "generate_pip_parametizer(\n",
    "        definition_CH3NH2_H2O,\n",
    "        max_degree=pip_2b_max_order,\n",
    "        polynomial_info_path=paths.PIP_CH3NH2_H2O.PIP.info,\n",
    "        polynomial_dir=paths.PIP_CH3NH2_H2O.PIP.polynomial,\n",
    "        parametizer_dir=paths.PIP_CH3NH2_H2O.PIP.parameterizer,\n",
    "        workdir=paths.scratch.PIP_CH3NH2_H2O,\n",
    "        symmetry_to_charge=charges,\n",
    "        symmetry_to_polarizability=polarizabilities,\n",
    "        symmetry_to_polarizability_factor=polarizability_factors,\n",
    "        symmetries_to_C6=C6,\n",
    "        symmetries_to_d6=d6,\n",
    "        monomer_names=[\"ch3nh2\", \"h2o\"],\n",
    "        is_mbpol=[False, True]\n",
    ")"
   ]
  },
  {
   "cell_type": "code",
   "execution_count": 111,
   "metadata": {},
   "outputs": [
    {
     "name": "stdout",
     "output_type": "stream",
     "text": [
      "Succesfully created fit folder fit1.\n",
      "Succesfully created fit folder fit2.\n",
      "Succesfully created fit folder fit3.\n",
      "Succesfully created fit folder fit4.\n",
      "Succesfully created fit folder fit5.\n",
      "fit3 is running.\n",
      "\n",
      "fit3 is completed.\n",
      "fit4 is running.\n",
      "\n",
      "fit4 is completed.\n",
      "fit1 is running.\n",
      "\n",
      "fit1 is completed.\n",
      "fit5 is running.\n",
      "\n",
      "fit5 is completed.\n",
      "fit2 is running.\n",
      "\n",
      "fit2 is completed.\n",
      "Looks like the fit in fit3 didn't converge...\n",
      "Maybe you want to rerun fit3 again.\n",
      "Looks like the fit in fit4 didn't converge...\n",
      "Maybe you want to rerun fit4 again.\n",
      "Looks like the fit in fit1 didn't converge...\n",
      "Maybe you want to rerun fit1 again.\n",
      "Looks like the fit in fit5 didn't converge...\n",
      "Maybe you want to rerun fit5 again.\n",
      "Looks like the fit in fit2 didn't converge...\n",
      "Maybe you want to rerun fit2 again.\n",
      "Best fit is fit fit3.\n",
      "Fit with lowest RMSD did not converge, maybe run it again with more iterations?\n",
      "Still using that fit as the best one.\n",
      "No previous best fit, so just storing the current best fit.\n",
      "Best fit found has a weighted RMSD of 13.097 kcal/mol, a low energy RMSD of 1.91034 kcal/mol, and a maximum error in the low energy training set of 5.50003 kcal/mol\n"
     ]
    }
   ],
   "source": [
    "parametrize_pip(\n",
    "        definition_CH3NH2_H2O,\n",
    "        parametizer_dir=paths.PIP_CH3NH2_H2O.PIP.parameterizer,\n",
    "        parametrization_dir=paths.PIP_CH3NH2_H2O.PIP.parametrization,\n",
    "        training_set_path=paths.PIP_CH3NH2_H2O.training_set,\n",
    "        workdir=paths.scratch.fitting_CH3NH2_H2O,\n",
    "        monomer_names=[\"ch3nh2\", \"h2o\"],\n",
    "        is_mbpol=[False, True],\n",
    "        num_fits_to_run=5,\n",
    "        num_threads=16,\n",
    "        DE=10,\n",
    "        alpha=0.0005\n",
    ")"
   ]
  },
  {
   "cell_type": "markdown",
   "metadata": {},
   "source": [
    "## 2.x.y Implementation in MBX"
   ]
  },
  {
   "cell_type": "code",
   "execution_count": 72,
   "metadata": {},
   "outputs": [
    {
     "name": "stdout",
     "output_type": "stream",
     "text": [
      "Getting polynomial fitted parameters...\n",
      "Getting energy calls...\n"
     ]
    }
   ],
   "source": [
    "add_PIP_to_MBX(\n",
    "        paths.MBX,\n",
    "        definition_CH3NH2_H2O,\n",
    "        [\"ch3nh2\", \"h2o\"],\n",
    "        paths.PIP_CH3NH2_H2O.PIP.parameterizer,\n",
    "        paths.PIP_CH3NH2_H2O.PIP.parametrization,\n",
    "        max_degree=pip_2b_max_order,\n",
    "        workdir=paths.scratch.fitting_CH3NH2_H2O,\n",
    ")"
   ]
  },
  {
   "cell_type": "code",
   "execution_count": 73,
   "metadata": {},
   "outputs": [
    {
     "name": "stdout",
     "output_type": "stream",
     "text": [
      "Configuring...\n",
      "libtoolize: putting auxiliary files in AC_CONFIG_AUX_DIR, 'build-aux'.\n",
      "libtoolize: copying file 'build-aux/ltmain.sh'\n",
      "libtoolize: putting macros in AC_CONFIG_MACRO_DIRS, 'm4'.\n",
      "libtoolize: copying file 'm4/libtool.m4'\n",
      "libtoolize: copying file 'm4/ltoptions.m4'\n",
      "libtoolize: copying file 'm4/ltsugar.m4'\n",
      "libtoolize: copying file 'm4/ltversion.m4'\n",
      "libtoolize: copying file 'm4/lt~obsolete.m4'\n",
      "configure.ac:23: installing 'build-aux/missing'\n",
      "plugins/i-pi/Makefile.am: installing 'build-aux/depcomp'\n",
      "checking for x86_64-conda-linux-gnu-gcc... icc\n",
      "checking whether the C compiler works... yes\n",
      "checking for C compiler default output file name... a.out\n",
      "checking for suffix of executables... \n",
      "checking whether we are cross compiling... no\n",
      "checking for suffix of object files... o\n",
      "checking whether we are using the GNU C compiler... yes\n",
      "checking whether icc accepts -g... yes\n",
      "checking for icc option to accept ISO C89... none needed\n",
      "checking for x86_64-conda-linux-gnu-ar... /home/ebullvul/software/anaconda3/envs/test_env/bin/x86_64-conda-linux-gnu-ar\n",
      "checking the archiver (/home/ebullvul/software/anaconda3/envs/test_env/bin/x86_64-conda-linux-gnu-ar) interface... ar\n",
      "checking build system type... x86_64-conda-linux-gnu\n",
      "checking host system type... x86_64-conda-linux-gnu\n",
      "checking how to print strings... printf\n",
      "checking for a sed that does not truncate output... /usr/bin/sed\n",
      "checking for grep that handles long lines and -e... /usr/bin/grep\n",
      "checking for egrep... /usr/bin/grep -E\n",
      "checking for fgrep... /usr/bin/grep -F\n",
      "checking for ld used by icc... /home/ebullvul/software/anaconda3/envs/test_env/bin/x86_64-conda-linux-gnu-ld\n",
      "checking if the linker (/home/ebullvul/software/anaconda3/envs/test_env/bin/x86_64-conda-linux-gnu-ld) is GNU ld... yes\n",
      "checking for BSD- or MS-compatible name lister (nm)... /home/ebullvul/software/anaconda3/envs/test_env/bin/x86_64-conda-linux-gnu-nm\n",
      "checking the name lister (/home/ebullvul/software/anaconda3/envs/test_env/bin/x86_64-conda-linux-gnu-nm) interface... BSD nm\n",
      "checking whether ln -s works... yes\n",
      "checking the maximum length of command line arguments... 1572864\n",
      "checking how to convert x86_64-conda-linux-gnu file names to x86_64-conda-linux-gnu format... func_convert_file_noop\n",
      "checking how to convert x86_64-conda-linux-gnu file names to toolchain format... func_convert_file_noop\n",
      "checking for /home/ebullvul/software/anaconda3/envs/test_env/bin/x86_64-conda-linux-gnu-ld option to reload object files... -r\n",
      "checking for file... file\n",
      "checking for x86_64-conda-linux-gnu-objdump... /home/ebullvul/software/anaconda3/envs/test_env/bin/x86_64-conda-linux-gnu-objdump\n",
      "checking how to recognize dependent libraries... pass_all\n",
      "checking for x86_64-conda-linux-gnu-dlltool... no\n",
      "checking for dlltool... no\n",
      "checking how to associate runtime and link libraries... printf %s\\n\n",
      "checking for x86_64-conda-linux-gnu-ranlib... /home/ebullvul/software/anaconda3/envs/test_env/bin/x86_64-conda-linux-gnu-ranlib\n",
      "checking for x86_64-conda-linux-gnu-ar... (cached) /home/ebullvul/software/anaconda3/envs/test_env/bin/x86_64-conda-linux-gnu-ar\n",
      "checking for archiver @FILE support... @\n",
      "checking for x86_64-conda-linux-gnu-strip... /home/ebullvul/software/anaconda3/envs/test_env/bin/x86_64-conda-linux-gnu-strip\n",
      "checking for gawk... gawk\n",
      "checking command to parse /home/ebullvul/software/anaconda3/envs/test_env/bin/x86_64-conda-linux-gnu-nm output from icc object... ok\n",
      "checking for sysroot... no\n",
      "checking for a working dd... /usr/bin/dd\n",
      "checking how to truncate binary pipes... /usr/bin/dd bs=4096 count=1\n",
      "checking for x86_64-conda-linux-gnu-mt... no\n",
      "checking for mt... no\n",
      "checking if : is a manifest tool... no\n",
      "checking how to run the C preprocessor... /home/ebullvul/software/anaconda3/envs/test_env/bin/x86_64-conda-linux-gnu-cpp\n",
      "checking for ANSI C header files... yes\n",
      "checking for sys/types.h... yes\n",
      "checking for sys/stat.h... yes\n",
      "checking for stdlib.h... yes\n",
      "checking for string.h... yes\n",
      "checking for memory.h... yes\n",
      "checking for strings.h... yes\n",
      "checking for inttypes.h... yes\n",
      "checking for stdint.h... yes\n",
      "checking for unistd.h... yes\n",
      "checking for dlfcn.h... yes\n",
      "checking for objdir... .libs\n",
      "checking if icc supports -fno-rtti -fno-exceptions... yes\n",
      "checking for icc option to produce PIC... -fPIC -DPIC\n",
      "checking if icc PIC flag -fPIC -DPIC works... yes\n",
      "checking if icc static flag -static works... no\n",
      "checking if icc supports -c -o file.o... yes\n",
      "checking if icc supports -c -o file.o... (cached) yes\n",
      "checking whether the icc linker (/home/ebullvul/software/anaconda3/envs/test_env/bin/x86_64-conda-linux-gnu-ld -m elf_x86_64) supports shared libraries... yes\n",
      "checking dynamic linker characteristics... GNU/Linux ld.so\n",
      "checking how to hardcode library paths into programs... immediate\n",
      "checking whether stripping libraries is possible... yes\n",
      "checking if libtool supports shared libraries... yes\n",
      "checking whether to build shared libraries... no\n",
      "checking whether to build static libraries... yes\n",
      "checking for a BSD-compatible install... /usr/bin/install -c\n",
      "checking whether build environment is sane... yes\n",
      "checking for a thread-safe mkdir -p... /usr/bin/mkdir -p\n",
      "checking whether make sets $(MAKE)... yes\n",
      "checking for style of include used by make... GNU\n",
      "checking whether make supports nested variables... yes\n",
      "checking dependency style of icc... gcc3\n",
      "checking whether we are using the GNU C++ compiler... yes\n",
      "checking whether icpc accepts -g... yes\n",
      "checking how to run the C++ preprocessor... icpc -E\n",
      "checking for ld used by icpc... /home/ebullvul/software/anaconda3/envs/test_env/bin/x86_64-conda-linux-gnu-ld -m elf_x86_64\n",
      "checking if the linker (/home/ebullvul/software/anaconda3/envs/test_env/bin/x86_64-conda-linux-gnu-ld -m elf_x86_64) is GNU ld... yes\n",
      "checking whether the icpc linker (/home/ebullvul/software/anaconda3/envs/test_env/bin/x86_64-conda-linux-gnu-ld -m elf_x86_64) supports shared libraries... yes\n",
      "checking for icpc option to produce PIC... -fPIC -DPIC\n",
      "checking if icpc PIC flag -fPIC -DPIC works... yes\n",
      "checking if icpc static flag -static works... no\n",
      "checking if icpc supports -c -o file.o... yes\n",
      "checking if icpc supports -c -o file.o... (cached) yes\n",
      "checking whether the icpc linker (/home/ebullvul/software/anaconda3/envs/test_env/bin/x86_64-conda-linux-gnu-ld -m elf_x86_64) supports shared libraries... yes\n",
      "checking dynamic linker characteristics... (cached) GNU/Linux ld.so\n",
      "checking how to hardcode library paths into programs... immediate\n",
      "checking dependency style of icpc... gcc3\n",
      "checking for icpc option to support OpenMP... -fopenmp\n",
      "checking for cos in -lm... yes\n",
      "checking for library containing omp_get_thread_num... -liomp5\n",
      "configure: fftw_dir: none=none\n",
      "checking for fftw_plan_dft in -lfftw3... yes\n",
      "checking for cblas_dgemm in -lgslcblas... yes\n",
      "checking for gsl_blas_dgemm in -lgsl... yes\n",
      "checking whether icpc accepts -O0... yes\n",
      "checking whether icpc accepts -std=c++11... yes\n",
      "checking that generated files are newer than configure... done\n",
      "configure: creating ./config.status\n",
      "config.status: creating Makefile\n",
      "config.status: creating src/Makefile\n",
      "config.status: creating src/unittests/Makefile\n",
      "config.status: creating plugins/Makefile\n",
      "config.status: creating plugins/i-pi/Makefile\n",
      "config.status: creating config.h\n",
      "config.status: config.h is unchanged\n",
      "config.status: executing libtool commands\n",
      "config.status: executing depfiles commands\n",
      "Making...\n",
      "make  all-recursive\n",
      "make[1]: Entering directory `/home/ebullvul/projects/QDMS_2025/QDMS_2025/tutorials/2_Many-Body_Model_Build-Along/Tutorial_2_workdir/MBX'\n",
      "Making all in src\n",
      "make[2]: Entering directory `/home/ebullvul/projects/QDMS_2025/QDMS_2025/tutorials/2_Many-Body_Model_Build-Along/Tutorial_2_workdir/MBX/src'\n",
      "Making all in .\n",
      "make[3]: Entering directory `/home/ebullvul/projects/QDMS_2025/QDMS_2025/tutorials/2_Many-Body_Model_Build-Along/Tutorial_2_workdir/MBX/src'\n",
      "/bin/sh ../libtool  --tag=CXX   --mode=compile icpc -DHAVE_CONFIG_H -I. -I..  -DNDEBUG -D_FORTIFY_SOURCE=2 -O2 -isystem /home/ebullvul/software/anaconda3/envs/test_env/include -DHAVE_FFTWD=1  -fopenmp -O0 -std=c++11  -DNDEBUG -D_FORTIFY_SOURCE=2 -O2 -isystem /home/ebullvul/software/anaconda3/envs/test_env/include -DHAVE_FFTWD=1   -MT io_tools/libmbx_la-read_nrg.lo -MD -MP -MF io_tools/.deps/libmbx_la-read_nrg.Tpo -c -o io_tools/libmbx_la-read_nrg.lo `test -f 'io_tools/read_nrg.cpp' || echo './'`io_tools/read_nrg.cpp\n",
      "/bin/sh ../libtool  --tag=CXX   --mode=compile icpc -DHAVE_CONFIG_H -I. -I..  -DNDEBUG -D_FORTIFY_SOURCE=2 -O2 -isystem /home/ebullvul/software/anaconda3/envs/test_env/include -DHAVE_FFTWD=1  -fopenmp -O0 -std=c++11  -DNDEBUG -D_FORTIFY_SOURCE=2 -O2 -isystem /home/ebullvul/software/anaconda3/envs/test_env/include -DHAVE_FFTWD=1   -MT io_tools/libmbx_la-write_connectivity.lo -MD -MP -MF io_tools/.deps/libmbx_la-write_connectivity.Tpo -c -o io_tools/libmbx_la-write_connectivity.lo `test -f 'io_tools/write_connectivity.cpp' || echo './'`io_tools/write_connectivity.cpp\n",
      "/bin/sh ../libtool  --tag=CXX   --mode=compile icpc -DHAVE_CONFIG_H -I. -I..  -DNDEBUG -D_FORTIFY_SOURCE=2 -O2 -isystem /home/ebullvul/software/anaconda3/envs/test_env/include -DHAVE_FFTWD=1  -fopenmp -O0 -std=c++11  -DNDEBUG -D_FORTIFY_SOURCE=2 -O2 -isystem /home/ebullvul/software/anaconda3/envs/test_env/include -DHAVE_FFTWD=1   -MT io_tools/libmbx_la-read_xyz.lo -MD -MP -MF io_tools/.deps/libmbx_la-read_xyz.Tpo -c -o io_tools/libmbx_la-read_xyz.lo `test -f 'io_tools/read_xyz.cpp' || echo './'`io_tools/read_xyz.cpp\n",
      "/bin/sh ../libtool  --tag=CXX   --mode=compile icpc -DHAVE_CONFIG_H -I. -I..  -DNDEBUG -D_FORTIFY_SOURCE=2 -O2 -isystem /home/ebullvul/software/anaconda3/envs/test_env/include -DHAVE_FFTWD=1  -fopenmp -O0 -std=c++11  -DNDEBUG -D_FORTIFY_SOURCE=2 -O2 -isystem /home/ebullvul/software/anaconda3/envs/test_env/include -DHAVE_FFTWD=1   -MT io_tools/libmbx_la-write_xyz.lo -MD -MP -MF io_tools/.deps/libmbx_la-write_xyz.Tpo -c -o io_tools/libmbx_la-write_xyz.lo `test -f 'io_tools/write_xyz.cpp' || echo './'`io_tools/write_xyz.cpp\n",
      "libtool: compile:  icpc -DHAVE_CONFIG_H -I. -I.. -DNDEBUG -D_FORTIFY_SOURCE=2 -O2 -isystem /home/ebullvul/software/anaconda3/envs/test_env/include -DHAVE_FFTWD=1 -fopenmp -O0 -std=c++11 -DNDEBUG -D_FORTIFY_SOURCE=2 -O2 -isystem /home/ebullvul/software/anaconda3/envs/test_env/include -DHAVE_FFTWD=1 -MT io_tools/libmbx_la-write_xyz.lo -MD -MP -MF io_tools/.deps/libmbx_la-write_xyz.Tpo -c io_tools/write_xyz.cpp -o io_tools/libmbx_la-write_xyz.o\n",
      "libtool: compile:  icpc -DHAVE_CONFIG_H -I. -I.. -DNDEBUG -D_FORTIFY_SOURCE=2 -O2 -isystem /home/ebullvul/software/anaconda3/envs/test_env/include -DHAVE_FFTWD=1 -fopenmp -O0 -std=c++11 -DNDEBUG -D_FORTIFY_SOURCE=2 -O2 -isystem /home/ebullvul/software/anaconda3/envs/test_env/include -DHAVE_FFTWD=1 -MT io_tools/libmbx_la-read_nrg.lo -MD -MP -MF io_tools/.deps/libmbx_la-read_nrg.Tpo -c io_tools/read_nrg.cpp -o io_tools/libmbx_la-read_nrg.o\n",
      "libtool: compile:  icpc -DHAVE_CONFIG_H -I. -I.. -DNDEBUG -D_FORTIFY_SOURCE=2 -O2 -isystem /home/ebullvul/software/anaconda3/envs/test_env/include -DHAVE_FFTWD=1 -fopenmp -O0 -std=c++11 -DNDEBUG -D_FORTIFY_SOURCE=2 -O2 -isystem /home/ebullvul/software/anaconda3/envs/test_env/include -DHAVE_FFTWD=1 -MT io_tools/libmbx_la-write_connectivity.lo -MD -MP -MF io_tools/.deps/libmbx_la-write_connectivity.Tpo -c io_tools/write_connectivity.cpp -o io_tools/libmbx_la-write_connectivity.o\n",
      "libtool: compile:  icpc -DHAVE_CONFIG_H -I. -I.. -DNDEBUG -D_FORTIFY_SOURCE=2 -O2 -isystem /home/ebullvul/software/anaconda3/envs/test_env/include -DHAVE_FFTWD=1 -fopenmp -O0 -std=c++11 -DNDEBUG -D_FORTIFY_SOURCE=2 -O2 -isystem /home/ebullvul/software/anaconda3/envs/test_env/include -DHAVE_FFTWD=1 -MT io_tools/libmbx_la-read_xyz.lo -MD -MP -MF io_tools/.deps/libmbx_la-read_xyz.Tpo -c io_tools/read_xyz.cpp -o io_tools/libmbx_la-read_xyz.o\n",
      "io_tools/write_xyz.cpp(66): warning #2196: routine is both \"inline\" and \"noinline\"\n",
      "\n",
      "io_tools/read_nrg.cpp(298): warning #2196: routine is both \"inline\" and \"noinline\"\n",
      "\n",
      "io_tools/write_connectivity.cpp(179): warning #2196: routine is both \"inline\" and \"noinline\"\n",
      "\n",
      "mv -f io_tools/.deps/libmbx_la-write_xyz.Tpo io_tools/.deps/libmbx_la-write_xyz.Plo\n",
      "/bin/sh ../libtool  --tag=CXX   --mode=compile icpc -DHAVE_CONFIG_H -I. -I..  -DNDEBUG -D_FORTIFY_SOURCE=2 -O2 -isystem /home/ebullvul/software/anaconda3/envs/test_env/include -DHAVE_FFTWD=1  -fopenmp -O0 -std=c++11  -DNDEBUG -D_FORTIFY_SOURCE=2 -O2 -isystem /home/ebullvul/software/anaconda3/envs/test_env/include -DHAVE_FFTWD=1   -MT io_tools/libmbx_la-write_nrg.lo -MD -MP -MF io_tools/.deps/libmbx_la-write_nrg.Tpo -c -o io_tools/libmbx_la-write_nrg.lo `test -f 'io_tools/write_nrg.cpp' || echo './'`io_tools/write_nrg.cpp\n",
      "libtool: compile:  icpc -DHAVE_CONFIG_H -I. -I.. -DNDEBUG -D_FORTIFY_SOURCE=2 -O2 -isystem /home/ebullvul/software/anaconda3/envs/test_env/include -DHAVE_FFTWD=1 -fopenmp -O0 -std=c++11 -DNDEBUG -D_FORTIFY_SOURCE=2 -O2 -isystem /home/ebullvul/software/anaconda3/envs/test_env/include -DHAVE_FFTWD=1 -MT io_tools/libmbx_la-write_nrg.lo -MD -MP -MF io_tools/.deps/libmbx_la-write_nrg.Tpo -c io_tools/write_nrg.cpp -o io_tools/libmbx_la-write_nrg.o\n",
      "mv -f io_tools/.deps/libmbx_la-write_connectivity.Tpo io_tools/.deps/libmbx_la-write_connectivity.Plo\n",
      "/bin/sh ../libtool  --tag=CXX   --mode=compile icpc -DHAVE_CONFIG_H -I. -I..  -DNDEBUG -D_FORTIFY_SOURCE=2 -O2 -isystem /home/ebullvul/software/anaconda3/envs/test_env/include -DHAVE_FFTWD=1  -fopenmp -O0 -std=c++11  -DNDEBUG -D_FORTIFY_SOURCE=2 -O2 -isystem /home/ebullvul/software/anaconda3/envs/test_env/include -DHAVE_FFTWD=1   -MT bblock/libmbx_la-external_call.lo -MD -MP -MF bblock/.deps/libmbx_la-external_call.Tpo -c -o bblock/libmbx_la-external_call.lo `test -f 'bblock/external_call.cpp' || echo './'`bblock/external_call.cpp\n",
      "libtool: compile:  icpc -DHAVE_CONFIG_H -I. -I.. -DNDEBUG -D_FORTIFY_SOURCE=2 -O2 -isystem /home/ebullvul/software/anaconda3/envs/test_env/include -DHAVE_FFTWD=1 -fopenmp -O0 -std=c++11 -DNDEBUG -D_FORTIFY_SOURCE=2 -O2 -isystem /home/ebullvul/software/anaconda3/envs/test_env/include -DHAVE_FFTWD=1 -MT bblock/libmbx_la-external_call.lo -MD -MP -MF bblock/.deps/libmbx_la-external_call.Tpo -c bblock/external_call.cpp -o bblock/libmbx_la-external_call.o\n",
      "io_tools/write_nrg.cpp(95): warning #2196: routine is both \"inline\" and \"noinline\"\n",
      "\n",
      "bblock/external_call.cpp(311): warning #2196: routine is both \"inline\" and \"noinline\"\n",
      "\n",
      "mv -f bblock/.deps/libmbx_la-external_call.Tpo bblock/.deps/libmbx_la-external_call.Plo\n",
      "/bin/sh ../libtool  --tag=CXX   --mode=compile icpc -DHAVE_CONFIG_H -I. -I..  -DNDEBUG -D_FORTIFY_SOURCE=2 -O2 -isystem /home/ebullvul/software/anaconda3/envs/test_env/include -DHAVE_FFTWD=1  -fopenmp -O0 -std=c++11  -DNDEBUG -D_FORTIFY_SOURCE=2 -O2 -isystem /home/ebullvul/software/anaconda3/envs/test_env/include -DHAVE_FFTWD=1   -MT bblock/libmbx_la-system.lo -MD -MP -MF bblock/.deps/libmbx_la-system.Tpo -c -o bblock/libmbx_la-system.lo `test -f 'bblock/system.cpp' || echo './'`bblock/system.cpp\n",
      "libtool: compile:  icpc -DHAVE_CONFIG_H -I. -I.. -DNDEBUG -D_FORTIFY_SOURCE=2 -O2 -isystem /home/ebullvul/software/anaconda3/envs/test_env/include -DHAVE_FFTWD=1 -fopenmp -O0 -std=c++11 -DNDEBUG -D_FORTIFY_SOURCE=2 -O2 -isystem /home/ebullvul/software/anaconda3/envs/test_env/include -DHAVE_FFTWD=1 -MT bblock/libmbx_la-system.lo -MD -MP -MF bblock/.deps/libmbx_la-system.Tpo -c bblock/system.cpp -o bblock/libmbx_la-system.o\n",
      "mv -f io_tools/.deps/libmbx_la-write_nrg.Tpo io_tools/.deps/libmbx_la-write_nrg.Plo\n",
      "/bin/sh ../libtool  --tag=CXX   --mode=compile icpc -DHAVE_CONFIG_H -I. -I..  -DNDEBUG -D_FORTIFY_SOURCE=2 -O2 -isystem /home/ebullvul/software/anaconda3/envs/test_env/include -DHAVE_FFTWD=1  -fopenmp -O0 -std=c++11  -DNDEBUG -D_FORTIFY_SOURCE=2 -O2 -isystem /home/ebullvul/software/anaconda3/envs/test_env/include -DHAVE_FFTWD=1   -MT potential/2b/libmbx_la-energy2b.lo -MD -MP -MF potential/2b/.deps/libmbx_la-energy2b.Tpo -c -o potential/2b/libmbx_la-energy2b.lo `test -f 'potential/2b/energy2b.cpp' || echo './'`potential/2b/energy2b.cpp\n",
      "libtool: compile:  icpc -DHAVE_CONFIG_H -I. -I.. -DNDEBUG -D_FORTIFY_SOURCE=2 -O2 -isystem /home/ebullvul/software/anaconda3/envs/test_env/include -DHAVE_FFTWD=1 -fopenmp -O0 -std=c++11 -DNDEBUG -D_FORTIFY_SOURCE=2 -O2 -isystem /home/ebullvul/software/anaconda3/envs/test_env/include -DHAVE_FFTWD=1 -MT potential/2b/libmbx_la-energy2b.lo -MD -MP -MF potential/2b/.deps/libmbx_la-energy2b.Tpo -c potential/2b/energy2b.cpp -o potential/2b/libmbx_la-energy2b.o\n",
      "mv -f io_tools/.deps/libmbx_la-read_nrg.Tpo io_tools/.deps/libmbx_la-read_nrg.Plo\n",
      "/bin/sh ../libtool  --tag=CXX   --mode=compile icpc -DHAVE_CONFIG_H -I. -I..  -DNDEBUG -D_FORTIFY_SOURCE=2 -O2 -isystem /home/ebullvul/software/anaconda3/envs/test_env/include -DHAVE_FFTWD=1  -fopenmp -O0 -std=c++11  -DNDEBUG -D_FORTIFY_SOURCE=2 -O2 -isystem /home/ebullvul/software/anaconda3/envs/test_env/include -DHAVE_FFTWD=1   -MT potential/2b/libmbx_la-poly_2b_A1B3C1D2_E1F2_deg3_grad_ch3nh2_h2o_v1.lo -MD -MP -MF potential/2b/.deps/libmbx_la-poly_2b_A1B3C1D2_E1F2_deg3_grad_ch3nh2_h2o_v1.Tpo -c -o potential/2b/libmbx_la-poly_2b_A1B3C1D2_E1F2_deg3_grad_ch3nh2_h2o_v1.lo `test -f 'potential/2b/poly_2b_A1B3C1D2_E1F2_deg3_grad_ch3nh2_h2o_v1.cpp' || echo './'`potential/2b/poly_2b_A1B3C1D2_E1F2_deg3_grad_ch3nh2_h2o_v1.cpp\n",
      "libtool: compile:  icpc -DHAVE_CONFIG_H -I. -I.. -DNDEBUG -D_FORTIFY_SOURCE=2 -O2 -isystem /home/ebullvul/software/anaconda3/envs/test_env/include -DHAVE_FFTWD=1 -fopenmp -O0 -std=c++11 -DNDEBUG -D_FORTIFY_SOURCE=2 -O2 -isystem /home/ebullvul/software/anaconda3/envs/test_env/include -DHAVE_FFTWD=1 -MT potential/2b/libmbx_la-poly_2b_A1B3C1D2_E1F2_deg3_grad_ch3nh2_h2o_v1.lo -MD -MP -MF potential/2b/.deps/libmbx_la-poly_2b_A1B3C1D2_E1F2_deg3_grad_ch3nh2_h2o_v1.Tpo -c potential/2b/poly_2b_A1B3C1D2_E1F2_deg3_grad_ch3nh2_h2o_v1.cpp -o potential/2b/libmbx_la-poly_2b_A1B3C1D2_E1F2_deg3_grad_ch3nh2_h2o_v1.o\n",
      "potential/2b/energy2b.cpp(419): warning #2196: routine is both \"inline\" and \"noinline\"\n",
      "\n",
      "bblock/system.cpp(3958): warning #2196: routine is both \"inline\" and \"noinline\"\n",
      "\n",
      "mv -f potential/2b/.deps/libmbx_la-energy2b.Tpo potential/2b/.deps/libmbx_la-energy2b.Plo\n",
      "/bin/sh ../libtool  --tag=CXX   --mode=compile icpc -DHAVE_CONFIG_H -I. -I..  -DNDEBUG -D_FORTIFY_SOURCE=2 -O2 -isystem /home/ebullvul/software/anaconda3/envs/test_env/include -DHAVE_FFTWD=1  -fopenmp -O0 -std=c++11  -DNDEBUG -D_FORTIFY_SOURCE=2 -O2 -isystem /home/ebullvul/software/anaconda3/envs/test_env/include -DHAVE_FFTWD=1   -MT potential/2b/libmbx_la-poly_2b_A1B3C1D2_E1F2_deg3_nograd_ch3nh2_h2o_v1.lo -MD -MP -MF potential/2b/.deps/libmbx_la-poly_2b_A1B3C1D2_E1F2_deg3_nograd_ch3nh2_h2o_v1.Tpo -c -o potential/2b/libmbx_la-poly_2b_A1B3C1D2_E1F2_deg3_nograd_ch3nh2_h2o_v1.lo `test -f 'potential/2b/poly_2b_A1B3C1D2_E1F2_deg3_nograd_ch3nh2_h2o_v1.cpp' || echo './'`potential/2b/poly_2b_A1B3C1D2_E1F2_deg3_nograd_ch3nh2_h2o_v1.cpp\n",
      "libtool: compile:  icpc -DHAVE_CONFIG_H -I. -I.. -DNDEBUG -D_FORTIFY_SOURCE=2 -O2 -isystem /home/ebullvul/software/anaconda3/envs/test_env/include -DHAVE_FFTWD=1 -fopenmp -O0 -std=c++11 -DNDEBUG -D_FORTIFY_SOURCE=2 -O2 -isystem /home/ebullvul/software/anaconda3/envs/test_env/include -DHAVE_FFTWD=1 -MT potential/2b/libmbx_la-poly_2b_A1B3C1D2_E1F2_deg3_nograd_ch3nh2_h2o_v1.lo -MD -MP -MF potential/2b/.deps/libmbx_la-poly_2b_A1B3C1D2_E1F2_deg3_nograd_ch3nh2_h2o_v1.Tpo -c potential/2b/poly_2b_A1B3C1D2_E1F2_deg3_nograd_ch3nh2_h2o_v1.cpp -o potential/2b/libmbx_la-poly_2b_A1B3C1D2_E1F2_deg3_nograd_ch3nh2_h2o_v1.o\n",
      "io_tools/read_xyz.cpp(179): warning #2196: routine is both \"inline\" and \"noinline\"\n",
      "\n",
      "mv -f potential/2b/.deps/libmbx_la-poly_2b_A1B3C1D2_E1F2_deg3_nograd_ch3nh2_h2o_v1.Tpo potential/2b/.deps/libmbx_la-poly_2b_A1B3C1D2_E1F2_deg3_nograd_ch3nh2_h2o_v1.Plo\n",
      "/bin/sh ../libtool  --tag=CXX   --mode=compile icpc -DHAVE_CONFIG_H -I. -I..  -DNDEBUG -D_FORTIFY_SOURCE=2 -O2 -isystem /home/ebullvul/software/anaconda3/envs/test_env/include -DHAVE_FFTWD=1  -fopenmp -O0 -std=c++11  -DNDEBUG -D_FORTIFY_SOURCE=2 -O2 -isystem /home/ebullvul/software/anaconda3/envs/test_env/include -DHAVE_FFTWD=1   -MT potential/2b/libmbx_la-mbnrg_2b_A1B3C1D2_E1F2_deg3_ch3nh2_h2o_v1.lo -MD -MP -MF potential/2b/.deps/libmbx_la-mbnrg_2b_A1B3C1D2_E1F2_deg3_ch3nh2_h2o_v1.Tpo -c -o potential/2b/libmbx_la-mbnrg_2b_A1B3C1D2_E1F2_deg3_ch3nh2_h2o_v1.lo `test -f 'potential/2b/mbnrg_2b_A1B3C1D2_E1F2_deg3_ch3nh2_h2o_v1.cpp' || echo './'`potential/2b/mbnrg_2b_A1B3C1D2_E1F2_deg3_ch3nh2_h2o_v1.cpp\n",
      "libtool: compile:  icpc -DHAVE_CONFIG_H -I. -I.. -DNDEBUG -D_FORTIFY_SOURCE=2 -O2 -isystem /home/ebullvul/software/anaconda3/envs/test_env/include -DHAVE_FFTWD=1 -fopenmp -O0 -std=c++11 -DNDEBUG -D_FORTIFY_SOURCE=2 -O2 -isystem /home/ebullvul/software/anaconda3/envs/test_env/include -DHAVE_FFTWD=1 -MT potential/2b/libmbx_la-mbnrg_2b_A1B3C1D2_E1F2_deg3_ch3nh2_h2o_v1.lo -MD -MP -MF potential/2b/.deps/libmbx_la-mbnrg_2b_A1B3C1D2_E1F2_deg3_ch3nh2_h2o_v1.Tpo -c potential/2b/mbnrg_2b_A1B3C1D2_E1F2_deg3_ch3nh2_h2o_v1.cpp -o potential/2b/libmbx_la-mbnrg_2b_A1B3C1D2_E1F2_deg3_ch3nh2_h2o_v1.o\n",
      "mv -f potential/2b/.deps/libmbx_la-mbnrg_2b_A1B3C1D2_E1F2_deg3_ch3nh2_h2o_v1.Tpo potential/2b/.deps/libmbx_la-mbnrg_2b_A1B3C1D2_E1F2_deg3_ch3nh2_h2o_v1.Plo\n",
      "icpc -DHAVE_CONFIG_H -I. -I..   -DNDEBUG -D_FORTIFY_SOURCE=2 -O2 -isystem /home/ebullvul/software/anaconda3/envs/test_env/include -DHAVE_FFTWD=1 -DNDEBUG -D_FORTIFY_SOURCE=2 -O2 -isystem /home/ebullvul/software/anaconda3/envs/test_env/include -DHAVE_FFTWD=1 -fopenmp -O0 -std=c++11  -I../src -static  -MT main/single_point-single_point.o -MD -MP -MF main/.deps/single_point-single_point.Tpo -c -o main/single_point-single_point.o `test -f 'main/single_point.cpp' || echo './'`main/single_point.cpp\n",
      "In file included from /data/software/repo/gcc/12.2.0/include/c++/12.2.0/x86_64-pc-linux-gnu/bits/os_defines.h(39),\n",
      "                 from /data/software/repo/gcc/12.2.0/include/c++/12.2.0/x86_64-pc-linux-gnu/bits/c++config.h(655),\n",
      "                 from /data/software/repo/gcc/12.2.0/include/c++/12.2.0/cmath(41),\n",
      "                 from main/single_point.cpp(1):\n",
      "/usr/include/features.h(330): warning #1224: #warning directive: _FORTIFY_SOURCE requires compiling with optimization (-O)\n",
      "  #  warning _FORTIFY_SOURCE requires compiling with optimization (-O)\n",
      "     ^\n",
      "\n",
      "mv -f io_tools/.deps/libmbx_la-read_xyz.Tpo io_tools/.deps/libmbx_la-read_xyz.Plo\n",
      "icpc -DHAVE_CONFIG_H -I. -I..   -DNDEBUG -D_FORTIFY_SOURCE=2 -O2 -isystem /home/ebullvul/software/anaconda3/envs/test_env/include -DHAVE_FFTWD=1 -DNDEBUG -D_FORTIFY_SOURCE=2 -O2 -isystem /home/ebullvul/software/anaconda3/envs/test_env/include -DHAVE_FFTWD=1 -fopenmp -O0 -std=c++11  -I../src -static  -MT main/optimize-optimize.o -MD -MP -MF main/.deps/optimize-optimize.Tpo -c -o main/optimize-optimize.o `test -f 'main/optimize.cpp' || echo './'`main/optimize.cpp\n",
      "In file included from /data/software/repo/gcc/12.2.0/include/c++/12.2.0/x86_64-pc-linux-gnu/bits/os_defines.h(39),\n",
      "                 from /data/software/repo/gcc/12.2.0/include/c++/12.2.0/x86_64-pc-linux-gnu/bits/c++config.h(655),\n",
      "                 from /data/software/repo/gcc/12.2.0/include/c++/12.2.0/cmath(41),\n",
      "                 from main/optimize.cpp(1):\n",
      "/usr/include/features.h(330): warning #1224: #warning directive: _FORTIFY_SOURCE requires compiling with optimization (-O)\n",
      "  #  warning _FORTIFY_SOURCE requires compiling with optimization (-O)\n",
      "     ^\n",
      "\n",
      "main/single_point.cpp(82): warning #2196: routine is both \"inline\" and \"noinline\"\n",
      "\n",
      "main/optimize.cpp(196): warning #2196: routine is both \"inline\" and \"noinline\"\n",
      "\n",
      "mv -f main/.deps/single_point-single_point.Tpo main/.deps/single_point-single_point.Po\n",
      "icpc -DHAVE_CONFIG_H -I. -I..   -DNDEBUG -D_FORTIFY_SOURCE=2 -O2 -isystem /home/ebullvul/software/anaconda3/envs/test_env/include -DHAVE_FFTWD=1 -DNDEBUG -D_FORTIFY_SOURCE=2 -O2 -isystem /home/ebullvul/software/anaconda3/envs/test_env/include -DHAVE_FFTWD=1 -fopenmp -O0 -std=c++11  -I../src -static  -MT main/order_frames-order_frames.o -MD -MP -MF main/.deps/order_frames-order_frames.Tpo -c -o main/order_frames-order_frames.o `test -f 'main/order_frames.cpp' || echo './'`main/order_frames.cpp\n",
      "In file included from /data/software/repo/gcc/12.2.0/include/c++/12.2.0/x86_64-pc-linux-gnu/bits/os_defines.h(39),\n",
      "                 from /data/software/repo/gcc/12.2.0/include/c++/12.2.0/x86_64-pc-linux-gnu/bits/c++config.h(655),\n",
      "                 from /data/software/repo/gcc/12.2.0/include/c++/12.2.0/cmath(41),\n",
      "                 from main/order_frames.cpp(1):\n",
      "/usr/include/features.h(330): warning #1224: #warning directive: _FORTIFY_SOURCE requires compiling with optimization (-O)\n",
      "  #  warning _FORTIFY_SOURCE requires compiling with optimization (-O)\n",
      "     ^\n",
      "\n",
      "mv -f main/.deps/optimize-optimize.Tpo main/.deps/optimize-optimize.Po\n",
      "icpc -DHAVE_CONFIG_H -I. -I..   -DNDEBUG -D_FORTIFY_SOURCE=2 -O2 -isystem /home/ebullvul/software/anaconda3/envs/test_env/include -DHAVE_FFTWD=1 -DNDEBUG -D_FORTIFY_SOURCE=2 -O2 -isystem /home/ebullvul/software/anaconda3/envs/test_env/include -DHAVE_FFTWD=1 -fopenmp -O0 -std=c++11  -I../src -static  -MT main/mb_decomp-mb_decomp.o -MD -MP -MF main/.deps/mb_decomp-mb_decomp.Tpo -c -o main/mb_decomp-mb_decomp.o `test -f 'main/mb_decomp.cpp' || echo './'`main/mb_decomp.cpp\n",
      "In file included from /data/software/repo/gcc/12.2.0/include/c++/12.2.0/x86_64-pc-linux-gnu/bits/os_defines.h(39),\n",
      "                 from /data/software/repo/gcc/12.2.0/include/c++/12.2.0/x86_64-pc-linux-gnu/bits/c++config.h(655),\n",
      "                 from /data/software/repo/gcc/12.2.0/include/c++/12.2.0/cmath(41),\n",
      "                 from main/mb_decomp.cpp(1):\n",
      "/usr/include/features.h(330): warning #1224: #warning directive: _FORTIFY_SOURCE requires compiling with optimization (-O)\n",
      "  #  warning _FORTIFY_SOURCE requires compiling with optimization (-O)\n",
      "     ^\n",
      "\n",
      "main/order_frames.cpp(91): warning #2196: routine is both \"inline\" and \"noinline\"\n",
      "\n",
      "main/mb_decomp.cpp(288): warning #2196: routine is both \"inline\" and \"noinline\"\n",
      "\n",
      "mv -f main/.deps/order_frames-order_frames.Tpo main/.deps/order_frames-order_frames.Po\n",
      "icpc -DHAVE_CONFIG_H -I. -I..   -DNDEBUG -D_FORTIFY_SOURCE=2 -O2 -isystem /home/ebullvul/software/anaconda3/envs/test_env/include -DHAVE_FFTWD=1 -DNDEBUG -D_FORTIFY_SOURCE=2 -O2 -isystem /home/ebullvul/software/anaconda3/envs/test_env/include -DHAVE_FFTWD=1 -O0 -std=c++11  -fopenmp -I../src -static  -MT main/normal_modes-normal-modes.o -MD -MP -MF main/.deps/normal_modes-normal-modes.Tpo -c -o main/normal_modes-normal-modes.o `test -f 'main/normal-modes.cpp' || echo './'`main/normal-modes.cpp\n",
      "In file included from /data/software/repo/gcc/12.2.0/include/c++/12.2.0/x86_64-pc-linux-gnu/bits/os_defines.h(39),\n",
      "                 from /data/software/repo/gcc/12.2.0/include/c++/12.2.0/x86_64-pc-linux-gnu/bits/c++config.h(655),\n",
      "                 from /data/software/repo/gcc/12.2.0/include/c++/12.2.0/cmath(41),\n",
      "                 from main/normal-modes.cpp(5):\n",
      "/usr/include/features.h(330): warning #1224: #warning directive: _FORTIFY_SOURCE requires compiling with optimization (-O)\n",
      "  #  warning _FORTIFY_SOURCE requires compiling with optimization (-O)\n",
      "     ^\n",
      "\n",
      "main/normal-modes.cpp(284): warning #2196: routine is both \"inline\" and \"noinline\"\n",
      "\n",
      "mv -f main/.deps/mb_decomp-mb_decomp.Tpo main/.deps/mb_decomp-mb_decomp.Po\n",
      "mv -f main/.deps/normal_modes-normal-modes.Tpo main/.deps/normal_modes-normal-modes.Po\n",
      "mv -f bblock/.deps/libmbx_la-system.Tpo bblock/.deps/libmbx_la-system.Plo\n",
      "mv -f potential/2b/.deps/libmbx_la-poly_2b_A1B3C1D2_E1F2_deg3_grad_ch3nh2_h2o_v1.Tpo potential/2b/.deps/libmbx_la-poly_2b_A1B3C1D2_E1F2_deg3_grad_ch3nh2_h2o_v1.Plo\n",
      "/bin/sh ../libtool  --tag=CXX   --mode=link icpc   -Wl,-O2 -Wl,--sort-common -Wl,--as-needed -Wl,-z,relro -Wl,-z,now -Wl,--disable-new-dtags -Wl,--gc-sections -Wl,--allow-shlib-undefined -Wl,-rpath,/home/ebullvul/software/anaconda3/envs/test_env/lib -Wl,-rpath-link,/home/ebullvul/software/anaconda3/envs/test_env/lib -L/home/ebullvul/software/anaconda3/envs/test_env/lib -lgsl -lgslcblas -lfftw3 -liomp5 -lm   -Wl,-O2 -Wl,--sort-common -Wl,--as-needed -Wl,-z,relro -Wl,-z,now -Wl,--disable-new-dtags -Wl,--gc-sections -Wl,--allow-shlib-undefined -Wl,-rpath,/home/ebullvul/software/anaconda3/envs/test_env/lib -Wl,-rpath-link,/home/ebullvul/software/anaconda3/envs/test_env/lib -L/home/ebullvul/software/anaconda3/envs/test_env/lib -o libmbx.la -rpath /home/ebullvul/projects/QDMS_2025/QDMS_2025/tutorials/2_Many-Body_Model_Build-Along/Tutorial_2_workdir/MBX/lib tools/libmbx_la-math_tools.lo tools/libmbx_la-mpi_helper.lo tools/libmbx_la-mt19937.lo tools/libmbx_la-pbctools.lo tools/libmbx_la-properties.lo tools/libmbx_la-random-rotation.lo tools/libmbx_la-variable.lo tools/libmbx_la-water_monomer_lp.lo tools/libmbx_la-xmin.lo io_tools/libmbx_la-read_connectivity.lo io_tools/libmbx_la-read_nrg.lo io_tools/libmbx_la-write_connectivity.lo io_tools/libmbx_la-read_xyz.lo io_tools/libmbx_la-write_xyz.lo io_tools/libmbx_la-write_nrg.lo bblock/libmbx_la-external_call.lo bblock/libmbx_la-system.lo bblock/libmbx_la-sys_tools.lo potential/1b/libmbx_la-energy1b.lo potential/1b/libmbx_la-mbnrg_1b_A1B3_deg5_v1.lo potential/1b/libmbx_la-mbnrg_1b_A2_deg8_v1.lo potential/1b/libmbx_la-poly_1b_A1B2_deg4_v1x.lo potential/1b/libmbx_la-poly_1b_A1B3_deg5_grad_v1.lo potential/1b/libmbx_la-poly_1b_A1B3_deg5_nograd_v1.lo potential/1b/libmbx_la-poly_1b_A1B4_deg5_exp0_v1.lo potential/1b/libmbx_la-poly_1b_A1B4_deg5_exp0_v1x.lo potential/1b/libmbx_la-poly_1b_A2_deg8_grad_v1.lo potential/1b/libmbx_la-poly_1b_A2_deg8_nograd_v1.lo potential/1b/libmbx_la-ps.lo potential/1b/libmbx_la-x1b_A1B2_deg4_v1x.lo potential/1b/libmbx_la-x1b_A1B4_deg5_exp0_v1x.lo potential/1b/libmbx_la-poly_1b_A1B2_deg6_grad_vmbpbe.lo potential/1b/libmbx_la-poly_1b_A1B2_deg6_nograd_vmbpbe.lo potential/1b/libmbx_la-mbnrg_1b_A1B2_deg6_vmbpbe.lo potential/1b/libmbx_la-poly_1b_A1B3C1D2_deg3_grad_ch3nh2_v1.lo potential/1b/libmbx_la-poly_1b_A1B3C1D2_deg3_nograd_ch3nh2_v1.lo potential/1b/libmbx_la-mbnrg_1b_A1B3C1D2_deg3_ch3nh2_v1.lo potential/2b/libmbx_la-energy2b.lo potential/2b/libmbx_la-mbnrg_2b_A1_A1_deg9_v1.lo potential/2b/libmbx_la-mbnrg_2b_A1_B1C2X2_deg5_v1.lo potential/2b/libmbx_la-mbnrg_2b_A1_B1_deg9_v1.lo potential/2b/libmbx_la-mbnrg_2b_A1_B2_deg7_v1.lo potential/2b/libmbx_la-mbnrg_2b_A1B2Z2_C2_deg5_v1.lo potential/2b/libmbx_la-mbnrg_2b_A1B3_A1B3_deg4_v1.lo potential/2b/libmbx_la-mbnrg_2b_A2_A2_deg6_v1.lo potential/2b/libmbx_la-poly_2b_A1_A1_deg9_grad_v1.lo potential/2b/libmbx_la-poly_2b_A1_A1_deg9_nograd_v1.lo potential/2b/libmbx_la-poly_2b_A1_B1C2X2_deg5_grad_v1.lo potential/2b/libmbx_la-poly_2b_A1_B1C2X2_deg5_nograd_v1.lo potential/2b/libmbx_la-poly_2b_A1_B1_deg9_grad_v1.lo potential/2b/libmbx_la-poly_2b_A1_B1_deg9_nograd_v1.lo potential/2b/libmbx_la-poly_2b_A1B2_A1B2_v1.lo potential/2b/libmbx_la-poly_2b_A1B2_A1B2_v1x.lo potential/2b/libmbx_la-poly_2b_A1B2C4_D1E2_deg3_v1.lo potential/2b/libmbx_la-poly_2b_A1B2C4_D1E2_deg3_v1x.lo potential/2b/libmbx_la-poly_2b_A1_B2_deg7_grad_v1.lo potential/2b/libmbx_la-poly_2b_A1_B2_deg7_nograd_v1.lo potential/2b/libmbx_la-poly_2b_A1B2Z2_C1D2_v1.lo potential/2b/libmbx_la-poly_2b_A1B2Z2_C1D2_v1x.lo potential/2b/libmbx_la-poly_2b_A1B2Z2_C1D4_deg3_exp0_v1.lo potential/2b/libmbx_la-poly_2b_A1B2Z2_C1D4_deg3_exp0_v1x.lo potential/2b/libmbx_la-poly_2b_A1B2Z2_C2_deg5_grad_v1.lo potential/2b/libmbx_la-poly_2b_A1B2Z2_C2_deg5_nograd_v1.lo potential/2b/libmbx_la-poly-2b-A1B2Z2_C-v1.lo potential/2b/libmbx_la-poly-2b-A1B2Z2_C-v1x.lo potential/2b/libmbx_la-poly_2b_A1B3_A1B3_deg4_grad_v1.lo potential/2b/libmbx_la-poly_2b_A1B3_A1B3_deg4_nograd_v1.lo potential/2b/libmbx_la-poly_2b_A1B4_A1B4_deg4_exp0_v1.lo potential/2b/libmbx_la-poly_2b_A1B4_A1B4_deg4_exp0_v1x.lo potential/2b/libmbx_la-poly_2b_A2_A2_deg6_grad_v1.lo potential/2b/libmbx_la-poly_2b_A2_A2_deg6_nograd_v1.lo potential/2b/libmbx_la-poly-2b-v6x.lo potential/2b/libmbx_la-poly-2b-v6x-nogrd.lo potential/2b/libmbx_la-x2b_A1B2_A1B2_v1x.lo potential/2b/libmbx_la-x2b_A1B2C4_D1E2_deg3_v1x.lo potential/2b/libmbx_la-x2b_A1B2Z2_C1D2_v1x.lo potential/2b/libmbx_la-x2b_A1B2Z2_C1D4_deg3_exp0_v1x.lo potential/2b/libmbx_la-x2b-A1B2Z2_C-v1x.lo potential/2b/libmbx_la-x2b_A1B4_A1B4_deg4_exp0_v1x.lo potential/2b/libmbx_la-x2b-v9x.lo potential/2b/libmbx_la-mbnrg_2b_A1B2Z2_A1B2Z2_deg4_vmbpbe.lo potential/2b/libmbx_la-poly_2b_A1B2Z2_A1B2Z2_deg4_nograd_vmbpbe.lo potential/2b/libmbx_la-poly_2b_A1B2Z2_A1B2Z2_deg4_grad_vmbpbe.lo potential/2b/libmbx_la-mbnrg_2b_A1B4_C1D2_deg4_v1.lo potential/2b/libmbx_la-poly_2b_A1B4_C1D2_deg4_nograd_v1.lo potential/2b/libmbx_la-poly_2b_A1B4_C1D2_deg4_grad_v1.lo potential/2b/libmbx_la-x2b_A1_A1_deg23_v1x.lo potential/2b/libmbx_la-poly_2b_A1_A1_deg23_v1.lo potential/2b/libmbx_la-poly_2b_A1_A1_deg23_v1x.lo potential/2b/libmbx_la-x2b_A1B2Z2_C1_deg5_v1x.lo potential/2b/libmbx_la-poly_2b_A1B2Z2_C1_deg5_v1.lo potential/2b/libmbx_la-poly_2b_A1B2Z2_C1_deg5_v1x.lo potential/2b/libmbx_la-mbnrg_2b_A1_B1C2X2_deg6_v1.lo potential/2b/libmbx_la-poly_2b_A1_B1C2X2_deg6_grad_v1.lo potential/2b/libmbx_la-poly_2b_A1_B1C2X2_deg6_nograd_v1.lo potential/2b/libmbx_la-poly_2b_A1B3C1D2_E1F2_deg3_grad_ch3nh2_h2o_v1.lo potential/2b/libmbx_la-poly_2b_A1B3C1D2_E1F2_deg3_nograd_ch3nh2_h2o_v1.lo potential/2b/libmbx_la-mbnrg_2b_A1B3C1D2_E1F2_deg3_ch3nh2_h2o_v1.lo potential/3b/libmbx_la-energy3b.lo potential/3b/libmbx_la-mbnrg_3b_A1_B1C2X2_B1C2X2_deg4_v1.lo potential/3b/libmbx_la-mbnrg_3b_A1B2_A1B2_A1B2_deg4_v1.lo potential/3b/libmbx_la-mbnrg_3b_A1B2C4_D1E2_D1E2_deg3_v1.lo potential/3b/libmbx_la-mbnrg_3b_A1B4_C1D2_C1D2_deg3_v1.lo potential/3b/libmbx_la-poly_3b_A1_B1C2X2_B1C2X2_deg4_grad_v1.lo potential/3b/libmbx_la-poly_3b_A1_B1C2X2_B1C2X2_deg4_nograd_v1.lo potential/3b/libmbx_la-poly_3b_A1B2_A1B2_A1B2_deg4_grad_v1.lo potential/3b/libmbx_la-poly_3b_A1B2_A1B2_A1B2_deg4_nograd_v1.lo potential/3b/libmbx_la-poly_3b_A1B4_C1D2_C1D2_deg3_grad_v1.lo potential/3b/libmbx_la-poly_3b_A1B4_C1D2_C1D2_deg3_nograd_v1.lo potential/3b/libmbx_la-poly-3b-h2o-ion-v1x_deg4_filtered.lo potential/3b/libmbx_la-poly-3b-v2x.lo potential/3b/libmbx_la-poly-3b-v2x-nogrd.lo potential/3b/libmbx_la-x3b-h2o-ion-v1x-deg4-filtered.lo potential/3b/libmbx_la-x3b-v2x.lo potential/3b/libmbx_la-poly_3b_A1B2_A1B2_A1B2_deg4_grad_vmbpbe.lo potential/3b/libmbx_la-mbnrg_3b_A1B2_A1B2_A1B2_deg4_vmbpbe.lo potential/3b/libmbx_la-poly_3b_A1B2_A1B2_A1B2_deg4_nograd_vmbpbe.lo potential/4b/libmbx_la-energy4b.lo potential/4b/libmbx_la-mbnrg_4b_A1B2_A1B2_A1B2_A1B2_deg4_v1.lo potential/4b/libmbx_la-poly_4b_A1B2_A1B2_A1B2_A1B2_deg4_grad_v1.lo potential/4b/libmbx_la-poly_4b_A1B2_A1B2_A1B2_A1B2_deg4_nograd_v1.lo potential/electrostatics/libmbx_la-electrostatics.lo potential/electrostatics/libmbx_la-fields.lo potential/electrostatics/libmbx_la-gammq.lo potential/dispersion/libmbx_la-dispersion.lo potential/dispersion/libmbx_la-disptools.lo potential/buckingham/libmbx_la-buckingham.lo potential/buckingham/libmbx_la-bucktools.lo potential/force_field/libmbx_la-angles.lo potential/force_field/libmbx_la-bond.lo potential/force_field/libmbx_la-calculators.lo potential/force_field/libmbx_la-connectivity.lo potential/force_field/libmbx_la-dihedral.lo potential/force_field/libmbx_la-energyff.lo potential/force_field/libmbx_la-inversion.lo potential/force_field/libmbx_la-topology.lo potential/lj/libmbx_la-lj.lo potential/lj/libmbx_la-ljtools.lo liba1b2c4.la  -lgsl -lgslcblas -lfftw3 -liomp5 -lm \n",
      "libtool: link: rm -fr  .libs/libmbx.a .libs/libmbx.la .libs/libmbx.lai\n",
      "libtool: link: (cd .libs/libmbx.lax/liba1b2c4.a && /home/ebullvul/software/anaconda3/envs/test_env/bin/x86_64-conda-linux-gnu-ar x \"/home/ebullvul/projects/QDMS_2025/QDMS_2025/tutorials/2_Many-Body_Model_Build-Along/Tutorial_2_workdir/MBX/src/./.libs/liba1b2c4.a\")\n",
      "libtool: link: /home/ebullvul/software/anaconda3/envs/test_env/bin/x86_64-conda-linux-gnu-ar cr .libs/libmbx.a  tools/libmbx_la-math_tools.o tools/libmbx_la-mpi_helper.o tools/libmbx_la-mt19937.o tools/libmbx_la-pbctools.o tools/libmbx_la-properties.o tools/libmbx_la-random-rotation.o tools/libmbx_la-variable.o tools/libmbx_la-water_monomer_lp.o tools/libmbx_la-xmin.o io_tools/libmbx_la-read_connectivity.o io_tools/libmbx_la-read_nrg.o io_tools/libmbx_la-write_connectivity.o io_tools/libmbx_la-read_xyz.o io_tools/libmbx_la-write_xyz.o io_tools/libmbx_la-write_nrg.o bblock/libmbx_la-external_call.o bblock/libmbx_la-system.o bblock/libmbx_la-sys_tools.o potential/1b/libmbx_la-energy1b.o potential/1b/libmbx_la-mbnrg_1b_A1B3_deg5_v1.o potential/1b/libmbx_la-mbnrg_1b_A2_deg8_v1.o potential/1b/libmbx_la-poly_1b_A1B2_deg4_v1x.o potential/1b/libmbx_la-poly_1b_A1B3_deg5_grad_v1.o potential/1b/libmbx_la-poly_1b_A1B3_deg5_nograd_v1.o potential/1b/libmbx_la-poly_1b_A1B4_deg5_exp0_v1.o potential/1b/libmbx_la-poly_1b_A1B4_deg5_exp0_v1x.o potential/1b/libmbx_la-poly_1b_A2_deg8_grad_v1.o potential/1b/libmbx_la-poly_1b_A2_deg8_nograd_v1.o potential/1b/libmbx_la-ps.o potential/1b/libmbx_la-x1b_A1B2_deg4_v1x.o potential/1b/libmbx_la-x1b_A1B4_deg5_exp0_v1x.o potential/1b/libmbx_la-poly_1b_A1B2_deg6_grad_vmbpbe.o potential/1b/libmbx_la-poly_1b_A1B2_deg6_nograd_vmbpbe.o potential/1b/libmbx_la-mbnrg_1b_A1B2_deg6_vmbpbe.o potential/1b/libmbx_la-poly_1b_A1B3C1D2_deg3_grad_ch3nh2_v1.o potential/1b/libmbx_la-poly_1b_A1B3C1D2_deg3_nograd_ch3nh2_v1.o potential/1b/libmbx_la-mbnrg_1b_A1B3C1D2_deg3_ch3nh2_v1.o potential/2b/libmbx_la-energy2b.o potential/2b/libmbx_la-mbnrg_2b_A1_A1_deg9_v1.o potential/2b/libmbx_la-mbnrg_2b_A1_B1C2X2_deg5_v1.o potential/2b/libmbx_la-mbnrg_2b_A1_B1_deg9_v1.o potential/2b/libmbx_la-mbnrg_2b_A1_B2_deg7_v1.o potential/2b/libmbx_la-mbnrg_2b_A1B2Z2_C2_deg5_v1.o potential/2b/libmbx_la-mbnrg_2b_A1B3_A1B3_deg4_v1.o potential/2b/libmbx_la-mbnrg_2b_A2_A2_deg6_v1.o potential/2b/libmbx_la-poly_2b_A1_A1_deg9_grad_v1.o potential/2b/libmbx_la-poly_2b_A1_A1_deg9_nograd_v1.o potential/2b/libmbx_la-poly_2b_A1_B1C2X2_deg5_grad_v1.o potential/2b/libmbx_la-poly_2b_A1_B1C2X2_deg5_nograd_v1.o potential/2b/libmbx_la-poly_2b_A1_B1_deg9_grad_v1.o potential/2b/libmbx_la-poly_2b_A1_B1_deg9_nograd_v1.o potential/2b/libmbx_la-poly_2b_A1B2_A1B2_v1.o potential/2b/libmbx_la-poly_2b_A1B2_A1B2_v1x.o potential/2b/libmbx_la-poly_2b_A1B2C4_D1E2_deg3_v1.o potential/2b/libmbx_la-poly_2b_A1B2C4_D1E2_deg3_v1x.o potential/2b/libmbx_la-poly_2b_A1_B2_deg7_grad_v1.o potential/2b/libmbx_la-poly_2b_A1_B2_deg7_nograd_v1.o potential/2b/libmbx_la-poly_2b_A1B2Z2_C1D2_v1.o potential/2b/libmbx_la-poly_2b_A1B2Z2_C1D2_v1x.o potential/2b/libmbx_la-poly_2b_A1B2Z2_C1D4_deg3_exp0_v1.o potential/2b/libmbx_la-poly_2b_A1B2Z2_C1D4_deg3_exp0_v1x.o potential/2b/libmbx_la-poly_2b_A1B2Z2_C2_deg5_grad_v1.o potential/2b/libmbx_la-poly_2b_A1B2Z2_C2_deg5_nograd_v1.o potential/2b/libmbx_la-poly-2b-A1B2Z2_C-v1.o potential/2b/libmbx_la-poly-2b-A1B2Z2_C-v1x.o potential/2b/libmbx_la-poly_2b_A1B3_A1B3_deg4_grad_v1.o potential/2b/libmbx_la-poly_2b_A1B3_A1B3_deg4_nograd_v1.o potential/2b/libmbx_la-poly_2b_A1B4_A1B4_deg4_exp0_v1.o potential/2b/libmbx_la-poly_2b_A1B4_A1B4_deg4_exp0_v1x.o potential/2b/libmbx_la-poly_2b_A2_A2_deg6_grad_v1.o potential/2b/libmbx_la-poly_2b_A2_A2_deg6_nograd_v1.o potential/2b/libmbx_la-poly-2b-v6x.o potential/2b/libmbx_la-poly-2b-v6x-nogrd.o potential/2b/libmbx_la-x2b_A1B2_A1B2_v1x.o potential/2b/libmbx_la-x2b_A1B2C4_D1E2_deg3_v1x.o potential/2b/libmbx_la-x2b_A1B2Z2_C1D2_v1x.o potential/2b/libmbx_la-x2b_A1B2Z2_C1D4_deg3_exp0_v1x.o potential/2b/libmbx_la-x2b-A1B2Z2_C-v1x.o potential/2b/libmbx_la-x2b_A1B4_A1B4_deg4_exp0_v1x.o potential/2b/libmbx_la-x2b-v9x.o potential/2b/libmbx_la-mbnrg_2b_A1B2Z2_A1B2Z2_deg4_vmbpbe.o potential/2b/libmbx_la-poly_2b_A1B2Z2_A1B2Z2_deg4_nograd_vmbpbe.o potential/2b/libmbx_la-poly_2b_A1B2Z2_A1B2Z2_deg4_grad_vmbpbe.o potential/2b/libmbx_la-mbnrg_2b_A1B4_C1D2_deg4_v1.o potential/2b/libmbx_la-poly_2b_A1B4_C1D2_deg4_nograd_v1.o potential/2b/libmbx_la-poly_2b_A1B4_C1D2_deg4_grad_v1.o potential/2b/libmbx_la-x2b_A1_A1_deg23_v1x.o potential/2b/libmbx_la-poly_2b_A1_A1_deg23_v1.o potential/2b/libmbx_la-poly_2b_A1_A1_deg23_v1x.o potential/2b/libmbx_la-x2b_A1B2Z2_C1_deg5_v1x.o potential/2b/libmbx_la-poly_2b_A1B2Z2_C1_deg5_v1.o potential/2b/libmbx_la-poly_2b_A1B2Z2_C1_deg5_v1x.o potential/2b/libmbx_la-mbnrg_2b_A1_B1C2X2_deg6_v1.o potential/2b/libmbx_la-poly_2b_A1_B1C2X2_deg6_grad_v1.o potential/2b/libmbx_la-poly_2b_A1_B1C2X2_deg6_nograd_v1.o potential/2b/libmbx_la-poly_2b_A1B3C1D2_E1F2_deg3_grad_ch3nh2_h2o_v1.o potential/2b/libmbx_la-poly_2b_A1B3C1D2_E1F2_deg3_nograd_ch3nh2_h2o_v1.o potential/2b/libmbx_la-mbnrg_2b_A1B3C1D2_E1F2_deg3_ch3nh2_h2o_v1.o potential/3b/libmbx_la-energy3b.o potential/3b/libmbx_la-mbnrg_3b_A1_B1C2X2_B1C2X2_deg4_v1.o potential/3b/libmbx_la-mbnrg_3b_A1B2_A1B2_A1B2_deg4_v1.o potential/3b/libmbx_la-mbnrg_3b_A1B2C4_D1E2_D1E2_deg3_v1.o potential/3b/libmbx_la-mbnrg_3b_A1B4_C1D2_C1D2_deg3_v1.o potential/3b/libmbx_la-poly_3b_A1_B1C2X2_B1C2X2_deg4_grad_v1.o potential/3b/libmbx_la-poly_3b_A1_B1C2X2_B1C2X2_deg4_nograd_v1.o potential/3b/libmbx_la-poly_3b_A1B2_A1B2_A1B2_deg4_grad_v1.o potential/3b/libmbx_la-poly_3b_A1B2_A1B2_A1B2_deg4_nograd_v1.o potential/3b/libmbx_la-poly_3b_A1B4_C1D2_C1D2_deg3_grad_v1.o potential/3b/libmbx_la-poly_3b_A1B4_C1D2_C1D2_deg3_nograd_v1.o potential/3b/libmbx_la-poly-3b-h2o-ion-v1x_deg4_filtered.o potential/3b/libmbx_la-poly-3b-v2x.o potential/3b/libmbx_la-poly-3b-v2x-nogrd.o potential/3b/libmbx_la-x3b-h2o-ion-v1x-deg4-filtered.o potential/3b/libmbx_la-x3b-v2x.o potential/3b/libmbx_la-poly_3b_A1B2_A1B2_A1B2_deg4_grad_vmbpbe.o potential/3b/libmbx_la-mbnrg_3b_A1B2_A1B2_A1B2_deg4_vmbpbe.o potential/3b/libmbx_la-poly_3b_A1B2_A1B2_A1B2_deg4_nograd_vmbpbe.o potential/4b/libmbx_la-energy4b.o potential/4b/libmbx_la-mbnrg_4b_A1B2_A1B2_A1B2_A1B2_deg4_v1.o potential/4b/libmbx_la-poly_4b_A1B2_A1B2_A1B2_A1B2_deg4_grad_v1.o potential/4b/libmbx_la-poly_4b_A1B2_A1B2_A1B2_A1B2_deg4_nograd_v1.o potential/electrostatics/libmbx_la-electrostatics.o potential/electrostatics/libmbx_la-fields.o potential/electrostatics/libmbx_la-gammq.o potential/dispersion/libmbx_la-dispersion.o potential/dispersion/libmbx_la-disptools.o potential/buckingham/libmbx_la-buckingham.o potential/buckingham/libmbx_la-bucktools.o potential/force_field/libmbx_la-angles.o potential/force_field/libmbx_la-bond.o potential/force_field/libmbx_la-calculators.o potential/force_field/libmbx_la-connectivity.o potential/force_field/libmbx_la-dihedral.o potential/force_field/libmbx_la-energyff.o potential/force_field/libmbx_la-inversion.o potential/force_field/libmbx_la-topology.o potential/lj/libmbx_la-lj.o potential/lj/libmbx_la-ljtools.o  .libs/libmbx.lax/liba1b2c4.a/liba1b2c4_la-poly_1b_A1B2C4_deg5_v1.o .libs/libmbx.lax/liba1b2c4.a/liba1b2c4_la-poly_1b_A1B2C4_deg5_v1x.o .libs/libmbx.lax/liba1b2c4.a/liba1b2c4_la-poly_3b_A1B2C4_D1E2_D1E2_deg3_grad_v1.o .libs/libmbx.lax/liba1b2c4.a/liba1b2c4_la-poly_3b_A1B2C4_D1E2_D1E2_deg3_nograd_v1.o .libs/libmbx.lax/liba1b2c4.a/liba1b2c4_la-x1b_A1B2C4_deg5_v1x.o \n",
      "libtool: link: /home/ebullvul/software/anaconda3/envs/test_env/bin/x86_64-conda-linux-gnu-ranlib .libs/libmbx.a\n",
      "libtool: link: rm -fr .libs/libmbx.lax\n",
      "libtool: link: ( cd \".libs\" && rm -f \"libmbx.la\" && ln -s \"../libmbx.la\" \"libmbx.la\" )\n",
      "/bin/sh ../libtool  --tag=CXX   --mode=link icpc -DNDEBUG -D_FORTIFY_SOURCE=2 -O2 -isystem /home/ebullvul/software/anaconda3/envs/test_env/include -DHAVE_FFTWD=1 -fopenmp -O0 -std=c++11  -I../src -static   -Wl,-O2 -Wl,--sort-common -Wl,--as-needed -Wl,-z,relro -Wl,-z,now -Wl,--disable-new-dtags -Wl,--gc-sections -Wl,--allow-shlib-undefined -Wl,-rpath,/home/ebullvul/software/anaconda3/envs/test_env/lib -Wl,-rpath-link,/home/ebullvul/software/anaconda3/envs/test_env/lib -L/home/ebullvul/software/anaconda3/envs/test_env/lib -o single_point main/single_point-single_point.o libmbx.la -lgsl -lgslcblas -lfftw3 -liomp5 -lm \n",
      "/bin/sh ../libtool  --tag=CXX   --mode=link icpc -DNDEBUG -D_FORTIFY_SOURCE=2 -O2 -isystem /home/ebullvul/software/anaconda3/envs/test_env/include -DHAVE_FFTWD=1 -fopenmp -O0 -std=c++11  -I../src -static   -Wl,-O2 -Wl,--sort-common -Wl,--as-needed -Wl,-z,relro -Wl,-z,now -Wl,--disable-new-dtags -Wl,--gc-sections -Wl,--allow-shlib-undefined -Wl,-rpath,/home/ebullvul/software/anaconda3/envs/test_env/lib -Wl,-rpath-link,/home/ebullvul/software/anaconda3/envs/test_env/lib -L/home/ebullvul/software/anaconda3/envs/test_env/lib -o optimize main/optimize-optimize.o libmbx.la -lgsl -lgslcblas -lfftw3 -liomp5 -lm \n",
      "/bin/sh ../libtool  --tag=CXX   --mode=link icpc -DNDEBUG -D_FORTIFY_SOURCE=2 -O2 -isystem /home/ebullvul/software/anaconda3/envs/test_env/include -DHAVE_FFTWD=1 -fopenmp -O0 -std=c++11  -I../src -static   -Wl,-O2 -Wl,--sort-common -Wl,--as-needed -Wl,-z,relro -Wl,-z,now -Wl,--disable-new-dtags -Wl,--gc-sections -Wl,--allow-shlib-undefined -Wl,-rpath,/home/ebullvul/software/anaconda3/envs/test_env/lib -Wl,-rpath-link,/home/ebullvul/software/anaconda3/envs/test_env/lib -L/home/ebullvul/software/anaconda3/envs/test_env/lib -o order_frames main/order_frames-order_frames.o libmbx.la -lgsl -lgslcblas -lfftw3 -liomp5 -lm \n",
      "/bin/sh ../libtool  --tag=CXX   --mode=link icpc -DNDEBUG -D_FORTIFY_SOURCE=2 -O2 -isystem /home/ebullvul/software/anaconda3/envs/test_env/include -DHAVE_FFTWD=1 -fopenmp -O0 -std=c++11  -I../src -static   -Wl,-O2 -Wl,--sort-common -Wl,--as-needed -Wl,-z,relro -Wl,-z,now -Wl,--disable-new-dtags -Wl,--gc-sections -Wl,--allow-shlib-undefined -Wl,-rpath,/home/ebullvul/software/anaconda3/envs/test_env/lib -Wl,-rpath-link,/home/ebullvul/software/anaconda3/envs/test_env/lib -L/home/ebullvul/software/anaconda3/envs/test_env/lib -o mb_decomp main/mb_decomp-mb_decomp.o libmbx.la -lgsl -lgslcblas -lfftw3 -liomp5 -lm \n",
      "libtool: link: icpc -DNDEBUG -D_FORTIFY_SOURCE=2 -O2 -isystem /home/ebullvul/software/anaconda3/envs/test_env/include -DHAVE_FFTWD=1 -fopenmp -O0 -std=c++11 -I../src -Wl,-O2 -Wl,--sort-common -Wl,-z -Wl,relro -Wl,-z -Wl,now -Wl,--disable-new-dtags -Wl,--gc-sections -Wl,--allow-shlib-undefined -Wl,-rpath -Wl,/home/ebullvul/software/anaconda3/envs/test_env/lib -Wl,-rpath-link -Wl,/home/ebullvul/software/anaconda3/envs/test_env/lib -o mb_decomp main/mb_decomp-mb_decomp.o -Wl,--as-needed   -L/home/ebullvul/software/anaconda3/envs/test_env/lib ./.libs/libmbx.a /data/software/repo/gcc/12.2.0/lib/../lib64/libstdc++.so -lgsl -lgslcblas -lfftw3 -liomp5 -lm -fopenmp -Wl,-rpath,/data/software/repo/gcc/12.2.0/lib/../lib64 -Wl,-rpath,/data/software/repo/gcc/12.2.0/lib/../lib64\n",
      "libtool: link: icpc -DNDEBUG -D_FORTIFY_SOURCE=2 -O2 -isystem /home/ebullvul/software/anaconda3/envs/test_env/include -DHAVE_FFTWD=1 -fopenmp -O0 -std=c++11 -I../src -Wl,-O2 -Wl,--sort-common -Wl,-z -Wl,relro -Wl,-z -Wl,now -Wl,--disable-new-dtags -Wl,--gc-sections -Wl,--allow-shlib-undefined -Wl,-rpath -Wl,/home/ebullvul/software/anaconda3/envs/test_env/lib -Wl,-rpath-link -Wl,/home/ebullvul/software/anaconda3/envs/test_env/lib -o optimize main/optimize-optimize.o -Wl,--as-needed   -L/home/ebullvul/software/anaconda3/envs/test_env/lib ./.libs/libmbx.a /data/software/repo/gcc/12.2.0/lib/../lib64/libstdc++.so -lgsl -lgslcblas -lfftw3 -liomp5 -lm -fopenmp -Wl,-rpath,/data/software/repo/gcc/12.2.0/lib/../lib64 -Wl,-rpath,/data/software/repo/gcc/12.2.0/lib/../lib64\n",
      "libtool: link: icpc -DNDEBUG -D_FORTIFY_SOURCE=2 -O2 -isystem /home/ebullvul/software/anaconda3/envs/test_env/include -DHAVE_FFTWD=1 -fopenmp -O0 -std=c++11 -I../src -Wl,-O2 -Wl,--sort-common -Wl,-z -Wl,relro -Wl,-z -Wl,now -Wl,--disable-new-dtags -Wl,--gc-sections -Wl,--allow-shlib-undefined -Wl,-rpath -Wl,/home/ebullvul/software/anaconda3/envs/test_env/lib -Wl,-rpath-link -Wl,/home/ebullvul/software/anaconda3/envs/test_env/lib -o single_point main/single_point-single_point.o -Wl,--as-needed   -L/home/ebullvul/software/anaconda3/envs/test_env/lib ./.libs/libmbx.a /data/software/repo/gcc/12.2.0/lib/../lib64/libstdc++.so -lgsl -lgslcblas -lfftw3 -liomp5 -lm -fopenmp -Wl,-rpath,/data/software/repo/gcc/12.2.0/lib/../lib64 -Wl,-rpath,/data/software/repo/gcc/12.2.0/lib/../lib64\n",
      "libtool: link: icpc -DNDEBUG -D_FORTIFY_SOURCE=2 -O2 -isystem /home/ebullvul/software/anaconda3/envs/test_env/include -DHAVE_FFTWD=1 -fopenmp -O0 -std=c++11 -I../src -Wl,-O2 -Wl,--sort-common -Wl,-z -Wl,relro -Wl,-z -Wl,now -Wl,--disable-new-dtags -Wl,--gc-sections -Wl,--allow-shlib-undefined -Wl,-rpath -Wl,/home/ebullvul/software/anaconda3/envs/test_env/lib -Wl,-rpath-link -Wl,/home/ebullvul/software/anaconda3/envs/test_env/lib -o order_frames main/order_frames-order_frames.o -Wl,--as-needed   -L/home/ebullvul/software/anaconda3/envs/test_env/lib ./.libs/libmbx.a /data/software/repo/gcc/12.2.0/lib/../lib64/libstdc++.so -lgsl -lgslcblas -lfftw3 -liomp5 -lm -fopenmp -Wl,-rpath,/data/software/repo/gcc/12.2.0/lib/../lib64 -Wl,-rpath,/data/software/repo/gcc/12.2.0/lib/../lib64\n",
      "/bin/sh ../libtool  --tag=CXX   --mode=link icpc -DNDEBUG -D_FORTIFY_SOURCE=2 -O2 -isystem /home/ebullvul/software/anaconda3/envs/test_env/include -DHAVE_FFTWD=1 -O0 -std=c++11  -fopenmp -I../src -static   -Wl,-O2 -Wl,--sort-common -Wl,--as-needed -Wl,-z,relro -Wl,-z,now -Wl,--disable-new-dtags -Wl,--gc-sections -Wl,--allow-shlib-undefined -Wl,-rpath,/home/ebullvul/software/anaconda3/envs/test_env/lib -Wl,-rpath-link,/home/ebullvul/software/anaconda3/envs/test_env/lib -L/home/ebullvul/software/anaconda3/envs/test_env/lib -o normal_modes main/normal_modes-normal-modes.o libmbx.la -lgsl -lgslcblas -lfftw3 -liomp5 -lm \n",
      "libtool: link: icpc -DNDEBUG -D_FORTIFY_SOURCE=2 -O2 -isystem /home/ebullvul/software/anaconda3/envs/test_env/include -DHAVE_FFTWD=1 -O0 -std=c++11 -fopenmp -I../src -Wl,-O2 -Wl,--sort-common -Wl,-z -Wl,relro -Wl,-z -Wl,now -Wl,--disable-new-dtags -Wl,--gc-sections -Wl,--allow-shlib-undefined -Wl,-rpath -Wl,/home/ebullvul/software/anaconda3/envs/test_env/lib -Wl,-rpath-link -Wl,/home/ebullvul/software/anaconda3/envs/test_env/lib -o normal_modes main/normal_modes-normal-modes.o -Wl,--as-needed   -L/home/ebullvul/software/anaconda3/envs/test_env/lib ./.libs/libmbx.a /data/software/repo/gcc/12.2.0/lib/../lib64/libstdc++.so -lgsl -lgslcblas -lfftw3 -liomp5 -lm -fopenmp -Wl,-rpath,/data/software/repo/gcc/12.2.0/lib/../lib64 -Wl,-rpath,/data/software/repo/gcc/12.2.0/lib/../lib64\n",
      "make[3]: Leaving directory `/home/ebullvul/projects/QDMS_2025/QDMS_2025/tutorials/2_Many-Body_Model_Build-Along/Tutorial_2_workdir/MBX/src'\n",
      "Making all in unittests\n",
      "make[3]: Entering directory `/home/ebullvul/projects/QDMS_2025/QDMS_2025/tutorials/2_Many-Body_Model_Build-Along/Tutorial_2_workdir/MBX/src/unittests'\n",
      "make[3]: Nothing to be done for `all'.\n",
      "make[3]: Leaving directory `/home/ebullvul/projects/QDMS_2025/QDMS_2025/tutorials/2_Many-Body_Model_Build-Along/Tutorial_2_workdir/MBX/src/unittests'\n",
      "make[2]: Leaving directory `/home/ebullvul/projects/QDMS_2025/QDMS_2025/tutorials/2_Many-Body_Model_Build-Along/Tutorial_2_workdir/MBX/src'\n",
      "Making all in plugins\n",
      "make[2]: Entering directory `/home/ebullvul/projects/QDMS_2025/QDMS_2025/tutorials/2_Many-Body_Model_Build-Along/Tutorial_2_workdir/MBX/plugins'\n",
      "Making all in i-pi\n",
      "make[3]: Entering directory `/home/ebullvul/projects/QDMS_2025/QDMS_2025/tutorials/2_Many-Body_Model_Build-Along/Tutorial_2_workdir/MBX/plugins/i-pi'\n",
      "icpc -DHAVE_CONFIG_H -I. -I../..   -DNDEBUG -D_FORTIFY_SOURCE=2 -O2 -isystem /home/ebullvul/software/anaconda3/envs/test_env/include -DHAVE_FFTWD=1 -DNDEBUG -D_FORTIFY_SOURCE=2 -O2 -isystem /home/ebullvul/software/anaconda3/envs/test_env/include -DHAVE_FFTWD=1 -fopenmp -O0 -std=c++11  -I../../src -static  -MT src/main/ipi_driver-driver.o -MD -MP -MF src/main/.deps/ipi_driver-driver.Tpo -c -o src/main/ipi_driver-driver.o `test -f 'src/main/driver.cpp' || echo './'`src/main/driver.cpp\n",
      "In file included from /data/software/repo/gcc/12.2.0/include/c++/12.2.0/x86_64-pc-linux-gnu/bits/os_defines.h(39),\n",
      "                 from /data/software/repo/gcc/12.2.0/include/c++/12.2.0/x86_64-pc-linux-gnu/bits/c++config.h(655),\n",
      "                 from /data/software/repo/gcc/12.2.0/include/c++/12.2.0/cmath(41),\n",
      "                 from src/main/driver.cpp(35):\n",
      "/usr/include/features.h(330): warning #1224: #warning directive: _FORTIFY_SOURCE requires compiling with optimization (-O)\n",
      "  #  warning _FORTIFY_SOURCE requires compiling with optimization (-O)\n",
      "     ^\n",
      "\n",
      "src/main/driver.cpp(274): warning #2196: routine is both \"inline\" and \"noinline\"\n",
      "\n",
      "mv -f src/main/.deps/ipi_driver-driver.Tpo src/main/.deps/ipi_driver-driver.Po\n",
      "/bin/sh ../../libtool  --tag=CXX   --mode=link icpc -DNDEBUG -D_FORTIFY_SOURCE=2 -O2 -isystem /home/ebullvul/software/anaconda3/envs/test_env/include -DHAVE_FFTWD=1 -fopenmp -O0 -std=c++11  -I../../src -static   -Wl,-O2 -Wl,--sort-common -Wl,--as-needed -Wl,-z,relro -Wl,-z,now -Wl,--disable-new-dtags -Wl,--gc-sections -Wl,--allow-shlib-undefined -Wl,-rpath,/home/ebullvul/software/anaconda3/envs/test_env/lib -Wl,-rpath-link,/home/ebullvul/software/anaconda3/envs/test_env/lib -L/home/ebullvul/software/anaconda3/envs/test_env/lib -o ipi_driver src/main/ipi_driver-driver.o ../../src/libmbx.la  -lgsl -lgslcblas -lfftw3 -liomp5 -lm \n",
      "libtool: link: icpc -DNDEBUG -D_FORTIFY_SOURCE=2 -O2 -isystem /home/ebullvul/software/anaconda3/envs/test_env/include -DHAVE_FFTWD=1 -fopenmp -O0 -std=c++11 -I../../src -Wl,-O2 -Wl,--sort-common -Wl,-z -Wl,relro -Wl,-z -Wl,now -Wl,--disable-new-dtags -Wl,--gc-sections -Wl,--allow-shlib-undefined -Wl,-rpath -Wl,/home/ebullvul/software/anaconda3/envs/test_env/lib -Wl,-rpath-link -Wl,/home/ebullvul/software/anaconda3/envs/test_env/lib -o ipi_driver src/main/ipi_driver-driver.o -Wl,--as-needed   -L/home/ebullvul/software/anaconda3/envs/test_env/lib ../../src/.libs/libmbx.a /data/software/repo/gcc/12.2.0/lib/../lib64/libstdc++.so -lgsl -lgslcblas -lfftw3 -liomp5 -lm -fopenmp -Wl,-rpath,/data/software/repo/gcc/12.2.0/lib/../lib64 -Wl,-rpath,/data/software/repo/gcc/12.2.0/lib/../lib64\n",
      "make[3]: Leaving directory `/home/ebullvul/projects/QDMS_2025/QDMS_2025/tutorials/2_Many-Body_Model_Build-Along/Tutorial_2_workdir/MBX/plugins/i-pi'\n",
      "make[3]: Entering directory `/home/ebullvul/projects/QDMS_2025/QDMS_2025/tutorials/2_Many-Body_Model_Build-Along/Tutorial_2_workdir/MBX/plugins'\n",
      "make[3]: Nothing to be done for `all-am'.\n",
      "make[3]: Leaving directory `/home/ebullvul/projects/QDMS_2025/QDMS_2025/tutorials/2_Many-Body_Model_Build-Along/Tutorial_2_workdir/MBX/plugins'\n",
      "make[2]: Leaving directory `/home/ebullvul/projects/QDMS_2025/QDMS_2025/tutorials/2_Many-Body_Model_Build-Along/Tutorial_2_workdir/MBX/plugins'\n",
      "make[2]: Entering directory `/home/ebullvul/projects/QDMS_2025/QDMS_2025/tutorials/2_Many-Body_Model_Build-Along/Tutorial_2_workdir/MBX'\n",
      "make[2]: Leaving directory `/home/ebullvul/projects/QDMS_2025/QDMS_2025/tutorials/2_Many-Body_Model_Build-Along/Tutorial_2_workdir/MBX'\n",
      "make[1]: Leaving directory `/home/ebullvul/projects/QDMS_2025/QDMS_2025/tutorials/2_Many-Body_Model_Build-Along/Tutorial_2_workdir/MBX'\n",
      "Installing...\n",
      "Making install in src\n",
      "make[1]: Entering directory `/home/ebullvul/projects/QDMS_2025/QDMS_2025/tutorials/2_Many-Body_Model_Build-Along/Tutorial_2_workdir/MBX/src'\n",
      "Making install in .\n",
      "make[2]: Entering directory `/home/ebullvul/projects/QDMS_2025/QDMS_2025/tutorials/2_Many-Body_Model_Build-Along/Tutorial_2_workdir/MBX/src'\n",
      "make[3]: Entering directory `/home/ebullvul/projects/QDMS_2025/QDMS_2025/tutorials/2_Many-Body_Model_Build-Along/Tutorial_2_workdir/MBX/src'\n",
      " /usr/bin/mkdir -p '/home/ebullvul/projects/QDMS_2025/QDMS_2025/tutorials/2_Many-Body_Model_Build-Along/Tutorial_2_workdir/MBX/lib'\n",
      " /usr/bin/mkdir -p '/home/ebullvul/projects/QDMS_2025/QDMS_2025/tutorials/2_Many-Body_Model_Build-Along/Tutorial_2_workdir/MBX/include'\n",
      " /bin/sh ../libtool   --mode=install /usr/bin/install -c   libmbx.la '/home/ebullvul/projects/QDMS_2025/QDMS_2025/tutorials/2_Many-Body_Model_Build-Along/Tutorial_2_workdir/MBX/lib'\n",
      " /usr/bin/mkdir -p '/home/ebullvul/projects/QDMS_2025/QDMS_2025/tutorials/2_Many-Body_Model_Build-Along/Tutorial_2_workdir/MBX/include/potential/2b'\n",
      " /usr/bin/install -c -m 644  potential/2b/energy2b.h potential/2b/mbnrg_2b_A1_A1_deg9_v1.h potential/2b/mbnrg_2b_A1_B1C2X2_deg5_v1.h potential/2b/mbnrg_2b_A1_B1C2X2_deg6_v1.h potential/2b/mbnrg_2b_A1_B1_deg9_v1.h potential/2b/mbnrg_2b_A1_B2_deg7_v1.h potential/2b/mbnrg_2b_A1B2Z2_A1B2Z2_deg4_vmbpbe.h potential/2b/mbnrg_2b_A1B2Z2_C2_deg5_v1.h potential/2b/mbnrg_2b_A1B3_A1B3_deg4_v1.h potential/2b/mbnrg_2b_A1B3C1D2_E1F2_deg3_ch3nh2_h2o_v1.h potential/2b/mbnrg_2b_A1B4_C1D2_deg4_v1.h potential/2b/mbnrg_2b_A2_A2_deg6_v1.h potential/2b/poly_2b_A1_A1_deg23_v1x.h potential/2b/poly_2b_A1_A1_deg9_v1.h potential/2b/poly_2b_A1_B1C2X2_deg5_v1.h potential/2b/poly_2b_A1_B1C2X2_deg6_v1.h potential/2b/poly_2b_A1_B1_deg9_v1.h potential/2b/poly_2b_A1B2_A1B2_v1x.h potential/2b/poly_2b_A1B2C4_D1E2_deg3_v1x.h potential/2b/poly_2b_A1_B2_deg7_v1.h potential/2b/poly_2b_A1B2Z2_A1B2Z2_deg4_vmbpbe.h potential/2b/poly_2b_A1B2Z2_C1D2_v1x.h potential/2b/poly_2b_A1B2Z2_C1D4_deg3_exp0_v1x.h potential/2b/poly_2b_A1B2Z2_C1_deg5_v1x.h potential/2b/poly_2b_A1B2Z2_C2_deg5_v1.h potential/2b/poly-2b-A1B2Z2_C-v1x.h potential/2b/poly_2b_A1B3_A1B3_deg4_v1.h potential/2b/poly_2b_A1B3C1D2_E1F2_deg3_ch3nh2_h2o_v1.h potential/2b/poly_2b_A1B4_A1B4_deg4_exp0_v1x.h potential/2b/poly_2b_A1B4_C1D2_deg4_v1.h potential/2b/poly_2b_A2_A2_deg6_v1.h potential/2b/poly-2b-v6x.h potential/2b/x2b_A1_A1_deg23_v1x.h potential/2b/x2b_A1B2_A1B2_v1x.h potential/2b/x2b_A1B2C4_D1E2_deg3_v1x.h potential/2b/x2b_A1B2Z2_C1D2_v1x.h potential/2b/x2b_A1B2Z2_C1D4_deg3_exp0_v1x.h potential/2b/x2b_A1B2Z2_C1_deg5_v1x.h potential/2b/x2b-A1B2Z2_C-v1x.h potential/2b/x2b_A1B4_A1B4_deg4_exp0_v1x.h '/home/ebullvul/projects/QDMS_2025/QDMS_2025/tutorials/2_Many-Body_Model_Build-Along/Tutorial_2_workdir/MBX/include/potential/2b'\n",
      "libtool: install: /usr/bin/install -c .libs/libmbx.lai /home/ebullvul/projects/QDMS_2025/QDMS_2025/tutorials/2_Many-Body_Model_Build-Along/Tutorial_2_workdir/MBX/lib/libmbx.la\n",
      "libtool: install: /usr/bin/install -c .libs/libmbx.a /home/ebullvul/projects/QDMS_2025/QDMS_2025/tutorials/2_Many-Body_Model_Build-Along/Tutorial_2_workdir/MBX/lib/libmbx.a\n",
      "libtool: install: chmod 644 /home/ebullvul/projects/QDMS_2025/QDMS_2025/tutorials/2_Many-Body_Model_Build-Along/Tutorial_2_workdir/MBX/lib/libmbx.a\n",
      "libtool: install: /home/ebullvul/software/anaconda3/envs/test_env/bin/x86_64-conda-linux-gnu-ranlib /home/ebullvul/projects/QDMS_2025/QDMS_2025/tutorials/2_Many-Body_Model_Build-Along/Tutorial_2_workdir/MBX/lib/libmbx.a\n",
      " /usr/bin/mkdir -p '/home/ebullvul/projects/QDMS_2025/QDMS_2025/tutorials/2_Many-Body_Model_Build-Along/Tutorial_2_workdir/MBX/include/potential/electrostatics'\n",
      " /usr/bin/install -c -m 644  potential/electrostatics/electrostatics.h potential/electrostatics/fields.h potential/electrostatics/gammq.h potential/electrostatics/helpme.h '/home/ebullvul/projects/QDMS_2025/QDMS_2025/tutorials/2_Many-Body_Model_Build-Along/Tutorial_2_workdir/MBX/include/potential/electrostatics'\n",
      " /usr/bin/mkdir -p '/home/ebullvul/projects/QDMS_2025/QDMS_2025/tutorials/2_Many-Body_Model_Build-Along/Tutorial_2_workdir/MBX/include/potential/force_field'\n",
      " /usr/bin/install -c -m 644  potential/force_field/angles.h potential/force_field/bond.h potential/force_field/calculators.h potential/force_field/connectivity.h potential/force_field/dihedral.h potential/force_field/energyff.h potential/force_field/inversion.h potential/force_field/topology.h '/home/ebullvul/projects/QDMS_2025/QDMS_2025/tutorials/2_Many-Body_Model_Build-Along/Tutorial_2_workdir/MBX/include/potential/force_field'\n",
      " /usr/bin/mkdir -p '/home/ebullvul/projects/QDMS_2025/QDMS_2025/tutorials/2_Many-Body_Model_Build-Along/Tutorial_2_workdir/MBX/include/tools'\n",
      " /usr/bin/install -c -m 644  tools/constants.h tools/custom_exceptions.h tools/definitions.h tools/macros.h tools/math_tools.h tools/mpi_helper.h tools/mt19937.h tools/pbctools.h tools/properties.h tools/random-rotation.h tools/testutils.h tools/variable.h tools/water_monomer_lp.h tools/xmin.h '/home/ebullvul/projects/QDMS_2025/QDMS_2025/tutorials/2_Many-Body_Model_Build-Along/Tutorial_2_workdir/MBX/include/tools'\n",
      " /usr/bin/mkdir -p '/home/ebullvul/projects/QDMS_2025/QDMS_2025/tutorials/2_Many-Body_Model_Build-Along/Tutorial_2_workdir/MBX/include/potential/dispersion'\n",
      " /usr/bin/install -c -m 644  potential/dispersion/dispersion.h potential/dispersion/disptools.h '/home/ebullvul/projects/QDMS_2025/QDMS_2025/tutorials/2_Many-Body_Model_Build-Along/Tutorial_2_workdir/MBX/include/potential/dispersion'\n",
      " /usr/bin/mkdir -p '/home/ebullvul/projects/QDMS_2025/QDMS_2025/tutorials/2_Many-Body_Model_Build-Along/Tutorial_2_workdir/MBX/include/json'\n",
      " /usr/bin/install -c -m 644  json/json.h '/home/ebullvul/projects/QDMS_2025/QDMS_2025/tutorials/2_Many-Body_Model_Build-Along/Tutorial_2_workdir/MBX/include/json'\n",
      " /usr/bin/mkdir -p '/home/ebullvul/projects/QDMS_2025/QDMS_2025/tutorials/2_Many-Body_Model_Build-Along/Tutorial_2_workdir/MBX/include/kdtree'\n",
      " /usr/bin/install -c -m 644  kdtree/kdtree_utils.h kdtree/nanoflann.hpp '/home/ebullvul/projects/QDMS_2025/QDMS_2025/tutorials/2_Many-Body_Model_Build-Along/Tutorial_2_workdir/MBX/include/kdtree'\n",
      " /usr/bin/mkdir -p '/home/ebullvul/projects/QDMS_2025/QDMS_2025/tutorials/2_Many-Body_Model_Build-Along/Tutorial_2_workdir/MBX/include/potential/1b'\n",
      " /usr/bin/install -c -m 644  potential/1b/energy1b.h potential/1b/mbnrg_1b_A1B2_deg6_vmbpbe.h potential/1b/mbnrg_1b_A1B3C1D2_deg3_ch3nh2_v1.h potential/1b/mbnrg_1b_A1B3_deg5_v1.h potential/1b/mbnrg_1b_A2_deg8_v1.h potential/1b/poly_1b_A1B2C4_deg5_v1x.h potential/1b/poly_1b_A1B2_deg4_v1x.h potential/1b/poly_1b_A1B2_deg6_vmbpbe.h potential/1b/poly_1b_A1B3C1D2_deg3_ch3nh2_v1.h potential/1b/poly_1b_A1B3_deg5_v1.h potential/1b/poly_1b_A1B4_deg5_exp0_v1x.h potential/1b/poly_1b_A2_deg8_v1.h potential/1b/ps.h potential/1b/x1b_A1B2C4_deg5_v1x.h potential/1b/x1b_A1B2_deg4_v1x.h potential/1b/x1b_A1B4_deg5_exp0_v1x.h '/home/ebullvul/projects/QDMS_2025/QDMS_2025/tutorials/2_Many-Body_Model_Build-Along/Tutorial_2_workdir/MBX/include/potential/1b'\n",
      " /usr/bin/mkdir -p '/home/ebullvul/projects/QDMS_2025/QDMS_2025/tutorials/2_Many-Body_Model_Build-Along/Tutorial_2_workdir/MBX/include/potential/2b'\n",
      "libtool: finish: PATH=\"/data/software/repo/gcc/12.2.0/bin:/home/ebullvul/software/anaconda3/envs/test_env/bin:/home/ebullvul/software/anaconda3/condabin:/data/software/repo/cmake/3.10.3/bin:/data/software/repo/qbox/1.66.2:/data/software/repo/amber/2022/bin:/data/software/repo/plumed/2.8.0/bin:/data/software/repo/apbs/1.5/bin:/data/software/repo/dftbplus/23.1/bin:/data/software/repo/qchem/5.4/exe:/data/software/repo/qchem/5.4/bin:/usr/lib64/openmpi/bin:/data/software/repo/intel/oneapi/compiler/2022.1.0/linux/bin/intel64:/data/software/repo/intel/oneapi/compiler/2022.1.0/linux/bin:/usr/local/bin:/usr/bin:/usr/local/sbin:/usr/sbin:/opt/puppetlabs/bin:/var/lib/snapd/snap/bin:/data/software/repo/cuda/11.3/bin:/data/software/repo/gaussian/09-D01/g09/bsd:/data/software/repo/gaussian/09-D01/g09/local:/data/software/repo/gaussian/09-D01/g09/extras:/data/software/repo/gaussian/09-D01/g09:/data/software/repo/gdis/dev:/data/software/repo/jmol/14.6.0:/data/software/repo/maple/2023.1/bin:/data/software/repo/mendeley/1.16.1/bin:/data/software/repo/mercury/4.1.2/bin:/data/software/repo/molden/5.6:/data/software/repo/molpro/2019.2.3/bin:/data/software/repo/postg/9a9a208:/data/software/repo/tinker/7.1.2:/data/software/repo/vmd/1.9.2/bin:/data/software/repo/jupyter/1.0.0:/data/software/repo/pymol/2.2.3:/data/software/repo/multiwfn/3.5:/home/ebullvul/.local/bin:/home/ebullvul/bin:/sbin\" ldconfig -n /home/ebullvul/projects/QDMS_2025/QDMS_2025/tutorials/2_Many-Body_Model_Build-Along/Tutorial_2_workdir/MBX/lib\n",
      " /usr/bin/install -c -m 644  potential/2b/x2b-v9x.h '/home/ebullvul/projects/QDMS_2025/QDMS_2025/tutorials/2_Many-Body_Model_Build-Along/Tutorial_2_workdir/MBX/include/potential/2b'\n",
      "----------------------------------------------------------------------\n",
      "Libraries have been installed in:\n",
      "   /home/ebullvul/projects/QDMS_2025/QDMS_2025/tutorials/2_Many-Body_Model_Build-Along/Tutorial_2_workdir/MBX/lib\n",
      "\n",
      "If you ever happen to want to link against installed libraries\n",
      "in a given directory, LIBDIR, you must either use libtool, and\n",
      "specify the full pathname of the library, or use the '-LLIBDIR'\n",
      "flag during linking and do at least one of the following:\n",
      "   - add LIBDIR to the 'LD_LIBRARY_PATH' environment variable\n",
      "     during execution\n",
      "   - add LIBDIR to the 'LD_RUN_PATH' environment variable\n",
      "     during linking\n",
      "   - use the '-Wl,-rpath -Wl,LIBDIR' linker flag\n",
      "   - have your system administrator add LIBDIR to '/etc/ld.so.conf'\n",
      "\n",
      "See any operating system documentation about shared libraries for\n",
      "more information, such as the ld(1) and ld.so(8) manual pages.\n",
      "----------------------------------------------------------------------\n",
      " /usr/bin/mkdir -p '/home/ebullvul/projects/QDMS_2025/QDMS_2025/tutorials/2_Many-Body_Model_Build-Along/Tutorial_2_workdir/MBX/bin'\n",
      " /usr/bin/mkdir -p '/home/ebullvul/projects/QDMS_2025/QDMS_2025/tutorials/2_Many-Body_Model_Build-Along/Tutorial_2_workdir/MBX/include/potential/lj'\n",
      "  /bin/sh ../libtool   --mode=install /usr/bin/install -c single_point optimize order_frames mb_decomp normal_modes '/home/ebullvul/projects/QDMS_2025/QDMS_2025/tutorials/2_Many-Body_Model_Build-Along/Tutorial_2_workdir/MBX/bin'\n",
      " /usr/bin/install -c -m 644  potential/lj/lj.h potential/lj/ljtools.h '/home/ebullvul/projects/QDMS_2025/QDMS_2025/tutorials/2_Many-Body_Model_Build-Along/Tutorial_2_workdir/MBX/include/potential/lj'\n",
      " /usr/bin/mkdir -p '/home/ebullvul/projects/QDMS_2025/QDMS_2025/tutorials/2_Many-Body_Model_Build-Along/Tutorial_2_workdir/MBX/include/potential/buckingham'\n",
      " /usr/bin/install -c -m 644  potential/buckingham/buckingham.h potential/buckingham/bucktools.h '/home/ebullvul/projects/QDMS_2025/QDMS_2025/tutorials/2_Many-Body_Model_Build-Along/Tutorial_2_workdir/MBX/include/potential/buckingham'\n",
      " /usr/bin/mkdir -p '/home/ebullvul/projects/QDMS_2025/QDMS_2025/tutorials/2_Many-Body_Model_Build-Along/Tutorial_2_workdir/MBX/include/potential/3b'\n",
      " /usr/bin/install -c -m 644  potential/3b/energy3b.h potential/3b/mbnrg_3b_A1_B1C2X2_B1C2X2_deg4_v1.h potential/3b/mbnrg_3b_A1B2_A1B2_A1B2_deg4_v1.h potential/3b/mbnrg_3b_A1B2_A1B2_A1B2_deg4_vmbpbe.h potential/3b/mbnrg_3b_A1B2C4_D1E2_D1E2_deg3_v1.h potential/3b/mbnrg_3b_A1B4_C1D2_C1D2_deg3_v1.h potential/3b/poly_3b_A1_B1C2X2_B1C2X2_deg4_v1.h potential/3b/poly_3b_A1B2_A1B2_A1B2_deg4_v1.h potential/3b/poly_3b_A1B2_A1B2_A1B2_deg4_vmbpbe.h potential/3b/poly_3b_A1B2C4_D1E2_D1E2_deg3_v1.h potential/3b/poly_3b_A1B4_C1D2_C1D2_deg3_v1.h potential/3b/poly-3b-h2o-ion-v1x_deg4_filtered.h potential/3b/poly-3b-v2x.h potential/3b/x3b-h2o-ion-v1x-deg4-filtered.h potential/3b/x3b-v2x.h '/home/ebullvul/projects/QDMS_2025/QDMS_2025/tutorials/2_Many-Body_Model_Build-Along/Tutorial_2_workdir/MBX/include/potential/3b'\n",
      "libtool: install: /usr/bin/install -c single_point /home/ebullvul/projects/QDMS_2025/QDMS_2025/tutorials/2_Many-Body_Model_Build-Along/Tutorial_2_workdir/MBX/bin/single_point\n",
      "libtool: install: /usr/bin/install -c optimize /home/ebullvul/projects/QDMS_2025/QDMS_2025/tutorials/2_Many-Body_Model_Build-Along/Tutorial_2_workdir/MBX/bin/optimize\n",
      " /usr/bin/mkdir -p '/home/ebullvul/projects/QDMS_2025/QDMS_2025/tutorials/2_Many-Body_Model_Build-Along/Tutorial_2_workdir/MBX/include/io_tools'\n",
      " /usr/bin/install -c -m 644  io_tools/read_connectivity.h io_tools/read_nrg.h io_tools/read_xyz.h io_tools/write_connectivity.h io_tools/write_nrg.h io_tools/write_xyz.h '/home/ebullvul/projects/QDMS_2025/QDMS_2025/tutorials/2_Many-Body_Model_Build-Along/Tutorial_2_workdir/MBX/include/io_tools'\n",
      " /usr/bin/mkdir -p '/home/ebullvul/projects/QDMS_2025/QDMS_2025/tutorials/2_Many-Body_Model_Build-Along/Tutorial_2_workdir/MBX/include/potential/4b'\n",
      " /usr/bin/install -c -m 644  potential/4b/energy4b.h potential/4b/mbnrg_4b_A1B2_A1B2_A1B2_A1B2_deg4_v1.h potential/4b/poly_4b_A1B2_A1B2_A1B2_A1B2_deg4_v1.h '/home/ebullvul/projects/QDMS_2025/QDMS_2025/tutorials/2_Many-Body_Model_Build-Along/Tutorial_2_workdir/MBX/include/potential/4b'\n",
      "libtool: install: /usr/bin/install -c order_frames /home/ebullvul/projects/QDMS_2025/QDMS_2025/tutorials/2_Many-Body_Model_Build-Along/Tutorial_2_workdir/MBX/bin/order_frames\n",
      " /usr/bin/mkdir -p '/home/ebullvul/projects/QDMS_2025/QDMS_2025/tutorials/2_Many-Body_Model_Build-Along/Tutorial_2_workdir/MBX/include/bblock'\n",
      " /usr/bin/install -c -m 644  bblock/system.h bblock/sys_tools.h '/home/ebullvul/projects/QDMS_2025/QDMS_2025/tutorials/2_Many-Body_Model_Build-Along/Tutorial_2_workdir/MBX/include/bblock'\n",
      "libtool: install: /usr/bin/install -c mb_decomp /home/ebullvul/projects/QDMS_2025/QDMS_2025/tutorials/2_Many-Body_Model_Build-Along/Tutorial_2_workdir/MBX/bin/mb_decomp\n",
      "libtool: install: /usr/bin/install -c normal_modes /home/ebullvul/projects/QDMS_2025/QDMS_2025/tutorials/2_Many-Body_Model_Build-Along/Tutorial_2_workdir/MBX/bin/normal_modes\n",
      "make[3]: Leaving directory `/home/ebullvul/projects/QDMS_2025/QDMS_2025/tutorials/2_Many-Body_Model_Build-Along/Tutorial_2_workdir/MBX/src'\n",
      "make[2]: Leaving directory `/home/ebullvul/projects/QDMS_2025/QDMS_2025/tutorials/2_Many-Body_Model_Build-Along/Tutorial_2_workdir/MBX/src'\n",
      "Making install in unittests\n",
      "make[2]: Entering directory `/home/ebullvul/projects/QDMS_2025/QDMS_2025/tutorials/2_Many-Body_Model_Build-Along/Tutorial_2_workdir/MBX/src/unittests'\n",
      "make[3]: Entering directory `/home/ebullvul/projects/QDMS_2025/QDMS_2025/tutorials/2_Many-Body_Model_Build-Along/Tutorial_2_workdir/MBX/src/unittests'\n",
      "make[3]: Nothing to be done for `install-exec-am'.\n",
      "make[3]: Nothing to be done for `install-data-am'.\n",
      "make[3]: Leaving directory `/home/ebullvul/projects/QDMS_2025/QDMS_2025/tutorials/2_Many-Body_Model_Build-Along/Tutorial_2_workdir/MBX/src/unittests'\n",
      "make[2]: Leaving directory `/home/ebullvul/projects/QDMS_2025/QDMS_2025/tutorials/2_Many-Body_Model_Build-Along/Tutorial_2_workdir/MBX/src/unittests'\n",
      "make[1]: Leaving directory `/home/ebullvul/projects/QDMS_2025/QDMS_2025/tutorials/2_Many-Body_Model_Build-Along/Tutorial_2_workdir/MBX/src'\n",
      "Making install in plugins\n",
      "make[1]: Entering directory `/home/ebullvul/projects/QDMS_2025/QDMS_2025/tutorials/2_Many-Body_Model_Build-Along/Tutorial_2_workdir/MBX/plugins'\n",
      "Making install in i-pi\n",
      "make[2]: Entering directory `/home/ebullvul/projects/QDMS_2025/QDMS_2025/tutorials/2_Many-Body_Model_Build-Along/Tutorial_2_workdir/MBX/plugins/i-pi'\n",
      "make[3]: Entering directory `/home/ebullvul/projects/QDMS_2025/QDMS_2025/tutorials/2_Many-Body_Model_Build-Along/Tutorial_2_workdir/MBX/plugins/i-pi'\n",
      "make[3]: Nothing to be done for `install-data-am'.\n",
      " /usr/bin/mkdir -p '/home/ebullvul/projects/QDMS_2025/QDMS_2025/tutorials/2_Many-Body_Model_Build-Along/Tutorial_2_workdir/MBX/bin'\n",
      "  /bin/sh ../../libtool   --mode=install /usr/bin/install -c ipi_driver '/home/ebullvul/projects/QDMS_2025/QDMS_2025/tutorials/2_Many-Body_Model_Build-Along/Tutorial_2_workdir/MBX/bin'\n",
      "libtool: install: /usr/bin/install -c ipi_driver /home/ebullvul/projects/QDMS_2025/QDMS_2025/tutorials/2_Many-Body_Model_Build-Along/Tutorial_2_workdir/MBX/bin/ipi_driver\n",
      "make  install-exec-hook\n",
      "make[4]: Entering directory `/home/ebullvul/projects/QDMS_2025/QDMS_2025/tutorials/2_Many-Body_Model_Build-Along/Tutorial_2_workdir/MBX/plugins/i-pi'\n",
      "mkdir -p bin\n",
      "ln -sf ../ipi_driver bin/driver\n",
      "make[4]: Leaving directory `/home/ebullvul/projects/QDMS_2025/QDMS_2025/tutorials/2_Many-Body_Model_Build-Along/Tutorial_2_workdir/MBX/plugins/i-pi'\n",
      "make[3]: Leaving directory `/home/ebullvul/projects/QDMS_2025/QDMS_2025/tutorials/2_Many-Body_Model_Build-Along/Tutorial_2_workdir/MBX/plugins/i-pi'\n",
      "make[2]: Leaving directory `/home/ebullvul/projects/QDMS_2025/QDMS_2025/tutorials/2_Many-Body_Model_Build-Along/Tutorial_2_workdir/MBX/plugins/i-pi'\n",
      "make[2]: Entering directory `/home/ebullvul/projects/QDMS_2025/QDMS_2025/tutorials/2_Many-Body_Model_Build-Along/Tutorial_2_workdir/MBX/plugins'\n",
      "make[3]: Entering directory `/home/ebullvul/projects/QDMS_2025/QDMS_2025/tutorials/2_Many-Body_Model_Build-Along/Tutorial_2_workdir/MBX/plugins'\n",
      "make[3]: Nothing to be done for `install-exec-am'.\n",
      "make[3]: Nothing to be done for `install-data-am'.\n",
      "make[3]: Leaving directory `/home/ebullvul/projects/QDMS_2025/QDMS_2025/tutorials/2_Many-Body_Model_Build-Along/Tutorial_2_workdir/MBX/plugins'\n",
      "make[2]: Leaving directory `/home/ebullvul/projects/QDMS_2025/QDMS_2025/tutorials/2_Many-Body_Model_Build-Along/Tutorial_2_workdir/MBX/plugins'\n",
      "make[1]: Leaving directory `/home/ebullvul/projects/QDMS_2025/QDMS_2025/tutorials/2_Many-Body_Model_Build-Along/Tutorial_2_workdir/MBX/plugins'\n",
      "make[1]: Entering directory `/home/ebullvul/projects/QDMS_2025/QDMS_2025/tutorials/2_Many-Body_Model_Build-Along/Tutorial_2_workdir/MBX'\n",
      "make[2]: Entering directory `/home/ebullvul/projects/QDMS_2025/QDMS_2025/tutorials/2_Many-Body_Model_Build-Along/Tutorial_2_workdir/MBX'\n",
      "make[2]: Nothing to be done for `install-exec-am'.\n",
      " /usr/bin/mkdir -p '/home/ebullvul/projects/QDMS_2025/QDMS_2025/tutorials/2_Many-Body_Model_Build-Along/Tutorial_2_workdir/MBX/share/doc/mbx'\n",
      " /usr/bin/install -c -m 644 README.md '/home/ebullvul/projects/QDMS_2025/QDMS_2025/tutorials/2_Many-Body_Model_Build-Along/Tutorial_2_workdir/MBX/share/doc/mbx'\n",
      "make[2]: Leaving directory `/home/ebullvul/projects/QDMS_2025/QDMS_2025/tutorials/2_Many-Body_Model_Build-Along/Tutorial_2_workdir/MBX'\n",
      "make[1]: Leaving directory `/home/ebullvul/projects/QDMS_2025/QDMS_2025/tutorials/2_Many-Body_Model_Build-Along/Tutorial_2_workdir/MBX'\n"
     ]
    }
   ],
   "source": [
    "compile_mbx(\n",
    "        paths.MBX,\n",
    "        configure_arguments=[\n",
    "                \"CXX=icpc\",\n",
    "                \"CC=icc\",\n",
    "                \"--disable-optimization\"\n",
    "        ],\n",
    "        configure=True,\n",
    "        clean=False,\n",
    "        num_threads=4\n",
    ")"
   ]
  },
  {
   "cell_type": "code",
   "execution_count": 74,
   "metadata": {},
   "outputs": [
    {
     "name": "stdout",
     "output_type": "stream",
     "text": [
      "MBX energy calculations: |====================================================================================================| - 1236/1236\n"
     ]
    }
   ],
   "source": [
    "predicted_energies_vibrational_modes_CH3NH2_H2O = calculate_MBX_nmer_energies(\n",
    "        paths.MBX,\n",
    "        definition_CH3NH2_H2O,\n",
    "        configurations_vibrational_modes_CH3NH2_H2O,\n",
    "        monomer_names=[\"ch3nh2\", \"h2o\"],\n",
    "        scratch_dir=paths.scratch.fitting_CH3NH2_H2O\n",
    ")"
   ]
  },
  {
   "cell_type": "code",
   "execution_count": 75,
   "metadata": {},
   "outputs": [
    {
     "name": "stdout",
     "output_type": "stream",
     "text": [
      "MBX energy calculations: |====================================================================================================| - 7698/7698\n"
     ]
    }
   ],
   "source": [
    "predicted_energies_pbmetad_CH3NH2_H2O = calculate_MBX_nmer_energies(\n",
    "        paths.MBX,\n",
    "        definition_CH3NH2_H2O,\n",
    "        pbmetad_configs_CH3NH2_H2O,\n",
    "        monomer_names=[\"ch3nh2\", \"h2o\"],\n",
    "        scratch_dir=paths.scratch.fitting_CH3NH2_H2O\n",
    ")"
   ]
  },
  {
   "cell_type": "code",
   "execution_count": 78,
   "metadata": {},
   "outputs": [],
   "source": [
    "mbx_opt_CH3NH2_energy = calculate_MBX_energy(\n",
    "        paths.MBX,\n",
    "        definition_CH3NH2,\n",
    "        minimized_structure_CH3NH2,\n",
    "        monomer_names=[\"ch3nh2\"],\n",
    "        scratch_dir=paths.scratch.fitting_CH3NH2_H2O\n",
    ")"
   ]
  },
  {
   "cell_type": "code",
   "execution_count": 79,
   "metadata": {},
   "outputs": [],
   "source": [
    "mbx_opt_H2O_energy = calculate_MBX_energy(\n",
    "        paths.MBX,\n",
    "        definition_H2O,\n",
    "        minimized_structure_H2O,\n",
    "        monomer_names=[\"h2o\"],\n",
    "        scratch_dir=paths.scratch.fitting_CH3NH2_H2O\n",
    ")"
   ]
  },
  {
   "cell_type": "code",
   "execution_count": 83,
   "metadata": {},
   "outputs": [],
   "source": [
    "predicted_energies_2b_vibrational_modes_CH3NH2_H2O = calculate_many_body_energies(\n",
    "    configurations_vibrational_modes_CH3NH2_H2O,\n",
    "    predicted_energies_vibrational_modes_CH3NH2_H2O,\n",
    "    minimized_monomer_energies=[mbx_opt_CH3NH2_energy, mbx_opt_H2O_energy]\n",
    ")\n",
    "\n",
    "predicted_energies_2b_pbmetad_CH3NH2_H2O = calculate_many_body_energies(\n",
    "    pbmetad_configs_CH3NH2_H2O,\n",
    "    predicted_energies_pbmetad_CH3NH2_H2O,\n",
    "    minimized_monomer_energies=[mbx_opt_CH3NH2_energy, mbx_opt_H2O_energy]\n",
    ")"
   ]
  },
  {
   "cell_type": "code",
   "execution_count": 86,
   "metadata": {},
   "outputs": [
    {
     "data": {
      "image/png": "[encoded data removed]",
      "text/plain": [
       "<Figure size 400x400 with 1 Axes>"
      ]
     },
     "execution_count": 86,
     "metadata": {},
     "output_type": "execute_result"
    }
   ],
   "source": [
    "plot_correlation(\n",
    "    configurations_vibrational_modes_CH3NH2_H2O,\n",
    "    energies_2b_vibrational_modes_CH3NH2_H2O,\n",
    "    \"MP2\",\n",
    "    {\"MBX\": predicted_energies_2b_vibrational_modes_CH3NH2_H2O},\n",
    "    error_width=1.0\n",
    ")"
   ]
  },
  {
   "cell_type": "code",
   "execution_count": 89,
   "metadata": {},
   "outputs": [
    {
     "data": {
      "image/png": "[encoded data removed]",
      "text/plain": [
       "<Figure size 400x400 with 1 Axes>"
      ]
     },
     "execution_count": 89,
     "metadata": {},
     "output_type": "execute_result"
    }
   ],
   "source": [
    "plot_correlation(\n",
    "    configurations_vibrational_modes_CH3NH2_H2O,\n",
    "    energies_2b_vibrational_modes_CH3NH2_H2O,\n",
    "    \"MP2\",\n",
    "    {\"MBX\": predicted_energies_2b_vibrational_modes_CH3NH2_H2O},\n",
    "    minE=-20,\n",
    "    maxE=5,\n",
    "    error_width=1.0\n",
    ")"
   ]
  },
  {
   "cell_type": "code",
   "execution_count": 90,
   "metadata": {},
   "outputs": [
    {
     "data": {
      "image/png": "[encoded data removed]",
      "text/plain": [
       "<Figure size 400x400 with 1 Axes>"
      ]
     },
     "execution_count": 90,
     "metadata": {},
     "output_type": "execute_result"
    }
   ],
   "source": [
    "plot_correlation(\n",
    "    pbmetad_configs_CH3NH2_H2O,\n",
    "    energies_2b_pbmetad_CH3NH2_H2O,\n",
    "    \"MP2\",\n",
    "    {\"MBX\": predicted_energies_2b_pbmetad_CH3NH2_H2O},\n",
    "    error_width=10.0\n",
    ")"
   ]
  },
  {
   "cell_type": "code",
   "execution_count": null,
   "metadata": {},
   "outputs": [],
   "source": []
  }
 ],
 "metadata": {
  "kernelspec": {
   "display_name": "Python 3 (ipykernel)",
   "language": "python",
   "name": "python3"
  },
  "language_info": {
   "codemirror_mode": {
    "name": "ipython",
    "version": 3
   },
   "file_extension": ".py",
   "mimetype": "text/x-python",
   "name": "python",
   "nbconvert_exporter": "python",
   "pygments_lexer": "ipython3",
   "version": "3.10.10"
  }
 },
 "nbformat": 4,
 "nbformat_minor": 4
}
