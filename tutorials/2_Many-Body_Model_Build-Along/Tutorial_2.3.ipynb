{
 "cells": [
  {
   "cell_type": "markdown",
   "metadata": {},
   "source": [
    "# Tutorial 2: Many-Body Model Build-Along"
   ]
  },
  {
   "cell_type": "markdown",
   "metadata": {},
   "source": [
    "## 2.2: Two-Body Energy Surface"
   ]
  },
  {
   "cell_type": "markdown",
   "metadata": {
    "tags": []
   },
   "source": [
    "## II.1.? $V_{phys}$ Parametrization"
   ]
  },
  {
   "cell_type": "markdown",
   "metadata": {},
   "source": [
    "Next, we will parameterize the \"physical baseline\" ($V_{phys}$) of the PEF."
   ]
  },
  {
   "cell_type": "markdown",
   "metadata": {},
   "source": [
    "First, we will calculate the dispersion coefficients ($C_6$), dispersion damping parameters ($d_6$), atomic polarizabilities ($p$) and polarizability factors ($a$), and atomic radii ($\\rho$)"
   ]
  },
  {
   "cell_type": "code",
   "execution_count": 25,
   "metadata": {},
   "outputs": [],
   "source": [
    "job = job_runner.queue_job(\n",
    "\"\"\"\n",
    "    calculator = QChemCalculator(\"wb97m-v\", \"aug-cc-pvTZ\")\n",
    "    optimized_structure = xyz_reader(monomer_CH3NH2_optimized_structure)\n",
    "    C6, d6 = mbfit.parametrization.classical.calculate_dispersion_parameters(optimized_structure, calculator)\n",
    "    disp_parameters_writer(..., (C6, d6))\n",
    "\"\"\"\n",
    ")\n",
    "\n",
    "job.wait_until_running()\n",
    "print(\"Job has made it though queue and is running!\")\n",
    "\n",
    "job.wait_until_done()\n",
    "print(\"Job completed!\")"
   ]
  },
  {
   "cell_type": "markdown",
   "metadata": {},
   "source": [
    "Next, we will calculate the atomic partial charges ($q_i$)."
   ]
  },
  {
   "cell_type": "code",
   "execution_count": 26,
   "metadata": {},
   "outputs": [],
   "source": [
    "job = job_runner.queue_job(\n",
    "\"\"\"\n",
    "\"\"\"\n",
    ")\n",
    "\n",
    "job.wait_until_running()\n",
    "print(\"Job has made it though queue and is running!\")\n",
    "\n",
    "job.wait_until_done()\n",
    "print(\"Job completed!\")"
   ]
  },
  {
   "cell_type": "markdown",
   "metadata": {},
   "source": [
    "Now, lets take a look at how well these classical parameters describe this system. While we are focusing on the monomer here, we will use a basic scan of the dimer to seen how well the $V_{phys}$ part of our PEF is looking."
   ]
  },
  {
   "cell_type": "code",
   "execution_count": null,
   "metadata": {},
   "outputs": [],
   "source": [
    "# Generate and plot some scans... ? Or not since everything is excluded? Sure"
   ]
  }
 ],
 "metadata": {
  "kernelspec": {
   "display_name": "Python 3 (ipykernel)",
   "language": "python",
   "name": "python3"
  },
  "language_info": {
   "codemirror_mode": {
    "name": "ipython",
    "version": 3
   },
   "file_extension": ".py",
   "mimetype": "text/x-python",
   "name": "python",
   "nbconvert_exporter": "python",
   "pygments_lexer": "ipython3",
   "version": "3.8.3"
  }
 },
 "nbformat": 4,
 "nbformat_minor": 4
}
