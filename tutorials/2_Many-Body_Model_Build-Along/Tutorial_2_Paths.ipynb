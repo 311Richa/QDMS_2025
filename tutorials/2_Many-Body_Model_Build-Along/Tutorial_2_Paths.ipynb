{
 "cells": [
  {
   "cell_type": "markdown",
   "id": "6b7f6598-6c48-4463-ab8b-6bd7c09bdd6c",
   "metadata": {},
   "source": [
    "# Tutorial 2.0: Paths"
   ]
  },
  {
   "cell_type": "code",
   "execution_count": 3,
   "id": "ba01c864-39c9-4e97-9840-a98695306689",
   "metadata": {},
   "outputs": [
    {
     "name": "stdout",
     "output_type": "stream",
     "text": [
      "The autoreload extension is already loaded. To reload it, use:\n",
      "  %reload_ext autoreload\n"
     ]
    }
   ],
   "source": [
    "%run Tutorial_2_Imports.ipynb"
   ]
  },
  {
   "cell_type": "code",
   "execution_count": null,
   "id": "43251d07-54c4-48c6-ae4b-278378887c30",
   "metadata": {},
   "outputs": [],
   "source": [
    "lammps_executable_path = \"/home/ebullvul/software/LAMMPS+plumed/LAMMPS-stable/bin/lmp_mpi\""
   ]
  },
  {
   "cell_type": "code",
   "execution_count": 4,
   "id": "3f00f3c0-a300-44e8-8628-d994f9e87771",
   "metadata": {},
   "outputs": [],
   "source": [
    "paths = Directory(\"Tutorial_2_workdir\").create()"
   ]
  },
  {
   "cell_type": "code",
   "execution_count": 9,
   "id": "decd154d-38ca-419c-8517-feaebf69b59b",
   "metadata": {},
   "outputs": [],
   "source": [
    "paths.logs = paths.sub_directory(\"logs\").create()"
   ]
  },
  {
   "cell_type": "code",
   "execution_count": null,
   "id": "ef49042c-72f9-4fea-afe8-b2864011d3e4",
   "metadata": {},
   "outputs": [],
   "source": [
    "paths.jobs = paths.sub_directory(\"jobs\").create()"
   ]
  },
  {
   "cell_type": "code",
   "execution_count": 10,
   "id": "b99a0ce7-e89b-4df3-8698-19539df61605",
   "metadata": {},
   "outputs": [],
   "source": [
    "paths.restart = paths.sub_directory(\"restart\").create()\n",
    "\n",
    "paths.restart.minimization_CH3NH2 = paths.restart.sub_directory(\"minimization_CH3NH2\").create()\n",
    "paths.restart.minimization_H2O = paths.restart.sub_directory(\"minimization_H2O\").create()\n",
    "\n",
    "paths.restart.scans_CH3NH2_H2O_1_energies = paths.restart.file(\"scans_CH3NH2_H2O_1_energies\")\n",
    "paths.restart.scans_CH3NH2_H2O_2_energies = paths.restart.file(\"scans_CH3NH2_H2O_2_energies\")\n",
    "paths.restart.scans_CH3NH2_H2O_3_energies = paths.restart.file(\"scans_CH3NH2_H2O_3_energies\")\n",
    "\n",
    "paths.restart.scans_CH3NH2_H2O_H2O_1_energies = paths.restart.file(\"scans_CH3NH2_H2O_H2O_1_energies\")\n",
    "paths.restart.scans_CH3NH2_H2O_H2O_2_energies = paths.restart.file(\"scans_CH3NH2_H2O_H2O_2_energies\")\n",
    "paths.restart.scans_CH3NH2_H2O_H2O_3_energies = paths.restart.file(\"scans_CH3NH2_H2O_H2O_3_energies\")\n",
    "\n",
    "paths.restart.clusters_CH3NH2_H2O = paths.restart.sub_directory(\"clusters_CH3NH2_H2O\").create()\n",
    "paths.restart.clusters_CH3NH2_H2O_H2O = paths.restart.sub_directory(\"clusters_CH3NH2_H2O_H2O\").create()\n",
    "paths.restart.clusters_tetramer = paths.restart.sub_directory(\"clusters_tetramer\").create()\n",
    "paths.restart.clusters_pentamer = paths.restart.sub_directory(\"clusters_pentamer\").create()\n",
    "\n",
    "paths.restart.clusters_CH3NH2_H2O_energies = paths.restart.file(\"clusters_CH3NH2_H2O_energies\")\n",
    "paths.restart.clusters_CH3NH2_H2O_H2O_energies = paths.restart.file(\"clusters_CH3NH2_H2O_H2O_energies\")\n",
    "paths.restart.clusters_tetramer_energies = paths.restart.file(\"clusters_tetramer_energies\")\n",
    "paths.restart.clusters_pentamer_energies = paths.restart.file(\"clusters_pentamer_energies\")\n",
    "\n",
    "paths.restart.clusters_CH3NH2_H2O_modes = paths.restart.sub_directory(\"clusters_CH3NH2_H2O_modes\").create()\n",
    "paths.restart.clusters_CH3NH2_H2O_H2O_modes = paths.restart.sub_directory(\"clusters_CH3NH2_H2O_H2O_modes\").create()\n",
    "paths.restart.clusters_tetramer_energies = paths.restart.file(\"clusters_tetramer_energies\")\n",
    "paths.restart.clusters_pentamer_energies = paths.restart.file(\"clusters_pentamer_energies\")\n",
    "\n",
    "paths.restart.polarizabilities_CH3NH2 = paths.restart.file(\"polarizabilities_CH3NH2\")\n",
    "paths.restart.radii_CH3NH2 = paths.restart.file(\"radii_CH3NH2\")\n",
    "paths.restart.radii_H2O = paths.restart.file(\"radii_H2O\")\n",
    "paths.restart.dispersion_CH3NH2_H2O = paths.restart.file(\"dispersion_CH3NH2_H2O\")\n",
    "paths.restart.charge_fitting_CH3NH2 = paths.restart.file(\"charge_fitting_CH3NH2\")\n",
    "\n",
    "paths.restart.vibrational_modes_CH3NH2 = paths.restart.file(\"vibrational_modes_CH3NH2\")\n",
    "paths.restart.vibrational_modes_CH3NH2_H2O = paths.restart.file(\"vibrational_modes_CH3NH2_H2O\")\n",
    "paths.restart.vibrational_modes_CH3NH2_H2O_H2O = paths.restart.file(\"vibrational_modes_CH3NH2_H2O_H2O\")\n",
    "\n",
    "paths.restart.esp_CH3NH2 = paths.restart.sub_directory(\"esp_CH3NH2\").create()\n",
    "\n",
    "paths.restart.pbmetad_CH3NH2 = paths.restart.file(\"pbmetad_CH3NH2\")\n",
    "paths.restart.fps_CH3NH2 = paths.restart.sub_directory(\"fps_CH3NH2\").create()\n",
    "paths.restart.energies_vibrational_mode_configs_CH3NH2 = paths.restart.file(\"energies_vibrational_mode_configs_CH3NH2\")\n",
    "paths.restart.energies_pbmetad_configs_CH3NH2 = paths.restart.file(\"energies_pbmetad_configs_CH3NH2\")\n",
    "\n",
    "paths.restart.pbmetad_CH3NH2_H2O = paths.restart.file(\"pbmetad_CH3NH2_H2O\")\n",
    "paths.restart.fps_CH3NH2_H2O = paths.restart.sub_directory(\"fps_CH3NH2_H2O\").create()\n",
    "paths.restart.energies_vibrational_mode_configs_CH3NH2_H2O = paths.restart.file(\"energies_vibrational_mode_configs_CH3NH2_H2O\")\n",
    "paths.restart.energies_pbmetad_configs_CH3NH2_H2O = paths.restart.file(\"energies_pbmetad_configs_CH3NH2_H2O\")\n",
    "\n",
    "paths.restart.pbmetad_CH3NH2_H2O_H2O = paths.restart.file(\"pbmetad_CH3NH2_H2O_H2O\")\n",
    "paths.restart.fps_CH3NH2_H2O_H2O = paths.restart.sub_directory(\"fps_CH3NH2_H2O_H2O\").create()\n",
    "paths.restart.energies_vibrational_mode_configs_CH3NH2_H2O_H2O = paths.restart.file(\"energies_vibrational_mode_configs_CH3NH2_H2O_H2O\")\n",
    "paths.restart.energies_pbmetad_configs_CH3NH2_H2O_H2O = paths.restart.file(\"energies_pbmetad_configs_CH3NH2_H2O_H2O\")\n"
   ]
  },
  {
   "cell_type": "code",
   "execution_count": 10,
   "id": "bc0ed938-964d-4cc9-8d8d-aeafd3a85230",
   "metadata": {},
   "outputs": [],
   "source": [
    "paths.scratch = paths.sub_directory(\"scratch\").create()\n",
    "\n",
    "paths.scratch.esp_CH3NH2 = paths.scratch.sub_directory(\"esp_CH3NH2\").create()\n",
    "\n",
    "paths.scratch.pbmetad_CH3NH2 = paths.scratch.sub_directory(\"pbmetad_CH3NH2\").create()\n",
    "paths.scratch.fps_CH3NH2 = paths.scratch.sub_directory(\"fps_CH3NH2\").create()\n",
    "paths.scratch.PIP_CH3NH2 = paths.scratch.sub_directory(\"PIP_CH3NH2\").create()\n",
    "paths.scratch.fitting_CH3NH2 = paths.scratch.sub_directory(\"fitting_CH3NH2\").create()\n",
    "\n",
    "paths.scratch.pbmetad_CH3NH2_H2O = paths.scratch.sub_directory(\"pbmetad_CH3NH2_H2O\").create()\n",
    "paths.scratch.fps_CH3NH2_H2O = paths.scratch.sub_directory(\"fps_CH3NH2_H2O\").create()\n",
    "\n",
    "paths.scratch.pbmetad_CH3NH2_H2O_H2O = paths.scratch.sub_directory(\"pbmetad_CH3NH2_H2O_H2O\").create()\n",
    "paths.scratch.fps_CH3NH2_H2O_H2O = paths.scratch.sub_directory(\"fps_CH3NH2_H2O_H2O\").create()\n"
   ]
  },
  {
   "cell_type": "code",
   "execution_count": null,
   "id": "26883254-d888-4c7b-b6f7-60bbb5dcd50a",
   "metadata": {},
   "outputs": [],
   "source": []
  },
  {
   "cell_type": "code",
   "execution_count": 6,
   "id": "6ee77ba2-306e-4ab6-ade8-23ff8e6ba794",
   "metadata": {},
   "outputs": [],
   "source": [
    "paths.definitions = paths.sub_directory(\"definitions\").create()\n",
    "\n",
    "paths.definitions.fragments = paths.definitions.sub_directory(\"fragments\").create()\n",
    "paths.definitions.fragments.CH3NH2 = paths.definitions.fragments.file(\"CH3NH2\")\n",
    "paths.definitions.fragments.H2O = paths.definitions.fragments.file(\"H2O\")\n",
    "\n",
    "paths.definitions.systems = paths.definitions.sub_directory(\"systems\").create()\n",
    "paths.definitions.systems.CH3NH2 = paths.definitions.systems.file(\"CH3NH2\")\n",
    "paths.definitions.systems.H2O = paths.definitions.systems.file(\"H2O\")\n",
    "paths.definitions.systems.CH3NH2_H2O = paths.definitions.systems.file(\"CH3NH2_H2O\")\n",
    "paths.definitions.systems.CH3NH2_H2O_H2O = paths.definitions.systems.file(\"CH3NH2_H2O_H2O\")\n",
    "paths.definitions.systems.tetramer = paths.definitions.systems.file(\"tetramer\")\n",
    "paths.definitions.systems.pentamer = paths.definitions.systems.file(\"pentamer\")"
   ]
  },
  {
   "cell_type": "code",
   "execution_count": 7,
   "id": "81fbb5a3-64ec-4787-b696-bcac8918832c",
   "metadata": {},
   "outputs": [],
   "source": [
    "paths.structures = paths.sub_directory(\"structures\").create()\n",
    "\n",
    "paths.structures.initialized_CH3NH2 = paths.structures.file(\"initialized_CH3NH2.xyz\")\n",
    "paths.structures.initialized_H2O = paths.structures.file(\"initialized_H2O.xyz\")\n",
    "\n",
    "paths.structures.minimized_CH3NH2 = paths.structures.file(\"minimized_CH3NH2.xyz\")\n",
    "paths.structures.minimized_H2O = paths.structures.file(\"minimized_H2O.xyz\")\n",
    "\n",
    "paths.structures.vibrational_modes_CH3NH2 = paths.structures.file(\"vibrational_modes_CH3NH2.xyz\")"
   ]
  },
  {
   "cell_type": "code",
   "execution_count": 8,
   "id": "aa2d7ffd-7ae7-42cc-b1a0-1abd01a0f507",
   "metadata": {},
   "outputs": [],
   "source": [
    "paths.scans = paths.sub_directory(\"scans\").create()\n",
    "\n",
    "paths.scans.CH3NH2_H2O = paths.scans.sub_directory(\"CH3NH2_H2O\").create()\n",
    "paths.scans.CH3NH2_H2O.first = paths.scans.CH3NH2_H2O.file(\"first.xyz\")\n",
    "paths.scans.CH3NH2_H2O.second = paths.scans.CH3NH2_H2O.file(\"second.xyz\")\n",
    "paths.scans.CH3NH2_H2O.third = paths.scans.CH3NH2_H2O.file(\"third.xyz\")\n",
    "paths.scans.CH3NH2_H2O.first_energies = paths.scans.CH3NH2_H2O.file(\"first_energies.xyz\")\n",
    "paths.scans.CH3NH2_H2O.second_energies = paths.scans.CH3NH2_H2O.file(\"second_energies.xyz\")\n",
    "paths.scans.CH3NH2_H2O.third_energies = paths.scans.CH3NH2_H2O.file(\"third_energies.xyz\")\n",
    "\n",
    "paths.scans.CH3NH2_H2O_H2O = paths.scans.sub_directory(\"CH3NH2_H2O_H2O\").create()\n",
    "paths.scans.CH3NH2_H2O_H2O.first = paths.scans.CH3NH2_H2O_H2O.file(\"first.xyz\")\n",
    "paths.scans.CH3NH2_H2O_H2O.second = paths.scans.CH3NH2_H2O_H2O.file(\"second.xyz\")\n",
    "paths.scans.CH3NH2_H2O_H2O.third = paths.scans.CH3NH2_H2O_H2O.file(\"third.xyz\")\n",
    "paths.scans.CH3NH2_H2O_H2O.first_energies = paths.scans.CH3NH2_H2O_H2O.file(\"first_energies.xyz\")\n",
    "paths.scans.CH3NH2_H2O_H2O.second_energies = paths.scans.CH3NH2_H2O_H2O.file(\"second_energies.xyz\")\n",
    "paths.scans.CH3NH2_H2O_H2O.third_energies = paths.scans.CH3NH2_H2O_H2O.file(\"third_energies.xyz\")"
   ]
  },
  {
   "cell_type": "code",
   "execution_count": null,
   "id": "9702ac08-d21d-4c85-85c9-2b5dc6e77c8b",
   "metadata": {},
   "outputs": [],
   "source": [
    "paths.clusters = paths.sub_directory(\"clusters\").create()\n",
    "\n",
    "paths.clusters.CH3NH2_H2O = paths.clusters.file(\"CH3NH2_H2O.xyz\")\n",
    "paths.clusters.CH3NH2_H2O_H2O = paths.clusters.file(\"CH3NH2_H2O_H2O.xyz\")\n",
    "paths.clusters.tetramer = paths.clusters.file(\"tetramer.xyz\")\n",
    "paths.clusters.pentamer = paths.clusters.file(\"pentamer.xyz\")\n",
    "\n",
    "paths.clusters.CH3NH2_H2O_energies = paths.clusters.file(\"CH3NH2_H2O_energies.xyz\")\n",
    "paths.clusters.CH3NH2_H2O_H2O_energies = paths.clusters.file(\"CH3NH2_H2O_H2O_energies.xyz\")\n",
    "paths.clusters.tetramer_energies = paths.clusters.file(\"tetramer_energies.xyz\")\n",
    "paths.clusters.pentamer_energies = paths.clusters.file(\"pentamer_energies.xyz\")\n",
    "\n",
    "paths.clusters.CH3NH2_H2O_modes = paths.clusters.file(\"CH3NH2_H2O_modes.xyz\")\n",
    "paths.clusters.CH3NH2_H2O_H2O_modes = paths.clusters.file(\"CH3NH2_H2O_H2O_modes.xyz\")"
   ]
  },
  {
   "cell_type": "code",
   "execution_count": 13,
   "id": "b6994e12-0eb3-4e53-b593-d5351ff451f4",
   "metadata": {},
   "outputs": [],
   "source": [
    "paths.vibrational_modes = paths.sub_directory(\"vibrational_modes\").create()\n",
    "\n",
    "paths.vibrational_modes.CH3NH2 = paths.vibrational_modes.file(\"CH3NH2.modes\")"
   ]
  },
  {
   "cell_type": "code",
   "execution_count": null,
   "id": "94caf0a5-a5c0-4e5b-a7e7-cd0755f4e2a7",
   "metadata": {},
   "outputs": [],
   "source": [
    "paths.Vphys = paths.sub_directory(\"Vphys\").create()\n",
    "\n",
    "paths.Vphys.polarizabilities = paths.Vphys.file(\"polarizabilities.json\")\n",
    "paths.Vphys.polarizability_factors = paths.Vphys.file(\"polarizability_factors.json\")\n",
    "paths.Vphys.radii = paths.Vphys.file(\"radii.json\")\n",
    "paths.Vphys.charges = paths.Vphys.file(\"charges.json\")\n",
    "paths.Vphys.C6 = paths.Vphys.file(\"C6.json\")\n",
    "paths.Vphys.d6 = paths.Vphys.file(\"d6.json\")\n",
    "\n",
    "paths.Vphys.charge_configs_CH3NH2 = paths.Vphys.file(\"charge_configs_CH3NH2.xyz\")"
   ]
  },
  {
   "cell_type": "code",
   "execution_count": null,
   "id": "e4662348-9742-48b4-a379-71a4a0e74297",
   "metadata": {},
   "outputs": [],
   "source": [
    "paths.PIP_CH3NH2 = paths.sub_directory(\"PIP_CH3NH2\").create()\n",
    "\n",
    "paths.PIP_CH3NH2.configs = paths.PIP_CH3NH2.sub_directory(\"configs\").create()\n",
    "paths.PIP_CH3NH2.configs.vibrational_modes = paths.PIP_CH3NH2.configs.file(\"vibrational_modes.xyz\")\n",
    "paths.PIP_CH3NH2.configs.pbmetad_pool = paths.PIP_CH3NH2.configs.file(\"pbmetad_pool.xyz\")\n",
    "paths.PIP_CH3NH2.configs.pbmetad_train_pool = paths.PIP_CH3NH2.configs.file(\"pbmetad_train_pool.xyz\")\n",
    "paths.PIP_CH3NH2.configs.pbmetad_test = paths.PIP_CH3NH2.configs.file(\"pbmetad_test.xyz\")\n",
    "paths.PIP_CH3NH2.configs.pbmetad_train = paths.PIP_CH3NH2.configs.file(\"pbmetad_train.xyz\")\n",
    "\n",
    "paths.PIP_CH3NH2.configs.vibrational_modes_energies = paths.PIP_CH3NH2.configs.file(\"vibrational_modes_energies.xyz\")\n",
    "paths.PIP_CH3NH2.configs.pbmetad_train_energies = paths.PIP_CH3NH2.configs.file(\"pbmetad_train_energies.xyz\")\n",
    "\n",
    "paths.PIP_CH3NH2.training_set = paths.PIP_CH3NH2.file(\"training_set.xyz\")\n",
    "\n",
    "paths.PIP_CH3NH2.PIP = paths.PIP_CH3NH2.sub_directory(\"PIP\").create()\n",
    "paths.PIP_CH3NH2.PIP.info = paths.PIP_CH3NH2.PIP.file(\"info.in\")\n",
    "paths.PIP_CH3NH2.PIP.polynomial = paths.PIP_CH3NH2.PIP.sub_directory(\"polynomial\").create()\n",
    "paths.PIP_CH3NH2.PIP.parameterizer = paths.PIP_CH3NH2.PIP.sub_directory(\"parameterizer\").create()\n",
    "paths.PIP_CH3NH2.PIP.parametrization = paths.PIP_CH3NH2.PIP.sub_directory(\"parametrization\").create()"
   ]
  },
  {
   "cell_type": "code",
   "execution_count": null,
   "id": "4c1b237c-46cb-4cf2-bf7a-c1ee5d2c3062",
   "metadata": {},
   "outputs": [],
   "source": [
    "paths.PIP_CH3NH2_H2O = paths.sub_directory(\"PIP_CH3NH2_H2O\").create()\n",
    "\n",
    "paths.PIP_CH3NH2_H2O.configs = paths.PIP_CH3NH2_H2O.sub_directory(\"configs\").create()\n",
    "paths.PIP_CH3NH2_H2O.configs.vibrational_modes = paths.PIP_CH3NH2_H2O.configs.file(\"vibrational_modes.xyz\")\n",
    "paths.PIP_CH3NH2_H2O.configs.pbmetad_pool = paths.PIP_CH3NH2_H2O.configs.file(\"pbmetad_pool.xyz\")\n",
    "paths.PIP_CH3NH2_H2O.configs.pbmetad_pool_filtered = paths.PIP_CH3NH2_H2O.configs.file(\"pbmetad_pool_filtered.xyz\")\n",
    "paths.PIP_CH3NH2_H2O.configs.pbmetad_train_pool = paths.PIP_CH3NH2_H2O.configs.file(\"pbmetad_train_pool.xyz\")\n",
    "paths.PIP_CH3NH2_H2O.configs.pbmetad_test = paths.PIP_CH3NH2_H2O.configs.file(\"pbmetad_test.xyz\")\n",
    "paths.PIP_CH3NH2_H2O.configs.pbmetad_train = paths.PIP_CH3NH2_H2O.configs.file(\"pbmetad_train.xyz\")\n",
    "\n",
    "paths.PIP_CH3NH2_H2O.configs.vibrational_modes_energies = paths.PIP_CH3NH2_H2O.configs.file(\"vibrational_modes_energies.xyz\")\n",
    "paths.PIP_CH3NH2_H2O.configs.pbmetad_train_energies = paths.PIP_CH3NH2_H2O.configs.file(\"pbmetad_train_energies.xyz\")\n",
    "\n",
    "paths.PIP_CH3NH2_H2O.training_set = paths.PIP_CH3NH2_H2O.file(\"training_set.xyz\")"
   ]
  },
  {
   "cell_type": "code",
   "execution_count": null,
   "id": "1515e344-c2ca-4fc6-a8cf-d0d41b1f5bd5",
   "metadata": {},
   "outputs": [],
   "source": [
    "paths.PIP_CH3NH2_H2O_H2O = paths.sub_directory(\"PIP_CH3NH2_H2O_H2O\").create()\n",
    "\n",
    "paths.PIP_CH3NH2_H2O_H2O.vibrational_modes_CH3NH2_H2O_H2O = paths.PIP_CH3NH2_H2O_H2O.file(\"CH3NH2_H2O_H2O.modes\")\n",
    "\n",
    "paths.PIP_CH3NH2_H2O_H2O.configs = paths.PIP_CH3NH2_H2O_H2O.sub_directory(\"configs\").create()\n",
    "paths.PIP_CH3NH2_H2O_H2O.configs.vibrational_modes = paths.PIP_CH3NH2_H2O_H2O.configs.file(\"vibrational_modes.xyz\")\n",
    "paths.PIP_CH3NH2_H2O_H2O.configs.pbmetad_pool = paths.PIP_CH3NH2_H2O_H2O.configs.file(\"pbmetad_pool.xyz\")\n",
    "paths.PIP_CH3NH2_H2O_H2O.configs.pbmetad_pool_filtered = paths.PIP_CH3NH2_H2O_H2O.configs.file(\"pbmetad_pool_filtered.xyz\")\n",
    "paths.PIP_CH3NH2_H2O_H2O.configs.pbmetad_train_pool = paths.PIP_CH3NH2_H2O_H2O.configs.file(\"pbmetad_train_pool.xyz\")\n",
    "paths.PIP_CH3NH2_H2O_H2O.configs.pbmetad_test = paths.PIP_CH3NH2_H2O_H2O.configs.file(\"pbmetad_test.xyz\")\n",
    "paths.PIP_CH3NH2_H2O_H2O.configs.pbmetad_train = paths.PIP_CH3NH2_H2O_H2O.configs.file(\"pbmetad_train.xyz\")\n",
    "\n",
    "paths.PIP_CH3NH2_H2O_H2O.configs.vibrational_modes_energies = paths.PIP_CH3NH2_H2O_H2O.configs.file(\"vibrational_modes_energies.xyz\")\n",
    "paths.PIP_CH3NH2_H2O_H2O.configs.pbmetad_train_energies = paths.PIP_CH3NH2_H2O_H2O.configs.file(\"pbmetad_train_energies.xyz\")\n",
    "\n",
    "paths.PIP_CH3NH2_H2O_H2O.training_set = paths.PIP_CH3NH2_H2O_H2O.file(\"training_set.xyz\")"
   ]
  },
  {
   "cell_type": "code",
   "execution_count": null,
   "id": "1f3c0f05-7fc7-4779-923b-d7795b1ecc03",
   "metadata": {},
   "outputs": [],
   "source": [
    "paths.MBX = paths.sub_directory(\"MBX\").create()"
   ]
  }
 ],
 "metadata": {
  "kernelspec": {
   "display_name": "Python 3 (ipykernel)",
   "language": "python",
   "name": "python3"
  },
  "language_info": {
   "codemirror_mode": {
    "name": "ipython",
    "version": 3
   },
   "file_extension": ".py",
   "mimetype": "text/x-python",
   "name": "python",
   "nbconvert_exporter": "python",
   "pygments_lexer": "ipython3",
   "version": "3.10.10"
  }
 },
 "nbformat": 4,
 "nbformat_minor": 5
}
