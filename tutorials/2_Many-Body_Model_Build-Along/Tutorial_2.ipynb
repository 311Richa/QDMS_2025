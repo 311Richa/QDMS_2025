{
 "cells": [
  {
   "cell_type": "markdown",
   "metadata": {
    "tags": []
   },
   "source": [
    "# Tutorial 2: Many-Body Model Build-Along"
   ]
  },
  {
   "cell_type": "markdown",
   "metadata": {},
   "source": [
    "Welcome to Tutorial 2. This tutorial is meant for users who want to learn how to use MB-Fit to construct MB-nrg-style potential energy functions for small molecules.\n",
    "We will demonstrate how to construct such potential energy functions for small organic molecule using methylamine (CH3-NH2) as an example. We will first build a model for gas-phase methylamine, and then we will expand our model to include methylamine-water interactions.\n",
    "The choice of methylamine is arbitrary, and the process outlined here should work for most small (up to 10 or so atoms) molecules."
   ]
  },
  {
   "cell_type": "markdown",
   "metadata": {},
   "source": [
    "The construction of the PEF consists of three parts.\n",
    "In section 2.1, we will build the 1-body PEF for CH3-NH2.\n",
    "In section 2.2, we will build the 2-body PEF for the H2O -- CH3-NH2 interaction.\n",
    "Finally, in section 2.3 we will build the 3-body PEF for H2O -- H2O -- CH3-NH2.\n",
    "By combining these three PEFs, we will be able to perform molecular dynamics simulations and study solvated CH3-NH2 at near-CCSD(T) accuracy!"
   ]
  },
  {
   "cell_type": "markdown",
   "metadata": {},
   "source": [
    "For some steps that would normally be computationally intensive, such as performing the reference electronic structure calculations or parameterizing the permutationally invariant polynomials, the computational work has been pre-done. For most steps however, actual code will be run!"
   ]
  },
  {
   "cell_type": "markdown",
   "metadata": {},
   "source": [
    "To complete this tutorial, you will need an installation of MB-Fit, along with an environment containing all the dependencies. If you are completing this tutorial at our QDMS 2025 workshop, this has already been done for you. If not, please consult MB-Fit's GitHub page for installation instructions."
   ]
  },
  {
   "cell_type": "markdown",
   "metadata": {},
   "source": [
    "Select one of the following sections to begin:"
   ]
  },
  {
   "cell_type": "markdown",
   "metadata": {},
   "source": [
    "## [Tutorial 2.0: MB-Fit Basics](Tutorial_2.0.ipynb)"
   ]
  },
  {
   "cell_type": "markdown",
   "metadata": {},
   "source": [
    "## [Tutorial 2.1: $V_{phys}$ Parametrization](Tutorial_2.1.ipynb)"
   ]
  },
  {
   "cell_type": "markdown",
   "metadata": {
    "tags": []
   },
   "source": [
    "## [Tutorial 2.2: One-Body Potential Energy Surface](Tutorial_2.2.ipynb)"
   ]
  },
  {
   "cell_type": "markdown",
   "metadata": {},
   "source": [
    "## [Tutorial 2.3: Two-Body Potential Energy Surface](Tutorial_2.3.ipynb)"
   ]
  },
  {
   "cell_type": "markdown",
   "metadata": {},
   "source": [
    "## [Tutorial 2.4: Three-Body Potential Energy Surface](Tutorial_2.4.ipynb)"
   ]
  },
  {
   "cell_type": "markdown",
   "metadata": {},
   "source": [
    "## [Tutorial 2.5: Implementation of PEF in MBX](Tutorial_2.5.ipynb)"
   ]
  },
  {
   "cell_type": "code",
   "execution_count": null,
   "metadata": {},
   "outputs": [],
   "source": []
  }
 ],
 "metadata": {
  "kernelspec": {
   "display_name": "Python 3 (ipykernel)",
   "language": "python",
   "name": "python3"
  },
  "language_info": {
   "codemirror_mode": {
    "name": "ipython",
    "version": 3
   },
   "file_extension": ".py",
   "mimetype": "text/x-python",
   "name": "python",
   "nbconvert_exporter": "python",
   "pygments_lexer": "ipython3",
   "version": "3.10.10"
  }
 },
 "nbformat": 4,
 "nbformat_minor": 4
}
