{
 "cells": [
  {
   "cell_type": "markdown",
   "id": "1df14167-5b9c-40e7-b1b4-a37e66a5a6a9",
   "metadata": {},
   "source": [
    "# Tutorial 2.2: Inputs, Files, and Scans"
   ]
  },
  {
   "cell_type": "markdown",
   "id": "2306afb5-0669-4c74-a49b-60d5230231a8",
   "metadata": {},
   "source": [
    "## 2.2.0: Python Imports"
   ]
  },
  {
   "cell_type": "code",
   "execution_count": 2,
   "id": "303a8f07-69c7-48a4-83a3-f37dd55c2d69",
   "metadata": {},
   "outputs": [],
   "source": [
    "%load_ext autoreload\n",
    "%autoreload 2"
   ]
  },
  {
   "cell_type": "markdown",
   "id": "7b617811-1261-4f8e-9878-8b79df396829",
   "metadata": {},
   "source": [
    "Please import:"
   ]
  },
  {
   "cell_type": "code",
   "execution_count": 47,
   "id": "1ea8d24e-80cf-433e-8cc4-e522b8b4a1b8",
   "metadata": {},
   "outputs": [],
   "source": [
    "from mbfit.utils.filesystem import Directory\n",
    "\n",
    "from mbfit.system.system_like import BondType\n",
    "from mbfit.system.definition import BasicFragmentDefinition, BasicCompoundDefinition, AtomDefinition, BondDefinition\n",
    "from mbfit.system.initializer import VSEPRInitializer\n",
    "from mbfit.system.descriptor import fragment_definition_to_xyz, compound_definition_to_xyz, compound_to_xyz\n",
    "from mbfit.system.parser import xyz_to_compound_definition"
   ]
  },
  {
   "cell_type": "markdown",
   "id": "ec6d8501-f51e-42f7-922b-8d8096642eb1",
   "metadata": {
    "tags": []
   },
   "source": [
    "## 2.2.1 Directory Structure & File Paths"
   ]
  },
  {
   "cell_type": "markdown",
   "id": "59449df5-5cfb-4e87-8e1a-40b3df5e8ad2",
   "metadata": {},
   "source": [
    "In this section, we we will setup the directory structure and file paths we will use in this notebook. Throughout this notebook, the following files will be created:"
   ]
  },
  {
   "cell_type": "code",
   "execution_count": 7,
   "id": "fc062e2b-f11b-4fd4-9787-818a34d8f5bb",
   "metadata": {},
   "outputs": [],
   "source": [
    "tutorial_2_workdir = Directory(\"Tutorial_2_workdir\")\n",
    "tutorial_2_workdir.create()"
   ]
  },
  {
   "cell_type": "code",
   "execution_count": 10,
   "id": "e23864c0-3372-46a0-b0a0-52e910b60490",
   "metadata": {},
   "outputs": [],
   "source": [
    "definitions_dir = tutorial_2_workdir.sub_directory(\"definitions\")\n",
    "definitions_dir.create()"
   ]
  },
  {
   "cell_type": "code",
   "execution_count": 11,
   "id": "9b4f9918-dfc9-4954-a802-abc3574e6b04",
   "metadata": {},
   "outputs": [],
   "source": [
    "fragment_CH3NH2_definition_path = definitions_dir.file(\"fragment_CH3NH2.def\")\n",
    "fragment_H2O_definition_path = definitions_dir.file(\"fragment_H2O.def\")"
   ]
  },
  {
   "cell_type": "code",
   "execution_count": 44,
   "id": "772996c8-e77a-42c3-8ff9-271b7c90d1af",
   "metadata": {},
   "outputs": [],
   "source": [
    "monomer_CH3NH2_definition_path = definitions_dir.file(\"monomer_CH3NH2.def\")\n",
    "monomer_H2O_definition_path = definitions_dir.file(\"monomer_H2O.def\")\n",
    "dimer_CH3NH2_H2O_definition_path = definitions_dir.file(\"dimer_CH3NH2_H2O.def\")\n",
    "trimer_CH3NH2_H2O_H2O_definition_path = definitions_dir.file(\"trimer_CH3NH2_H2O_H2O.def\")"
   ]
  },
  {
   "cell_type": "code",
   "execution_count": 13,
   "id": "231b3a44-d1e9-4085-a82a-72c7e2b6d74e",
   "metadata": {},
   "outputs": [],
   "source": [
    "structures_dir = tutorial_2_workdir.sub_directory(\"structures\")\n",
    "structures_dir.create()"
   ]
  },
  {
   "cell_type": "code",
   "execution_count": 14,
   "id": "de19e084-ffd1-45fb-aaa0-ba79eae19d53",
   "metadata": {},
   "outputs": [],
   "source": [
    "monomer_CH3NH2_initial_structure_path = structures_dir.file(\"monomer_CH3NH2_initial_structure.xyz\")\n",
    "monomer_H2O_initial_structure_path = structures_dir.file(\"monomer_H2O_initial_structure.xyz\")\n",
    "\n",
    "monomer_CH3NH2_minimum_structure_path = structures_dir.file(\"monomer_CH3NH2_minimum_structure.xyz\")\n",
    "monomer_H2O_minimum_structure_path = structures_dir.file(\"monomer_H2O_minimum_structure.xyz\")"
   ]
  },
  {
   "cell_type": "code",
   "execution_count": 15,
   "id": "25ef5099-1c52-4da7-9f04-4f8a35ab0209",
   "metadata": {},
   "outputs": [],
   "source": [
    "logs_dir = tutorial_2_workdir.sub_directory(\"logs\")\n",
    "logs_dir.create()"
   ]
  },
  {
   "cell_type": "markdown",
   "id": "61610e73-c6d8-41d8-b84f-a77643164dae",
   "metadata": {},
   "source": [
    "## 2.2.x Create `.def` definition files"
   ]
  },
  {
   "cell_type": "markdown",
   "id": "eeaf5f04-089f-4844-9900-746780dc800e",
   "metadata": {},
   "source": [
    "First, we will create the two fragment definition files. First, the definition for the CH3NH2 fragment:"
   ]
  },
  {
   "cell_type": "code",
   "execution_count": 29,
   "id": "cd2b264b-161a-4b63-a2b5-7bd4118adc64",
   "metadata": {},
   "outputs": [],
   "source": [
    "fragment_CH3NH2_definition = BasicFragmentDefinition()\n",
    "CA  = fragment_CH3NH2_definition.add_atom(AtomDefinition(\"C\", \"A\"))\n",
    "HB1 = fragment_CH3NH2_definition.add_atom(AtomDefinition(\"H\", \"B\"))\n",
    "HB2 = fragment_CH3NH2_definition.add_atom(AtomDefinition(\"H\", \"B\"))\n",
    "HB3 = fragment_CH3NH2_definition.add_atom(AtomDefinition(\"H\", \"B\"))\n",
    "NC  = fragment_CH3NH2_definition.add_atom(AtomDefinition(\"N\", \"C\"))\n",
    "HD1 = fragment_CH3NH2_definition.add_atom(AtomDefinition(\"H\", \"D\"))\n",
    "HD2 = fragment_CH3NH2_definition.add_atom(AtomDefinition(\"H\", \"D\"))\n",
    "fragment_CH3NH2_definition.add_bond(CA, HB1, BondDefinition(BondType.SINGLE))\n",
    "fragment_CH3NH2_definition.add_bond(CA, HB2, BondDefinition(BondType.SINGLE))\n",
    "fragment_CH3NH2_definition.add_bond(CA, HB3, BondDefinition(BondType.SINGLE))\n",
    "fragment_CH3NH2_definition.add_bond(CA, NC, BondDefinition(BondType.SINGLE))\n",
    "fragment_CH3NH2_definition.add_bond(NC, HD1, BondDefinition(BondType.SINGLE))\n",
    "fragment_CH3NH2_definition.add_bond(NC, HD2, BondDefinition(BondType.SINGLE))\n",
    "\n",
    "fragment_definition_to_xyz.writer(fragment_CH3NH2_definition_path, fragment_CH3NH2_definition)"
   ]
  },
  {
   "cell_type": "markdown",
   "id": "7a873d91-56a2-40b0-8fe6-5f3dd5f25c72",
   "metadata": {},
   "source": [
    "The definition for the H2O fragment:"
   ]
  },
  {
   "cell_type": "code",
   "execution_count": 33,
   "id": "8d5048bc-4739-4015-914d-eccb6674f5db",
   "metadata": {},
   "outputs": [],
   "source": [
    "fragment_H2O_definition = BasicFragmentDefinition()\n",
    "OE  = fragment_H2O_definition.add_atom(AtomDefinition(\"O\", \"E\"))\n",
    "HF1 = fragment_H2O_definition.add_atom(AtomDefinition(\"H\", \"F\"))\n",
    "HF2 = fragment_H2O_definition.add_atom(AtomDefinition(\"H\", \"F\"))\n",
    "fragment_H2O_definition.add_bond(OE, HF1, BondDefinition(BondType.SINGLE))\n",
    "fragment_H2O_definition.add_bond(OE, HF2, BondDefinition(BondType.SINGLE))\n",
    "\n",
    "fragment_definition_to_xyz.writer(fragment_H2O_definition_path, fragment_H2O_definition)"
   ]
  },
  {
   "cell_type": "markdown",
   "id": "93c8faa2-b1f9-437a-842c-f0b6fb6d0a93",
   "metadata": {},
   "source": [
    "Next, we will make three n-mer definitions."
   ]
  },
  {
   "cell_type": "markdown",
   "id": "3cb55cf2-e182-45fc-9172-99c1f6de7323",
   "metadata": {},
   "source": [
    "First, the CH3NH2 monomer, which has a single CH3NH2 fragment."
   ]
  },
  {
   "cell_type": "code",
   "execution_count": 36,
   "id": "7a306f47-fa2e-4446-a875-09620309ad99",
   "metadata": {},
   "outputs": [],
   "source": [
    "monomer_CH3NH2_definition = BasicCompoundDefinition()\n",
    "monomer_CH3NH2_definition.add_fragment(fragment_CH3NH2_definition)\n",
    "\n",
    "compound_definition_to_xyz.writer(monomer_CH3NH2_definition_path, monomer_CH3NH2_definition)"
   ]
  },
  {
   "cell_type": "markdown",
   "id": "2bc22b4c-998c-4216-8c8a-fb834d415a53",
   "metadata": {},
   "source": [
    "First, the H2O monomer, which has a single CH3NH2 fragment."
   ]
  },
  {
   "cell_type": "code",
   "execution_count": 45,
   "id": "315031c6-ea28-4c10-bbde-62ff813a1456",
   "metadata": {},
   "outputs": [],
   "source": [
    "monomer_H2O_definition = BasicCompoundDefinition()\n",
    "monomer_H2O_definition.add_fragment(fragment_H2O_definition)\n",
    "\n",
    "compound_definition_to_xyz.writer(monomer_H2O_definition_path, monomer_H2O_definition)"
   ]
  },
  {
   "cell_type": "markdown",
   "id": "2aaed33d-ab7d-4889-86e7-f916433752ee",
   "metadata": {},
   "source": [
    "Next, the CH3NH2 -- H2O dimer, with two fragments:"
   ]
  },
  {
   "cell_type": "code",
   "execution_count": 37,
   "id": "cf26fc15-3d74-4d65-b57b-9fe2dc112a5d",
   "metadata": {},
   "outputs": [],
   "source": [
    "dimer_CH3NH2_H2O_definition = BasicCompoundDefinition()\n",
    "dimer_CH3NH2_H2O_definition.add_fragment(fragment_CH3NH2_definition)\n",
    "dimer_CH3NH2_H2O_definition.add_fragment(fragment_H2O_definition)\n",
    "\n",
    "compound_definition_to_xyz.writer(dimer_CH3NH2_H2O_definition_path, dimer_CH3NH2_H2O_definition)"
   ]
  },
  {
   "cell_type": "markdown",
   "id": "4503564c-3ba1-44ca-9fe5-83cc1ff9cee9",
   "metadata": {},
   "source": [
    "Finally, the CH3NH2 -- H2O -- H2O trimer, with three fragments:"
   ]
  },
  {
   "cell_type": "code",
   "execution_count": 38,
   "id": "eb7ddfea-dd48-49a1-bee8-e3a07ac191e9",
   "metadata": {},
   "outputs": [],
   "source": [
    "trimer_CH3NH2_H2O_H2O_definition = BasicCompoundDefinition()\n",
    "trimer_CH3NH2_H2O_H2O_definition.add_fragment(fragment_CH3NH2_definition)\n",
    "trimer_CH3NH2_H2O_H2O_definition.add_fragment(fragment_H2O_definition)\n",
    "trimer_CH3NH2_H2O_H2O_definition.add_fragment(fragment_H2O_definition)\n",
    "\n",
    "compound_definition_to_xyz.writer(trimer_CH3NH2_H2O_H2O_definition_path, trimer_CH3NH2_H2O_H2O_definition)"
   ]
  },
  {
   "cell_type": "markdown",
   "id": "be913bff-8ac5-454c-8bee-3629597acb96",
   "metadata": {},
   "source": [
    "We will use these definition files throughout Tutorial 2."
   ]
  },
  {
   "cell_type": "markdown",
   "id": "d3b0ec8e-9b7d-463d-9d1c-8f99d5c9bad5",
   "metadata": {},
   "source": [
    "## 2.2.x Geometry Initialization"
   ]
  },
  {
   "cell_type": "markdown",
   "id": "1ea6c4b2-cd43-4985-b422-644dde95bd7f",
   "metadata": {},
   "source": [
    "Next, we need a reasonable initial guess for the structure of our monomer. The guess need only be good enough that it will covnerge to the actual minimum structure when we perform a minimization with DFT. MB-Fit contains the class `VESPRInitializer`, which will make a reasonable guess about the structure of a molecule based on its bonding topology. Let's use `VESPRInitializer` to create an initial structure file:"
   ]
  },
  {
   "cell_type": "code",
   "execution_count": 48,
   "id": "295d04eb-2982-499c-8861-0b0023c863e5",
   "metadata": {},
   "outputs": [
    {
     "name": "stdout",
     "output_type": "stream",
     "text": [
      "Initializing compound C1H3N1H2\n",
      "System initialization complete!\n"
     ]
    }
   ],
   "source": [
    "definition = xyz_to_compound_definition.reader(monomer_CH3NH2_definition_path)\n",
    "system_initializer = VSEPRInitializer()\n",
    "initial_structure = system_initializer(definition)\n",
    "compound_to_xyz.writer(monomer_CH3NH2_initial_structure_path, initial_structure)"
   ]
  },
  {
   "cell_type": "code",
   "execution_count": 49,
   "id": "5d445175-4456-42bb-8690-467146c132ed",
   "metadata": {},
   "outputs": [
    {
     "name": "stdout",
     "output_type": "stream",
     "text": [
      "Initializing compound O1H2\n",
      "System initialization complete!\n"
     ]
    }
   ],
   "source": [
    "definition = xyz_to_compound_definition.reader(monomer_H2O_definition_path)\n",
    "system_initializer = VSEPRInitializer()\n",
    "initial_structure = system_initializer(definition)\n",
    "compound_to_xyz.writer(monomer_H2O_initial_structure_path, initial_structure)"
   ]
  },
  {
   "cell_type": "markdown",
   "id": "8a198cbd-435d-4950-8523-c740448815e9",
   "metadata": {},
   "source": [
    "## 2.2.x Geometry Minimization"
   ]
  },
  {
   "cell_type": "markdown",
   "id": "62ae5ae4-0c83-4d1c-b2c1-3a16d42cfb7e",
   "metadata": {},
   "source": [
    "That guess is looking a little rough, lets optimize it using electronic structure theory. While the PEF will be developed at the CCSD(T) level of theory, its not important that the geometry optimization be at the same level of theory as the reference energies will be calculated at, so lets use something cheaper like a high-quality DFT functional."
   ]
  },
  {
   "cell_type": "code",
   "execution_count": null,
   "id": "9e6c4b56-c8ef-4919-b2f5-023b5cf3aa5b",
   "metadata": {},
   "outputs": [],
   "source": [
    "job = job_runner.queue_job(\n",
    "f\"\"\"\n",
    "calculator = QChemCalculator(\"wb97m-v\", \"aug-cc-pvTZ\", logs_directory=\"{logs_dir}\")\n",
    "initial_structure = xyz_reader(\"{monomer_CH3NH2_initial_structure_path}\")\n",
    "optimized_structure, optimized_energy, optimization_log_path = calculator.energy(initial_structure)\n",
    "xyz_writer(\"{monomer_CH3NH2_minimum_structure_path}\", optimized_structure)\n",
    "\"\"\"\n",
    ")\n",
    "\n",
    "job.wait_until_running()\n",
    "job.wait_until_done()"
   ]
  },
  {
   "cell_type": "code",
   "execution_count": null,
   "id": "00c70bc9-a5b4-4c4a-ae89-0e6df0bffe3e",
   "metadata": {},
   "outputs": [],
   "source": [
    "job = job_runner.queue_job(\n",
    "f\"\"\"\n",
    "calculator = QChemCalculator(\"wb97m-v\", \"aug-cc-pvTZ\", logs_directory=\"{logs_dir}\")\n",
    "initial_structure = xyz_reader(\"{monomer_H2O_initial_structure_path}\")\n",
    "optimized_structure, optimized_energy, optimization_log_path = calculator.energy(initial_structure)\n",
    "xyz_writer(\"{monomer_CH3NH2_minimum_structure_path}\", optimized_structure)\n",
    "\"\"\"\n",
    ")\n",
    "\n",
    "job.wait_until_running()\n",
    "job.wait_until_done()"
   ]
  },
  {
   "cell_type": "markdown",
   "id": "22d68cac-6547-4c43-8d36-2ebd611969c5",
   "metadata": {},
   "source": [
    "## 2.2.2 Two-Body Scans"
   ]
  },
  {
   "cell_type": "markdown",
   "id": "6afe34e2-3eeb-4387-93b4-21b4b6b36b28",
   "metadata": {},
   "source": [
    "Now we make a few two-body scans. We will use these during future steps to validate the quality of the 2-body parts of the PEF."
   ]
  },
  {
   "cell_type": "markdown",
   "id": "9183e485-5209-49c5-9a90-945e1e615753",
   "metadata": {},
   "source": [
    "Lets generate a few 2-body CH$_3$-NH$_2$ -- H$_2$O scans. We will make three scans:\n",
    "* H-bond between H on -NH$_2$ and O in H$_2$O\n",
    "* H-bond between H on H$_2$O and N in -NH$_2$\n",
    "* H from -CH$_3$ approaching O in H$_2$O"
   ]
  },
  {
   "cell_type": "code",
   "execution_count": null,
   "id": "c9a774bd-e3ab-4954-85a7-738903fb9a56",
   "metadata": {},
   "outputs": [],
   "source": [
    "dimer_CH3NH2_H2O_definition = ...\n",
    "\n",
    "transformer1 = SystemTransformer(monomer1)\n",
    "transformer2 = SystemTransformer(monomer2)\n",
    "transformer1.align(vectors_to_align=(...))\n",
    "transformer2.align(vectors_to_align=(...))\n",
    "\n",
    "scan = [...]"
   ]
  },
  {
   "cell_type": "code",
   "execution_count": null,
   "id": "57a258af-8f95-4231-96a3-f756a0fe08d5",
   "metadata": {},
   "outputs": [],
   "source": [
    "dimer_CH3NH2_H2O_definition = ...\n",
    "\n",
    "transformer1 = SystemTransformer(monomer1)\n",
    "transformer2 = SystemTransformer(monomer2)\n",
    "transformer1.align(vectors_to_align=(...))\n",
    "transformer2.align(vectors_to_align=(...))\n",
    "\n",
    "scan = [...]"
   ]
  },
  {
   "cell_type": "code",
   "execution_count": null,
   "id": "6fa28379-1c32-464d-b68b-dcff963234d7",
   "metadata": {},
   "outputs": [],
   "source": [
    "dimer_CH3NH2_H2O_definition = ...\n",
    "\n",
    "transformer1 = SystemTransformer(monomer1)\n",
    "transformer2 = SystemTransformer(monomer2)\n",
    "transformer1.align(vectors_to_align=(...))\n",
    "transformer2.align(vectors_to_align=(...))\n",
    "\n",
    "scan = [...]"
   ]
  },
  {
   "cell_type": "markdown",
   "id": "fd9bb56e-0b17-4fe7-8bb3-400d49b92fc9",
   "metadata": {},
   "source": [
    "Now, lets perform the reference calculations for the scans."
   ]
  },
  {
   "cell_type": "markdown",
   "id": "2e320e8b-ddb3-420c-980e-79c264d33a75",
   "metadata": {},
   "source": [
    "## 2.2.3 Three-Body Scans"
   ]
  },
  {
   "cell_type": "markdown",
   "id": "717637a3-fd02-4a75-81ed-dfeec59eab0c",
   "metadata": {},
   "source": [
    "Now we make a few three-body scans. We will use these during future steps to validate the quality of the 2-body parts of the PEF."
   ]
  },
  {
   "cell_type": "markdown",
   "id": "a7115025-cdb4-48a4-9662-6b52266bcc59",
   "metadata": {},
   "source": [
    "Lets also consider a few 3-body structures. We will make two scans:\n",
    "* -NH$_2$ donating 2 H-bonds to 2 H$_2$Os, where one H$_2$O moves away.\n",
    "* -NH$_2$ donating 1 H-bond and accepting 1 H-bond, where the H$_2$O that is donating an H-bond moves away.\n",
    "* -NH$_2$ donating 1 H-bond and accepting 1 H-bond, where the H$_2$O that is accepting an H-bond moves away."
   ]
  },
  {
   "cell_type": "code",
   "execution_count": null,
   "id": "887e3134-9873-4dd3-bf0f-f8b9c9898b91",
   "metadata": {},
   "outputs": [],
   "source": [
    "dimer_CH3NH2_H2O_definition = ...\n",
    "\n",
    "transformer1 = SystemTransformer(monomer1)\n",
    "transformer2 = SystemTransformer(monomer2)\n",
    "transformer1.align(vectors_to_align=(...))\n",
    "transformer2.align(vectors_to_align=(...))\n",
    "\n",
    "scan = [...]"
   ]
  },
  {
   "cell_type": "code",
   "execution_count": null,
   "id": "c892713a-0793-4126-8e0e-c0c6b495ccc6",
   "metadata": {},
   "outputs": [],
   "source": [
    "dimer_CH3NH2_H2O_definition = ...\n",
    "\n",
    "transformer1 = SystemTransformer(monomer1)\n",
    "transformer2 = SystemTransformer(monomer2)\n",
    "transformer1.align(vectors_to_align=(...))\n",
    "transformer2.align(vectors_to_align=(...))\n",
    "\n",
    "scan = [...]"
   ]
  },
  {
   "cell_type": "code",
   "execution_count": null,
   "id": "bf0e88ab-766f-4f98-bcb4-52e35e23cf73",
   "metadata": {},
   "outputs": [],
   "source": [
    "dimer_CH3NH2_H2O_definition = ...\n",
    "\n",
    "transformer1 = SystemTransformer(monomer1)\n",
    "transformer2 = SystemTransformer(monomer2)\n",
    "transformer1.align(vectors_to_align=(...))\n",
    "transformer2.align(vectors_to_align=(...))\n",
    "\n",
    "scan = [...]"
   ]
  }
 ],
 "metadata": {
  "kernelspec": {
   "display_name": "Python 3 (ipykernel)",
   "language": "python",
   "name": "python3"
  },
  "language_info": {
   "codemirror_mode": {
    "name": "ipython",
    "version": 3
   },
   "file_extension": ".py",
   "mimetype": "text/x-python",
   "name": "python",
   "nbconvert_exporter": "python",
   "pygments_lexer": "ipython3",
   "version": "3.10.10"
  }
 },
 "nbformat": 4,
 "nbformat_minor": 5
}
