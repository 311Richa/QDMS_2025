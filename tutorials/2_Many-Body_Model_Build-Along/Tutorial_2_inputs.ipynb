{
 "cells": [
  {
   "cell_type": "markdown",
   "id": "1df14167-5b9c-40e7-b1b4-a37e66a5a6a9",
   "metadata": {
    "tags": []
   },
   "source": [
    "# Tutorial 2.2: Inputs, Files, and Scans"
   ]
  },
  {
   "cell_type": "markdown",
   "id": "2306afb5-0669-4c74-a49b-60d5230231a8",
   "metadata": {},
   "source": [
    "## 2.2.0: Python Imports"
   ]
  },
  {
   "cell_type": "code",
   "execution_count": 1,
   "id": "303a8f07-69c7-48a4-83a3-f37dd55c2d69",
   "metadata": {},
   "outputs": [],
   "source": [
    "%load_ext autoreload\n",
    "%autoreload 2"
   ]
  },
  {
   "cell_type": "markdown",
   "id": "7b617811-1261-4f8e-9878-8b79df396829",
   "metadata": {},
   "source": [
    "Please import:"
   ]
  },
  {
   "cell_type": "code",
   "execution_count": 121,
   "id": "1ea8d24e-80cf-433e-8cc4-e522b8b4a1b8",
   "metadata": {},
   "outputs": [],
   "source": [
    "import numpy\n",
    "\n",
    "from mbfit.utils.filesystem import Directory\n",
    "from mbfit.utils.job_runner import LocalJobRunner, SLURMJobRunner\n",
    "\n",
    "from mbfit.system.system_like import BondType\n",
    "from mbfit.system.definition import BasicFragmentDefinition, BasicCompoundDefinition, AtomDefinition, BondDefinition\n",
    "from mbfit.system.initializer import VSEPRInitializer\n",
    "from mbfit.system.descriptor import fragment_definition_to_xyz, compound_definition_to_xyz, compound_to_xyz\n",
    "from mbfit.system.parser import xyz_to_compound_definition, xyz_to_compound_definition, xyz_to_compound_by_definition\n",
    "from mbfit.system import BasicCompound\n",
    "from mbfit.system.transformer import SystemTransformer\n",
    "from mbfit.system.copier import CompoundCopier\n",
    "from mbfit.system.transformer import make_scan\n",
    "from mbfit.system.region import BasicMutableRegionManager"
   ]
  },
  {
   "cell_type": "markdown",
   "id": "ec6d8501-f51e-42f7-922b-8d8096642eb1",
   "metadata": {
    "tags": []
   },
   "source": [
    "## 2.2.1 Directory Structure & File Paths"
   ]
  },
  {
   "cell_type": "markdown",
   "id": "59449df5-5cfb-4e87-8e1a-40b3df5e8ad2",
   "metadata": {},
   "source": [
    "In this section, we we will setup the directory structure and file paths we will use in this notebook. Throughout this notebook, the following files will be created:"
   ]
  },
  {
   "cell_type": "code",
   "execution_count": 3,
   "id": "fc062e2b-f11b-4fd4-9787-818a34d8f5bb",
   "metadata": {},
   "outputs": [],
   "source": [
    "tutorial_2_workdir = Directory(\"Tutorial_2_workdir\")\n",
    "tutorial_2_workdir.create()"
   ]
  },
  {
   "cell_type": "code",
   "execution_count": 4,
   "id": "e23864c0-3372-46a0-b0a0-52e910b60490",
   "metadata": {},
   "outputs": [],
   "source": [
    "definitions_dir = tutorial_2_workdir.sub_directory(\"definitions\")\n",
    "definitions_dir.create()"
   ]
  },
  {
   "cell_type": "code",
   "execution_count": 5,
   "id": "9b4f9918-dfc9-4954-a802-abc3574e6b04",
   "metadata": {},
   "outputs": [],
   "source": [
    "fragment_CH3NH2_definition_path = definitions_dir.file(\"fragment_CH3NH2.def\")\n",
    "fragment_H2O_definition_path = definitions_dir.file(\"fragment_H2O.def\")"
   ]
  },
  {
   "cell_type": "code",
   "execution_count": 6,
   "id": "772996c8-e77a-42c3-8ff9-271b7c90d1af",
   "metadata": {},
   "outputs": [],
   "source": [
    "monomer_CH3NH2_definition_path = definitions_dir.file(\"monomer_CH3NH2.def\")\n",
    "monomer_H2O_definition_path = definitions_dir.file(\"monomer_H2O.def\")\n",
    "dimer_CH3NH2_H2O_definition_path = definitions_dir.file(\"dimer_CH3NH2_H2O.def\")\n",
    "trimer_CH3NH2_H2O_H2O_definition_path = definitions_dir.file(\"trimer_CH3NH2_H2O_H2O.def\")"
   ]
  },
  {
   "cell_type": "code",
   "execution_count": 7,
   "id": "231b3a44-d1e9-4085-a82a-72c7e2b6d74e",
   "metadata": {},
   "outputs": [],
   "source": [
    "structures_dir = tutorial_2_workdir.sub_directory(\"structures\")\n",
    "structures_dir.create()"
   ]
  },
  {
   "cell_type": "code",
   "execution_count": 8,
   "id": "de19e084-ffd1-45fb-aaa0-ba79eae19d53",
   "metadata": {},
   "outputs": [],
   "source": [
    "monomer_CH3NH2_initial_structure_path = structures_dir.file(\"monomer_CH3NH2_initial_structure.xyz\")\n",
    "monomer_H2O_initial_structure_path = structures_dir.file(\"monomer_H2O_initial_structure.xyz\")\n",
    "\n",
    "monomer_CH3NH2_minimum_structure_path = structures_dir.file(\"monomer_CH3NH2_minimum_structure.xyz\")\n",
    "monomer_H2O_minimum_structure_path = structures_dir.file(\"monomer_H2O_minimum_structure.xyz\")"
   ]
  },
  {
   "cell_type": "code",
   "execution_count": 74,
   "id": "38dae9be-b594-45d6-86d7-bf799f49dc7e",
   "metadata": {},
   "outputs": [],
   "source": [
    "scans_dir = tutorial_2_workdir.sub_directory(\"scans\")\n",
    "scans_dir.create()"
   ]
  },
  {
   "cell_type": "code",
   "execution_count": 119,
   "id": "3042f36a-3e18-48ce-89b8-4089e5ee1666",
   "metadata": {},
   "outputs": [],
   "source": [
    "scan_2b_1_path = scans_dir.file(\"scan_2b_1.xyz\")\n",
    "scan_2b_2_path = scans_dir.file(\"scan_2b_2.xyz\")\n",
    "scan_2b_3_path = scans_dir.file(\"scan_2b_3.xyz\")\n",
    "\n",
    "scan_3b_1_path = scans_dir.file(\"scan_3b_1.xyz\")\n",
    "scan_3b_2_path = scans_dir.file(\"scan_3b_2.xyz\")\n",
    "scan_3b_3_path = scans_dir.file(\"scan_3b_3.xyz\")"
   ]
  },
  {
   "cell_type": "code",
   "execution_count": 143,
   "id": "4a307e62-46b2-4fe2-ba4c-2769b820385e",
   "metadata": {},
   "outputs": [],
   "source": [
    "scan_2b_energies_1_path = scans_dir.file(\"scan_2b_1.xyz\")\n",
    "scan_2b_energies_2_path = scans_dir.file(\"scan_2b_2.xyz\")\n",
    "scan_2b_energies_3_path = scans_dir.file(\"scan_2b_3.xyz\")\n",
    "\n",
    "scan_3b_energies_1_path = scans_dir.file(\"scan_3b_1.xyz\")\n",
    "scan_3b_energies_2_path = scans_dir.file(\"scan_3b_2.xyz\")\n",
    "scan_3b_energies_3_path = scans_dir.file(\"scan_3b_3.xyz\")"
   ]
  },
  {
   "cell_type": "code",
   "execution_count": 9,
   "id": "25ef5099-1c52-4da7-9f04-4f8a35ab0209",
   "metadata": {},
   "outputs": [],
   "source": [
    "logs_dir = tutorial_2_workdir.sub_directory(\"logs\")\n",
    "logs_dir.create()"
   ]
  },
  {
   "cell_type": "code",
   "execution_count": 141,
   "id": "23b3f46b-de8e-4138-a2c4-9830de9b0a43",
   "metadata": {},
   "outputs": [],
   "source": [
    "job_runner = SLURMJobRunner(\n",
    "        tutorial_2_workdir.sub_directory(\"jobs\"),\n",
    "        \"\"\"#!/bin/bash\n",
    "\n",
    "#SBATCH --job-name=\"{job_name}\"\n",
    "#SBATCH --output=\"compile.stdout\"\n",
    "#SBATCH --partition=shared\n",
    "#SBATCH --nodes=1\n",
    "#SBATCH --ntasks-per-node=16\n",
    "#SBATCH --mem=32GB\n",
    "#SBATCH -A csd888\n",
    "#SBATCH --export=ALL\n",
    "#SBATCH -t 01:00:00\n",
    "\n",
    "module load cpu/0.15.4  gcc/10.2.0  mvapich2/2.3.6 qchem/5.4\n",
    "conda activate p310\n",
    "cd ~/software/development/MB-Fit_versions/QDMS_2025\n",
    "export MBFIT_HOME=$PWD\n",
    "source sourceme.sh\n",
    "cd -\n",
    "\n",
    "python -u {script_path} > {output_path} 2>&1\n",
    "\"\"\"\n",
    ")\n",
    "\n",
    "#job_runner = LocalJobRunner(tutorial_2_workdir.sub_directory(\"jobs\"))"
   ]
  },
  {
   "cell_type": "code",
   "execution_count": 142,
   "id": "808f8f04-8b20-480a-9b81-0ba9caa910b0",
   "metadata": {},
   "outputs": [],
   "source": [
    "orca_runner = SLURMJobRunner(\n",
    "        tutorial_2_workdir.sub_directory(\"jobs\"),\n",
    "        \"\"\"#!/bin/bash\n",
    "\n",
    "#SBATCH --job-name=\"{job_name}\"\n",
    "#SBATCH --output=\"compile.stdout\"\n",
    "#SBATCH --partition=shared\n",
    "#SBATCH --nodes=1\n",
    "#SBATCH --ntasks-per-node=16\n",
    "#SBATCH --mem=32GB\n",
    "#SBATCH -A csd888\n",
    "#SBATCH --export=ALL\n",
    "#SBATCH -t 01:00:00\n",
    "\n",
    "module load cpu/0.17.3b  gcc/10.2.0/npcyll4  openmpi/4.1.1/ygduf2r\n",
    "module load orca/5.0.4\n",
    "export ORCA_SCRATCH=/scratch/$USER/job_$SLURM_JOB_ID\n",
    "conda activate p310\n",
    "cd ~/software/development/MB-Fit_versions/QDMS_2025\n",
    "export MBFIT_HOME=$PWD\n",
    "source sourceme.sh\n",
    "cd -\n",
    "\n",
    "python -u {script_path} > {output_path} 2>&1\n",
    "\"\"\"\n",
    ")\n",
    "\n",
    "#job_runner = LocalJobRunner(tutorial_2_workdir.sub_directory(\"jobs\"))"
   ]
  },
  {
   "cell_type": "markdown",
   "id": "61610e73-c6d8-41d8-b84f-a77643164dae",
   "metadata": {},
   "source": [
    "## 2.2.x Create `.def` definition files"
   ]
  },
  {
   "cell_type": "markdown",
   "id": "eeaf5f04-089f-4844-9900-746780dc800e",
   "metadata": {},
   "source": [
    "First, we will create the two fragment definition files. First, the definition for the CH3NH2 fragment:"
   ]
  },
  {
   "cell_type": "code",
   "execution_count": 11,
   "id": "cd2b264b-161a-4b63-a2b5-7bd4118adc64",
   "metadata": {},
   "outputs": [],
   "source": [
    "fragment_CH3NH2_definition = BasicFragmentDefinition()\n",
    "CA  = fragment_CH3NH2_definition.add_atom(AtomDefinition(\"C\", \"A\"))\n",
    "HB1 = fragment_CH3NH2_definition.add_atom(AtomDefinition(\"H\", \"B\"))\n",
    "HB2 = fragment_CH3NH2_definition.add_atom(AtomDefinition(\"H\", \"B\"))\n",
    "HB3 = fragment_CH3NH2_definition.add_atom(AtomDefinition(\"H\", \"B\"))\n",
    "NC  = fragment_CH3NH2_definition.add_atom(AtomDefinition(\"N\", \"C\"))\n",
    "HD1 = fragment_CH3NH2_definition.add_atom(AtomDefinition(\"H\", \"D\"))\n",
    "HD2 = fragment_CH3NH2_definition.add_atom(AtomDefinition(\"H\", \"D\"))\n",
    "fragment_CH3NH2_definition.add_bond(CA, HB1, BondDefinition(BondType.SINGLE))\n",
    "fragment_CH3NH2_definition.add_bond(CA, HB2, BondDefinition(BondType.SINGLE))\n",
    "fragment_CH3NH2_definition.add_bond(CA, HB3, BondDefinition(BondType.SINGLE))\n",
    "fragment_CH3NH2_definition.add_bond(CA, NC, BondDefinition(BondType.SINGLE))\n",
    "fragment_CH3NH2_definition.add_bond(NC, HD1, BondDefinition(BondType.SINGLE))\n",
    "fragment_CH3NH2_definition.add_bond(NC, HD2, BondDefinition(BondType.SINGLE))\n",
    "\n",
    "fragment_definition_to_xyz.writer(fragment_CH3NH2_definition_path, fragment_CH3NH2_definition)"
   ]
  },
  {
   "cell_type": "markdown",
   "id": "7a873d91-56a2-40b0-8fe6-5f3dd5f25c72",
   "metadata": {},
   "source": [
    "The definition for the H2O fragment:"
   ]
  },
  {
   "cell_type": "code",
   "execution_count": 12,
   "id": "8d5048bc-4739-4015-914d-eccb6674f5db",
   "metadata": {},
   "outputs": [],
   "source": [
    "fragment_H2O_definition = BasicFragmentDefinition()\n",
    "OE  = fragment_H2O_definition.add_atom(AtomDefinition(\"O\", \"E\"))\n",
    "HF1 = fragment_H2O_definition.add_atom(AtomDefinition(\"H\", \"F\"))\n",
    "HF2 = fragment_H2O_definition.add_atom(AtomDefinition(\"H\", \"F\"))\n",
    "fragment_H2O_definition.add_bond(OE, HF1, BondDefinition(BondType.SINGLE))\n",
    "fragment_H2O_definition.add_bond(OE, HF2, BondDefinition(BondType.SINGLE))\n",
    "\n",
    "fragment_definition_to_xyz.writer(fragment_H2O_definition_path, fragment_H2O_definition)"
   ]
  },
  {
   "cell_type": "markdown",
   "id": "93c8faa2-b1f9-437a-842c-f0b6fb6d0a93",
   "metadata": {},
   "source": [
    "Next, we will make three n-mer definitions."
   ]
  },
  {
   "cell_type": "markdown",
   "id": "3cb55cf2-e182-45fc-9172-99c1f6de7323",
   "metadata": {},
   "source": [
    "First, the CH3NH2 monomer, which has a single CH3NH2 fragment."
   ]
  },
  {
   "cell_type": "code",
   "execution_count": 13,
   "id": "7a306f47-fa2e-4446-a875-09620309ad99",
   "metadata": {},
   "outputs": [],
   "source": [
    "monomer_CH3NH2_definition = BasicCompoundDefinition()\n",
    "monomer_CH3NH2_definition.add_fragment(fragment_CH3NH2_definition)\n",
    "\n",
    "compound_definition_to_xyz.writer(monomer_CH3NH2_definition_path, monomer_CH3NH2_definition)"
   ]
  },
  {
   "cell_type": "markdown",
   "id": "2bc22b4c-998c-4216-8c8a-fb834d415a53",
   "metadata": {},
   "source": [
    "First, the H2O monomer, which has a single CH3NH2 fragment."
   ]
  },
  {
   "cell_type": "code",
   "execution_count": 14,
   "id": "315031c6-ea28-4c10-bbde-62ff813a1456",
   "metadata": {},
   "outputs": [],
   "source": [
    "monomer_H2O_definition = BasicCompoundDefinition()\n",
    "monomer_H2O_definition.add_fragment(fragment_H2O_definition)\n",
    "\n",
    "compound_definition_to_xyz.writer(monomer_H2O_definition_path, monomer_H2O_definition)"
   ]
  },
  {
   "cell_type": "markdown",
   "id": "2aaed33d-ab7d-4889-86e7-f916433752ee",
   "metadata": {},
   "source": [
    "Next, the CH3NH2 -- H2O dimer, with two fragments:"
   ]
  },
  {
   "cell_type": "code",
   "execution_count": 15,
   "id": "cf26fc15-3d74-4d65-b57b-9fe2dc112a5d",
   "metadata": {},
   "outputs": [],
   "source": [
    "dimer_CH3NH2_H2O_definition = BasicCompoundDefinition()\n",
    "dimer_CH3NH2_H2O_definition.add_fragment(fragment_CH3NH2_definition)\n",
    "dimer_CH3NH2_H2O_definition.add_fragment(fragment_H2O_definition)\n",
    "\n",
    "compound_definition_to_xyz.writer(dimer_CH3NH2_H2O_definition_path, dimer_CH3NH2_H2O_definition)"
   ]
  },
  {
   "cell_type": "markdown",
   "id": "4503564c-3ba1-44ca-9fe5-83cc1ff9cee9",
   "metadata": {},
   "source": [
    "Finally, the CH3NH2 -- H2O -- H2O trimer, with three fragments:"
   ]
  },
  {
   "cell_type": "code",
   "execution_count": 16,
   "id": "eb7ddfea-dd48-49a1-bee8-e3a07ac191e9",
   "metadata": {},
   "outputs": [],
   "source": [
    "trimer_CH3NH2_H2O_H2O_definition = BasicCompoundDefinition()\n",
    "trimer_CH3NH2_H2O_H2O_definition.add_fragment(fragment_CH3NH2_definition)\n",
    "trimer_CH3NH2_H2O_H2O_definition.add_fragment(fragment_H2O_definition)\n",
    "trimer_CH3NH2_H2O_H2O_definition.add_fragment(fragment_H2O_definition)\n",
    "\n",
    "compound_definition_to_xyz.writer(trimer_CH3NH2_H2O_H2O_definition_path, trimer_CH3NH2_H2O_H2O_definition)"
   ]
  },
  {
   "cell_type": "markdown",
   "id": "be913bff-8ac5-454c-8bee-3629597acb96",
   "metadata": {},
   "source": [
    "We will use these definition files throughout Tutorial 2."
   ]
  },
  {
   "cell_type": "markdown",
   "id": "d3b0ec8e-9b7d-463d-9d1c-8f99d5c9bad5",
   "metadata": {},
   "source": [
    "## 2.2.x Geometry Initialization"
   ]
  },
  {
   "cell_type": "markdown",
   "id": "1ea6c4b2-cd43-4985-b422-644dde95bd7f",
   "metadata": {},
   "source": [
    "Next, we need a reasonable initial guess for the structure of our monomer. The guess need only be good enough that it will covnerge to the actual minimum structure when we perform a minimization with DFT. MB-Fit contains the class `VESPRInitializer`, which will make a reasonable guess about the structure of a molecule based on its bonding topology. Let's use `VESPRInitializer` to create an initial structure file:"
   ]
  },
  {
   "cell_type": "code",
   "execution_count": 17,
   "id": "295d04eb-2982-499c-8861-0b0023c863e5",
   "metadata": {},
   "outputs": [
    {
     "name": "stdout",
     "output_type": "stream",
     "text": [
      "Initializing compound C1H3N1H2\n",
      "System initialization complete!\n"
     ]
    }
   ],
   "source": [
    "definition = xyz_to_compound_definition.reader(monomer_CH3NH2_definition_path)\n",
    "system_initializer = VSEPRInitializer()\n",
    "initial_structure = system_initializer(definition)\n",
    "compound_to_xyz.writer(monomer_CH3NH2_initial_structure_path, initial_structure)"
   ]
  },
  {
   "cell_type": "code",
   "execution_count": 18,
   "id": "5d445175-4456-42bb-8690-467146c132ed",
   "metadata": {},
   "outputs": [
    {
     "name": "stdout",
     "output_type": "stream",
     "text": [
      "Initializing compound O1H2\n",
      "System initialization complete!\n"
     ]
    }
   ],
   "source": [
    "definition = xyz_to_compound_definition.reader(monomer_H2O_definition_path)\n",
    "system_initializer = VSEPRInitializer()\n",
    "initial_structure = system_initializer(definition)\n",
    "compound_to_xyz.writer(monomer_H2O_initial_structure_path, initial_structure)"
   ]
  },
  {
   "cell_type": "markdown",
   "id": "8a198cbd-435d-4950-8523-c740448815e9",
   "metadata": {
    "tags": []
   },
   "source": [
    "## 2.2.x Geometry Minimization"
   ]
  },
  {
   "cell_type": "markdown",
   "id": "62ae5ae4-0c83-4d1c-b2c1-3a16d42cfb7e",
   "metadata": {},
   "source": [
    "That guess is looking a little rough, lets optimize it using electronic structure theory. While the PEF will be developed at the CCSD(T) level of theory, its not important that the geometry optimization be at the same level of theory as the reference energies will be calculated at, so lets use something cheaper like a high-quality DFT functional."
   ]
  },
  {
   "cell_type": "code",
   "execution_count": 48,
   "id": "9e6c4b56-c8ef-4919-b2f5-023b5cf3aa5b",
   "metadata": {},
   "outputs": [
    {
     "name": "stdout",
     "output_type": "stream",
     "text": [
      "Minimization job has been queued\n",
      "Minimization job has started execution\n",
      "Minimization job is done!\n"
     ]
    }
   ],
   "source": [
    "job = job_runner.queue_job(\"CH3NH2_minimization\",\n",
    "f\"\"\"\n",
    "from mbfit.calculator import QchemCalculator\n",
    "from mbfit.system.parser import xyz_to_compound_definition, xyz_to_compound_by_definition\n",
    "from mbfit.system.descriptor import compound_to_xyz\n",
    "\n",
    "calculator = QchemCalculator(\"wB97M-V\", \"AUG-cc-pVTZ\", log_directory=\"{logs_dir}\")\n",
    "definition = xyz_to_compound_definition.reader(\"{monomer_CH3NH2_definition_path}\")\n",
    "initial_structure = xyz_to_compound_by_definition(definition).reader(\"{monomer_CH3NH2_initial_structure_path}\")\n",
    "optimized_structure, optimized_energy, optimization_log_path = calculator.optimize(initial_structure, num_threads=16, mem_mb=32000)\n",
    "compound_to_xyz.writer(\"{monomer_CH3NH2_minimum_structure_path}\", optimized_structure)\n",
    "\"\"\"\n",
    ")\n",
    "\n",
    "print(\"Minimization job has been queued\")\n",
    "\n",
    "job.wait_until_started()\n",
    "\n",
    "print(\"Minimization job has started execution\")\n",
    "job.wait_until_done()\n",
    "\n",
    "print(\"Minimization job is done!\")"
   ]
  },
  {
   "cell_type": "code",
   "execution_count": 49,
   "id": "00c70bc9-a5b4-4c4a-ae89-0e6df0bffe3e",
   "metadata": {
    "tags": []
   },
   "outputs": [
    {
     "name": "stdout",
     "output_type": "stream",
     "text": [
      "Minimization job has been queued\n",
      "Minimization job has started execution\n",
      "Minimization job is done!\n"
     ]
    }
   ],
   "source": [
    "job = job_runner.queue_job(\"H2O_minimization\",\n",
    "f\"\"\"\n",
    "from mbfit.calculator import QchemCalculator\n",
    "from mbfit.system.parser import xyz_to_compound_definition, xyz_to_compound_by_definition\n",
    "from mbfit.system.descriptor import compound_to_xyz\n",
    "\n",
    "calculator = QchemCalculator(\"wB97M-V\", \"AUG-cc-pVTZ\", log_directory=\"{logs_dir}\")\n",
    "definition = xyz_to_compound_definition.reader(\"{monomer_H2O_definition_path}\")\n",
    "initial_structure = xyz_to_compound_by_definition(definition).reader(\"{monomer_H2O_initial_structure_path}\")\n",
    "optimized_structure, optimized_energy, optimization_log_path = calculator.optimize(initial_structure, num_threads=16, mem_mb=32000)\n",
    "compound_to_xyz.writer(\"{monomer_H2O_minimum_structure_path}\", optimized_structure)\n",
    "\"\"\"\n",
    ")\n",
    "\n",
    "print(\"Minimization job has been queued\")\n",
    "\n",
    "job.wait_until_started()\n",
    "\n",
    "print(\"Minimization job has started execution\")\n",
    "job.wait_until_done()\n",
    "\n",
    "print(\"Minimization job is done!\")"
   ]
  },
  {
   "cell_type": "markdown",
   "id": "e9e85250-bdc5-4958-8b77-f54fba73fd83",
   "metadata": {},
   "source": [
    "How calculate the CCSD(T) energies:"
   ]
  },
  {
   "cell_type": "code",
   "execution_count": 145,
   "id": "0f492c21-08a9-4c4c-a1c4-c3da010770b0",
   "metadata": {},
   "outputs": [
    {
     "name": "stdout",
     "output_type": "stream",
     "text": [
      "Minimization job has been queued\n",
      "Minimization job has started execution\n",
      "Minimization job is done!\n"
     ]
    }
   ],
   "source": [
    "job = orca_runner.queue_job(\"CH3NH2_minimum_energy_calculation\",\n",
    "f\"\"\"\n",
    "from mbfit.calculator import OrcaCalculator\n",
    "from mbfit.system.parser import xyz_to_compound_definition, xyz_to_compound_by_definition\n",
    "from mbfit.system.descriptor import compound_to_xyz\n",
    "\n",
    "calculator = OrcaCalculator(\"DLPNO-CCSD(T)-F12\", \"cc-pVTZ-F12\", log_directory=\"{logs_dir}\", command_line_args = [\"VeryTightSCF\", \"TightPNO\", \"PModel\"], basis_args = {{\"AuxC\": \"cc-pVTZ/C\", \"CABS\": \"cc-pVTZ-F12-CABS\"}})\n",
    "definition = xyz_to_compound_definition.reader(\"{monomer_CH3NH2_definition_path}\")\n",
    "optimized_structure = xyz_to_compound_by_definition(definition).reader(\"{monomer_CH3NH2_minimum_structure_path}\")\n",
    "optimized_energy, optimization_log_path = calculator.energy(initial_structure, num_threads=16, mem_mb=32000)\n",
    "compound_to_xyz.writer(\"{monomer_CH3NH2_minimum_structure_path}\", optimized_structure)\n",
    "\"\"\"\n",
    ")\n",
    "\n",
    "print(\"Minimization job has been queued\")\n",
    "\n",
    "job.wait_until_started()\n",
    "\n",
    "print(\"Minimization job has started execution\")\n",
    "job.wait_until_done()\n",
    "\n",
    "print(\"Minimization job is done!\")"
   ]
  },
  {
   "cell_type": "code",
   "execution_count": null,
   "id": "dcb026e6-5c33-4664-876d-ed78c550d551",
   "metadata": {},
   "outputs": [],
   "source": [
    "job = orca_runner.queue_job(\"CH3NH2_minimum_energy_calculation\",\n",
    "f\"\"\"\n",
    "from mbfit.calculator import OrcaCalculator\n",
    "from mbfit.system.parser import xyz_to_compound_definition, xyz_to_compound_by_definition\n",
    "from mbfit.system.descriptor import compound_to_xyz\n",
    "\n",
    "calculator = OrcaCalculator(\"DLPNO-CCSD(T)-F12\", \"cc-pVTZ-F12\", log_directory=\"{logs_dir}\", command_line_args = [\"VeryTightSCF\", \"TightPNO\", \"PModel\"], basis_args = {{\"AuxC\": \"cc-pVTZ/C\", \"CABS\": \"cc-pVTZ-F12-CABS\"}})\n",
    "definition = xyz_to_compound_definition.reader(\"{monomer_H2O_definition_path}\")\n",
    "optimized_structure = xyz_to_compound_by_definition(definition).reader(\"{monomer_H2O_minimum_structure_path}\")\n",
    "optimized_energy, optimization_log_path = calculator.energy(initial_structure, num_threads=16, mem_mb=32000)\n",
    "compound_to_xyz.writer(\"{monomer_H2O_minimum_structure_path}\", optimized_structure)\n",
    "\"\"\"\n",
    ")\n",
    "\n",
    "print(\"Minimization job has been queued\")\n",
    "\n",
    "job.wait_until_started()\n",
    "\n",
    "print(\"Minimization job has started execution\")\n",
    "job.wait_until_done()\n",
    "\n",
    "print(\"Minimization job is done!\")"
   ]
  },
  {
   "cell_type": "markdown",
   "id": "22d68cac-6547-4c43-8d36-2ebd611969c5",
   "metadata": {
    "tags": []
   },
   "source": [
    "## 2.2.2 Two-Body Scans"
   ]
  },
  {
   "cell_type": "markdown",
   "id": "6afe34e2-3eeb-4387-93b4-21b4b6b36b28",
   "metadata": {},
   "source": [
    "Now we make a few two-body scans. We will use these during future steps to validate the quality of the 2-body parts of the PEF."
   ]
  },
  {
   "cell_type": "markdown",
   "id": "9183e485-5209-49c5-9a90-945e1e615753",
   "metadata": {},
   "source": [
    "Lets generate a few 2-body CH$_3$-NH$_2$ -- H$_2$O scans. We will make three scans."
   ]
  },
  {
   "cell_type": "code",
   "execution_count": 108,
   "id": "995a95e2-3768-4387-9ece-788a65eeebfa",
   "metadata": {},
   "outputs": [],
   "source": [
    "dimer_CH3NH2_H2O_definition = xyz_to_compound_definition.reader(dimer_CH3NH2_H2O_definition_path)\n",
    "dimer_CH3NH2_H2O = BasicCompound(dimer_CH3NH2_H2O_definition)\n",
    "\n",
    "dimer_CH3NH2_H2O.fragments[0].set_xyz(monomer_CH3NH2_initial_structure_path)\n",
    "dimer_CH3NH2_H2O.fragments[1].set_xyz(monomer_H2O_initial_structure_path)\n",
    "\n",
    "monomer_CH3NH2 = dimer_CH3NH2_H2O.fragments[0]\n",
    "monomer_H2O = dimer_CH3NH2_H2O.fragments[1]"
   ]
  },
  {
   "cell_type": "markdown",
   "id": "d254867b-2719-40d8-a672-8f8ddb2e14d4",
   "metadata": {},
   "source": [
    "H-bond between H on -NH$_2$ and O in H$_2$O:"
   ]
  },
  {
   "cell_type": "code",
   "execution_count": 110,
   "id": "c9a774bd-e3ab-4954-85a7-738903fb9a56",
   "metadata": {
    "tags": []
   },
   "outputs": [],
   "source": [
    "scan_2b_1 = make_scan(\n",
    "        system=dimer_CH3NH2_H2O,\n",
    "        region1=monomer_CH3NH2,\n",
    "        region2=monomer_H2O,\n",
    "        center1=monomer_CH3NH2.atoms[5].point,\n",
    "        center2=monomer_H2O.atoms[0].point,\n",
    "        align1=[monomer_CH3NH2.atoms[5].point-monomer_CH3NH2.atoms[4].point, monomer_CH3NH2.atoms[5].point-monomer_CH3NH2.atoms[0].point],\n",
    "        align2=[monomer_H2O.atoms[1].point-monomer_H2O.atoms[0].point + monomer_H2O.atoms[2].point-monomer_H2O.atoms[0].point, monomer_H2O.atoms[1].point - monomer_H2O.atoms[0].point],\n",
    "        distances=numpy.arange(1.0, 10.5, 0.5)\n",
    ")\n",
    "\n",
    "compound_to_xyz.descriptor_sequence().writer(scan_2b_1_path, scan_2b_1)"
   ]
  },
  {
   "cell_type": "markdown",
   "id": "5deeb13e-e06b-48b7-be5c-a35bec897d52",
   "metadata": {},
   "source": [
    "H-bond between H on H$_2$O and N in -NH$_2$:"
   ]
  },
  {
   "cell_type": "code",
   "execution_count": 113,
   "id": "57a258af-8f95-4231-96a3-f756a0fe08d5",
   "metadata": {},
   "outputs": [],
   "source": [
    "scan_2b_2 = make_scan(\n",
    "        system=dimer_CH3NH2_H2O,\n",
    "        region1=monomer_CH3NH2,\n",
    "        region2=monomer_H2O,\n",
    "        center1=monomer_CH3NH2.atoms[4].point,\n",
    "        center2=monomer_H2O.atoms[1].point,\n",
    "        align1=(monomer_CH3NH2.atoms[4].point-monomer_CH3NH2.atoms[0].point + monomer_CH3NH2.atoms[4].point-monomer_CH3NH2.atoms[5].point + monomer_CH3NH2.atoms[4].point-monomer_CH3NH2.atoms[6].point, monomer_CH3NH2.atoms[0].point-monomer_CH3NH2.atoms[4].point),\n",
    "        align2=(monomer_H2O.atoms[0].point-monomer_H2O.atoms[1].point, monomer_H2O.atoms[2].point-monomer_H2O.atoms[1].point),\n",
    "        distances=numpy.arange(1.0, 10.5, 0.5)\n",
    ")\n",
    "\n",
    "compound_to_xyz.descriptor_sequence().writer(scan_2b_2_path, scan_2b_2)"
   ]
  },
  {
   "cell_type": "markdown",
   "id": "af70a57d-80fb-45b0-8cf8-fc7364047a46",
   "metadata": {},
   "source": [
    "H from -CH$_3$ approaching O in H$_2$O"
   ]
  },
  {
   "cell_type": "code",
   "execution_count": 115,
   "id": "6fa28379-1c32-464d-b68b-dcff963234d7",
   "metadata": {},
   "outputs": [],
   "source": [
    "scan_2b_3 = make_scan(\n",
    "        system=dimer_CH3NH2_H2O,\n",
    "        region1=monomer_CH3NH2,\n",
    "        region2=monomer_H2O,\n",
    "        center1=monomer_CH3NH2.atoms[1].point,\n",
    "        center2=monomer_H2O.atoms[0].point,\n",
    "        align1=(monomer_CH3NH2.atoms[1].point-monomer_CH3NH2.atoms[0].point, monomer_CH3NH2.atoms[4].point-monomer_CH3NH2.atoms[1].point),\n",
    "        align2=(monomer_H2O.atoms[1].point-monomer_H2O.atoms[0].point + monomer_H2O.atoms[2].point-monomer_H2O.atoms[0].point, monomer_H2O.atoms[1].point-monomer_H2O.atoms[0].point),\n",
    "        distances=numpy.arange(1.0, 10.5, 0.5)\n",
    ")\n",
    "\n",
    "compound_to_xyz.descriptor_sequence().writer(scan_2b_3_path, scan_2b_3)"
   ]
  },
  {
   "cell_type": "markdown",
   "id": "fd9bb56e-0b17-4fe7-8bb3-400d49b92fc9",
   "metadata": {},
   "source": [
    "Now, lets perform the reference calculations for the scans."
   ]
  },
  {
   "cell_type": "code",
   "execution_count": 149,
   "id": "64829178-c648-492e-8840-41464f46fcd9",
   "metadata": {},
   "outputs": [
    {
     "name": "stdout",
     "output_type": "stream",
     "text": [
      "Minimization job has been queued\n",
      "Minimization job has started execution\n",
      "Minimization job is done!\n"
     ]
    }
   ],
   "source": [
    "job = orca_runner.queue_job(\"2B_scan_energies\",\n",
    "f\"\"\"\n",
    "from mbfit.calculator import OrcaCalculator, QchemCalculator\n",
    "from mbfit.system.parser import xyz_to_compound_definition, xyz_to_compound_by_definition\n",
    "from mbfit.system.descriptor import compound_to_xyz, compound_to_commented_xyz\n",
    "\n",
    "calculator = QchemCalculator(\"HF\", \"STO-3G\", log_directory=\"{logs_dir}\")\n",
    "#calculator = OrcaCalculator(\"DLPNO-CCSD(T)-F12\", \"cc-pVTZ-F12\", log_directory=\"{logs_dir}\", command_line_args = [\"VeryTightSCF\", \"TightPNO\", \"PModel\"], basis_args = {{\"AuxC\": \"cc-pVTZ/C\", \"CABS\": \"cc-pVTZ-F12-CABS\"}})\n",
    "definition = xyz_to_compound_definition.reader(\"{dimer_CH3NH2_H2O_definition_path}\")\n",
    "scan1_structures = xyz_to_compound_by_definition(definition).parser_sequence().reader(\"{scan_2b_1_path}\")\n",
    "2b_energies = []\n",
    "for structre_index, structure in enumerate(scan1_structures):\n",
    "    dimer_energy = optimized_structure, optimized_energy, optimization_log_path = calculator.optimize(structure, num_threads=16, mem_mb=32000)\n",
    "    2b_energies.append(f\"{{dimer_energy:+16.8f}}\")\n",
    "    print(f\"Completed Energy Calculation {{structre_index}}\")\n",
    "compound_to_commented_xyz.descriptor_sequence().writer(\"{scan_2b_energies_1_path}\", zip(*scan1_structures, *2b_energies))\n",
    "\"\"\"\n",
    ")\n",
    "\n",
    "print(\"Minimization job has been queued\")\n",
    "\n",
    "job.wait_until_started()\n",
    "\n",
    "print(\"Minimization job has started execution\")\n",
    "job.wait_until_done()\n",
    "\n",
    "print(\"Minimization job is done!\")"
   ]
  },
  {
   "cell_type": "markdown",
   "id": "2e320e8b-ddb3-420c-980e-79c264d33a75",
   "metadata": {},
   "source": [
    "## 2.2.3 Three-Body Scans"
   ]
  },
  {
   "cell_type": "markdown",
   "id": "717637a3-fd02-4a75-81ed-dfeec59eab0c",
   "metadata": {},
   "source": [
    "Now we make a few three-body scans. We will use these during future steps to validate the quality of the 2-body parts of the PEF."
   ]
  },
  {
   "cell_type": "markdown",
   "id": "a7115025-cdb4-48a4-9662-6b52266bcc59",
   "metadata": {},
   "source": [
    "Lets also consider a few 3-body structures. We will make three scans."
   ]
  },
  {
   "cell_type": "markdown",
   "id": "9f1dceb9-0b2a-4d06-91d0-c490114e624f",
   "metadata": {},
   "source": []
  },
  {
   "cell_type": "code",
   "execution_count": 135,
   "id": "887e3134-9873-4dd3-bf0f-f8b9c9898b91",
   "metadata": {},
   "outputs": [],
   "source": [
    "trimer_CH3NH2_H2O_definition = xyz_to_compound_definition.reader(trimer_CH3NH2_H2O_H2O_definition_path)\n",
    "trimer_CH3NH2_H2O = BasicCompound(trimer_CH3NH2_H2O_definition)\n",
    "\n",
    "trimer_CH3NH2_H2O.fragments[0].set_xyz(monomer_CH3NH2_initial_structure_path)\n",
    "trimer_CH3NH2_H2O.fragments[1].set_xyz(monomer_H2O_initial_structure_path)\n",
    "trimer_CH3NH2_H2O.fragments[2].set_xyz(monomer_H2O_initial_structure_path)\n",
    "\n",
    "monomer_CH3NH2 = trimer_CH3NH2_H2O.fragments[0]\n",
    "monomer_H2O_1 = trimer_CH3NH2_H2O.fragments[1]\n",
    "monomer_H2O_2 = trimer_CH3NH2_H2O.fragments[2]\n",
    "\n",
    "dimer = BasicMutableRegionManager(trimer_CH3NH2_H2O).make_region([monomer_CH3NH2, monomer_H2O_1])\n",
    "transformer1 = SystemTransformer(monomer_CH3NH2)\n",
    "transformer2 = SystemTransformer(monomer_H2O_1)"
   ]
  },
  {
   "cell_type": "markdown",
   "id": "f3cf3995-e935-432d-b19c-5dbc873cebeb",
   "metadata": {},
   "source": [
    "-NH$_2$ donating 2 H-bonds to 2 H$_2$Os, where one H$_2$O moves away:"
   ]
  },
  {
   "cell_type": "code",
   "execution_count": 136,
   "id": "c4c191df-028b-48c6-90e8-54ab0f8e7154",
   "metadata": {},
   "outputs": [],
   "source": [
    "transformer1.translate(translation=-monomer_CH3NH2.atoms[5].point)\n",
    "transformer2.translate(translation=-monomer_H2O_1.atoms[0].point)\n",
    "transformer1.align(vectors_to_align=[-monomer_CH3NH2.atoms[4].point, monomer_CH3NH2.atoms[0].point])\n",
    "transformer2.align(vectors_to_align=[monomer_H2O_1.atoms[1].point + monomer_H2O_1.atoms[2].point, monomer_H2O_1.atoms[1].point])\n",
    "\n",
    "# Make fixed H-bond 2.0 A long\n",
    "transformer2.translate(x=2.0)\n",
    "\n",
    "scan_3b_1 = make_scan(\n",
    "        system=trimer_CH3NH2_H2O,\n",
    "        region1=dimer,\n",
    "        region2=monomer_H2O_2,\n",
    "        center1=monomer_CH3NH2.atoms[6].point,\n",
    "        center2=monomer_H2O_2.atoms[0].point,\n",
    "        align1=[monomer_CH3NH2.atoms[6].point-monomer_CH3NH2.atoms[4].point, monomer_CH3NH2.atoms[6].point-monomer_CH3NH2.atoms[0].point],\n",
    "        align2=[monomer_H2O_2.atoms[1].point-monomer_H2O_2.atoms[0].point + monomer_H2O_2.atoms[2].point-monomer_H2O_2.atoms[0].point, monomer_H2O_2.atoms[1].point - monomer_H2O_2.atoms[0].point],\n",
    "        distances=numpy.arange(1.0, 10.5, 0.5)\n",
    ")\n",
    "\n",
    "compound_to_xyz.descriptor_sequence().writer(scan_3b_1_path, scan_3b_1)"
   ]
  },
  {
   "cell_type": "markdown",
   "id": "ebf28427-cef8-4809-ac5e-52148ebdc6b1",
   "metadata": {},
   "source": [
    "-NH$_2$ donating 1 H-bond and accepting 1 H-bond, where the H$_2$O that is accepting an H-bond moves away."
   ]
  },
  {
   "cell_type": "code",
   "execution_count": 139,
   "id": "425cc4f6-e795-4a8e-81cb-02d1a8cdb6a3",
   "metadata": {},
   "outputs": [],
   "source": [
    "transformer1.translate(translation=-monomer_CH3NH2.atoms[4].point)\n",
    "transformer2.translate(translation=-monomer_H2O_1.atoms[1].point)\n",
    "transformer1.align(vectors_to_align=[-monomer_CH3NH2.atoms[5].point-monomer_CH3NH2.atoms[6].point-monomer_CH3NH2.atoms[0].point, monomer_CH3NH2.atoms[0].point])\n",
    "transformer2.align(vectors_to_align=[monomer_H2O_1.atoms[0].point, monomer_H2O_1.atoms[2].point])\n",
    "\n",
    "# Make fixed H-bond 2.0 A long\n",
    "transformer2.translate(x=2.0)\n",
    "\n",
    "scan_3b_2 = make_scan(\n",
    "        system=trimer_CH3NH2_H2O,\n",
    "        region1=dimer,\n",
    "        region2=monomer_H2O_2,\n",
    "        center1=monomer_CH3NH2.atoms[6].point,\n",
    "        center2=monomer_H2O_2.atoms[0].point,\n",
    "        align1=[monomer_CH3NH2.atoms[6].point-monomer_CH3NH2.atoms[4].point, monomer_CH3NH2.atoms[6].point-monomer_CH3NH2.atoms[0].point],\n",
    "        align2=[monomer_H2O_2.atoms[1].point-monomer_H2O_2.atoms[0].point + monomer_H2O_2.atoms[2].point-monomer_H2O_2.atoms[0].point, monomer_H2O_2.atoms[1].point - monomer_H2O_2.atoms[0].point],\n",
    "        distances=numpy.arange(1.0, 10.5, 0.5)\n",
    ")\n",
    "\n",
    "compound_to_xyz.descriptor_sequence().writer(scan_3b_2_path, scan_3b_2)"
   ]
  },
  {
   "cell_type": "markdown",
   "id": "7bdff1c2-1292-417b-a406-417ceb8db2e0",
   "metadata": {},
   "source": [
    "-NH$_2$ donating 1 H-bond and accepting 1 H-bond, where the H$_2$O that is donating an H-bond moves away."
   ]
  },
  {
   "cell_type": "code",
   "execution_count": 140,
   "id": "e3de08a5-76dd-4e5c-bf5e-f7b5c6cf8fed",
   "metadata": {},
   "outputs": [],
   "source": [
    "transformer1.translate(translation=-monomer_CH3NH2.atoms[5].point)\n",
    "transformer2.translate(translation=-monomer_H2O_1.atoms[0].point)\n",
    "transformer1.align(vectors_to_align=[-monomer_CH3NH2.atoms[4].point, monomer_CH3NH2.atoms[0].point])\n",
    "transformer2.align(vectors_to_align=[monomer_H2O_1.atoms[1].point + monomer_H2O_1.atoms[2].point, monomer_H2O_1.atoms[1].point])\n",
    "\n",
    "# Make fixed H-bond 2.0 A long\n",
    "transformer2.translate(x=2.0)\n",
    "\n",
    "scan_3b_3 = make_scan(\n",
    "        system=trimer_CH3NH2_H2O,\n",
    "        region1=dimer,\n",
    "        region2=monomer_H2O_2,\n",
    "        center1=monomer_CH3NH2.atoms[4].point,\n",
    "        center2=monomer_H2O_2.atoms[1].point,\n",
    "        align1=[monomer_CH3NH2.atoms[4].point-monomer_CH3NH2.atoms[5].point + monomer_CH3NH2.atoms[4].point-monomer_CH3NH2.atoms[6].point + monomer_CH3NH2.atoms[4].point-monomer_CH3NH2.atoms[0].point, monomer_CH3NH2.atoms[4].point-monomer_CH3NH2.atoms[0].point],\n",
    "        align2=[monomer_H2O_2.atoms[0].point-monomer_H2O_2.atoms[1].point, monomer_H2O_2.atoms[2].point - monomer_H2O_2.atoms[0].point],\n",
    "        distances=numpy.arange(1.0, 10.5, 0.5)\n",
    ")\n",
    "\n",
    "compound_to_xyz.descriptor_sequence().writer(scan_3b_3_path, scan_3b_3)"
   ]
  }
 ],
 "metadata": {
  "kernelspec": {
   "display_name": "Python 3 (ipykernel)",
   "language": "python",
   "name": "python3"
  },
  "language_info": {
   "codemirror_mode": {
    "name": "ipython",
    "version": 3
   },
   "file_extension": ".py",
   "mimetype": "text/x-python",
   "name": "python",
   "nbconvert_exporter": "python",
   "pygments_lexer": "ipython3",
   "version": "3.10.10"
  }
 },
 "nbformat": 4,
 "nbformat_minor": 5
}
