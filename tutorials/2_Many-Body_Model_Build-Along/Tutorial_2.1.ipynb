{
 "cells": [
  {
   "cell_type": "markdown",
   "id": "4fd445e4-9d9a-4fa3-8ed3-fdb6f211a289",
   "metadata": {},
   "source": [
    "# Tutorial 2.1: $V_{phys}$ Parametrization"
   ]
  },
  {
   "cell_type": "markdown",
   "id": "37422672-a853-479c-a362-64476c191a81",
   "metadata": {},
   "source": [
    "In this section, we show how the $V_{phys}$ part of MB-nrg PEFs are parametrized. $V_{phys}$ is the underlying \"physically-inspired\" baseline consisting of dispersion and electrostatics interactions upon which the many-body polynomials are applied as \"corrections\". As a reminder, $V_{phys}$ has the form:"
   ]
  },
  {
   "cell_type": "markdown",
   "id": "4e0b5219-22e7-4f3b-bbf9-94dc50ee18c8",
   "metadata": {},
   "source": [
    "#### <center> $V_{phys} = V_{disp} + V_{elec}$ </center>"
   ]
  },
  {
   "cell_type": "markdown",
   "id": "7ac547c2-5bee-4982-aae0-034715eb4481",
   "metadata": {},
   "source": [
    "Here, $V_{disp}$ is the disperison energy and $V_{elec}$ is the electrostatics energy. $V_{disp}$ has the form:"
   ]
  },
  {
   "cell_type": "markdown",
   "id": "7a8e5e72-64ab-4fce-87d5-a5eb012b87d4",
   "metadata": {},
   "source": [
    "#### <center> $V_{disp} = ...$ </center>"
   ]
  },
  {
   "cell_type": "markdown",
   "id": "b88f85b6-60e4-49f8-9be9-9053b19c8b87",
   "metadata": {},
   "source": [
    "where, $R_{ij}$, $C^6_{ij}$, and $d^6_{ij}$ are the distance between atoms, dispersion coefficient, and damping parameter for atom pair $i$, $j$. $damp(...)$ is the tang-toennies damping function of the form:"
   ]
  },
  {
   "cell_type": "markdown",
   "id": "0b80e13f-55e8-49b1-8f21-4676926195ff",
   "metadata": {},
   "source": [
    "#### <center> $damp(...) = ...$ </center>"
   ]
  },
  {
   "cell_type": "markdown",
   "id": "53fd6126-3d38-455c-8b85-f83720db9111",
   "metadata": {},
   "source": [
    "And $V_{elec}$ has the form:"
   ]
  },
  {
   "cell_type": "markdown",
   "id": "0c302c66-c04a-43d8-a449-7b1e6f3d0335",
   "metadata": {},
   "source": [
    "#### <center> $V_{elec} = ...$ </center>"
   ]
  },
  {
   "cell_type": "markdown",
   "id": "1fc27bce-75bf-4144-a403-2a4070205447",
   "metadata": {},
   "source": [
    "where $q_i$, $p_i$, $\\alpha_i$, and $\\mu_i$ are the partial charge, polarizability, polarizability factor, and dipole moment at to site $i$."
   ]
  },
  {
   "cell_type": "markdown",
   "id": "a3f9e7a0-0449-4413-af2a-dd851b84ec3f",
   "metadata": {},
   "source": [
    "Before we can build an MB-nrg PEF for any system, we first need to define the $q_i$, $p_i$, and $\\alpha_i$ for each atom type and the $C^6_{ij}$ and $d^6_{ij}$ for each atom type pair."
   ]
  },
  {
   "cell_type": "markdown",
   "id": "30594fcc-e59c-49bc-b1f1-6c6477d54221",
   "metadata": {},
   "source": [
    "<b>Note: This notebook describes how modern MB-nrg potentials are parametrized. Some models, such as MB-pol and older MB-nrg models were parametrized before the approach described here was standardized. Consult the publications about those PEFs for more details.</b>"
   ]
  },
  {
   "cell_type": "markdown",
   "id": "15ff8c8d-f43e-41eb-a7f2-7d985e592769",
   "metadata": {},
   "source": [
    "That being said, we have found that MB-nrg PEFs are not too \"sensitive\" to the exact values of the parameters that enter $V_{phys}$, since the many-body PIPs will correct at short-range, and dispersion and electrostatics fall off *relatively* fast at long range. (\"relatively\" is doing a lot of work here.)"
   ]
  },
  {
   "cell_type": "markdown",
   "id": "549acef4-2c2f-48cc-aef7-7f2200f4de72",
   "metadata": {},
   "source": [
    "## 2.1.0 Definitions and Imports"
   ]
  },
  {
   "cell_type": "markdown",
   "id": "22655be4-a5a8-45d5-8eda-aad54487e7c4",
   "metadata": {},
   "source": []
  },
  {
   "cell_type": "markdown",
   "id": "58bf4d4d-2632-4fa6-814b-a0ec21855510",
   "metadata": {},
   "source": [
    "## 2.1.1 Polarizabilities and Polarizability Factors."
   ]
  },
  {
   "cell_type": "markdown",
   "id": "1e2e8cd8-5c4a-45ea-837e-af58b72d10ca",
   "metadata": {},
   "source": [
    "All MB-nrg models set the polarizability factors equal to the polarizabilities and calculate them in the following way:\n"
   ]
  },
  {
   "cell_type": "markdown",
   "id": "ca1778fd-3ee0-4d8e-9fc5-5a1e7a1dd901",
   "metadata": {},
   "source": [
    "#### <center> $p_i = \\alpha_i = p^{free}_i  \\frac{v_i}{v^{free}_i} ^ {4/3}$ </center>"
   ]
  },
  {
   "cell_type": "markdown",
   "id": "2b0adf3a-fd00-4cd2-a18a-629cace54ecb",
   "metadata": {},
   "source": [
    "Here, $p^{free}_i$, $v^{free}_i$, and $v_i$ are the free polarizability, free volume, and effective volume for atom $i$. We calculate the free volumes and effective volumes using QChem's implementation of the eXchange-hole Dipole Moment (XDM) model, and the free polarizabilities have been tabulated at the CCSD(T) level."
   ]
  },
  {
   "cell_type": "markdown",
   "id": "7d2338a5-9a39-4824-8220-1fe73de94215",
   "metadata": {},
   "source": [
    "To run the XDM calculation, do the following:"
   ]
  },
  {
   "cell_type": "code",
   "execution_count": 2,
   "id": "46edd033-014a-471a-b3f8-e5bc46492816",
   "metadata": {},
   "outputs": [],
   "source": [
    "job = ..."
   ]
  },
  {
   "cell_type": "markdown",
   "id": "ffa0e7e2-f490-455e-8088-2ee8bb2a3825",
   "metadata": {},
   "source": [
    "## 2.1.2 Atomic Partial Charges."
   ]
  },
  {
   "cell_type": "markdown",
   "id": "1422fd95-cf27-49fa-b391-8d5b85b54455",
   "metadata": {},
   "source": [
    "Previous MB-nrg models have used a variety of methods to calculate the atomic partial charges. MB-pol uses the Partridge-Swenkee (check sp lol) geometry-dependent atomic partial charges. Other models have used either Charge Model 5 (cite) or CHELPG (cite). The most recent generation of models has used charges fit to reproduce a monomer's multipole moments using an approach similar to the Stewart fitting appraoch (cite). However, we have recently developed a new apprach based on CHELPG that we feel provides the most useful model of a monomer's charge for our purposes. "
   ]
  },
  {
   "cell_type": "markdown",
   "id": "6c30b7db-bcdc-4200-a008-30402ac3d9a5",
   "metadata": {},
   "source": [
    "We will fit the partial charges of methylamine to reproduce the electrostatic potential on a number of grid points. However unlike CHELPG, which uses grid points very close to the monomer's electron density (usually within 4 A of the nucleii), we will fit to points quite far away from the electron density. The justification for this is that since we will have the many-body polynomials to correct at short-range, so it is most important that our electrostatics model reproduces long-range interactions. We will fit to grid points that are between 9 and 11 Å past the edge of the electron density of our monomer."
   ]
  },
  {
   "cell_type": "markdown",
   "id": "ab5dffd8-4ac9-4467-8ff8-e869426977b6",
   "metadata": {},
   "source": [
    "To do that, run the following:"
   ]
  },
  {
   "cell_type": "code",
   "execution_count": 3,
   "id": "4d425d51-8240-47e4-9ac8-cb96a15abf96",
   "metadata": {},
   "outputs": [],
   "source": [
    "job = ..."
   ]
  },
  {
   "cell_type": "markdown",
   "id": "3db8734e-7c75-484c-91ae-c030f2b5539d",
   "metadata": {},
   "source": [
    "## 2.1.3 Dispersion Parameters"
   ]
  },
  {
   "cell_type": "markdown",
   "id": "66f5bbad-a833-498b-b1d6-3adb4506286b",
   "metadata": {},
   "source": [
    "Lastly, we will calculate the dispersion coefficients ($C^6_{ij}$) and damping parameters ($d^6_{ij}$). These also both come from XDM, but in different ways. The $C^6$ are directly computed from XDM, by the equation:"
   ]
  },
  {
   "cell_type": "markdown",
   "id": "e4280dca-e189-436d-afe7-e96f59221967",
   "metadata": {},
   "source": [
    "#### <center> $C^6_{ij} = ... $ </center>"
   ]
  },
  {
   "cell_type": "markdown",
   "id": "891827ab-d395-495b-93f1-6ca93b5de9aa",
   "metadata": {},
   "source": [
    "See QChem's documentation about the XDM module for more info (link)."
   ]
  },
  {
   "cell_type": "markdown",
   "id": "4486dc53-0154-4ae4-8afe-dadf6c1c6515",
   "metadata": {},
   "source": [
    "The damping parameters are chosen so that the dispersion is exactly half on at a distance equal to the sum of the two atom's atomic radii ($r_i + r_j$). This is done by solving the following equation for $d_{ij}$:"
   ]
  },
  {
   "cell_type": "markdown",
   "id": "bc395fe1-ed65-496b-937c-b000470f9acb",
   "metadata": {},
   "source": [
    "#### <center> $ \\frac{1}{2} = damp(r_i + r_j, d^6_{ij}) $ </center>"
   ]
  },
  {
   "cell_type": "markdown",
   "id": "d0624d6b-c370-433d-9110-d7bf32147b21",
   "metadata": {},
   "source": [
    "To run the XDM calculation and calculate the dispersion parameters, do the following:"
   ]
  },
  {
   "cell_type": "code",
   "execution_count": 4,
   "id": "8786c75e-7e70-4720-8bc1-e2d2432a2c93",
   "metadata": {},
   "outputs": [],
   "source": [
    "job = ..."
   ]
  },
  {
   "cell_type": "markdown",
   "id": "94ff9d9c-4585-4599-b41a-b8e43213f650",
   "metadata": {},
   "source": [
    "## 2.1.4 Validation of $V_{phys}$ Parametrization"
   ]
  },
  {
   "cell_type": "markdown",
   "id": "ec26eedd-be19-4724-915b-59bdae840e1d",
   "metadata": {},
   "source": [
    "Great, we have our $V_{phys}$ parameters. To get a sense of the baseline we will add our many-body PIPs to, lets generate a few potential energy scans."
   ]
  },
  {
   "cell_type": "markdown",
   "id": "97e308ac-7284-4c1a-b806-e52343cd9d56",
   "metadata": {},
   "source": [
    "Since our monomers are small enough that everything is excluded, there is no $V_{phys}$ contribution at the 1-body level, so there is nothing interesting to see there. We will jump straight to the 2-body."
   ]
  },
  {
   "cell_type": "markdown",
   "id": "de4b05e8-0df0-4212-aa3f-5e28a635337f",
   "metadata": {},
   "source": [
    "Lets generate a few 2-body CH$_3$-NH$_2$ -- H$_2$O scans. We will make three scans:\n",
    "* H-bond between H on -NH$_2$ and O in H$_2$O\n",
    "* H-bond between H on H$_2$O and N in -NH$_2$\n",
    "* H from -CH$_3$ approaching O in H$_2$O"
   ]
  },
  {
   "cell_type": "code",
   "execution_count": null,
   "id": "80ff0220-208a-4a7e-8567-0fbd4841cda1",
   "metadata": {},
   "outputs": [],
   "source": [
    "..."
   ]
  },
  {
   "cell_type": "markdown",
   "id": "64fecafa-f2d6-428e-ae67-0f3cd97fee64",
   "metadata": {},
   "source": [
    "Lets also consider a few 3-body structures. We will make two scans:\n",
    "* -NH$_2$ donating 2 H-bonds to 2 H$_2$Os, where one H$_2$O moves away.\n",
    "* -NH$_2$ donating 1 H-bond and accepting 1 H-bond, where the H$_2$O that is donating an H-bond moves away.\n",
    "* -NH$_2$ donating 1 H-bond and accepting 1 H-bond, where the H$_2$O that is accepting an H-bond moves away."
   ]
  },
  {
   "cell_type": "code",
   "execution_count": null,
   "id": "54561539-b3ee-4bbb-939e-26105b43f2af",
   "metadata": {},
   "outputs": [],
   "source": [
    "..."
   ]
  },
  {
   "cell_type": "markdown",
   "id": "df4ab1c1-6e6b-4e2a-9d0a-7fa01e601630",
   "metadata": {},
   "source": [
    "Now, lets see how well our $V_{phys}$ baseline does on these scans. Plotting time!"
   ]
  },
  {
   "cell_type": "code",
   "execution_count": null,
   "id": "ea762dca-d5de-4b70-8c43-cd07d2e9e8ce",
   "metadata": {},
   "outputs": [],
   "source": [
    "..."
   ]
  },
  {
   "cell_type": "code",
   "execution_count": null,
   "id": "b97d23f5-97d2-4e49-b107-c25f0e3f60a4",
   "metadata": {},
   "outputs": [],
   "source": [
    "..."
   ]
  },
  {
   "cell_type": "code",
   "execution_count": null,
   "id": "e0bdccc3-4d59-4dce-b6d6-d7654bda260a",
   "metadata": {},
   "outputs": [],
   "source": [
    "..."
   ]
  },
  {
   "cell_type": "code",
   "execution_count": null,
   "id": "8843ed12-2556-41d6-a684-cead0128f3f1",
   "metadata": {},
   "outputs": [],
   "source": [
    "..."
   ]
  },
  {
   "cell_type": "code",
   "execution_count": null,
   "id": "7436ff78-240b-4576-833b-1ebda9dad2e5",
   "metadata": {},
   "outputs": [],
   "source": [
    "..."
   ]
  },
  {
   "cell_type": "code",
   "execution_count": null,
   "id": "34d92789-5f06-41ca-944b-64f769e65c28",
   "metadata": {},
   "outputs": [],
   "source": [
    "..."
   ]
  },
  {
   "cell_type": "markdown",
   "id": "c1aac1ba-4cb6-48f6-9558-417254849bce",
   "metadata": {},
   "source": [
    "The goal here is to accurately model the interactions at short-range. We will have the polynomials to correct at short range."
   ]
  },
  {
   "cell_type": "code",
   "execution_count": null,
   "id": "f3c27bb5-8420-446d-b577-9be9fc1b8ca0",
   "metadata": {},
   "outputs": [],
   "source": []
  }
 ],
 "metadata": {
  "kernelspec": {
   "display_name": "Python 3 (ipykernel)",
   "language": "python",
   "name": "python3"
  },
  "language_info": {
   "codemirror_mode": {
    "name": "ipython",
    "version": 3
   },
   "file_extension": ".py",
   "mimetype": "text/x-python",
   "name": "python",
   "nbconvert_exporter": "python",
   "pygments_lexer": "ipython3",
   "version": "3.10.10"
  }
 },
 "nbformat": 4,
 "nbformat_minor": 5
}
