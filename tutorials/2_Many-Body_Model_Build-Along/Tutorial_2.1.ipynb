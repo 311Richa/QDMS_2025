{
 "cells": [
  {
   "cell_type": "markdown",
   "id": "4fd445e4-9d9a-4fa3-8ed3-fdb6f211a289",
   "metadata": {},
   "source": [
    "# Tutorial 2.1: $V_{phys}$ Parametrization"
   ]
  },
  {
   "cell_type": "markdown",
   "id": "37422672-a853-479c-a362-64476c191a81",
   "metadata": {},
   "source": [
    "In this section, we show how the $V_{phys}$ part of MB-nrg PEFs are parametrized. $V_{phys}$ is the underlying \"physically-inspired\" baseline consisting of dispersion and electrostatics interactions upon which the many-body polynomials are applied as \"corrections\". As a reminder, $V_{phys}$ has the form:"
   ]
  },
  {
   "cell_type": "markdown",
   "id": "4e0b5219-22e7-4f3b-bbf9-94dc50ee18c8",
   "metadata": {},
   "source": [
    "#### <center> $V_{phys} = V_{disp} + V_{elec}$ </center>"
   ]
  },
  {
   "cell_type": "markdown",
   "id": "7ac547c2-5bee-4982-aae0-034715eb4481",
   "metadata": {},
   "source": [
    "Here, $V_{disp}$ is the disperison energy and $V_{elec}$ is the electrostatics energy. $V_{disp}$ has the form:"
   ]
  },
  {
   "cell_type": "markdown",
   "id": "7a8e5e72-64ab-4fce-87d5-a5eb012b87d4",
   "metadata": {},
   "source": [
    "#### <center> $V_{disp} = ...$ </center>"
   ]
  },
  {
   "cell_type": "markdown",
   "id": "b88f85b6-60e4-49f8-9be9-9053b19c8b87",
   "metadata": {},
   "source": [
    "where, $R_{ij}$, $C^6_{ij}$, and $d^6_{ij}$ are the distance between atoms, dispersion coefficient, and damping parameter for atom pair $i$, $j$. $damp(...)$ is the tang-toennies damping function of the form:"
   ]
  },
  {
   "cell_type": "markdown",
   "id": "0b80e13f-55e8-49b1-8f21-4676926195ff",
   "metadata": {},
   "source": [
    "#### <center> $damp(...) = ...$ </center>"
   ]
  },
  {
   "cell_type": "markdown",
   "id": "53fd6126-3d38-455c-8b85-f83720db9111",
   "metadata": {},
   "source": [
    "And $V_{elec}$ has the form:"
   ]
  },
  {
   "cell_type": "markdown",
   "id": "0c302c66-c04a-43d8-a449-7b1e6f3d0335",
   "metadata": {},
   "source": [
    "#### <center> $V_{elec} = ...$ </center>"
   ]
  },
  {
   "cell_type": "markdown",
   "id": "1fc27bce-75bf-4144-a403-2a4070205447",
   "metadata": {},
   "source": [
    "where $q_i$, $p_i$, $\\alpha_i$, and $\\mu_i$ are the partial charge, polarizability, polarizability factor, and dipole moment at to site $i$."
   ]
  },
  {
   "cell_type": "markdown",
   "id": "a3f9e7a0-0449-4413-af2a-dd851b84ec3f",
   "metadata": {},
   "source": [
    "Before we can build an MB-nrg PEF for any system, we first need to define the $q_i$, $p_i$, and $\\alpha_i$ for each atom type and the $C^6_{ij}$ and $d^6_{ij}$ for each atom type pair."
   ]
  },
  {
   "cell_type": "markdown",
   "id": "30594fcc-e59c-49bc-b1f1-6c6477d54221",
   "metadata": {},
   "source": [
    "<b>Note: This notebook describes how modern MB-nrg potentials are parametrized. Some models, such as MB-pol and older MB-nrg models were parametrized before the approach described here was standardized. Consult the publications about those PEFs for more details.</b>"
   ]
  },
  {
   "cell_type": "markdown",
   "id": "15ff8c8d-f43e-41eb-a7f2-7d985e592769",
   "metadata": {},
   "source": [
    "That being said, we have found that MB-nrg PEFs are not too \"sensitive\" to the exact values of the parameters that enter $V_{phys}$, since the many-body PIPs will correct at short-range, and dispersion and electrostatics fall off *relatively* fast at long range. (\"relatively\" is doing a lot of work here.)"
   ]
  },
  {
   "cell_type": "markdown",
   "id": "549acef4-2c2f-48cc-aef7-7f2200f4de72",
   "metadata": {},
   "source": [
    "## 2.1.0 Definitions and Imports"
   ]
  },
  {
   "cell_type": "code",
   "execution_count": 49,
   "id": "4cff369a-5074-4250-b179-baeceac3c43c",
   "metadata": {},
   "outputs": [
    {
     "name": "stdout",
     "output_type": "stream",
     "text": [
      "The autoreload extension is already loaded. To reload it, use:\n",
      "  %reload_ext autoreload\n"
     ]
    }
   ],
   "source": [
    "%run Tutorial_2_Imports.ipynb"
   ]
  },
  {
   "cell_type": "markdown",
   "id": "58bf4d4d-2632-4fa6-814b-a0ec21855510",
   "metadata": {},
   "source": [
    "## 2.1.1 Polarizabilities and Polarizability Factors."
   ]
  },
  {
   "cell_type": "markdown",
   "id": "1e2e8cd8-5c4a-45ea-837e-af58b72d10ca",
   "metadata": {},
   "source": [
    "All MB-nrg models set the polarizability factors equal to the polarizabilities and calculate them in the following way:\n"
   ]
  },
  {
   "cell_type": "markdown",
   "id": "ca1778fd-3ee0-4d8e-9fc5-5a1e7a1dd901",
   "metadata": {},
   "source": [
    "#### <center> $p_i = \\alpha_i = p^{free}_i  \\frac{v_i}{v^{free}_i} ^ {4/3}$ </center>"
   ]
  },
  {
   "cell_type": "markdown",
   "id": "2b0adf3a-fd00-4cd2-a18a-629cace54ecb",
   "metadata": {},
   "source": [
    "Here, $p^{free}_i$, $v^{free}_i$, and $v_i$ are the free polarizability, free volume, and effective volume for atom $i$. We calculate the free volumes and effective volumes using QChem's implementation of the eXchange-hole Dipole Moment (XDM) model, and the free polarizabilities have been tabulated at the CCSD(T) level."
   ]
  },
  {
   "cell_type": "markdown",
   "id": "7d2338a5-9a39-4824-8220-1fe73de94215",
   "metadata": {},
   "source": [
    "To run the XDM calculation, do the following:"
   ]
  },
  {
   "cell_type": "code",
   "execution_count": 20,
   "id": "46edd033-014a-471a-b3f8-e5bc46492816",
   "metadata": {},
   "outputs": [
    {
     "name": "stdout",
     "output_type": "stream",
     "text": [
      "Beginning XDM calculation...\n",
      "Completed XDM calculation!\n"
     ]
    }
   ],
   "source": [
    "optimized_structure_CH3NH2 = read_system(monomer_CH3NH2_definition_path, monomer_CH3NH2_minimum_structure_path)\n",
    "\n",
    "polarizabilities_CH3NH2 = calculate_polarizabilities_by_XDM(\n",
    "        optimized_structure_CH3NH2,\n",
    "        f\"{logs_dir}\",\n",
    "        method=\"wb97m-v\",\n",
    "        basis=\"aug-cc-pVTZ\",\n",
    "        num_threads=16,\n",
    "        mem_mb=32000,\n",
    "        job_manager=get_qchem_job_manager(jobs_dir)\n",
    ")\n",
    "\n",
    "polarizability_factors_CH3NH2 = polarizabilities_CH3NH2"
   ]
  },
  {
   "cell_type": "code",
   "execution_count": 22,
   "id": "81b47c43-e017-49bd-9427-28decb7b61df",
   "metadata": {},
   "outputs": [
    {
     "name": "stdout",
     "output_type": "stream",
     "text": [
      "{'A': 1.1961690533033624, 'B': 0.3322263799649547, 'C': 0.9504508010167653, 'D': 0.3524497681327246}\n",
      "{'A': 1.1961690533033624, 'B': 0.3322263799649547, 'C': 0.9504508010167653, 'D': 0.3524497681327246}\n"
     ]
    }
   ],
   "source": [
    "print(polarizabilities_CH3NH2)\n",
    "print(polarizability_factors_CH3NH2)"
   ]
  },
  {
   "cell_type": "markdown",
   "id": "527902d0-1137-4dd5-9ba4-aebeb72b7ac1",
   "metadata": {},
   "source": [
    "Note that in addition to the \"E\" and \"F\" atoms (the \"O\" and \"H\" on water respectively. We also have \"M\" here. This corresponds to the M-site in MB-pol water. The polarizability of the M-site is 0, so that it does not have an induced dipole, but the polarizability factor is non-zero so that the charge at the M-site can still have its screening function computed."
   ]
  },
  {
   "cell_type": "code",
   "execution_count": 25,
   "id": "d3a4dd80-dba7-4bf9-b1c7-62af82f14bc0",
   "metadata": {},
   "outputs": [],
   "source": [
    "polarizabilities_H2O = {\n",
    "    \"E\": 1.310,\n",
    "    \"F\": 0.294,\n",
    "    \"M\": 0.0\n",
    "}\n",
    "polarizability_factors_H2O = {\n",
    "    \"E\": 1.310,\n",
    "    \"F\": 0.294,\n",
    "    \"M\": 1.310\n",
    "}"
   ]
  },
  {
   "cell_type": "code",
   "execution_count": 26,
   "id": "05012ef3-dab0-4efe-9a7c-269e025f56c4",
   "metadata": {},
   "outputs": [
    {
     "name": "stdout",
     "output_type": "stream",
     "text": [
      "{'E': 1.31, 'F': 0.294, 'M': 0.0}\n",
      "{'E': 1.31, 'F': 0.294, 'M': 1.31}\n"
     ]
    }
   ],
   "source": [
    "print(polarizabilities_H2O)\n",
    "print(polarizability_factors_H2O)"
   ]
  },
  {
   "cell_type": "markdown",
   "id": "3161e7f6-708e-4cb8-8a9d-ff86bc0cab0c",
   "metadata": {},
   "source": [
    "## 2.1.x Atomic Radii"
   ]
  },
  {
   "cell_type": "code",
   "execution_count": 5,
   "id": "4d425d51-8240-47e4-9ac8-cb96a15abf96",
   "metadata": {
    "tags": []
   },
   "outputs": [
    {
     "name": "stdout",
     "output_type": "stream",
     "text": [
      "Beginning XDM calculation...\n",
      "Completed XDM calculation!\n"
     ]
    }
   ],
   "source": [
    "optimized_structure_CH3NH2 = read_system(monomer_CH3NH2_definition_path, monomer_CH3NH2_minimum_structure_path)\n",
    "\n",
    "radii_CH3NH2 = calculate_radii_by_XDM(\n",
    "        optimized_structure_CH3NH2,\n",
    "        f\"{logs_dir}\",\n",
    "        method=\"wb97m-v\",\n",
    "        basis=\"aug-cc-pVTZ\",\n",
    "        num_threads=16,\n",
    "        mem_mb=32000,\n",
    "        job_manager=get_qchem_job_manager(jobs_dir)\n",
    ")"
   ]
  },
  {
   "cell_type": "code",
   "execution_count": 6,
   "id": "8cb0d5d6-d332-4850-8db0-26e124b15d1f",
   "metadata": {},
   "outputs": [
    {
     "data": {
      "text/plain": [
       "{'A': 1.003204764154268,\n",
       " 'B': 0.577466204832772,\n",
       " 'C': 0.9575736540641085,\n",
       " 'D': 0.5860603657644929}"
      ]
     },
     "execution_count": 6,
     "metadata": {},
     "output_type": "execute_result"
    }
   ],
   "source": [
    "radii_CH3NH2"
   ]
  },
  {
   "cell_type": "code",
   "execution_count": 7,
   "id": "45588d3d-70c8-40db-bbc8-e2237b95a541",
   "metadata": {
    "tags": []
   },
   "outputs": [
    {
     "name": "stdout",
     "output_type": "stream",
     "text": [
      "Beginning XDM calculation...\n",
      "Completed XDM calculation!\n"
     ]
    }
   ],
   "source": [
    "optimized_structure_H2O = read_system(monomer_H2O_definition_path, monomer_H2O_minimum_structure_path)\n",
    "\n",
    "radii_H2O = calculate_radii_by_XDM(\n",
    "        optimized_structure_H2O,\n",
    "        f\"{logs_dir}\",\n",
    "        method=\"wb97m-v\",\n",
    "        basis=\"aug-cc-pVTZ\",\n",
    "        num_threads=16,\n",
    "        mem_mb=32000,\n",
    "        job_manager=get_qchem_job_manager(jobs_dir)\n",
    ")"
   ]
  },
  {
   "cell_type": "code",
   "execution_count": 8,
   "id": "24b29d1e-6dc0-478a-88f6-c7f6f1abf74d",
   "metadata": {},
   "outputs": [
    {
     "data": {
      "text/plain": [
       "{'E': 0.9183047911211052, 'F': 0.5857168367492249}"
      ]
     },
     "execution_count": 8,
     "metadata": {},
     "output_type": "execute_result"
    }
   ],
   "source": [
    "radii_H2O"
   ]
  },
  {
   "cell_type": "markdown",
   "id": "ffa0e7e2-f490-455e-8088-2ee8bb2a3825",
   "metadata": {
    "tags": []
   },
   "source": [
    "## 2.1.2 Atomic Partial Charges."
   ]
  },
  {
   "cell_type": "markdown",
   "id": "1422fd95-cf27-49fa-b391-8d5b85b54455",
   "metadata": {},
   "source": [
    "Previous MB-nrg models have used a variety of methods to calculate the atomic partial charges. MB-pol uses the Partridge-Swenkee (check sp lol) geometry-dependent atomic partial charges. Other models have used either Charge Model 5 (cite) or CHELPG (cite). The most recent generation of models has used charges fit to reproduce a monomer's multipole moments using an approach similar to the Stewart fitting appraoch (cite). However, we have recently developed a new apprach based on CHELPG that we feel provides the most useful model of a monomer's charge for our purposes. "
   ]
  },
  {
   "cell_type": "markdown",
   "id": "6c30b7db-bcdc-4200-a008-30402ac3d9a5",
   "metadata": {},
   "source": [
    "We will fit the partial charges of methylamine to reproduce the electrostatic potential on a number of grid points. However unlike CHELPG, which uses grid points very close to the monomer's electron density (usually within 4 A of the nucleii), we will fit to points quite far away from the electron density. The justification for this is that since we will have the many-body polynomials to correct at short-range, so it is most important that our electrostatics model reproduces long-range interactions. We will fit to grid points that are between 9 and 11 Å past the edge of the electron density of our monomer."
   ]
  },
  {
   "cell_type": "markdown",
   "id": "ab5dffd8-4ac9-4467-8ff8-e869426977b6",
   "metadata": {},
   "source": [
    "To do that, run the following:"
   ]
  },
  {
   "cell_type": "code",
   "execution_count": 9,
   "id": "db9045ec-7b8f-422c-a3d1-a9a0236837f7",
   "metadata": {},
   "outputs": [],
   "source": [
    "# calculator = QchemCalculator(\"wB97M-V\", \"AUG-cc-pVTZ\", log_directory=f\"{logs_dir}\")\n",
    "calculator = QchemCalculator(\"HF\", \"STO-3G\", log_directory=f\"{logs_dir}\")"
   ]
  },
  {
   "cell_type": "code",
   "execution_count": 10,
   "id": "576e9fcc-844a-4ab2-bf65-8f9de08f6468",
   "metadata": {
    "tags": []
   },
   "outputs": [
    {
     "name": "stdout",
     "output_type": "stream",
     "text": [
      "\u001b[1A\u001b[KCalculating vibrational modes:  |====================================================================================================| - 1/1\n",
      "\u001b[92m\u001b[1mCompleted vibrational mode calculations minimizations!\u001b[0m\u001b[0m\n"
     ]
    }
   ],
   "source": [
    "minimized_structure_CH3NH2 = read_system(monomer_CH3NH2_definition_path, monomer_CH3NH2_minimum_structure_path)\n",
    "vibrational_modes_CH3NH2 = calculate_vibrational_modes(\n",
    "        minimized_structure_CH3NH2,\n",
    "        calculator,\n",
    "        get_qchem_job_manager(jobs_dir),\n",
    "        restart_dir.file(\"normal_modes_CH3NH2.restart\"),\n",
    "        16,\n",
    "        32000\n",
    ")\n",
    "write_vibrational_modes(vibrational_modes_CH3NH2_path, vibrational_modes_CH3NH2)"
   ]
  },
  {
   "cell_type": "code",
   "execution_count": 38,
   "id": "1c3faaeb-cbd2-4203-a4f1-7229c6827be9",
   "metadata": {},
   "outputs": [
    {
     "name": "stdout",
     "output_type": "stream",
     "text": [
      "\u001b[3mWill generate configurations at temperature 1000 K.\u001b[0m\n",
      "\u001b[3mTemp Distribution: temp (au) = 0.00316683 for x in range [0,1].\u001b[0m\n",
      "\u001b[33m\u001b[1mBeginning normal modes configuration generation.\u001b[0m\u001b[0m\n",
      "\u001b[3mWill generate 10 configs over the temperature distribution.\u001b[0m\n",
      "\u001b[3mGenerating Temperature Distribution Configs...\u001b[0m\n",
      "\u001b[92m\u001b[1mNormal Distribution Configuration generation complete! Generated 10 configs.\u001b[0m\u001b[0m\n"
     ]
    }
   ],
   "source": [
    "configuration_generator = NormalModesConfigurationGenerator(\n",
    "        minimized_structure_CH3NH2,\n",
    "        vibrational_modes_CH3NH2,\n",
    "        classical=False,\n",
    "        distribution=\"constant\",\n",
    "        temperature=1000\n",
    ")\n",
    "charge_parametrization_configurations_CH3_NH2 = list(configuration_generator.generate_configurations(num_configs=10, seed=12345))\n",
    "write_systems(charge_configs_CH3NH2_path, charge_parametrization_configurations_CH3_NH2)"
   ]
  },
  {
   "cell_type": "code",
   "execution_count": 39,
   "id": "4aeb1863-0e6c-4ad5-b5f8-7f8c7ed3a5cd",
   "metadata": {},
   "outputs": [
    {
     "data": {
      "image/png": "[encoded data removed]",
      "text/plain": [
       "<Figure size 640x480 with 1 Axes>"
      ]
     },
     "execution_count": 39,
     "metadata": {},
     "output_type": "execute_result"
    }
   ],
   "source": [
    "render_overlayed_systems(\n",
    "    charge_parametrization_configurations_CH3_NH2,\n",
    "    centerer=lambda system: system.atoms[0].point,\n",
    "    aligner=lambda system: (system.atoms[4].point, system.atoms[3].point),\n",
    "    alpha=0.05\n",
    ")"
   ]
  },
  {
   "cell_type": "code",
   "execution_count": 40,
   "id": "5dfdb6ab-6f6b-46e9-9190-dc0a5cb9a043",
   "metadata": {},
   "outputs": [],
   "source": [
    "grid_points, grid_point_weights = get_ESP_grid_points(\n",
    "        charge_parametrization_configurations_CH3_NH2,\n",
    "        atomic_radii=radii_CH3NH2,\n",
    "        grid_radii=[9.0, 10.0, 11.0]\n",
    ")"
   ]
  },
  {
   "cell_type": "code",
   "execution_count": 43,
   "id": "ec3f4c04-d3ce-4986-9b60-90804e0804f7",
   "metadata": {},
   "outputs": [
    {
     "name": "stdout",
     "output_type": "stream",
     "text": [
      "\u001b[1A\u001b[KCalculating ESP:  |====================================================================================================| - 10/10\n",
      "\u001b[92m\u001b[1mCompleted esp calculations!\u001b[0m\u001b[0m\n"
     ]
    }
   ],
   "source": [
    "esp_at_grid_points = calculate_ESP_at_grid_points(\n",
    "        charge_parametrization_configurations_CH3_NH2,\n",
    "        grid_points,\n",
    "        f\"{scratch_dir.sub_directory('CH3NH2_esp_scratch')}\",\n",
    "        restart_path=restart_dir.sub_directory('CH3NH2_esp'),\n",
    "        method=\"wb97m-v\",\n",
    "        basis=\"aug-cc-pVTZ\",\n",
    "        num_threads=16,\n",
    "        mem_mb=32000,\n",
    "        job_manager=get_qchem_job_manager(jobs_dir)\n",
    ")"
   ]
  },
  {
   "cell_type": "code",
   "execution_count": 47,
   "id": "7a205c57-1705-4857-8051-f017833200e8",
   "metadata": {},
   "outputs": [],
   "source": [
    "charges_CH3NH2 = fit_charges_to_ESP(\n",
    "        read_definition(monomer_CH3NH2_definition_path),\n",
    "        charge_parametrization_configurations_CH3_NH2,\n",
    "        grid_points=grid_points,\n",
    "        grid_point_weights=grid_point_weights,\n",
    "        grid_point_reference_values=esp_at_grid_points,\n",
    "        formal_charge=0.0,\n",
    "    \n",
    ")"
   ]
  },
  {
   "cell_type": "code",
   "execution_count": 48,
   "id": "82a79460-a96c-40c3-a4df-f5c093c0eeb3",
   "metadata": {},
   "outputs": [
    {
     "data": {
      "text/plain": [
       "{'A': 0.2694241456259268,\n",
       " 'B': -0.024308957906718002,\n",
       " 'C': -0.6896228067638818,\n",
       " 'D': 0.2465627674290544}"
      ]
     },
     "execution_count": 48,
     "metadata": {},
     "output_type": "execute_result"
    }
   ],
   "source": [
    "charges_CH3NH2"
   ]
  },
  {
   "cell_type": "markdown",
   "id": "3db8734e-7c75-484c-91ae-c030f2b5539d",
   "metadata": {},
   "source": [
    "## 2.1.3 Dispersion Parameters"
   ]
  },
  {
   "cell_type": "markdown",
   "id": "66f5bbad-a833-498b-b1d6-3adb4506286b",
   "metadata": {},
   "source": [
    "Lastly, we will calculate the dispersion coefficients ($C^6_{ij}$) and damping parameters ($d^6_{ij}$). These also both come from XDM, but in different ways. The $C^6$ are directly computed from XDM, by the equation:"
   ]
  },
  {
   "cell_type": "markdown",
   "id": "e4280dca-e189-436d-afe7-e96f59221967",
   "metadata": {},
   "source": [
    "#### <center> $C^6_{ij} = ... $ </center>"
   ]
  },
  {
   "cell_type": "markdown",
   "id": "891827ab-d395-495b-93f1-6ca93b5de9aa",
   "metadata": {},
   "source": [
    "See QChem's documentation about the XDM module for more info (link)."
   ]
  },
  {
   "cell_type": "markdown",
   "id": "4486dc53-0154-4ae4-8afe-dadf6c1c6515",
   "metadata": {},
   "source": [
    "The damping parameters are chosen so that the dispersion is exactly half on at a distance equal to the sum of the two atom's atomic radii ($r_i + r_j$). This is done by solving the following equation for $d_{ij}$:"
   ]
  },
  {
   "cell_type": "markdown",
   "id": "bc395fe1-ed65-496b-937c-b000470f9acb",
   "metadata": {},
   "source": [
    "#### <center> $ \\frac{1}{2} = damp(r_i + r_j, d^6_{ij}) $ </center>"
   ]
  },
  {
   "cell_type": "markdown",
   "id": "d0624d6b-c370-433d-9110-d7bf32147b21",
   "metadata": {},
   "source": [
    "To run the XDM calculation and calculate the dispersion parameters, do the following:"
   ]
  },
  {
   "cell_type": "code",
   "execution_count": 41,
   "id": "8786c75e-7e70-4720-8bc1-e2d2432a2c93",
   "metadata": {},
   "outputs": [
    {
     "name": "stdout",
     "output_type": "stream",
     "text": [
      "Beginning XDM calculation...\n",
      "Completed XDM calculation!\n"
     ]
    }
   ],
   "source": [
    "optimized_structure_CH3NH2 = read_system(monomer_CH3NH2_definition_path, monomer_CH3NH2_minimum_structure_path)\n",
    "optimized_structure_H2O = read_system(monomer_H2O_definition_path, monomer_H2O_minimum_structure_path)\n",
    "\n",
    "C6 = calculate_C6_by_XDM(\n",
    "        optimized_structure_CH3NH2,\n",
    "        optimized_structure_H2O,\n",
    "        f\"{logs_dir}\",\n",
    "        method=\"wb97m-v\",\n",
    "        basis=\"aug-cc-pVTZ\",\n",
    "        num_threads=16,\n",
    "        mem_mb=32000,\n",
    "        job_manager=get_qchem_job_manager(jobs_dir)\n",
    ")"
   ]
  },
  {
   "cell_type": "code",
   "execution_count": 45,
   "id": "bfc23540-5711-4b53-ba9e-3c4fcf3f4d27",
   "metadata": {},
   "outputs": [
    {
     "data": {
      "text/plain": [
       "{('A', 'E'): 215.64600938969002,\n",
       " ('A', 'F'): 103.08292627758921,\n",
       " ('B', 'E'): 81.55966323179395,\n",
       " ('B', 'F'): 37.42916571920306,\n",
       " ('C', 'E'): 200.9159401221131,\n",
       " ('C', 'F'): 92.45908773193739,\n",
       " ('D', 'E'): 82.35197285095734,\n",
       " ('D', 'F'): 38.01708242211851}"
      ]
     },
     "execution_count": 45,
     "metadata": {},
     "output_type": "execute_result"
    }
   ],
   "source": [
    "C6"
   ]
  },
  {
   "cell_type": "code",
   "execution_count": 44,
   "id": "db119180-7208-4fff-988b-b2b5e2a21126",
   "metadata": {},
   "outputs": [],
   "source": [
    "d6 = calculate_d6_from_radii(\n",
    "        radii1=radii_CH3NH2,\n",
    "        radii2=radii_H2O,\n",
    "        damping_at_radii_sum=0.5\n",
    ")"
   ]
  },
  {
   "cell_type": "code",
   "execution_count": 46,
   "id": "9599267a-0f4e-4b93-9f9a-850e306f4b91",
   "metadata": {},
   "outputs": [
    {
     "data": {
      "text/plain": [
       "{('A', 'E'): 3.47137451171875,\n",
       " ('A', 'F'): 4.19769287109375,\n",
       " ('B', 'E'): 4.4586181640625,\n",
       " ('B', 'F'): 5.7342529296875,\n",
       " ('C', 'E'): 3.5552978515625,\n",
       " ('C', 'F'): 4.3212890625,\n",
       " ('D', 'E'): 4.433441162109375,\n",
       " ('D', 'F'): 5.6915283203125}"
      ]
     },
     "execution_count": 46,
     "metadata": {},
     "output_type": "execute_result"
    }
   ],
   "source": [
    "d6"
   ]
  },
  {
   "cell_type": "markdown",
   "id": "94ff9d9c-4585-4599-b41a-b8e43213f650",
   "metadata": {},
   "source": [
    "## 2.1.4 Validation of $V_{phys}$ Parametrization"
   ]
  },
  {
   "cell_type": "markdown",
   "id": "ec26eedd-be19-4724-915b-59bdae840e1d",
   "metadata": {},
   "source": [
    "Great, we have our $V_{phys}$ parameters. To get a sense of the baseline we will add our many-body PIPs to, lets generate a few potential energy scans."
   ]
  },
  {
   "cell_type": "markdown",
   "id": "97e308ac-7284-4c1a-b806-e52343cd9d56",
   "metadata": {},
   "source": [
    "Since our monomers are small enough that everything is excluded, there is no $V_{phys}$ contribution at the 1-body level, so there is nothing interesting to see there. We will jump straight to the 2-body."
   ]
  },
  {
   "cell_type": "code",
   "execution_count": 51,
   "id": "70fa0e23-24f4-480e-ac6e-eac9d5c02622",
   "metadata": {
    "tags": []
   },
   "outputs": [
    {
     "data": {
      "image/png": "[encoded data removed]",
      "text/plain": [
       "<Figure size 700x400 with 1 Axes>"
      ]
     },
     "execution_count": 51,
     "metadata": {},
     "output_type": "execute_result"
    }
   ],
   "source": [
    "scan_2b_1, energies_2b_1 = zip(*read_systems_and_energies(dimer_CH3NH2_H2O_definition_path, scan_2b_energies_1_path))\n",
    "\n",
    "energies_2b_1_Vphys = calc_vphys_energies(\n",
    "    read_definition(dimer_CH3NH2_H2O_definition_path),\n",
    "    scan_2b_1,\n",
    "    symmetry_to_charge=...,\n",
    "    symmetry_to_polarizability=...,\n",
    "    symmetry_to_polarizability_factor=...,\n",
    "    symmetries_to_C6=...,\n",
    "    symmetries_to_d6=...,\n",
    "    mbpol_monomers=[False, True] # special flag to enable MB-pol geometry-dependent charges for the water molecule,\n",
    "    symemtries_to_aCC = ...,\n",
    "    symmetries_to_aDD = ...,\n",
    "    symmetries_to_aDD12 = ...,\n",
    "    symmetries_to_aDD13 = ...,\n",
    "    symmetries_to_aDD14 = ...,\n",
    ")\n",
    "\n",
    "plot_scan(\n",
    "        scan_2b_1,\n",
    "        {\n",
    "                \"DFT\": [(e - energies_2b_1[-1])*constants.au_to_kcal for e in energies_2b_1],\n",
    "                \"$V_{phys}$\": [(e - energies_2b_1_Vphys[-1])*constants.au_to_kcal for e in energies_2b_1_Vphys],\n",
    "        },\n",
    "        4,\n",
    "        7,\n",
    "        title=\"Energies\",\n",
    "        ymax=2,\n",
    "        centerer=lambda system: system.atoms[4].point,\n",
    "        aligner=lambda system: (system.atoms[7].point, system.atoms[0].point)\n",
    ")"
   ]
  },
  {
   "cell_type": "code",
   "execution_count": null,
   "id": "f0bbe081-0c18-447c-8ed2-a60890c27aa1",
   "metadata": {},
   "outputs": [],
   "source": []
  }
 ],
 "metadata": {
  "kernelspec": {
   "display_name": "Python 3 (ipykernel)",
   "language": "python",
   "name": "python3"
  },
  "language_info": {
   "codemirror_mode": {
    "name": "ipython",
    "version": 3
   },
   "file_extension": ".py",
   "mimetype": "text/x-python",
   "name": "python",
   "nbconvert_exporter": "python",
   "pygments_lexer": "ipython3",
   "version": "3.10.10"
  }
 },
 "nbformat": 4,
 "nbformat_minor": 5
}
