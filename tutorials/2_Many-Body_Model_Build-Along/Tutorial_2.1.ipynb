{
 "cells": [
  {
   "cell_type": "markdown",
   "metadata": {
    "tags": []
   },
   "source": [
    "# Tutorial 2.1: One-Body Potential Energy Surface"
   ]
  },
  {
   "cell_type": "markdown",
   "metadata": {},
   "source": [
    "In this section, we construct, from scratch, a 1-body MB-nrg-style PEF for CH3-NH2."
   ]
  },
  {
   "cell_type": "markdown",
   "metadata": {},
   "source": [
    "## 2.1.0 Imports, Initialization, Filepaths"
   ]
  },
  {
   "cell_type": "markdown",
   "metadata": {},
   "source": [
    "Let's begin by doing some setup. "
   ]
  },
  {
   "cell_type": "markdown",
   "metadata": {},
   "source": [
    "First, lets import everything we will use in this notebook."
   ]
  },
  {
   "cell_type": "code",
   "execution_count": 8,
   "metadata": {},
   "outputs": [],
   "source": [
    "import os"
   ]
  },
  {
   "cell_type": "markdown",
   "metadata": {},
   "source": [
    "We will need a place to store files as we construct our PES, including input files, temporary files, and output files. Feel free to set `monomer_CH3NH2_workdir` to whichever directory you would like to use:"
   ]
  },
  {
   "cell_type": "code",
   "execution_count": 12,
   "metadata": {},
   "outputs": [],
   "source": [
    "monomer_CH3NH2_workdir = \"HCN_1B_PEF\"\n",
    "if not os.path.exists(HCN_workdir):\n",
    "    os.makedirs(HCN_workdir)"
   ]
  },
  {
   "cell_type": "markdown",
   "metadata": {},
   "source": [
    "Inside this directory, we will need places to put lots of files, lets define these paths here:"
   ]
  },
  {
   "cell_type": "code",
   "execution_count": 15,
   "metadata": {},
   "outputs": [],
   "source": [
    "monomer_CH3_NH2_paths = {\n",
    "    \"workdir\": monomer_CH3NH2_workdir\n",
    "    \"definition\": os.path.join(monomer_CH3NH2_workdir, \"monomer.def\")\n",
    "}"
   ]
  },
  {
   "cell_type": "markdown",
   "metadata": {},
   "source": [
    "More information on what each of these files contains is provided as they are used in the following sections."
   ]
  },
  {
   "cell_type": "markdown",
   "metadata": {},
   "source": [
    "Finally, we will initialize a few objects that we will use farther down in the notebook:"
   ]
  },
  {
   "cell_type": "code",
   "execution_count": null,
   "metadata": {},
   "outputs": [],
   "source": [
    "job_runner = SLURMJobRunner(\n",
    "    ...\n",
    ")"
   ]
  },
  {
   "cell_type": "markdown",
   "metadata": {
    "tags": []
   },
   "source": [
    "## 2.1.1 Input Setup"
   ]
  },
  {
   "cell_type": "markdown",
   "metadata": {},
   "source": [
    "Let's define our monomer's definition. The monomer definition file contains all the non-structure-specific information about the monomer we will study. This includes atom elements, atom types (or \"symmetries\"), and bonding topology - but not atom coordinates, since atom coordinates are structure-specific. We will pass this definition to various functions in MB-Fit that need some or all of this information."
   ]
  },
  {
   "cell_type": "code",
   "execution_count": null,
   "metadata": {},
   "outputs": [],
   "source": [
    "monomer_CH3NH2_definition = BasicFragmentDefinition()\n",
    "CA  = monomer_CH3NH2_definition.new_atom(\"C\", \"A\")\n",
    "HB1 = monomer_CH3NH2_definition.new_atom(\"H\", \"B\")\n",
    "HB2 = monomer_CH3NH2_definition.new_atom(\"H\", \"B\")\n",
    "HB3 = monomer_CH3NH2_definition.new_atom(\"H\", \"B\")\n",
    "NC  = monomer_CH3NH2_definition.new_atom(\"N\", \"C\")\n",
    "HD1 = monomer_CH3NH2_definition.new_atom(\"H\", \"D\")\n",
    "HD2 = monomer_CH3NH2_definition.new_atom(\"H\", \"D\")\n",
    "monomer_CH3NH2_definition.add_bond(CA, HB1, BondType.SINGLE)\n",
    "monomer_CH3NH2_definition.add_bond(CA, HB2, BondType.SINGLE)\n",
    "monomer_CH3NH2_definition.add_bond(CA, HB3, BondType.SINGLE)\n",
    "monomer_CH3NH2_definition.add_bond(CA, NC, BondType.SINGLE)\n",
    "monomer_CH3NH2_definition.add_bond(NC, HD1, BondType.SINGLE)\n",
    "monomer_CH3NH2_definition.add_bond(NC, HD2, BondType.SINGLE)\n",
    "\n",
    "definition_writer(monomer_CH3_NH2_paths[\"definition\"], monomer_CH3NH2_definition)"
   ]
  },
  {
   "cell_type": "markdown",
   "metadata": {},
   "source": [
    "Next, we need a reasonable initial guess for the structure of our monomer. The guess need only be good enough that it will covnerge to the actual minimum structure when we perform a minimization with DFT. MB-Fit contains the class `VESPRInitializer`, which will make a reasonable guess about the structure of a molecule based on its bonding topology. Let's use `VESPRInitializer` to create an initial structure file:"
   ]
  },
  {
   "cell_type": "code",
   "execution_count": null,
   "metadata": {},
   "outputs": [],
   "source": [
    "definition = definition_reader(monomer_CH3NH2_definition)\n",
    "system_initializer = VESPRInitializer()\n",
    "initial_structure = system_initializer(definition)\n",
    "xyz_writer(monomer_CH3NH2_initial_structure, initial_structure)"
   ]
  },
  {
   "cell_type": "markdown",
   "metadata": {},
   "source": [
    "Next, we create the settings file. The settings file contains a few pieces of information that will be used down the road to construct our 1-body PEF."
   ]
  },
  {
   "cell_type": "markdown",
   "metadata": {
    "tags": []
   },
   "source": [
    "## II.1.2 Geometry Optimization"
   ]
  },
  {
   "cell_type": "markdown",
   "metadata": {},
   "source": [
    "That guess is looking a little rough, lets optimize it using electronic structure theory. While the PEF will be developed at the CCSD(T) level of theory, its not important that the geometry optimization be at the same level of theory as the reference energies will be calculated at, so lets use something cheaper like a high-quality DFT functional."
   ]
  },
  {
   "cell_type": "code",
   "execution_count": null,
   "metadata": {},
   "outputs": [],
   "source": [
    "job = job_runner.queue_job(\n",
    "\"\"\"\n",
    "calculator = QChemCalculator(\"wb97m-v\", \"aug-cc-pvTZ\")\n",
    "initial_structure = xyz_reader(monomer_CH3NH2_initial_structure)\n",
    "optimized_structure, optimized_energy, optimization_log_path = calculator.energy(initial_structure)\n",
    "xyz_writer(monomer_CH3NH2_optimized_structure, optimized_structure)\n",
    "\"\"\"\n",
    ")\n",
    "\n",
    "job.wait_until_done()"
   ]
  },
  {
   "cell_type": "markdown",
   "metadata": {
    "tags": []
   },
   "source": [
    "## II.1.? $V_{phys}$ Parametrization"
   ]
  },
  {
   "cell_type": "markdown",
   "metadata": {},
   "source": [
    "Next, we will parameterize the \"physical baseline\" ($V_{phys}$) of the PEF."
   ]
  },
  {
   "cell_type": "markdown",
   "metadata": {},
   "source": [
    "First, we will calculate the dispersion coefficients ($C_6$), dispersion damping parameters ($d_6$), atomic polarizabilities ($p$) and polarizability factors ($a$), and atomic radii ($\\rho$)"
   ]
  },
  {
   "cell_type": "code",
   "execution_count": 25,
   "metadata": {},
   "outputs": [],
   "source": [
    "job = job_runner.queue_job(\n",
    "\"\"\"\n",
    "    calculator = QChemCalculator(\"wb97m-v\", \"aug-cc-pvTZ\")\n",
    "    optimized_structure = xyz_reader(monomer_CH3NH2_optimized_structure)\n",
    "    C6, d6 = mbfit.parametrization.classical.calculate_dispersion_parameters(optimized_structure, calculator)\n",
    "    disp_parameters_writer(..., (C6, d6))\n",
    "\"\"\"\n",
    ")\n",
    "\n",
    "job.wait_until_running()\n",
    "print(\"Job has made it though queue and is running!\")\n",
    "\n",
    "job.wait_until_done()\n",
    "print(\"Job completed!\")"
   ]
  },
  {
   "cell_type": "markdown",
   "metadata": {},
   "source": [
    "Next, we will calculate the atomic partial charges ($q_i$)."
   ]
  },
  {
   "cell_type": "code",
   "execution_count": 26,
   "metadata": {},
   "outputs": [],
   "source": [
    "job = job_runner.queue_job(\n",
    "\"\"\"\n",
    "\"\"\"\n",
    ")\n",
    "\n",
    "job.wait_until_running()\n",
    "print(\"Job has made it though queue and is running!\")\n",
    "\n",
    "job.wait_until_done()\n",
    "print(\"Job completed!\")"
   ]
  },
  {
   "cell_type": "markdown",
   "metadata": {},
   "source": [
    "Now, lets take a look at how well these classical parameters describe this system. While we are focusing on the monomer here, we will use a basic scan of the dimer to seen how well the $V_{phys}$ part of our PEF is looking."
   ]
  },
  {
   "cell_type": "code",
   "execution_count": null,
   "metadata": {},
   "outputs": [],
   "source": []
  },
  {
   "cell_type": "markdown",
   "metadata": {
    "tags": []
   },
   "source": [
    "## II.1.c Normal Modes Configuration Generation"
   ]
  },
  {
   "cell_type": "markdown",
   "metadata": {},
   "source": [
    "Now, we will generate the first batch of configurations for our training set. This batch will come from randomly sampling the vibrational normal modes of methylamine."
   ]
  },
  {
   "cell_type": "markdown",
   "metadata": {},
   "source": [
    "First, we need to calculate the vibrational modes of the optimized geometry:"
   ]
  },
  {
   "cell_type": "code",
   "execution_count": null,
   "metadata": {},
   "outputs": [],
   "source": [
    "job = job_runner.queue_job(\n",
    "\"\"\"\n",
    "optimized_structure = xyz_reader(definition, monomer_CH3NH2_optimized_structure)\n",
    "vibrational_modes, vibrational_modes_log_path = calculator.normal_modes(optimized_structure)\n",
    "vibrational_modes_writer(monomer_CH3NH2_vibrational_modes, vibrational_modes)\n",
    "\"\"\"\n",
    ")\n",
    "\n",
    "job.wait_until_running()\n",
    "print(\"Job has made it though queue and is running!\")\n",
    "\n",
    "job.wait_until_done()\n",
    "print(\"Job completed!\")\n"
   ]
  },
  {
   "cell_type": "markdown",
   "metadata": {},
   "source": [
    "Note: the seed here determines which configurations get generated. The same seed will always produce the same configurations. In a later step, we \"cheat\" and have pre-performed the CCSD(T) calculations for these structures, so please don't change the seed, because then the energies we give you wont match the structures that get generated!"
   ]
  },
  {
   "cell_type": "code",
   "execution_count": null,
   "metadata": {},
   "outputs": [],
   "source": [
    "vibrational_modes_configuration_generator = NormalModesConfigurationGenerator(optimized_structure, vibrational_modes)\n",
    "vibrational_modes_configs = vibrational_modes_configuration_generator.generate_configs(1000)"
   ]
  },
  {
   "cell_type": "markdown",
   "metadata": {
    "tags": []
   },
   "source": [
    "## II.1.? Parallel-Bias Metadynamics Configuration Generation"
   ]
  },
  {
   "cell_type": "markdown",
   "metadata": {},
   "source": [
    "Let's generate the second set of configurations for our training set, those from metadynamics configurations."
   ]
  },
  {
   "cell_type": "code",
   "execution_count": null,
   "metadata": {},
   "outputs": [],
   "source": [
    "job = job_runner.queue_job(\n",
    "f\"\"\"\n",
    "optimized_structure = xyz_reader(definition, monomer_CH3NH2_optimized_structure)\n",
    "mbfit....generate_metadynamis_configurations(...)\n",
    "mbfit.perform_fps_sampling(...)\n",
    "\"\"\"\n",
    ")\n",
    "\n",
    "job.wait_until_running()\n",
    "print(\"Job has made it though queue and is running!\")\n",
    "\n",
    "job.wait_until_done()\n",
    "print(\"Job completed!\")"
   ]
  },
  {
   "cell_type": "markdown",
   "metadata": {},
   "source": [
    "## II.1.? Energy Calculation"
   ]
  },
  {
   "cell_type": "markdown",
   "metadata": {},
   "source": [
    "Next, we need to perform the electronic structure calculations with our chosen reference level of theory. We will use CCSD(T). Because this can be quite expensive and this tutorial is menat to be something that can be finished in a few hours, we have precomputed the energies for you. So we will just copy them over:"
   ]
  },
  {
   "cell_type": "code",
   "execution_count": null,
   "metadata": {},
   "outputs": [],
   "source": [
    "shutil.copyfile(\"...\", monomer_CH3NH2_file_paths.training_set_file)"
   ]
  },
  {
   "cell_type": "markdown",
   "metadata": {},
   "source": [
    "If you did want to run the energy calculations your self, this is how you could do it:"
   ]
  },
  {
   "cell_type": "code",
   "execution_count": 2,
   "metadata": {},
   "outputs": [
    {
     "data": {
      "text/plain": [
       "Ellipsis"
      ]
     },
     "execution_count": 2,
     "metadata": {},
     "output_type": "execute_result"
    }
   ],
   "source": [
    "..."
   ]
  },
  {
   "cell_type": "markdown",
   "metadata": {},
   "source": [
    "## II.1.? Polynomial Generation"
   ]
  },
  {
   "cell_type": "markdown",
   "metadata": {},
   "source": [
    "## II.1.? Polynomial Parametrization"
   ]
  },
  {
   "cell_type": "markdown",
   "metadata": {},
   "source": [
    "## II.1.? Implementation in MBX"
   ]
  },
  {
   "cell_type": "markdown",
   "metadata": {},
   "source": [
    "## II.1.? Test MBX Implementation"
   ]
  },
  {
   "cell_type": "markdown",
   "metadata": {},
   "source": [
    "## II.1.? Run a Gas-Phase Monomer Simulation"
   ]
  },
  {
   "cell_type": "code",
   "execution_count": null,
   "metadata": {},
   "outputs": [],
   "source": []
  }
 ],
 "metadata": {
  "kernelspec": {
   "display_name": "Python 3 (ipykernel)",
   "language": "python",
   "name": "python3"
  },
  "language_info": {
   "codemirror_mode": {
    "name": "ipython",
    "version": 3
   },
   "file_extension": ".py",
   "mimetype": "text/x-python",
   "name": "python",
   "nbconvert_exporter": "python",
   "pygments_lexer": "ipython3",
   "version": "3.10.10"
  }
 },
 "nbformat": 4,
 "nbformat_minor": 4
}
