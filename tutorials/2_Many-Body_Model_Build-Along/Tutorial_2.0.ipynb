{
 "cells": [
  {
   "cell_type": "markdown",
   "id": "b9f9a3d0",
   "metadata": {
    "tags": []
   },
   "source": [
    "# Tutorial 2.0: MB-Fit Basics"
   ]
  },
  {
   "cell_type": "markdown",
   "id": "70ca8993",
   "metadata": {},
   "source": [
    "This notebook provides information about some of the basic functionality of MB-Fit, particularly the way information about atomic structures are stored."
   ]
  },
  {
   "cell_type": "markdown",
   "id": "449e6e87",
   "metadata": {},
   "source": [
    "## 2.0.0 Imports"
   ]
  },
  {
   "cell_type": "markdown",
   "id": "7af50a34",
   "metadata": {
    "tags": []
   },
   "source": [
    "## 2.0.1 The Definition File"
   ]
  },
  {
   "cell_type": "markdown",
   "id": "d5e1b0f8",
   "metadata": {},
   "source": [
    "Information about molecule *types* (but not *structures*) is stored in a `.def` definition file with the following format:"
   ]
  },
  {
   "cell_type": "raw",
   "id": "a8ae5a56",
   "metadata": {},
   "source": [
    "<num_atoms>\n",
    "<comment line, put anything here>\n",
    "<element> <type> <monomer_index> <bonds>\n",
    "<element> <type> <monomer_index> <bonds>\n",
    "..."
   ]
  },
  {
   "cell_type": "markdown",
   "id": "2a6e8e87",
   "metadata": {},
   "source": [
    "An example definition file for the methylamine molecule is:"
   ]
  },
  {
   "cell_type": "raw",
   "id": "bd41db9b",
   "metadata": {},
   "source": [
    "7\n",
    "methylamine definition file\n",
    "C A 0 S-1 S-2 S-3 S-4\n",
    "H B 0 S-0\n",
    "H B 0 S-0\n",
    "H B 0 S-0\n",
    "N C 0 S-0 S-5 S-6\n",
    "H D 0 S-4\n",
    "H D 0 S-4"
   ]
  },
  {
   "cell_type": "markdown",
   "id": "24b53e42",
   "metadata": {},
   "source": [
    "## 2.0.2 The XYZ File"
   ]
  },
  {
   "cell_type": "markdown",
   "id": "7f438a4e",
   "metadata": {},
   "source": [
    "Information about molecule *structures* is stored in a `.xyz` file with the following format:"
   ]
  },
  {
   "cell_type": "raw",
   "id": "ceb5566d",
   "metadata": {},
   "source": [
    "<num_atoms>\n",
    "<comment line, put anything here>\n",
    "<element> <x> <y> <z>\n",
    "<element> <x> <y> <z>\n",
    "..."
   ]
  },
  {
   "cell_type": "markdown",
   "id": "42b1aa05",
   "metadata": {},
   "source": [
    "An example xyz file for a methylamine stucture is:"
   ]
  },
  {
   "cell_type": "raw",
   "id": "5e278c11",
   "metadata": {},
   "source": [
    "7\n",
    "methylamine structure file\n",
    "C 0.0 0.0 0.0\n",
    "H 0.0 0.0 0.0\n",
    "H 0.0 0.0 0.0\n",
    "H 0.0 0.0 0.0\n",
    "N 0.0 0.0 0.0\n",
    "H 0.0 0.0 0.0\n",
    "H 0.0 0.0 0.0"
   ]
  },
  {
   "cell_type": "markdown",
   "id": "8e092e17",
   "metadata": {},
   "source": [
    "Definition files and xyz files are generally used together -- since the definition file has the information about atom types and topology and the xyz file has the information about structure, they combined have all the information about a particular system."
   ]
  },
  {
   "cell_type": "markdown",
   "id": "017ebac4",
   "metadata": {},
   "source": [
    "## 2.0.3 Constructing Definitions and Structures in Python"
   ]
  },
  {
   "cell_type": "markdown",
   "id": "e2e61b2b",
   "metadata": {},
   "source": [
    "Users can either write their `.def` and `.xyz` files manually and then read them in, or use MB-Fit's Python interface to construct them in Python:"
   ]
  },
  {
   "cell_type": "code",
   "execution_count": null,
   "id": "c3284858",
   "metadata": {},
   "outputs": [],
   "source": [
    "definition = BasicFragmentDefinition()\n",
    "monomer1 = definition.add_monomer()\n",
    "monomer1.add_atom(...)\n",
    "monomer1.add_atom(...)\n",
    "\n",
    "system = BasicCompound(definition, [\n",
    "        (0.0, 0.0, 0.0),\n",
    "        (0.0, 0.0, 0.0),\n",
    "        (0.0, 0.0, 0.0),\n",
    "        (0.0, 0.0, 0.0),\n",
    "        (0.0, 0.0, 0.0),\n",
    "        (0.0, 0.0, 0.0),\n",
    "])"
   ]
  },
  {
   "cell_type": "markdown",
   "id": "5d61f632",
   "metadata": {},
   "source": [
    "These definition and system objects are passed around to various functions in MB-Fit. You can read and write them to files using the following functions:"
   ]
  },
  {
   "cell_type": "code",
   "execution_count": null,
   "id": "4a6d50e9",
   "metadata": {},
   "outputs": [],
   "source": [
    "mbfit.system.definition_reader(\"\")\n",
    "mbfit.system.definition_writer(\"\")\n",
    "mbfit.system.xyz_reader(\"\")\n",
    "mbfit.system.xyz_writer(\"\")"
   ]
  },
  {
   "cell_type": "code",
   "execution_count": null,
   "id": "2696555c",
   "metadata": {},
   "outputs": [],
   "source": []
  }
 ],
 "metadata": {
  "kernelspec": {
   "display_name": "Python 3 (ipykernel)",
   "language": "python",
   "name": "python3"
  },
  "language_info": {
   "codemirror_mode": {
    "name": "ipython",
    "version": 3
   },
   "file_extension": ".py",
   "mimetype": "text/x-python",
   "name": "python",
   "nbconvert_exporter": "python",
   "pygments_lexer": "ipython3",
   "version": "3.10.10"
  }
 },
 "nbformat": 4,
 "nbformat_minor": 5
}
