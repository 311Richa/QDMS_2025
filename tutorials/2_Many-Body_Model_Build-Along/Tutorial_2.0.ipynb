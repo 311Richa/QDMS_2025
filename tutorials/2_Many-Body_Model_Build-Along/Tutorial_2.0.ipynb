{
 "cells": [
  {
   "cell_type": "markdown",
   "id": "2357bd6a-6abd-4e57-b5b4-8c4968368857",
   "metadata": {},
   "source": [
    "# Tutorial 2.0: MB-Fit Basics"
   ]
  },
  {
   "cell_type": "markdown",
   "id": "83a5bc76-770d-423a-9874-dab55f8b5600",
   "metadata": {},
   "source": [
    "This notebook provides information about some of the basic functionality of MB-Fit, particularly the way information about atomic structures are stored."
   ]
  },
  {
   "cell_type": "markdown",
   "id": "94e1cecc-7a4d-481c-9a55-f77d6989c903",
   "metadata": {},
   "source": [
    "## 2.0.0 Imports"
   ]
  },
  {
   "cell_type": "markdown",
   "id": "3316f3f0-f85b-485a-91c0-717346a90ff7",
   "metadata": {},
   "source": [
    "## 2.0.1 The Definition File"
   ]
  },
  {
   "cell_type": "markdown",
   "id": "b998d3e4-da91-4dd1-b1a3-f4575df61b0f",
   "metadata": {},
   "source": [
    "Information about molecule *types* (but not *structures*) is stored in a `.def` definition file with the following format:"
   ]
  },
  {
   "cell_type": "raw",
   "id": "9b0b28df-2f51-4f7f-9fb6-015554201ebd",
   "metadata": {},
   "source": [
    "<num_atoms>\n",
    "<comment line, put anything here>\n",
    "<element> <type> <monomer_index> <bonds>\n",
    "<element> <type> <monomer_index> <bonds>\n",
    "..."
   ]
  },
  {
   "cell_type": "markdown",
   "id": "580be70e-903d-44d5-adf3-719ff66df989",
   "metadata": {},
   "source": [
    "An example definition file for the methylamine molecule is:"
   ]
  },
  {
   "cell_type": "raw",
   "id": "7a750e06-911e-4700-8c7d-15901eb6c0fa",
   "metadata": {},
   "source": [
    "7\n",
    "methylamine definition file\n",
    "C A 0 S-1 S-2 S-3 S-4\n",
    "H B 0 S-0\n",
    "H B 0 S-0\n",
    "H B 0 S-0\n",
    "N C 0 S-0 S-5 S-6\n",
    "H D 0 S-4\n",
    "H D 0 S-4"
   ]
  },
  {
   "cell_type": "markdown",
   "id": "9d7159ea-f72e-46b6-94ec-4eb886361c4b",
   "metadata": {},
   "source": [
    "## 2.0.2 The XYZ File"
   ]
  },
  {
   "cell_type": "markdown",
   "id": "ab99db4d-5ad9-4644-9422-8cfde21fcfed",
   "metadata": {},
   "source": [
    "Information about molecule *structures* is stored in a `.xyz` file with the following format:"
   ]
  },
  {
   "cell_type": "raw",
   "id": "71760842-285d-4cb9-ba70-5d8ccc69383e",
   "metadata": {},
   "source": [
    "<num_atoms>\n",
    "<comment line, put anything here>\n",
    "<element> <x> <y> <z>\n",
    "<element> <x> <y> <z>\n",
    "..."
   ]
  },
  {
   "cell_type": "markdown",
   "id": "912711c7-7420-4304-b2e3-ce6bc9f01c7d",
   "metadata": {},
   "source": [
    "An example xyz file for a methylamine stucture is:"
   ]
  },
  {
   "cell_type": "raw",
   "id": "25d79820-286c-4a24-ac79-d8bfb61f9fa3",
   "metadata": {},
   "source": [
    "7\n",
    "methylamine structure file\n",
    "C 0.0 0.0 0.0\n",
    "H 0.0 0.0 0.0\n",
    "H 0.0 0.0 0.0\n",
    "H 0.0 0.0 0.0\n",
    "N 0.0 0.0 0.0\n",
    "H 0.0 0.0 0.0\n",
    "H 0.0 0.0 0.0"
   ]
  },
  {
   "cell_type": "markdown",
   "id": "4232c986-3e33-4f58-b3a7-58033d04939e",
   "metadata": {},
   "source": [
    "Definition files and xyz files are generally used together -- since the definition file has the information about atom types and topology and the xyz file has the information about structure, they combined have all the information about a particular system."
   ]
  },
  {
   "cell_type": "markdown",
   "id": "b9b82725-aa86-4f94-b197-d9264ba8e425",
   "metadata": {},
   "source": [
    "## 2.0.3 Constructing Definitions and Structures in Python"
   ]
  },
  {
   "cell_type": "markdown",
   "id": "a7f479f8-f9a7-4230-9252-54f9291a30bf",
   "metadata": {},
   "source": [
    "Users can either write their `.def` and `.xyz` files manually and then read them in, or use MB-Fit's Python interface to construct them in Python:"
   ]
  },
  {
   "cell_type": "code",
   "execution_count": null,
   "id": "50617554-f788-4874-bde3-5e9565a68ab7",
   "metadata": {},
   "outputs": [],
   "source": [
    "definition = BasicFragmentDefinition()\n",
    "...\n",
    "\n",
    "system = BasicCompound(definition, [\n",
    "        (0.0, 0.0, 0.0),\n",
    "        (0.0, 0.0, 0.0),\n",
    "        (0.0, 0.0, 0.0),\n",
    "        (0.0, 0.0, 0.0),\n",
    "        (0.0, 0.0, 0.0),\n",
    "        (0.0, 0.0, 0.0),\n",
    "])"
   ]
  },
  {
   "cell_type": "markdown",
   "id": "df693705-4fe9-4e8e-9dbb-44a2fd5c5ccc",
   "metadata": {},
   "source": [
    "These definition and system objects are passed around to various functions in MB-Fit. You can read and write them to files using the following functions:"
   ]
  },
  {
   "cell_type": "code",
   "execution_count": null,
   "id": "5464038f-a156-454f-8b7c-e9124d1a909a",
   "metadata": {},
   "outputs": [],
   "source": [
    "mbfit.system.definition_reader(\"\")\n",
    "mbfit.system.definition_writer(\"\")\n",
    "mbfit.system.xyz_reader(\"\")\n",
    "mbfit.system.xyz_writer(\"\")"
   ]
  },
  {
   "cell_type": "code",
   "execution_count": null,
   "id": "59cc9d8b-034a-44e5-b36e-94271e9fa6d2",
   "metadata": {},
   "outputs": [],
   "source": []
  }
 ],
 "metadata": {
  "kernelspec": {
   "display_name": "Python 3 (ipykernel)",
   "language": "python",
   "name": "python3"
  },
  "language_info": {
   "codemirror_mode": {
    "name": "ipython",
    "version": 3
   },
   "file_extension": ".py",
   "mimetype": "text/x-python",
   "name": "python",
   "nbconvert_exporter": "python",
   "pygments_lexer": "ipython3",
   "version": "3.10.10"
  }
 },
 "nbformat": 4,
 "nbformat_minor": 5
}
